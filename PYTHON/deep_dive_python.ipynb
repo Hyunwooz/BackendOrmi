{
  "cells": [
    {
      "attachments": {},
      "cell_type": "markdown",
      "metadata": {
        "id": "KgXf9PMcutRA"
      },
      "source": [
        "# colab 사용법"
      ]
    },
    {
      "attachments": {},
      "cell_type": "markdown",
      "metadata": {
        "id": "AwS4uyQ7veuN"
      },
      "source": [
        "* MAC을 사용하는 경우 Ctrl 대신 Command입니다. Alt 대신 Option입니다.\n",
        "\n",
        "\n",
        "1. **실행 단축키**\n",
        "    1. (필수) `Ctrl(Command)` + `Enter` : 해당 셀 실행\n",
        "    2. `Shift` + `Enter` : 해당 셀 실행 + 커서를 다음 셀로 이동\n",
        "    3. (필수) `Alt(Option)` + `Enter` : 해당 셀 실행 + 코드 불록 하단 추가\n",
        "2. **셀 삽입/삭제 관련 단축키**\n",
        "    1. `Ctrl(Command)` + M A : 코드 셀 위에 삽입\n",
        "    2. `Ctrl(Command)` + M B : 코드 셀 아래 삽입\n",
        "    3. `Ctrl(Command)` + M D : 셀 지우기\n",
        "    4. `Ctrl(Command)` + M Y : 코드 셀로 변경\n",
        "    5. `Ctrl(Command)` + M M : 마크다운 셀로 변경\n",
        "    6. `Ctrl(Command)` + M Z : 실행 취소\n",
        "3. 수정 관련된 단축키\n",
        "    1. `Ctrl(Command)` + `Alt(Option)` + 화살표위아래 : 동시 수정\n",
        "    2. (자주) `Ctrl(Command)` + D : 같은 단어 찾아 동시 수정\n",
        "    3. `Ctrl(Command)` + `Shift` + L : 동일 단어를 전체로 찾아 동시 수정\n",
        "    4. `Alt(Option)` + `Shift` + 화살표위아래 : 해당내용을 위나 아래 복사해서 붙여넣기\n",
        "    5. `Alt(Option)` + 화살표위아래 : 해당 내용을 위나 아래로 보내기\n",
        "    6. (자주) `Ctrl(Command)` + `Alt(Option)` + 화살표위아래 : 위아래 동시 수정\n",
        "    7. (자주) Home, End : 문장의 양 끝\n",
        "    8. (필수) `Ctrl` + `/` : 주석\n",
        "    9. (필수) `Shift` + `Del` : 한 줄 지우기\n",
        "    10. (필수) `Tab`, `Ctrl` + `]` : 들여쓰기\n",
        "    11. (필수) `Shift` + `Tab`, `Ctrl` + `[` : 내어쓰기\n",
        "4. 단축키 보기 및 설정\n",
        "    1. `Ctrl(Command)` + M H : 단축키 **모음**"
      ]
    },
    {
      "attachments": {},
      "cell_type": "markdown",
      "metadata": {
        "id": "uEJ_ZKr8x42z"
      },
      "source": [
        "# 마크다운"
      ]
    },
    {
      "attachments": {},
      "cell_type": "markdown",
      "metadata": {
        "id": "qmpJYBQcyFlw"
      },
      "source": [
        "* 필수 마크다운\n",
        "\n",
        "```\n",
        "  # hello\n",
        "  ## hello\n",
        "  ### hello\n",
        "\n",
        "  1. hello\n",
        "  2. hello\n",
        "  3. hello\n",
        "\n",
        "  * hello\n",
        "  * hello\n",
        "  * hello\n",
        "```\n",
        "\n",
        "* 선택 마크다운 (필수가 아니니 부담가지지 마세요.)\n",
        "\n",
        "```\n",
        "# h1\n",
        "## h2\n",
        "### h3\n",
        "#### h4\n",
        "##### h5\n",
        "###### h6\n",
        "\n",
        "---\n",
        "\n",
        "1. hello\n",
        "2. hello\n",
        "3. hello\n",
        "\n",
        "* hello\n",
        "* hello\n",
        "* hello\n",
        "\n",
        "- hello\n",
        "- hello\n",
        "- hello\n",
        "\n",
        "__굵게__\n",
        "**굵게**\n",
        "_기울여 쓰기_\n",
        "*기울여 쓰기*\n",
        "~취소선~\n",
        "~~취소선~~\n",
        "\n",
        "> 인용문 작성하기\n",
        "`인라인 코드는 이렇게 작성해요.`\n",
        "\n",
        "[인라인 링크](https://velog.io/)\n",
        "\n",
        "![이미지 설명](이미지 링크)\n",
        "\n",
        "\n",
        "* table은 직접 만들지 마시고 https://www.tablesgenerator.com/markdown_tables 와 같은 서비스를 이용하세요.\n",
        "| 1 | 2     | 3 | 4 | 5     |\n",
        "|---|-------|---|---|-------|\n",
        "| 1 | hello | 3 | 4 | world |\n",
        "\n",
        "* [ ] hello\n",
        "* [X] hello\n",
        "\n",
        "```\n",
        "\n"
      ]
    },
    {
      "attachments": {},
      "cell_type": "markdown",
      "metadata": {
        "id": "E1Q6DnKs4nPu"
      },
      "source": [
        "# Python"
      ]
    },
    {
      "cell_type": "code",
      "execution_count": null,
      "metadata": {
        "id": "poCtuVmJx2nU"
      },
      "outputs": [],
      "source": [
        "# 행 단위 주석입니다.\n",
        "\n",
        "\"\"\"\n",
        "큰 따옴표로 세번 묶거나\n",
        "작은따옴표로 세번 묶으면\n",
        "열단위 주석이 됩니다.\n",
        "\"\"\"\n",
        "\n",
        "'''\n",
        "큰 따옴표로 세번 묶거나\n",
        "작은따옴표로 세번 묶으면\n",
        "열단위 주석이 됩니다.\n",
        "'''\n"
      ]
    },
    {
      "cell_type": "code",
      "execution_count": null,
      "metadata": {
        "id": "Rw53wuiJ5WEf"
      },
      "outputs": [],
      "source": [
        "#아래와 같이 열 단위 주석으로 text를 넣을 수도 있습니다.\n",
        "\n",
        "data = '''\n",
        "큰 따옴표로 세번 묶거나\n",
        "작은따옴표로 세번 묶으면\n",
        "열단위 주석이 됩니다.\n",
        "'''\n",
        "\n",
        "data"
      ]
    },
    {
      "attachments": {},
      "cell_type": "markdown",
      "metadata": {
        "id": "ts5o5ma-5SCU"
      },
      "source": [
        "* Code convention python\n",
        "* https://google.github.io/styleguide/\n",
        "* https://google.github.io/styleguide/pyguide.html"
      ]
    },
    {
      "cell_type": "code",
      "execution_count": null,
      "metadata": {
        "id": "QCl-mQ4V54Us"
      },
      "outputs": [],
      "source": [
        "def connect_to_next_port(self, minimum: int) -> int:\n",
        "    \"\"\"Connects to the next available port.\n",
        "\n",
        "    Args:\n",
        "      minimum: A port value greater or equal to 1024.\n",
        "\n",
        "    Returns:\n",
        "      The new minimum port.\n",
        "\n",
        "    Raises:\n",
        "      ConnectionError: If no available port is found.\n",
        "    \"\"\"\n",
        "    if minimum < 1024:\n",
        "        # Note that this raising of ValueError is not mentioned in the doc\n",
        "        # string's \"Raises:\" section because it is not appropriate to\n",
        "        # guarantee this specific behavioral reaction to API misuse.\n",
        "        raise ValueError(f'Min. port must be at least 1024, not {minimum}.')\n",
        "    port = self._find_next_open_port(minimum)\n",
        "    if port is None:\n",
        "        raise ConnectionError(\n",
        "            f'Could not connect to service on port {minimum} or higher.')\n",
        "    assert port >= minimum, (\n",
        "        f'Unexpected port {port} when minimum was {minimum}.')\n",
        "    return port"
      ]
    },
    {
      "cell_type": "code",
      "execution_count": null,
      "metadata": {
        "id": "dMFbR4Di6FDn"
      },
      "outputs": [],
      "source": [
        "connect_to_next_port"
      ]
    },
    {
      "cell_type": "code",
      "execution_count": null,
      "metadata": {
        "id": "qa0dMaZM6e5a"
      },
      "outputs": [],
      "source": [
        "# 띄어쓰기 4칸 (tab(스페이스 4칸과 다릅니다!), 6칸, 7칸 다 작동합니다.)"
      ]
    },
    {
      "cell_type": "code",
      "execution_count": null,
      "metadata": {
        "id": "x6dgiuyK7_Y2"
      },
      "outputs": [],
      "source": [
        "# 아래와 같이 탭과 띄어쓰기 4번을 혼용하시면 error가 납니다.\n",
        "for i in range(10):\n",
        "    print(i)\n",
        "    print('큰 따옴표로 세번 묶거나')"
      ]
    },
    {
      "cell_type": "code",
      "execution_count": null,
      "metadata": {
        "colab": {
          "base_uri": "https://localhost:8080/"
        },
        "id": "v0srSTN78ERU",
        "outputId": "93ae8197-99b0-41e3-eea1-6a3646f5bf5a"
      },
      "outputs": [
        {
          "name": "stdout",
          "output_type": "stream",
          "text": [
            "type(10) : <class 'int'>\n",
            "type(10.1) : <class 'float'>\n",
            "type(-1) : <class 'int'>\n",
            "type(True) : <class 'bool'>\n",
            "type('good') : <class 'str'>\n",
            "type('good'.upper) : <class 'builtin_function_or_method'>\n",
            "'10' + '10' : 1010\n",
            "'10' * 3 : 101010\n",
            "'hong' + 'gildong' : kimhonggildong\n",
            "type('gildong') : <class 'str'>\n",
            "type('gildong100!!') : <class 'str'>\n",
            "type(10 + 2j) : <class 'complex'>\n",
            "type(0b110) : <class 'int'>\n",
            "6\n",
            "type(0o56) : <class 'str'>\n",
            "example\n",
            "type(0xAC) : <class 'int'>\n",
            "172\n",
            "type(def func():...생략...) : <class 'function'>\n",
            "type(print) : <class 'builtin_function_or_method'>\n",
            "type(lambda x:x**2) : <class 'function'>\n",
            "type(int) : <class 'type'>\n"
          ]
        }
      ],
      "source": [
        "a = 10     #int, 정수형\n",
        "b = 10.1   #float, 실수\n",
        "c = -1\n",
        "d = True   #bool, 논리형(부울형, 참거짓형)\n",
        "e = 'good'\n",
        "f = '10'   #str, 문자열\n",
        "g = 'kim'\n",
        "h = 'honggildong'\n",
        "i = 'example'\n",
        "j = 10 + 2j #complex, 복소수\n",
        "k = 0b110   #int, 2진법 \n",
        "l = 0o56    #int, 8진법\n",
        "m = 0xAC    #int, 16진법\n",
        "\n",
        "##########\n",
        "def hello():\n",
        "    return\n",
        "\n",
        "class A: # 자동차 공장\n",
        "    pass\n",
        "\n",
        "n = hello # function\n",
        "o = print # bulit-in function (https://docs.python.org/3/library/functions.html)\n",
        "p = lambda x:x**2 # function\n",
        "q = int # type\n",
        "r = A # class\n",
        "s = A() # instance # 자동차\n",
        "##########\n",
        "\n",
        "print(f'type(10) : {type(a)}')\n",
        "print(f'type(10.1) : {type(b)}')\n",
        "print(f'type(-1) : {type(c)}')\n",
        "print(f'type(True) : {type(d)}')\n",
        "print(f'type(\\'good\\') : {type(e)}')\n",
        "print(f'type(\\'good\\'.upper) : {type(e.upper)}')\n",
        "print(f'\\'10\\' + \\'10\\' : {f + f}')\n",
        "print(f'\\'10\\' * 3 : {f * 3}')\n",
        "print(f'\\'hong\\' + \\'gildong\\' : {g + h}')\n",
        "print(f'type(\\'gildong\\') : {type(h)}')\n",
        "print(f'type(\\'gildong100!!\\') : {type(i)}')\n",
        "print(f'type(10 + 2j) : {type(j)}')\n",
        "print(f'type(0b110) : {type(k)}')\n",
        "print(k)\n",
        "print(f'type(0o56) : {type(i)}')\n",
        "print(i)\n",
        "print(f'type(0xAC) : {type(m)}')\n",
        "print(m)\n",
        "print(f'type(def func():...생략...) : {type(n)}')\n",
        "print(f'type(print) : {type(o)}')\n",
        "print(f'type(lambda x:x**2) : {type(p)}')\n",
        "print(f'type(int) : {type(int)}')"
      ]
    },
    {
      "cell_type": "code",
      "execution_count": null,
      "metadata": {
        "colab": {
          "base_uri": "https://localhost:8080/"
        },
        "id": "UqL7modo-U-2",
        "outputId": "495411ef-4354-462f-b725-546b071e838b"
      },
      "outputs": [
        {
          "name": "stdout",
          "output_type": "stream",
          "text": [
            "hello \n",
            " world\n",
            "hello \t world\n",
            "hello ' world\n",
            "hello \" world\n",
            "hello \\ world\n"
          ]
        }
      ],
      "source": [
        "# 이스케이프 문자\n",
        "#https://ko.wikipedia.org/wiki/%EC%9D%B4%EC%8A%A4%EC%BC%80%EC%9D%B4%ED%94%84_%EB%AC%B8%EC%9E%90\n",
        "print('hello \\n world')\n",
        "print('hello \\t world')\n",
        "print('hello \\' world')\n",
        "print('hello \\\" world')\n",
        "print('hello \\\\ world')\n"
      ]
    },
    {
      "cell_type": "code",
      "execution_count": null,
      "metadata": {
        "colab": {
          "base_uri": "https://localhost:8080/"
        },
        "id": "WGq0FROr_vUy",
        "outputId": "4ddae7dc-ea05-402b-86b4-b1f7099fa756"
      },
      "outputs": [
        {
          "name": "stdout",
          "output_type": "stream",
          "text": [
            "hello \\n world\n",
            "hello \n",
            " world 10\n",
            "hello \n",
            " world 10\n"
          ]
        }
      ],
      "source": [
        "# type -> string\n",
        "\n",
        "hello = 10\n",
        "\n",
        "print(r'hello \\n world') # str -> raw (Django 2.x 까지 url parsing을 이렇게 사용하고 있어요.) // raw 값을 보여줌\n",
        "print(f'hello \\n world {hello}') # 앞으로 f-string 기법\n",
        "print('hello \\n world {}'.format(hello))"
      ]
    },
    {
      "cell_type": "code",
      "execution_count": null,
      "metadata": {
        "id": "-4m8kZXkEcS9"
      },
      "outputs": [],
      "source": [
        "# type -> float\n",
        "\n",
        "# 오일러의 수를 모른다 해서, 수학 연산이 약하다 해서 우리 수업에 문제가 되지 않습니다.\n",
        "print(2.3e3) # 무리수, 오일러의 수(2.718에 수렴, 파이가 3.14인 것처럼)\n",
        "print(2.3E3)\n",
        "\n",
        "2.3*(10**3)"
      ]
    },
    {
      "cell_type": "code",
      "execution_count": null,
      "metadata": {
        "colab": {
          "base_uri": "https://localhost:8080/"
        },
        "id": "yifDAsUNFB4T",
        "outputId": "d91e80ef-793b-44dd-bc90-77de828632ac"
      },
      "outputs": [
        {
          "name": "stdout",
          "output_type": "stream",
          "text": [
            "0.0023\n",
            "0.0023\n"
          ]
        },
        {
          "data": {
            "text/plain": [
              "0.0023"
            ]
          },
          "execution_count": 30,
          "metadata": {},
          "output_type": "execute_result"
        }
      ],
      "source": [
        "print(2.3e-3) # 무리수, 오일러의 수(2.718에 수렴, 파이가 3.14인 것처럼)\n",
        "print(2.3E-3)\n",
        "\n",
        "2.3*(10**-3)"
      ]
    },
    {
      "cell_type": "code",
      "execution_count": null,
      "metadata": {
        "colab": {
          "base_uri": "https://localhost:8080/"
        },
        "id": "eECxhqhh-43o",
        "outputId": "92651346-531c-47b6-bd06-94a9827c2225"
      },
      "outputs": [
        {
          "name": "stdout",
          "output_type": "stream",
          "text": [
            "<class 'type'>\n",
            "<class '__main__.A'>\n"
          ]
        }
      ],
      "source": [
        "class A: # 자동차 공장장\n",
        "    pass\n",
        "\n",
        "a = A # class\n",
        "b = A() # instance # 자동차\n",
        "\n",
        "print(type(a))\n",
        "print(type(b))"
      ]
    },
    {
      "cell_type": "code",
      "execution_count": null,
      "metadata": {
        "colab": {
          "base_uri": "https://localhost:8080/"
        },
        "id": "OKZGkitS8sOD",
        "outputId": "0176943f-fc09-4cdb-9074-e6156dc45adf"
      },
      "outputs": [
        {
          "data": {
            "text/plain": [
              "int"
            ]
          },
          "execution_count": 15,
          "metadata": {},
          "output_type": "execute_result"
        }
      ],
      "source": [
        "# 변수를 처음 만나시면 type, dir을 해봅니다.\n",
        "# type을 찍으면 검색 키워드를 알 수 있습니다.\n",
        "# dir을 찍으면 속성을 알 수 있습니다.\n",
        "type(a)"
      ]
    },
    {
      "cell_type": "code",
      "execution_count": null,
      "metadata": {
        "colab": {
          "base_uri": "https://localhost:8080/"
        },
        "id": "4EHOgjVQ83pw",
        "outputId": "287f3374-ac28-4f23-fe1c-803179f6da88"
      },
      "outputs": [
        {
          "name": "stdout",
          "output_type": "stream",
          "text": [
            "<class 'int'>\n"
          ]
        }
      ],
      "source": [
        "print(type(a))"
      ]
    },
    {
      "cell_type": "code",
      "execution_count": null,
      "metadata": {
        "colab": {
          "base_uri": "https://localhost:8080/"
        },
        "id": "zGsJLsHf9CMo",
        "outputId": "a1e02194-a747-4f97-a977-88900256d612"
      },
      "outputs": [
        {
          "data": {
            "text/plain": [
              "['__abs__',\n",
              " '__add__',\n",
              " '__and__',\n",
              " '__bool__',\n",
              " '__ceil__',\n",
              " '__class__',\n",
              " '__delattr__',\n",
              " '__dir__',\n",
              " '__divmod__',\n",
              " '__doc__',\n",
              " '__eq__',\n",
              " '__float__',\n",
              " '__floor__',\n",
              " '__floordiv__',\n",
              " '__format__',\n",
              " '__ge__',\n",
              " '__getattribute__',\n",
              " '__getnewargs__',\n",
              " '__gt__',\n",
              " '__hash__',\n",
              " '__index__',\n",
              " '__init__',\n",
              " '__init_subclass__',\n",
              " '__int__',\n",
              " '__invert__',\n",
              " '__le__',\n",
              " '__lshift__',\n",
              " '__lt__',\n",
              " '__mod__',\n",
              " '__mul__',\n",
              " '__ne__',\n",
              " '__neg__',\n",
              " '__new__',\n",
              " '__or__',\n",
              " '__pos__',\n",
              " '__pow__',\n",
              " '__radd__',\n",
              " '__rand__',\n",
              " '__rdivmod__',\n",
              " '__reduce__',\n",
              " '__reduce_ex__',\n",
              " '__repr__',\n",
              " '__rfloordiv__',\n",
              " '__rlshift__',\n",
              " '__rmod__',\n",
              " '__rmul__',\n",
              " '__ror__',\n",
              " '__round__',\n",
              " '__rpow__',\n",
              " '__rrshift__',\n",
              " '__rshift__',\n",
              " '__rsub__',\n",
              " '__rtruediv__',\n",
              " '__rxor__',\n",
              " '__setattr__',\n",
              " '__sizeof__',\n",
              " '__str__',\n",
              " '__sub__',\n",
              " '__subclasshook__',\n",
              " '__truediv__',\n",
              " '__trunc__',\n",
              " '__xor__',\n",
              " 'as_integer_ratio',\n",
              " 'bit_count',\n",
              " 'bit_length',\n",
              " 'conjugate',\n",
              " 'denominator',\n",
              " 'from_bytes',\n",
              " 'imag',\n",
              " 'numerator',\n",
              " 'real',\n",
              " 'to_bytes']"
            ]
          },
          "execution_count": 17,
          "metadata": {},
          "output_type": "execute_result"
        }
      ],
      "source": [
        "dir(a)"
      ]
    },
    {
      "cell_type": "code",
      "execution_count": null,
      "metadata": {
        "colab": {
          "base_uri": "https://localhost:8080/"
        },
        "id": "DuRYY-479Dt0",
        "outputId": "70bd9c6e-b698-4f49-a905-f5a7b9da32c3"
      },
      "outputs": [
        {
          "data": {
            "text/plain": [
              "True"
            ]
          },
          "execution_count": 31,
          "metadata": {},
          "output_type": "execute_result"
        }
      ],
      "source": [
        "# 실무에서 자주 사용하는 구문\n",
        "type(10)\n",
        "type(10) == int\n",
        "type(10.1) == float"
      ]
    },
    {
      "cell_type": "code",
      "execution_count": null,
      "metadata": {
        "colab": {
          "base_uri": "https://localhost:8080/"
        },
        "id": "4hMZtqxiFovi",
        "outputId": "cedc92e6-1dd5-4ecb-b599-d49ebd5f6d23"
      },
      "outputs": [
        {
          "data": {
            "text/plain": [
              "False"
            ]
          },
          "execution_count": 33,
          "metadata": {},
          "output_type": "execute_result"
        }
      ],
      "source": [
        "# 위만큼 자주사용하진 않지만 타입 확인 코드\n",
        "a = 10\n",
        "isinstance(a,int)\n",
        "isinstance(a,float)"
      ]
    },
    {
      "attachments": {},
      "cell_type": "markdown",
      "metadata": {
        "id": "ViyNB4J1F5lY"
      },
      "source": [
        "## 변수"
      ]
    },
    {
      "cell_type": "code",
      "execution_count": null,
      "metadata": {
        "colab": {
          "base_uri": "https://localhost:8080/"
        },
        "id": "_vX3NlxBF-Cr",
        "outputId": "cd2c813b-877d-4753-a8c5-076798935751"
      },
      "outputs": [
        {
          "data": {
            "text/plain": [
              "(139698835161616, 139698835161616)"
            ]
          },
          "execution_count": 34,
          "metadata": {},
          "output_type": "execute_result"
        }
      ],
      "source": [
        "# CS 변수는 포스트잇\n",
        "# 변수는 메모리 공간을 가리킵니다.\n",
        "\n",
        "# x라는 포스트잇도 붙였지만 , y라는 포스트잇도 붙여져 있는 것입니다.\n",
        "x = 10\n",
        "y = 10\n",
        "\n",
        "id(x) , id(y) # id는 누굴 가리키고 있는지를 그 주소값을 반환합니다."
      ]
    },
    {
      "cell_type": "code",
      "execution_count": null,
      "metadata": {
        "colab": {
          "base_uri": "https://localhost:8080/"
        },
        "id": "LbvJibsuHQE8",
        "outputId": "55210258-e4bc-4d0d-92fa-f5f6d6477b47"
      },
      "outputs": [
        {
          "data": {
            "text/plain": [
              "True"
            ]
          },
          "execution_count": 35,
          "metadata": {},
          "output_type": "execute_result"
        }
      ],
      "source": [
        "x is y"
      ]
    },
    {
      "cell_type": "code",
      "execution_count": null,
      "metadata": {
        "id": "NY2O_h8iHQEO"
      },
      "outputs": [],
      "source": [
        "x = 257\n",
        "y = 257\n",
        "\n",
        "id(x) , id(y)"
      ]
    },
    {
      "cell_type": "code",
      "execution_count": null,
      "metadata": {
        "colab": {
          "base_uri": "https://localhost:8080/"
        },
        "id": "lfa35grVIBIN",
        "outputId": "89cc1e99-ec3e-4709-b721-f59507a92133"
      },
      "outputs": [
        {
          "data": {
            "text/plain": [
              "False"
            ]
          },
          "execution_count": 38,
          "metadata": {},
          "output_type": "execute_result"
        }
      ],
      "source": [
        "x is y"
      ]
    },
    {
      "cell_type": "code",
      "execution_count": null,
      "metadata": {
        "id": "xkgtowanICb4"
      },
      "outputs": [],
      "source": [
        "# Python은 자체적으로 속도를 높이기 위한 \n",
        "# 여러가지 노력들을 해왔습니다.\n",
        "# (아래 언급한 것 말고도 각각의 자료형에서 메모리를 효율적으로 관리하기 위한 노력들을 말씀드리겠습니다.)\n",
        "# 구버전도 말씀을 드릴 것인데 이유는 여러분이 실무에가서 접할 환경이 최신 버전이 아니기 때문입니다.\n",
        "# 야xx의 경우에는 Django 1.x, python 2.x를 사용하고 있어요. \n",
        "# 대부분의 기업들이 한 번 구축해놓은 시스템은 바꾸기가 쉽지 않습니다.\n",
        "\n",
        "# 그래서 -5 ~ 256은 먼저 메모리에 적재를 합니다."
      ]
    },
    {
      "cell_type": "code",
      "execution_count": null,
      "metadata": {
        "colab": {
          "base_uri": "https://localhost:8080/"
        },
        "id": "sD8W-0KQIWz4",
        "outputId": "89338de8-d2a3-4521-831d-18de993f36b2"
      },
      "outputs": [
        {
          "data": {
            "text/plain": [
              "(139698835161136, 139698835161136)"
            ]
          },
          "execution_count": 39,
          "metadata": {},
          "output_type": "execute_result"
        }
      ],
      "source": [
        "x = -5\n",
        "y = -5\n",
        "\n",
        "id(x) , id(y)"
      ]
    },
    {
      "attachments": {},
      "cell_type": "markdown",
      "metadata": {
        "id": "Eiiz61IRIxfv"
      },
      "source": [
        "* 변수의 타입이란 무엇인가?\n",
        "* 변수의 타입은 왜 있는 것일까?\n",
        "* 어떤 고민을 통해 변수의 속성을 정했을까?"
      ]
    },
    {
      "cell_type": "code",
      "execution_count": null,
      "metadata": {
        "colab": {
          "base_uri": "https://localhost:8080/",
          "height": 35
        },
        "id": "kxxdF6I1I-lc",
        "outputId": "f4106d1f-1e14-4154-a195-9dec92444f27"
      },
      "outputs": [
        {
          "data": {
            "application/vnd.google.colaboratory.intrinsic+json": {
              "type": "string"
            },
            "text/plain": [
              "'aa'"
            ]
          },
          "execution_count": 41,
          "metadata": {},
          "output_type": "execute_result"
        }
      ],
      "source": [
        "'a'+'a'"
      ]
    },
    {
      "cell_type": "code",
      "execution_count": null,
      "metadata": {
        "id": "OAf9mY6wJDys"
      },
      "outputs": [],
      "source": [
        "# 왜 이어 붙였지?\n",
        "# 컴퓨터 입장에서 a는 97(인간이 보는 숫자) -> 0x61! 결국 숫자"
      ]
    },
    {
      "cell_type": "code",
      "execution_count": null,
      "metadata": {
        "id": "qIL0pwFKJeNN"
      },
      "outputs": [],
      "source": [
        "# cpython에 이어 붙이라고 정의가 되어 있어서\n",
        "# 사회 통념적인 약속을 코드로 구현.\n",
        "# type, dir\n",
        "# 이러한 약속들은 매직메서드(__init__.....)를 통해 구현하게 됩니다."
      ]
    },
    {
      "attachments": {},
      "cell_type": "markdown",
      "metadata": {
        "id": "TmG7zUlwKBbc"
      },
      "source": [
        "## 변수의 속성 변경"
      ]
    },
    {
      "cell_type": "code",
      "execution_count": null,
      "metadata": {
        "colab": {
          "base_uri": "https://localhost:8080/",
          "height": 35
        },
        "id": "Cetz9AH4KIMs",
        "outputId": "c1969996-03e2-477f-b222-9c8b985f9a27"
      },
      "outputs": [
        {
          "data": {
            "application/vnd.google.colaboratory.intrinsic+json": {
              "type": "string"
            },
            "text/plain": [
              "'1010'"
            ]
          },
          "execution_count": 42,
          "metadata": {},
          "output_type": "execute_result"
        }
      ],
      "source": [
        "'10' + '10'"
      ]
    },
    {
      "cell_type": "code",
      "execution_count": null,
      "metadata": {
        "colab": {
          "base_uri": "https://localhost:8080/"
        },
        "id": "gywDx6nQKC6u",
        "outputId": "b809aad0-416b-4cd7-d754-1f2c3d6fce80"
      },
      "outputs": [
        {
          "data": {
            "text/plain": [
              "20"
            ]
          },
          "execution_count": 43,
          "metadata": {},
          "output_type": "execute_result"
        }
      ],
      "source": [
        "int('10') + int('10')"
      ]
    },
    {
      "cell_type": "code",
      "execution_count": null,
      "metadata": {
        "colab": {
          "base_uri": "https://localhost:8080/",
          "height": 35
        },
        "id": "v2mUGXTKKNe0",
        "outputId": "b661536b-7a1b-4264-e1cd-3b183d6856da"
      },
      "outputs": [
        {
          "data": {
            "application/vnd.google.colaboratory.intrinsic+json": {
              "type": "string"
            },
            "text/plain": [
              "'kanghyunwoo'"
            ]
          },
          "execution_count": 44,
          "metadata": {},
          "output_type": "execute_result"
        }
      ],
      "source": [
        "# 지금 배우는 포인트는 class가 중요한 문법이 아니라\n",
        "# 이러한 약속을 우리가 변경할 수 있다가 중요한 포인트입니다.\n",
        "class int(int):\n",
        "    def __add__(self, a):\n",
        "        return 'kanghyunwoo'\n",
        "\n",
        "int('10') + int('10')"
      ]
    },
    {
      "cell_type": "code",
      "execution_count": null,
      "metadata": {
        "colab": {
          "base_uri": "https://localhost:8080/"
        },
        "id": "YEUs2nhFKsal",
        "outputId": "c5abe69f-1510-464d-81fb-6a85ed34f0be"
      },
      "outputs": [
        {
          "data": {
            "text/plain": [
              "100"
            ]
          },
          "execution_count": 45,
          "metadata": {},
          "output_type": "execute_result"
        }
      ],
      "source": [
        "class int(int):\n",
        "    def __add__(self, a):\n",
        "        return self * a\n",
        "\n",
        "int('10') + int('10')"
      ]
    },
    {
      "cell_type": "code",
      "execution_count": null,
      "metadata": {
        "colab": {
          "base_uri": "https://localhost:8080/"
        },
        "id": "F11t48uWK5ZS",
        "outputId": "3f5fae25-f24f-44ea-d516-9b77e461cf4e"
      },
      "outputs": [
        {
          "data": {
            "text/plain": [
              "['__abs__',\n",
              " '__add__',\n",
              " '__and__',\n",
              " '__bool__',\n",
              " '__ceil__',\n",
              " '__class__',\n",
              " '__delattr__',\n",
              " '__dir__',\n",
              " '__divmod__',\n",
              " '__doc__',\n",
              " '__eq__',\n",
              " '__float__',\n",
              " '__floor__',\n",
              " '__floordiv__',\n",
              " '__format__',\n",
              " '__ge__',\n",
              " '__getattribute__',\n",
              " '__getnewargs__',\n",
              " '__gt__',\n",
              " '__hash__',\n",
              " '__index__',\n",
              " '__init__',\n",
              " '__init_subclass__',\n",
              " '__int__',\n",
              " '__invert__',\n",
              " '__le__',\n",
              " '__lshift__',\n",
              " '__lt__',\n",
              " '__mod__',\n",
              " '__mul__',\n",
              " '__ne__',\n",
              " '__neg__',\n",
              " '__new__',\n",
              " '__or__',\n",
              " '__pos__',\n",
              " '__pow__',\n",
              " '__radd__',\n",
              " '__rand__',\n",
              " '__rdivmod__',\n",
              " '__reduce__',\n",
              " '__reduce_ex__',\n",
              " '__repr__',\n",
              " '__rfloordiv__',\n",
              " '__rlshift__',\n",
              " '__rmod__',\n",
              " '__rmul__',\n",
              " '__ror__',\n",
              " '__round__',\n",
              " '__rpow__',\n",
              " '__rrshift__',\n",
              " '__rshift__',\n",
              " '__rsub__',\n",
              " '__rtruediv__',\n",
              " '__rxor__',\n",
              " '__setattr__',\n",
              " '__sizeof__',\n",
              " '__str__',\n",
              " '__sub__',\n",
              " '__subclasshook__',\n",
              " '__truediv__',\n",
              " '__trunc__',\n",
              " '__xor__',\n",
              " 'as_integer_ratio',\n",
              " 'bit_count',\n",
              " 'bit_length',\n",
              " 'conjugate',\n",
              " 'denominator',\n",
              " 'from_bytes',\n",
              " 'imag',\n",
              " 'numerator',\n",
              " 'real',\n",
              " 'to_bytes']"
            ]
          },
          "execution_count": 46,
          "metadata": {},
          "output_type": "execute_result"
        }
      ],
      "source": [
        "dir(10)"
      ]
    },
    {
      "cell_type": "code",
      "execution_count": null,
      "metadata": {
        "colab": {
          "base_uri": "https://localhost:8080/"
        },
        "id": "8pT2oJGqLc2F",
        "outputId": "7c07d7c7-7890-4959-9667-1a9b8a26ccd0"
      },
      "outputs": [
        {
          "name": "stdout",
          "output_type": "stream",
          "text": [
            "['__abs__', '__add__', '__and__', '__bool__', '__ceil__', '__class__', '__delattr__', '__dict__', '__dir__', '__divmod__', '__doc__', '__eq__', '__float__', '__floor__', '__floordiv__', '__format__', '__ge__', '__getattribute__', '__getnewargs__', '__gt__', '__hash__', '__index__', '__init__', '__init_subclass__', '__int__', '__invert__', '__le__', '__lshift__', '__lt__', '__mod__', '__module__', '__mul__', '__ne__', '__neg__', '__new__', '__or__', '__pos__', '__pow__', '__radd__', '__rand__', '__rdivmod__', '__reduce__', '__reduce_ex__', '__repr__', '__rfloordiv__', '__rlshift__', '__rmod__', '__rmul__', '__ror__', '__round__', '__rpow__', '__rrshift__', '__rshift__', '__rsub__', '__rtruediv__', '__rxor__', '__setattr__', '__sizeof__', '__str__', '__sub__', '__subclasshook__', '__truediv__', '__trunc__', '__xor__', 'as_integer_ratio', 'bit_count', 'bit_length', 'conjugate', 'denominator', 'from_bytes', 'imag', 'numerator', 'real', 'to_bytes', '제곱']\n"
          ]
        }
      ],
      "source": [
        "class int(int):\n",
        "    def 제곱(self, 승수):\n",
        "        return self ** 승수\n",
        "\n",
        "value = int('10')\n",
        "print(dir(value))"
      ]
    },
    {
      "cell_type": "code",
      "execution_count": null,
      "metadata": {
        "colab": {
          "base_uri": "https://localhost:8080/"
        },
        "id": "DVd_3wATLwko",
        "outputId": "2e8e30b7-a3db-4024-a2cd-ebf6b604f68f"
      },
      "outputs": [
        {
          "data": {
            "text/plain": [
              "1000"
            ]
          },
          "execution_count": 48,
          "metadata": {},
          "output_type": "execute_result"
        }
      ],
      "source": [
        "value.제곱(3)"
      ]
    },
    {
      "cell_type": "code",
      "execution_count": null,
      "metadata": {
        "colab": {
          "base_uri": "https://localhost:8080/"
        },
        "id": "h6l5o55UMErY",
        "outputId": "2ec1cbcf-4d1f-433b-ac65-bb15234aceff"
      },
      "outputs": [
        {
          "name": "stdout",
          "output_type": "stream",
          "text": [
            "10 10\n",
            "139698835161616 139698835161616 139698835161616\n"
          ]
        }
      ],
      "source": [
        "x = 10\n",
        "y = x\n",
        "z = y\n",
        "\n",
        "print(x,y)\n",
        "print(id(x),id(y),id(z))"
      ]
    },
    {
      "attachments": {},
      "cell_type": "markdown",
      "metadata": {
        "id": "NytPf7FcNh19"
      },
      "source": [
        "## 변수의 속성"
      ]
    },
    {
      "attachments": {},
      "cell_type": "markdown",
      "metadata": {
        "id": "rnZk5FfSNnkz"
      },
      "source": [
        "* 변수는 주로 스네이크 표기법을 많이 사용합니다. 물론 회사 컨벤션에 따르셔야 합니다.\n",
        "* 영문과 숫자를 사용할 수 있지만, 숫자로  시작하지는 못합니다.\n",
        "* 특수문자는 사용하지 않아요.(언더바(_)는  사용합니다. 스네이크 표기법, 특수문자나  이미중 사용 가능한 것들이 있기는 합니다.  권하지 않습니다.)\n",
        "* 예약어는 사용하지 않습니다.(if, elif, while, * for, etc)\n",
        "* 대소문자는 구분합니다.\n",
        "* 언더바로만 사용하거나 언더바로 시작할 수 있습니다.\n",
        "* 대문자로 시작하는 변수를 사용할 수 있지만, 관습적으로 대문자로 시작하는 변수는 Class로 만들기 때문에 소문자로 시작하는 변수를 만들기를 권합니다. Class는 보통 파스칼 표기법을 따릅니다. 다만 회사 컨벤션마다 다릅니다."
      ]
    },
    {
      "cell_type": "code",
      "execution_count": null,
      "metadata": {
        "id": "jcOUgd6DNzPq"
      },
      "outputs": [],
      "source": [
        "# 스네이크 표기법(Python에서 주로)\n",
        "hello_world = 10\n",
        "# 카멜 표기법(JavaScript에서 주로)\n",
        "helloWorldHello = 10\n",
        "# 파스칼 표기법 (Class 같은 곳에서 많이 사용합니다.)\n",
        "Hello = 10"
      ]
    },
    {
      "cell_type": "code",
      "execution_count": null,
      "metadata": {
        "id": "0X6KPwlkhOrp"
      },
      "outputs": [],
      "source": [
        "# 10hello = 10\n",
        "hello10 = 10\n",
        "\n",
        "π=3.14 # 권하지 않습니다.\n",
        "print(π)\n",
        "\n",
        "_ = 100 # 언더바는 자주 사용되는데 이렇게 사용되진 않습니다.\n",
        "print(_)"
      ]
    },
    {
      "cell_type": "code",
      "execution_count": null,
      "metadata": {
        "colab": {
          "base_uri": "https://localhost:8080/"
        },
        "id": "NkgjDteyieZ2",
        "outputId": "2be1347f-6711-46cf-e795-33f76ec1f466"
      },
      "outputs": [
        {
          "name": "stdout",
          "output_type": "stream",
          "text": [
            "hello\n",
            "hello\n",
            "hello\n",
            "hello\n",
            "hello\n",
            "hello\n",
            "hello\n",
            "hello\n",
            "hello\n",
            "hello\n"
          ]
        }
      ],
      "source": [
        "for _ in range(10): # 언더바를 순회 안에서 변수로 사용하지 않을 때\n",
        "    print('hello')"
      ]
    },
    {
      "cell_type": "code",
      "execution_count": null,
      "metadata": {
        "id": "aPc782iTivFq"
      },
      "outputs": [],
      "source": [
        "# if = 100\n",
        "# print = 100"
      ]
    },
    {
      "cell_type": "code",
      "execution_count": null,
      "metadata": {
        "id": "a4iDBdcSiwvf"
      },
      "outputs": [],
      "source": [
        "# print('hello')"
      ]
    },
    {
      "cell_type": "code",
      "execution_count": null,
      "metadata": {
        "id": "ryPJaojDjdTr"
      },
      "outputs": [],
      "source": [
        "print(a)"
      ]
    },
    {
      "attachments": {},
      "cell_type": "markdown",
      "metadata": {
        "id": "k0Z-okvfjhWm"
      },
      "source": [
        "## 입력과 출력"
      ]
    },
    {
      "cell_type": "code",
      "execution_count": null,
      "metadata": {
        "colab": {
          "base_uri": "https://localhost:8080/",
          "height": 54
        },
        "id": "kF0ccgarjoTh",
        "outputId": "9e406226-7336-4cc0-8c7a-0486181a4b2f"
      },
      "outputs": [
        {
          "name": "stdout",
          "output_type": "stream",
          "text": [
            "10\n"
          ]
        },
        {
          "data": {
            "application/vnd.google.colaboratory.intrinsic+json": {
              "type": "string"
            },
            "text/plain": [
              "'10'"
            ]
          },
          "execution_count": 1,
          "metadata": {},
          "output_type": "execute_result"
        }
      ],
      "source": [
        "x = input()\n",
        "x"
      ]
    },
    {
      "cell_type": "code",
      "execution_count": null,
      "metadata": {
        "colab": {
          "base_uri": "https://localhost:8080/",
          "height": 35
        },
        "id": "LjvWKH1-jq_N",
        "outputId": "fbc1b765-863c-4b3b-bc73-8556336e7863"
      },
      "outputs": [
        {
          "data": {
            "application/vnd.google.colaboratory.intrinsic+json": {
              "type": "string"
            },
            "text/plain": [
              "'1010'"
            ]
          },
          "execution_count": 2,
          "metadata": {},
          "output_type": "execute_result"
        }
      ],
      "source": [
        "x + x # 사용자에게 받은 입력은 str"
      ]
    },
    {
      "cell_type": "code",
      "execution_count": null,
      "metadata": {
        "colab": {
          "base_uri": "https://localhost:8080/"
        },
        "id": "tSVyPa8Zj9HT",
        "outputId": "40272488-edca-4838-cf69-39da314a6f07"
      },
      "outputs": [
        {
          "name": "stdout",
          "output_type": "stream",
          "text": [
            "10 10 10\n"
          ]
        }
      ],
      "source": [
        "print(10,10,10)"
      ]
    },
    {
      "cell_type": "code",
      "execution_count": null,
      "metadata": {
        "colab": {
          "base_uri": "https://localhost:8080/"
        },
        "id": "g4US8pDAkCqq",
        "outputId": "cba476e5-58fb-40e0-ae56-c0d1093df458"
      },
      "outputs": [
        {
          "name": "stdout",
          "output_type": "stream",
          "text": [
            "hello world hello\n"
          ]
        }
      ],
      "source": [
        "print('hello','world','hello')"
      ]
    },
    {
      "cell_type": "code",
      "execution_count": null,
      "metadata": {
        "colab": {
          "base_uri": "https://localhost:8080/"
        },
        "id": "K6JadMLekFuw",
        "outputId": "b181b981-2b3c-4cf9-a33d-109d3360e86d"
      },
      "outputs": [
        {
          "name": "stdout",
          "output_type": "stream",
          "text": [
            "10 10\n"
          ]
        }
      ],
      "source": [
        "print(x,x)"
      ]
    },
    {
      "cell_type": "code",
      "execution_count": null,
      "metadata": {
        "colab": {
          "base_uri": "https://localhost:8080/"
        },
        "id": "D55Gg3UDkqQt",
        "outputId": "a5f65a29-c84f-450c-f74c-609c5a167592"
      },
      "outputs": [
        {
          "name": "stdout",
          "output_type": "stream",
          "text": [
            "hello world!hello world!hello world!"
          ]
        }
      ],
      "source": [
        "# end의 default값은 \\n\n",
        "print(\"hello world\" , end=\"!\")\n",
        "print(\"hello world\" , end=\"!\")\n",
        "print(\"hello world\" , end=\"!\")"
      ]
    },
    {
      "cell_type": "code",
      "execution_count": null,
      "metadata": {
        "colab": {
          "base_uri": "https://localhost:8080/"
        },
        "id": "mCyf8nGkk4LG",
        "outputId": "e5da29e3-1412-49c8-aaeb-aaa504d08665"
      },
      "outputs": [
        {
          "name": "stdout",
          "output_type": "stream",
          "text": [
            "hello!world\n",
            "010-5044-2903\n"
          ]
        }
      ],
      "source": [
        "print('hello','world' , sep=\"!\")\n",
        "print('010','5044','2903', sep=\"-\")"
      ]
    },
    {
      "cell_type": "code",
      "execution_count": null,
      "metadata": {
        "colab": {
          "base_uri": "https://localhost:8080/"
        },
        "id": "BcN3ZdF7lLOF",
        "outputId": "5f59ee00-24fa-4a99-bb36-b63f633be736"
      },
      "outputs": [
        {
          "name": "stdout",
          "output_type": "stream",
          "text": [
            "1. 제 이름은 강현우입니다. 제 나이는 29입니다.\n",
            "2. 제 이름은 강현우입니다. 제 나이는 29입니다.\n",
            "3. 제 이름은 강현우입니다. 제 나이는 29입니다.\n",
            "4. 제 이름은 강현우입니다. 제 나이는 29입니다.\n",
            "5. 제 이름은 강현우입니다. 제 나이는 29입니다.\n"
          ]
        }
      ],
      "source": [
        "이름 = '강현우'\n",
        "나이 = 29\n",
        "print('1. 제 이름은 강현우입니다. 제 나이는 29입니다.')\n",
        "print('2. 제 이름은 ',이름, '입니다. 제 나이는 ',나이,'입니다.',sep='')\n",
        "print('3. 제 이름은 %s입니다. 제 나이는 %d입니다.'%(이름,나이)) # 오래된 문법 , 권장하지 않음\n",
        "print('4. 제 이름은 {}입니다. 제 나이는 {}입니다.'.format(이름,나이))\n",
        "print(f'5. 제 이름은 {이름}입니다. 제 나이는 {나이}입니다.')"
      ]
    },
    {
      "attachments": {},
      "cell_type": "markdown",
      "metadata": {
        "id": "Bf1ijRhKlx31"
      },
      "source": [
        "[포멧코드](https://www.notion.so/paullabworkspace/9fd33417740f4eba8715f5c4a1ed7c7b?v=e01ecdfe2f9448dcaad68b03a38057a5)\n"
      ]
    },
    {
      "attachments": {},
      "cell_type": "markdown",
      "metadata": {
        "id": "G4HnoXVNm5Qa"
      },
      "source": [
        "## formatting"
      ]
    },
    {
      "cell_type": "code",
      "execution_count": null,
      "metadata": {
        "colab": {
          "base_uri": "https://localhost:8080/"
        },
        "id": "fVW6geuLmcel",
        "outputId": "41289787-ec03-4055-b88a-55fb349de411"
      },
      "outputs": [
        {
          "name": "stdout",
          "output_type": "stream",
          "text": [
            "1000\n"
          ]
        }
      ],
      "source": [
        "print(f'{100*10}')"
      ]
    },
    {
      "cell_type": "code",
      "execution_count": null,
      "metadata": {
        "id": "ReM7MHlinIMO"
      },
      "outputs": [],
      "source": [
        "# 중괄호 안에서 복잡한 연산을 하시는 것을 권하지 않습니다.\n",
        "# Why ? 가독성 증가.\n",
        "result = 100 * 10\n",
        "print(f'{result}')"
      ]
    },
    {
      "cell_type": "code",
      "execution_count": null,
      "metadata": {
        "colab": {
          "base_uri": "https://localhost:8080/"
        },
        "id": "x-MLzBMpnZaF",
        "outputId": "2febe0f8-b24d-443b-b316-36d03bc7150d"
      },
      "outputs": [
        {
          "name": "stdout",
          "output_type": "stream",
          "text": [
            "hello     \n",
            "     hello\n",
            "  hello   \n"
          ]
        }
      ],
      "source": [
        "# 숫자 10은 문자열 길이\n",
        "# 이런 문법은 필요에 의해 검색해 보시다 보면 익숙해집니다.\n",
        "\n",
        "print(f'{\"hello\":<10}') # 왼쪽 정렬\n",
        "print(f'{\"hello\":>10}') # 오른쪽 정렬\n",
        "print(f'{\"hello\":^10}') # 가운데 정렬"
      ]
    },
    {
      "cell_type": "code",
      "execution_count": null,
      "metadata": {
        "colab": {
          "base_uri": "https://localhost:8080/"
        },
        "id": "dQvHw_CInplr",
        "outputId": "b61df2c2-bad0-4c2b-af46-841ca07c872f"
      },
      "outputs": [
        {
          "name": "stdout",
          "output_type": "stream",
          "text": [
            "     hello\n",
            "     hello\n"
          ]
        }
      ],
      "source": [
        "txt = 'hello'\n",
        "i = 10\n",
        "print(f'{txt:>10}')\n",
        "print(f'{txt:>{i}}')\n"
      ]
    },
    {
      "cell_type": "code",
      "execution_count": null,
      "metadata": {
        "colab": {
          "base_uri": "https://localhost:8080/"
        },
        "id": "SWgJGaKJoCi6",
        "outputId": "e4b0fb7b-e093-4885-8633-07db37b8ca49"
      },
      "outputs": [
        {
          "name": "stdout",
          "output_type": "stream",
          "text": [
            "hello=====\n",
            "=====hello\n",
            "==hello===\n"
          ]
        }
      ],
      "source": [
        "# '=' 로 빈자리 채우기\n",
        "\n",
        "print(f'{\"hello\":=<10}') # 왼쪽 정렬\n",
        "print(f'{\"hello\":=>10}') # 오른쪽 정렬\n",
        "print(f'{\"hello\":=^10}') # 가운데 정렬"
      ]
    },
    {
      "cell_type": "code",
      "execution_count": null,
      "metadata": {
        "colab": {
          "base_uri": "https://localhost:8080/"
        },
        "id": "k9cDWBa0oYyx",
        "outputId": "b2ab9cad-e382-4dac-98be-439ddf97324d"
      },
      "outputs": [
        {
          "name": "stdout",
          "output_type": "stream",
          "text": [
            "01001\n"
          ]
        }
      ],
      "source": [
        "# https://tech.kakao.com/2017/09/27/kakao-blind-recruitment-round-1/\n",
        "bin(9)\n",
        "print(f'{bin(9)[2:]:0>5}')"
      ]
    },
    {
      "cell_type": "code",
      "execution_count": null,
      "metadata": {
        "colab": {
          "base_uri": "https://localhost:8080/",
          "height": 35
        },
        "id": "g6y7lA4WuYcQ",
        "outputId": "a89cf496-70d7-481d-8558-1c114febeca7"
      },
      "outputs": [
        {
          "data": {
            "application/vnd.google.colaboratory.intrinsic+json": {
              "type": "string"
            },
            "text/plain": [
              "'#####'"
            ]
          },
          "execution_count": 27,
          "metadata": {},
          "output_type": "execute_result"
        }
      ],
      "source": [
        "bin(9 | 30)[2:].replace('1','#').replace('0',' ')"
      ]
    },
    {
      "cell_type": "code",
      "execution_count": null,
      "metadata": {
        "colab": {
          "base_uri": "https://localhost:8080/"
        },
        "id": "jrW-JUJKu6t4",
        "outputId": "5da782bf-c98c-4254-e481-1ee745b72cc6"
      },
      "outputs": [
        {
          "name": "stdout",
          "output_type": "stream",
          "text": [
            "-------start--------\n"
          ]
        }
      ],
      "source": [
        "# 요정도 활용을 합니다.\n",
        "print(f'{\"start\":-^20}')"
      ]
    },
    {
      "cell_type": "code",
      "execution_count": null,
      "metadata": {
        "colab": {
          "base_uri": "https://localhost:8080/"
        },
        "id": "8-P2UgKyvWVA",
        "outputId": "e9698846-ac59-4ac0-bd99-b9ebadcffa14"
      },
      "outputs": [
        {
          "name": "stdout",
          "output_type": "stream",
          "text": [
            "0.123\n"
          ]
        }
      ],
      "source": [
        "# 0.nf n번째 소숫점 자리까지 출력력\n",
        "print(f'{0.12345:0.2f}')"
      ]
    },
    {
      "attachments": {},
      "cell_type": "markdown",
      "metadata": {
        "id": "viYLYhqEv4XC"
      },
      "source": [
        "> 이 아래 코드는 필수는 아닙니다. \n",
        "참고삼아서만 넣어드립니다."
      ]
    },
    {
      "cell_type": "code",
      "execution_count": null,
      "metadata": {
        "colab": {
          "base_uri": "https://localhost:8080/"
        },
        "id": "csbw3fbxvm8q",
        "outputId": "1e438d52-ab95-4760-879c-ab94be1740d0"
      },
      "outputs": [
        {
          "name": "stdout",
          "output_type": "stream",
          "text": [
            "나의 이름은 한사람입니다\n",
            "나의 이름은 \"한사람\"입니다. 나이는 33세이고 성별은 남성입니다.\n",
            "나이는 33세이고 성별은 남성입니다. 나의 이름은 한사람입니다. \n",
            "나이는 033세이고 신장은  56.79입니다. 나의 이름은 한사람입니다. \n",
            "----------------------------------------\n",
            "나의 이름은 한사람입니다\n",
            "나의 이름은 한사람입니다. 나이는 33세이고 성별은 남성입니다.\n",
            "나이는 33세이고 성별은 남성입니다. 나의 이름은 한사람입니다. \n",
            "나이는 33세이고 성별은 남성입니다. 나의 이름은 한사람입니다. \n",
            "만세삼창 :  만세!!! 만세!!! 만세!!! \n",
            "삼삼칠 박수 :  짝짝짝!!! 짝짝짝!!! 짝짝짝짝짝짝짝!!! \n",
            "----------------------------------------\n",
            "볼펜 2개의 길이는 10.686cm 입니다.\n",
            "볼펜 2개의 길이는 10.7cm 입니다.\n"
          ]
        }
      ],
      "source": [
        "# 이전 방식\n",
        "print('나의 이름은 %s입니다'%('한사람'))\n",
        "print('나의 이름은 \"%s\"입니다. 나이는 %d세이고 성별은 %s입니다.'%('한사람',33,'남성'))\n",
        "print('나이는 %d세이고 성별은 %s입니다. 나의 이름은 %s입니다. '%(33,'남성','한사람'))\n",
        "print('나이는 %03d세이고 신장은 %6.2f입니다. 나의 이름은 %s입니다. '%(33,56.789,'한사람'))\n",
        "print('-' * 40)\n",
        "\n",
        "# 파이썬(Python) 3 포맷팅 방식\n",
        "print('나의 이름은 {}입니다'.format('한사람'))\n",
        "print('나의 이름은 {0}입니다. 나이는 {1}세이고 성별은 {2}입니다.'.format('한사람',33,'남성'))\n",
        "print('나이는 {1}세이고 성별은 {2}입니다. 나의 이름은 {0}입니다. '.format('한사람',33,'남성'))\n",
        "print('나이는 {age}세이고 성별은 {gender}입니다. 나의 이름은 {name}입니다. '\n",
        "         .format(name='한사람',age=33,gender='남성'))\n",
        "print('만세삼창 :  {0}!!! {0}!!! {0}!!! '.format('만세'))\n",
        "print('삼삼칠 박수 :  {0}!!! {0}!!! {1}!!! '.format('짝'*3,'짝'*7))\n",
        "print('-' * 40)\n",
        "\n",
        "# 파이썬(Python) 3.6 f-string 방식\n",
        "something = '볼펜'\n",
        "EA = 2\n",
        "one_length = 5.343\n",
        "scale = 'cm'\n",
        "\n",
        "print(f'{something} {EA}개의 길이는 {one_length*EA}{scale} 입니다.')\n",
        "print(f'{something} {EA}개의 길이는 {one_length*EA:.1f}{scale} 입니다.')"
      ]
    },
    {
      "cell_type": "code",
      "execution_count": null,
      "metadata": {
        "colab": {
          "base_uri": "https://localhost:8080/"
        },
        "id": "NP01SB5twYC8",
        "outputId": "3e0a1dc7-a7ef-405c-b655-7dab864f417d"
      },
      "outputs": [
        {
          "name": "stdout",
          "output_type": "stream",
          "text": [
            "Python is [good           ]\n",
            "Python is [good           ]\n",
            "Python is [           good]\n",
            "Python is [     good      ]\n",
            "당신의 나이는 [             22]세\n",
            "당신의 나이는 [22             ]세\n",
            "당신의 나이는 [             22]세\n",
            "당신의 나이는 [22             ]세\n",
            "----------------------------------------\n"
          ]
        }
      ],
      "source": [
        "print('Python is [{:15}]'.format('good'))\n",
        "print('Python is [{:<15}]'.format('good'))\n",
        "print('Python is [{:>15}]'.format('good'))\n",
        "print('Python is [{:^15}]'.format('good'))\n",
        "print('당신의 나이는 [{:15}]세'.format(22))\n",
        "print('당신의 나이는 [{:<15}]세'.format(22))\n",
        "print('당신의 나이는 [{:>15}]세'.format(22))\n",
        "print('당신의 나이는 [{:<15}]세'.format(22))\n",
        "print('-' * 40)"
      ]
    },
    {
      "cell_type": "code",
      "execution_count": null,
      "metadata": {
        "colab": {
          "base_uri": "https://localhost:8080/"
        },
        "id": "uG-lLwHyxK20",
        "outputId": "b528e339-fdde-48bd-e9b0-3cb82f94dd8c"
      },
      "outputs": [
        {
          "name": "stdout",
          "output_type": "stream",
          "text": [
            "1234567890\n",
            "    5\n",
            "5    \n",
            "  5  \n",
            "50000\n",
            "   5.00   \n"
          ]
        }
      ],
      "source": [
        "char_a = '5'\n",
        "int_a = 5\n",
        "\n",
        "'''기본적으로 {} 포맷팅의 특성을 그대로 가짐'''\n",
        "print(1234567890)\n",
        "print(f'{char_a:>5}') # >는 오른쪽정렬*\n",
        "print(f'{char_a:<5}') # <는 왼쪽정렬\n",
        "print(f'{char_a:^5}') # ^는 가운데정렬\n",
        "print(f'{int_a:0<5}') # <는 왼쪽정렬, 빈자리를 0으로 채울수도 있음\n",
        "print(f'{int_a:^10.2f}') # ^ 가운데 정렬하면서 float 타입지정"
      ]
    },
    {
      "attachments": {},
      "cell_type": "markdown",
      "metadata": {
        "id": "1PPvqLJfwotc"
      },
      "source": [
        "## int"
      ]
    },
    {
      "attachments": {},
      "cell_type": "markdown",
      "metadata": {
        "id": "QTOjOqcPwq-B"
      },
      "source": [
        "* 파이썬에서는 숫자를 정수 , 실수 , 복소수로 나눠 표현합니다.\n",
        "* 2진수 , 8진수 , 16진수는 정수로 표현됩니다."
      ]
    },
    {
      "cell_type": "code",
      "execution_count": null,
      "metadata": {
        "colab": {
          "base_uri": "https://localhost:8080/"
        },
        "id": "TaczeyQVwZFA",
        "outputId": "ca1a72ae-e491-43c1-c093-e63a65400da0"
      },
      "outputs": [
        {
          "data": {
            "text/plain": [
              "['__abs__',\n",
              " '__add__',\n",
              " '__and__',\n",
              " '__bool__',\n",
              " '__ceil__',\n",
              " '__class__',\n",
              " '__delattr__',\n",
              " '__dir__',\n",
              " '__divmod__',\n",
              " '__doc__',\n",
              " '__eq__',\n",
              " '__float__',\n",
              " '__floor__',\n",
              " '__floordiv__',\n",
              " '__format__',\n",
              " '__ge__',\n",
              " '__getattribute__',\n",
              " '__getnewargs__',\n",
              " '__gt__',\n",
              " '__hash__',\n",
              " '__index__',\n",
              " '__init__',\n",
              " '__init_subclass__',\n",
              " '__int__',\n",
              " '__invert__',\n",
              " '__le__',\n",
              " '__lshift__',\n",
              " '__lt__',\n",
              " '__mod__',\n",
              " '__mul__',\n",
              " '__ne__',\n",
              " '__neg__',\n",
              " '__new__',\n",
              " '__or__',\n",
              " '__pos__',\n",
              " '__pow__',\n",
              " '__radd__',\n",
              " '__rand__',\n",
              " '__rdivmod__',\n",
              " '__reduce__',\n",
              " '__reduce_ex__',\n",
              " '__repr__',\n",
              " '__rfloordiv__',\n",
              " '__rlshift__',\n",
              " '__rmod__',\n",
              " '__rmul__',\n",
              " '__ror__',\n",
              " '__round__',\n",
              " '__rpow__',\n",
              " '__rrshift__',\n",
              " '__rshift__',\n",
              " '__rsub__',\n",
              " '__rtruediv__',\n",
              " '__rxor__',\n",
              " '__setattr__',\n",
              " '__sizeof__',\n",
              " '__str__',\n",
              " '__sub__',\n",
              " '__subclasshook__',\n",
              " '__truediv__',\n",
              " '__trunc__',\n",
              " '__xor__',\n",
              " 'as_integer_ratio',\n",
              " 'bit_count',\n",
              " 'bit_length',\n",
              " 'conjugate',\n",
              " 'denominator',\n",
              " 'from_bytes',\n",
              " 'imag',\n",
              " 'numerator',\n",
              " 'real',\n",
              " 'to_bytes']"
            ]
          },
          "execution_count": 34,
          "metadata": {},
          "output_type": "execute_result"
        }
      ],
      "source": [
        "  # 10 정수\n",
        "  # -10 정수\n",
        " # 10.1  실수\n",
        "\n",
        " a = 10\n",
        " type = (a)\n",
        " dir(a)"
      ]
    },
    {
      "cell_type": "code",
      "execution_count": null,
      "metadata": {
        "id": "6I2qOQztxDOo"
      },
      "outputs": [],
      "source": [
        "'bit_length' # bit로 바꾸었을 때 비트의 길이이\n",
        "'to_bytes' # 컴퓨터에 저장하는 바이트의 형태로 숫자를 표현현"
      ]
    },
    {
      "cell_type": "code",
      "execution_count": null,
      "metadata": {
        "id": "G_nd0i_Fxxpq"
      },
      "outputs": [],
      "source": [
        "# 1Bit, 0 ~ 1 # bit - 1자리\n",
        "# 1Bytes = 8bit, 00000000 ~ 11111111 # 1byte - 8bit\n",
        "# 1KB (키로바이트) = 1024Bytes\n",
        "# 1MB (메가바이트) = 1024Kb \n",
        "# 1GB (기가바이트) = 1024MB\n",
        "# 1TB (테라바이트) = 1024GB\n",
        "# 1PB (페타바이트) = 1024TB"
      ]
    },
    {
      "cell_type": "code",
      "execution_count": null,
      "metadata": {
        "colab": {
          "base_uri": "https://localhost:8080/"
        },
        "id": "qZjhzlxWzc4b",
        "outputId": "de144e0a-ce47-4972-b65c-ee4094851a28"
      },
      "outputs": [
        {
          "data": {
            "text/plain": [
              "4"
            ]
          },
          "execution_count": 38,
          "metadata": {},
          "output_type": "execute_result"
        }
      ],
      "source": [
        "(9).bit_length() # 1001"
      ]
    },
    {
      "cell_type": "code",
      "execution_count": null,
      "metadata": {
        "colab": {
          "base_uri": "https://localhost:8080/"
        },
        "id": "0SGAK9oZzx5q",
        "outputId": "b1efa13f-345f-48fe-ab6b-f53e81497a98"
      },
      "outputs": [
        {
          "data": {
            "text/plain": [
              "b'\\xfe'"
            ]
          },
          "execution_count": 48,
          "metadata": {},
          "output_type": "execute_result"
        }
      ],
      "source": [
        "(2).to_bytes(1, byteorder='little', signed=True)\n",
        "(1).to_bytes(1, byteorder='little', signed=True)\n",
        "(0).to_bytes(1, byteorder='little', signed=True)\n",
        "(-1).to_bytes(1, byteorder='little', signed=True)\n",
        "(-2).to_bytes(1, byteorder='little', signed=True)\n"
      ]
    },
    {
      "cell_type": "code",
      "execution_count": null,
      "metadata": {
        "colab": {
          "base_uri": "https://localhost:8080/"
        },
        "id": "2sX4E-Fw0CAV",
        "outputId": "a79899e2-dbbb-44cd-8146-363a25e70c61"
      },
      "outputs": [
        {
          "data": {
            "text/plain": [
              "8887"
            ]
          },
          "execution_count": 49,
          "metadata": {},
          "output_type": "execute_result"
        }
      ],
      "source": [
        "# 9의 보수와 10의 보수는 +- 1 차이"
      ]
    },
    {
      "cell_type": "code",
      "execution_count": null,
      "metadata": {
        "id": "GuhvXO6Y05mi"
      },
      "outputs": [],
      "source": [
        "# 컴퓨터는 음수를 자체적으로 표현할 수 없기에 2의 보스를 사용합니다.\n",
        "# 1의 보수를 사용하게 되면 +0과 *0이 존재하게 됨으로 비트 하나를 낭비하게 됩니다.\n",
        "# 따라서 2의 보수를 사용합니다."
      ]
    },
    {
      "cell_type": "code",
      "execution_count": null,
      "metadata": {
        "id": "kldPn8qW2det"
      },
      "outputs": [],
      "source": [
        "# 0000 0001 # 1\n",
        "# 1111 1110 # 1의 1의 보수\n",
        "# 1111 1111 # 1의 2의 보수 => ff"
      ]
    },
    {
      "cell_type": "code",
      "execution_count": null,
      "metadata": {
        "id": "ipgzVQVP2wsu"
      },
      "outputs": [],
      "source": [
        "# 진법 변환 쉽게 하는 법 : 가장 가까운 승수를 찾아 더하거나 뺍니다.\n",
        "\n",
        "# 10진법\n",
        "# 0 1 2 3 4 5 6 7 8 9 -> 10\n",
        "# 1324 = 1*10^3 + 3*10^2 + 2*10^1 + 4*10^0\n",
        "\n",
        "# 2진법\n",
        "# 0 1 -> 10\n",
        "# 1001 = 1*2^3 + 1*2^0 = 9\n",
        "\n",
        "# 8진법\n",
        "# 0 1 2 3 4 5 6 7 -> 10\n",
        "\n",
        "# 16진법\n",
        "# 0 1 2 3 4 5 6 7 8 9 a b c d e  -> 10"
      ]
    },
    {
      "cell_type": "code",
      "execution_count": null,
      "metadata": {
        "id": "AOXYXTvH7oFF"
      },
      "outputs": [],
      "source": [
        "# color의 표현현\n",
        "# 2596be\n",
        "# 000000 ~ ffffff\n",
        "# ff는 10진수로 무슨 숫자를 의미 = 255\n",
        "# 100 - 1 => ff가 됩니다. 그래서 256 - 1"
      ]
    },
    {
      "cell_type": "code",
      "execution_count": null,
      "metadata": {
        "colab": {
          "base_uri": "https://localhost:8080/"
        },
        "id": "RwuBR-us8IPb",
        "outputId": "bb0d3d4f-81d8-4e87-9461-132d35fdbc63"
      },
      "outputs": [
        {
          "data": {
            "text/plain": [
              "int"
            ]
          },
          "execution_count": 1,
          "metadata": {},
          "output_type": "execute_result"
        }
      ],
      "source": [
        "a = 10\n",
        "type(a)"
      ]
    },
    {
      "cell_type": "code",
      "execution_count": null,
      "metadata": {
        "colab": {
          "base_uri": "https://localhost:8080/"
        },
        "id": "ELmZZqfD8O7o",
        "outputId": "c650c7a5-51aa-436f-e9c3-fadb2cd94d18"
      },
      "outputs": [
        {
          "data": {
            "text/plain": [
              "2"
            ]
          },
          "execution_count": 2,
          "metadata": {},
          "output_type": "execute_result"
        }
      ],
      "source": [
        "int('10', 2) # 2진법으로 10은?"
      ]
    },
    {
      "cell_type": "code",
      "execution_count": null,
      "metadata": {
        "colab": {
          "base_uri": "https://localhost:8080/"
        },
        "id": "0NcO6_738s0h",
        "outputId": "d758627b-654e-4ea4-8ca3-26d7a404ef99"
      },
      "outputs": [
        {
          "data": {
            "text/plain": [
              "8"
            ]
          },
          "execution_count": 3,
          "metadata": {},
          "output_type": "execute_result"
        }
      ],
      "source": [
        "int('10', 8) # 8진법으로 10은?"
      ]
    },
    {
      "cell_type": "code",
      "execution_count": null,
      "metadata": {
        "colab": {
          "base_uri": "https://localhost:8080/"
        },
        "id": "SyiuriL18uv_",
        "outputId": "a98c24f7-31b2-4fa1-b5fd-1c82e61725d5"
      },
      "outputs": [
        {
          "data": {
            "text/plain": [
              "16"
            ]
          },
          "execution_count": 4,
          "metadata": {},
          "output_type": "execute_result"
        }
      ],
      "source": [
        "int('10', 16) # 16진법으로 10은?"
      ]
    },
    {
      "cell_type": "code",
      "execution_count": null,
      "metadata": {
        "colab": {
          "base_uri": "https://localhost:8080/"
        },
        "id": "DrrHOrAc9B8G",
        "outputId": "e506d18c-2cf7-457f-8ded-ba218f574003"
      },
      "outputs": [
        {
          "name": "stdout",
          "output_type": "stream",
          "text": [
            "6\n",
            "72\n",
            "272\n"
          ]
        }
      ],
      "source": [
        "print(0b110) # 바이너리 2진수\n",
        "print(0o110) # 옥타 8진수\n",
        "print(0x110) # 헥사 16진수"
      ]
    },
    {
      "cell_type": "code",
      "execution_count": null,
      "metadata": {
        "colab": {
          "base_uri": "https://localhost:8080/"
        },
        "id": "lHWoALJZ91_g",
        "outputId": "55d45748-5e55-430b-b106-9be1e5a7f827"
      },
      "outputs": [
        {
          "data": {
            "text/plain": [
              "int"
            ]
          },
          "execution_count": 8,
          "metadata": {},
          "output_type": "execute_result"
        }
      ],
      "source": [
        "type(0b110)"
      ]
    },
    {
      "cell_type": "code",
      "execution_count": null,
      "metadata": {
        "id": "clY-cd-o8v5_"
      },
      "outputs": [],
      "source": [
        "a = 10\n",
        "type(a) == int\n",
        "isinstance(a, int)"
      ]
    },
    {
      "attachments": {},
      "cell_type": "markdown",
      "metadata": {
        "id": "qTl391ot9Mjs"
      },
      "source": [
        "## float(실수)"
      ]
    },
    {
      "cell_type": "code",
      "execution_count": null,
      "metadata": {
        "colab": {
          "base_uri": "https://localhost:8080/"
        },
        "id": "0AkSb21u9PTe",
        "outputId": "a370530e-f49f-4e9b-f782-8abefdc4272b"
      },
      "outputs": [
        {
          "data": {
            "text/plain": [
              "float"
            ]
          },
          "execution_count": 5,
          "metadata": {},
          "output_type": "execute_result"
        }
      ],
      "source": [
        "a = 10.1\n",
        "\n",
        "type(a)"
      ]
    },
    {
      "cell_type": "code",
      "execution_count": null,
      "metadata": {
        "colab": {
          "base_uri": "https://localhost:8080/"
        },
        "id": "Tb6nH8gT9Ruy",
        "outputId": "5b8089f9-dcc5-46f0-a94e-d08a5248b024"
      },
      "outputs": [
        {
          "data": {
            "text/plain": [
              "['__abs__',\n",
              " '__add__',\n",
              " '__bool__',\n",
              " '__ceil__',\n",
              " '__class__',\n",
              " '__delattr__',\n",
              " '__dir__',\n",
              " '__divmod__',\n",
              " '__doc__',\n",
              " '__eq__',\n",
              " '__float__',\n",
              " '__floor__',\n",
              " '__floordiv__',\n",
              " '__format__',\n",
              " '__ge__',\n",
              " '__getattribute__',\n",
              " '__getformat__',\n",
              " '__getnewargs__',\n",
              " '__gt__',\n",
              " '__hash__',\n",
              " '__init__',\n",
              " '__init_subclass__',\n",
              " '__int__',\n",
              " '__le__',\n",
              " '__lt__',\n",
              " '__mod__',\n",
              " '__mul__',\n",
              " '__ne__',\n",
              " '__neg__',\n",
              " '__new__',\n",
              " '__pos__',\n",
              " '__pow__',\n",
              " '__radd__',\n",
              " '__rdivmod__',\n",
              " '__reduce__',\n",
              " '__reduce_ex__',\n",
              " '__repr__',\n",
              " '__rfloordiv__',\n",
              " '__rmod__',\n",
              " '__rmul__',\n",
              " '__round__',\n",
              " '__rpow__',\n",
              " '__rsub__',\n",
              " '__rtruediv__',\n",
              " '__setattr__',\n",
              " '__setformat__',\n",
              " '__sizeof__',\n",
              " '__str__',\n",
              " '__sub__',\n",
              " '__subclasshook__',\n",
              " '__truediv__',\n",
              " '__trunc__',\n",
              " 'as_integer_ratio',\n",
              " 'conjugate',\n",
              " 'fromhex',\n",
              " 'hex',\n",
              " 'imag',\n",
              " 'is_integer',\n",
              " 'real']"
            ]
          },
          "execution_count": 6,
          "metadata": {},
          "output_type": "execute_result"
        }
      ],
      "source": [
        "dir(a)"
      ]
    },
    {
      "cell_type": "code",
      "execution_count": null,
      "metadata": {
        "colab": {
          "base_uri": "https://localhost:8080/"
        },
        "id": "s9EJlhrH9Tvg",
        "outputId": "1b34022c-6205-44e7-b98a-65e4ce814673"
      },
      "outputs": [
        {
          "data": {
            "text/plain": [
              "20.1"
            ]
          },
          "execution_count": 7,
          "metadata": {},
          "output_type": "execute_result"
        }
      ],
      "source": [
        "a = 10\n",
        "b = 10.1\n",
        "\n",
        "a + b # 다른 일부 언어에서는 허용되지 않습니다."
      ]
    },
    {
      "cell_type": "code",
      "execution_count": null,
      "metadata": {
        "colab": {
          "base_uri": "https://localhost:8080/"
        },
        "id": "QAJ_OlZ89gau",
        "outputId": "cccddecf-8c6d-46eb-93a3-8514c64716bb"
      },
      "outputs": [
        {
          "data": {
            "text/plain": [
              "0.30000000000000004"
            ]
          },
          "execution_count": 9,
          "metadata": {},
          "output_type": "execute_result"
        }
      ],
      "source": [
        "# 부동소수점 오차(2진법으로 변환했을 때 0.1이 무한대수가 발생합니다.)\n",
        "0.1 + 0.2 # 대부분의 언어 공통입니다. 0.1을 더하면 안된다."
      ]
    },
    {
      "cell_type": "code",
      "execution_count": null,
      "metadata": {
        "id": "kOkNXO0r-FKF"
      },
      "outputs": [],
      "source": [
        "a = 0.1"
      ]
    },
    {
      "cell_type": "code",
      "execution_count": null,
      "metadata": {
        "colab": {
          "base_uri": "https://localhost:8080/"
        },
        "id": "KIE_ygha-ZOn",
        "outputId": "a284d550-c2cb-4606-8a50-5fd39367d7f4"
      },
      "outputs": [
        {
          "data": {
            "text/plain": [
              "0.7"
            ]
          },
          "execution_count": 36,
          "metadata": {},
          "output_type": "execute_result"
        }
      ],
      "source": [
        "# 20번 반복\n",
        "a = a + 0.1\n",
        "a"
      ]
    },
    {
      "attachments": {},
      "cell_type": "markdown",
      "metadata": {
        "id": "77BWxEJN-xCi"
      },
      "source": [
        "* https://docs.python.org/ko/3/tutorial/floatingpoint.html\n",
        "* https://0.30000000000000004.com/ 에서 언어별 해결책을 제시한다.\n",
        "* 컴퓨터에서 부동소수점 숫자들은 2진 분수로 표현되기에 무한대수가 발생한다.\n",
        "* [무한수가 발생되는 원리](https://www.notion.so/paullabworkspace/5f34f21bf9a34015b170e7afd7da9593)"
      ]
    },
    {
      "attachments": {},
      "cell_type": "markdown",
      "metadata": {
        "id": "A55ptTjNDTMz"
      },
      "source": [
        "## !! 오늘 배운 것 정리\n",
        "1. 단축키\n",
        "    * (필수) Ctrl(Command) + Enter : 해당 셀 실행\n",
        "    * (필수) Alt(Option) + Enter : 해당 셀 실행 + 코드 불록 하단 추가\n",
        "    * (필수) Ctrl + / : 주석\n",
        "    * (필수) Shift + Del : 한 줄 지우기\n",
        "    * (필수) Tab, Ctrl + ] : 들여쓰기\n",
        "    * (필수) Shift + Tab, Ctrl + [ : 내어쓰기\n",
        "\n",
        "2. 마크다운\n",
        "    ```\n",
        "    # hello\n",
        "    ## hello\n",
        "    ### hello\n",
        "\n",
        "    1. hello\n",
        "    2. hello\n",
        "    3. hello\n",
        "\n",
        "    * hello\n",
        "    * hello\n",
        "    * hello\n",
        "    ```\n",
        "\n",
        "3. 주석\n",
        "\n",
        "    ```python\n",
        "    #행 단위 주석입니다.\n",
        "\n",
        "    \"\"\"\n",
        "    큰 따옴표로 세번 묶거나\n",
        "    작은따옴표로 세번 묶으면\n",
        "    열단위 주석이 됩니다.\n",
        "    \"\"\"\n",
        "\n",
        "    '''\n",
        "    큰 따옴표로 세번 묶거나\n",
        "    작은따옴표로 세번 묶으면\n",
        "    열단위 주석이 됩니다.\n",
        "    '''\n",
        "    ```\n",
        "\n",
        "4. PEP8 권고사항\n",
        "    * 띄어쓰기는 4칸\n",
        "    * 한 줄에 79자 이상을 사용하지 않는다.\n",
        "\n",
        "5. 형의 종류(type, dir)\n",
        "    * 컨벤션 자료형(list, tuple, dict, set)은 나중에 진행합니다.\n",
        "    * int\n",
        "    * float\n",
        "    * bool\n",
        "    * str\n",
        "    * function\n",
        "    * bulit-in function\n",
        "\n",
        "6. 이스케이프 문자\n",
        "    * https://ko.wikipedia.org/wiki/%EC%9D%B4%EC%8A%A4%EC%BC%80%EC%9D%B4%ED%94%84_%EB%AC%B8%EC%9E%90\n",
        "    ```python\n",
        "    print('hello \\n world')\n",
        "    print('hello \\t world')\n",
        "    print('hello \\' world')\n",
        "    print('hello \\\" world')\n",
        "    print('hello \\\\ world')\n",
        "    ```\n",
        "\n",
        "7. 실무에서 자주 사용하는 타입확인 구문\n",
        "    ```python\n",
        "    type(10)\n",
        "    type(10) == int\n",
        "    type(10.1) == float\n",
        "\n",
        "    a = 10\n",
        "    isinstance(a, int)\n",
        "    isinstance(a, float)\n",
        "    ```\n",
        "\n",
        "8. 변수의 인사이트\n",
        "    ```\n",
        "    dir을 입력했을 때\n",
        "    1. __hello__와 같은 형태의 메직 메서드는 속성을 표현한다\n",
        "    2.  언더바가 없는 메서드는 해당 자료형의 편의 기능을 제공한다\n",
        "    ```\n",
        "\n",
        "9. 입력과 출력\n",
        "    ```python\n",
        "    x = input() #입력, 숫자를 입력해도 str\n",
        "    print(x) #출력\n",
        "\n",
        "    이름 = '이호준'\n",
        "    나이 = 10\n",
        "    print(f'제 이름은 {이름}입니다. 제 나이는 {나이}입니다.')\n",
        "    print(f'{100 * 10}')\n",
        "    ```\n",
        "\n",
        "\n",
        "10. int 형\n",
        "    * 2진수, 8진수, 16진수는 정수\n",
        "\n",
        "\n",
        "11. float 형\n",
        "    * 부동소수점 오차(2진법으로 변환했을 때 0.1이 무한대수가 발생합니다.)\n",
        "    0.1 + 0.2 # 대부분의 언어 공통입니다.\n",
        "    * https://docs.python.org/ko/3/tutorial/floatingpoint.html\n",
        "    * https://0.30000000000000004.com/ 에서 언어별 해결책을 제시한다."
      ]
    },
    {
      "cell_type": "code",
      "execution_count": null,
      "metadata": {
        "id": "AOzaBGwGEpN7"
      },
      "outputs": [],
      "source": []
    },
    {
      "attachments": {},
      "cell_type": "markdown",
      "metadata": {
        "id": "l4lmQboX2hLE"
      },
      "source": [
        "----"
      ]
    },
    {
      "attachments": {},
      "cell_type": "markdown",
      "metadata": {
        "id": "NxI8lSPH9Q9X"
      },
      "source": [
        "## str (문자열)"
      ]
    },
    {
      "attachments": {},
      "cell_type": "markdown",
      "metadata": {
        "id": "_apevjSZ9tpp"
      },
      "source": [
        "* 순서가 있는 **시퀀스 자료형**입니다.\n",
        "* 순서가 있는 시퀀스 자료형입니다.\n",
        "* 작은 따옴표(' ')나 큰 따옴표(\" \"), 삼중따옴표('''str''', \"\"\"str\"\"\")로 감싸는 것도 가능합니다. (삼중따옴표를 사용할 경우에는 줄단위의 문자열을 나타낼 수 있습니다.)\n",
        "* 작은 따옴표 안에 큰 따옴표, 큰 따옴표 안에 작은 따옴표 사용이 가능합니다.\n",
        "* 이스케이프 문자도 사용이 가능합니다.\n",
        "* 리스트, 튜플도 시퀀스 자료형입니다."
      ]
    },
    {
      "cell_type": "code",
      "execution_count": null,
      "metadata": {
        "colab": {
          "base_uri": "https://localhost:8080/",
          "height": 35
        },
        "id": "TAl-CH7994L3",
        "outputId": "121ea821-6976-4cdc-c60d-e8948066a469"
      },
      "outputs": [
        {
          "data": {
            "application/vnd.google.colaboratory.intrinsic+json": {
              "type": "string"
            },
            "text/plain": [
              "'p'"
            ]
          },
          "execution_count": 22,
          "metadata": {},
          "output_type": "execute_result"
        }
      ],
      "source": [
        "s = 'paullab CEO kanghyunwoo'\n",
        "s[0] # 0은 index입니다. 이렇게 호출하는 것을 indexing이라고 합니다."
      ]
    },
    {
      "cell_type": "code",
      "execution_count": null,
      "metadata": {
        "colab": {
          "base_uri": "https://localhost:8080/"
        },
        "id": "sCyimQhT9543",
        "outputId": "b478ba9b-2cd0-4cc5-9c6d-8e9cdb6309db"
      },
      "outputs": [
        {
          "data": {
            "text/plain": [
              "str"
            ]
          },
          "execution_count": 21,
          "metadata": {},
          "output_type": "execute_result"
        }
      ],
      "source": [
        "type(s)"
      ]
    },
    {
      "cell_type": "code",
      "execution_count": null,
      "metadata": {
        "colab": {
          "base_uri": "https://localhost:8080/"
        },
        "id": "GIg0KACl98he",
        "outputId": "bf588ab6-f40e-4151-d9ca-3dbcdf4d1ece"
      },
      "outputs": [
        {
          "data": {
            "text/plain": [
              "['__add__',\n",
              " '__class__',\n",
              " '__contains__',\n",
              " '__delattr__',\n",
              " '__dir__',\n",
              " '__doc__',\n",
              " '__eq__',\n",
              " '__format__',\n",
              " '__ge__',\n",
              " '__getattribute__',\n",
              " '__getitem__',\n",
              " '__getnewargs__',\n",
              " '__gt__',\n",
              " '__hash__',\n",
              " '__init__',\n",
              " '__init_subclass__',\n",
              " '__iter__',\n",
              " '__le__',\n",
              " '__len__',\n",
              " '__lt__',\n",
              " '__mod__',\n",
              " '__mul__',\n",
              " '__ne__',\n",
              " '__new__',\n",
              " '__reduce__',\n",
              " '__reduce_ex__',\n",
              " '__repr__',\n",
              " '__rmod__',\n",
              " '__rmul__',\n",
              " '__setattr__',\n",
              " '__sizeof__',\n",
              " '__str__',\n",
              " '__subclasshook__',\n",
              " 'capitalize',\n",
              " 'casefold',\n",
              " 'center',\n",
              " 'count',\n",
              " 'encode',\n",
              " 'endswith',\n",
              " 'expandtabs',\n",
              " 'find',\n",
              " 'format',\n",
              " 'format_map',\n",
              " 'index',\n",
              " 'isalnum',\n",
              " 'isalpha',\n",
              " 'isascii',\n",
              " 'isdecimal',\n",
              " 'isdigit',\n",
              " 'isidentifier',\n",
              " 'islower',\n",
              " 'isnumeric',\n",
              " 'isprintable',\n",
              " 'isspace',\n",
              " 'istitle',\n",
              " 'isupper',\n",
              " 'join',\n",
              " 'ljust',\n",
              " 'lower',\n",
              " 'lstrip',\n",
              " 'maketrans',\n",
              " 'partition',\n",
              " 'removeprefix',\n",
              " 'removesuffix',\n",
              " 'replace',\n",
              " 'rfind',\n",
              " 'rindex',\n",
              " 'rjust',\n",
              " 'rpartition',\n",
              " 'rsplit',\n",
              " 'rstrip',\n",
              " 'split',\n",
              " 'splitlines',\n",
              " 'startswith',\n",
              " 'strip',\n",
              " 'swapcase',\n",
              " 'title',\n",
              " 'translate',\n",
              " 'upper',\n",
              " 'zfill']"
            ]
          },
          "execution_count": 23,
          "metadata": {},
          "output_type": "execute_result"
        }
      ],
      "source": [
        "dir(s)"
      ]
    },
    {
      "cell_type": "code",
      "execution_count": null,
      "metadata": {
        "id": "0IMBPAT1-Av6"
      },
      "outputs": [],
      "source": [
        "# 문자열의 메서드\n",
        "# 'capitalize','casefold','center','count','encode',\n",
        "# 'endswith','expandtabs','find','format','format_map',\n",
        "# 'index','isalnum','isalpha','isascii','isdecimal','isdigit',\n",
        "# 'isidentifier','islower','isnumeric','isprintable','isspace',\n",
        "# 'istitle','isupper','join','ljust','lower','lstrip',\n",
        "# 'maketrans','partition','removeprefix','removesuffix',\n",
        "# 'replace','rfind','rindex','rjust','rpartition','rsplit',\n",
        "# 'rstrip','split','splitlines','startswith','strip','swapcase',\n",
        "# 'title','translate','upper','zfill'"
      ]
    },
    {
      "cell_type": "code",
      "execution_count": null,
      "metadata": {
        "colab": {
          "base_uri": "https://localhost:8080/"
        },
        "id": "f0Qb6U_A-CGs",
        "outputId": "cc4b9e15-ef56-4d8e-b878-03156580f25d"
      },
      "outputs": [
        {
          "data": {
            "text/plain": [
              "('paullab ceo leehojun', 'PAULLAB CEO LEEHOJUN')"
            ]
          },
          "execution_count": 24,
          "metadata": {},
          "output_type": "execute_result"
        }
      ],
      "source": [
        "s = 'paullab CEO kanghyunwoo'\n",
        "s.lower(), s.upper() \n",
        "# 특히 사용자에게 입력을 받는 경우 lower도 많이 사용합니다."
      ]
    },
    {
      "cell_type": "code",
      "execution_count": null,
      "metadata": {
        "colab": {
          "base_uri": "https://localhost:8080/"
        },
        "id": "vnc6rXhj-FI0",
        "outputId": "a60c1401-6059-45e3-977f-09eeccc01bb6"
      },
      "outputs": [
        {
          "data": {
            "text/plain": [
              "(8, 8)"
            ]
          },
          "execution_count": 25,
          "metadata": {},
          "output_type": "execute_result"
        }
      ],
      "source": [
        "s = 'paullab CEO kanghyunwoo'\n",
        "s.find('C'), s.index('C')"
      ]
    },
    {
      "cell_type": "code",
      "execution_count": null,
      "metadata": {
        "colab": {
          "base_uri": "https://localhost:8080/"
        },
        "id": "XLp22p1w2i2I",
        "outputId": "447c2f85-afa3-4759-8fca-cddd684c40df"
      },
      "outputs": [
        {
          "data": {
            "text/plain": [
              "-1"
            ]
          },
          "execution_count": 26,
          "metadata": {},
          "output_type": "execute_result"
        }
      ],
      "source": [
        "# 견고한 코드란?\n",
        "# 시간이 지나도 그대로 사용할 수 있고\n",
        "# error가 예측 가능하게 나는 코드\n",
        "# 네이버에 이미지 슬라이딩 코드\n",
        "# bool(s.find('Z')) => -1은 True이기 때문에 주의가 필요합니다.\n",
        "s.find('Z')"
      ]
    },
    {
      "cell_type": "code",
      "execution_count": null,
      "metadata": {
        "colab": {
          "base_uri": "https://localhost:8080/",
          "height": 211
        },
        "id": "1n98SaK62qz6",
        "outputId": "c7776212-0ad3-4606-a3b0-e167eef489d0"
      },
      "outputs": [
        {
          "ename": "ValueError",
          "evalue": "ignored",
          "output_type": "error",
          "traceback": [
            "\u001b[0;31m---------------------------------------------------------------------------\u001b[0m",
            "\u001b[0;31mValueError\u001b[0m                                Traceback (most recent call last)",
            "\u001b[0;32m<ipython-input-27-85c68513f932>\u001b[0m in \u001b[0;36m<cell line: 3>\u001b[0;34m()\u001b[0m\n\u001b[1;32m      1\u001b[0m \u001b[0;31m# Error가 나면 Error를 주는 것이 좋을 수 있습니다.\u001b[0m\u001b[0;34m\u001b[0m\u001b[0;34m\u001b[0m\u001b[0m\n\u001b[1;32m      2\u001b[0m \u001b[0;31m# Error를 안주는 언어로 JavaScript\u001b[0m\u001b[0;34m\u001b[0m\u001b[0;34m\u001b[0m\u001b[0m\n\u001b[0;32m----> 3\u001b[0;31m \u001b[0ms\u001b[0m\u001b[0;34m.\u001b[0m\u001b[0mindex\u001b[0m\u001b[0;34m(\u001b[0m\u001b[0;34m'Z'\u001b[0m\u001b[0;34m)\u001b[0m\u001b[0;34m\u001b[0m\u001b[0;34m\u001b[0m\u001b[0m\n\u001b[0m",
            "\u001b[0;31mValueError\u001b[0m: substring not found"
          ]
        }
      ],
      "source": [
        "# Error가 나면 Error를 주는 것이 좋을 수 있습니다.\n",
        "# Error를 안주는 언어로 JavaScript\n",
        "s.index('Z')"
      ]
    },
    {
      "cell_type": "code",
      "execution_count": null,
      "metadata": {
        "colab": {
          "base_uri": "https://localhost:8080/"
        },
        "id": "HJ_O_qEq2r03",
        "outputId": "40146697-350d-4e79-d679-eaa6f220dc47"
      },
      "outputs": [
        {
          "data": {
            "text/plain": [
              "5"
            ]
          },
          "execution_count": 1,
          "metadata": {},
          "output_type": "execute_result"
        }
      ],
      "source": [
        "s = 'ormi CEO kanghyunwoo'\n",
        "s.find('CEO')"
      ]
    },
    {
      "cell_type": "code",
      "execution_count": null,
      "metadata": {
        "colab": {
          "base_uri": "https://localhost:8080/"
        },
        "id": "skYZLv7J23j3",
        "outputId": "4210a7eb-cbc6-4b32-d357-caf0fa780a0b"
      },
      "outputs": [
        {
          "data": {
            "text/plain": [
              "3"
            ]
          },
          "execution_count": 2,
          "metadata": {},
          "output_type": "execute_result"
        }
      ],
      "source": [
        "# 별 5개 ★★★★★\n",
        "s = 'orrrmi CEO kanghyunwoo'\n",
        "s.count('r')"
      ]
    },
    {
      "cell_type": "code",
      "execution_count": null,
      "metadata": {
        "colab": {
          "base_uri": "https://localhost:8080/",
          "height": 35
        },
        "id": "oclqbBoC3CHT",
        "outputId": "608359a8-1d2a-4d21-b493-70c397d53da7"
      },
      "outputs": [
        {
          "data": {
            "application/vnd.google.colaboratory.intrinsic+json": {
              "type": "string"
            },
            "text/plain": [
              "'[1, 2, 3, 4, 5]'"
            ]
          },
          "execution_count": 3,
          "metadata": {},
          "output_type": "execute_result"
        }
      ],
      "source": [
        "str([1, 2, 3, 4, 5])"
      ]
    },
    {
      "cell_type": "code",
      "execution_count": null,
      "metadata": {
        "colab": {
          "base_uri": "https://localhost:8080/"
        },
        "id": "dj7Fe6uF3axi",
        "outputId": "0db301a3-f5ac-44bf-f672-e45f14f27875"
      },
      "outputs": [
        {
          "data": {
            "text/plain": [
              "4"
            ]
          },
          "execution_count": 4,
          "metadata": {},
          "output_type": "execute_result"
        }
      ],
      "source": [
        "str([1, 2, 3, 4, 5]).count(' ')"
      ]
    },
    {
      "cell_type": "code",
      "execution_count": null,
      "metadata": {
        "colab": {
          "base_uri": "https://localhost:8080/"
        },
        "id": "oXKjtEuz3iqj",
        "outputId": "1c60763a-734a-457d-f67d-ea3f83b4f0eb"
      },
      "outputs": [
        {
          "data": {
            "text/plain": [
              "4"
            ]
          },
          "execution_count": 5,
          "metadata": {},
          "output_type": "execute_result"
        }
      ],
      "source": [
        "str([1, 2, 3, 4, 5]).count(' ')"
      ]
    },
    {
      "cell_type": "code",
      "execution_count": null,
      "metadata": {
        "colab": {
          "base_uri": "https://localhost:8080/"
        },
        "id": "vDM4GY5v3kz8",
        "outputId": "792e19a1-32aa-4752-9f99-1b4ecd1d0287"
      },
      "outputs": [
        {
          "data": {
            "text/plain": [
              "6"
            ]
          },
          "execution_count": 6,
          "metadata": {},
          "output_type": "execute_result"
        }
      ],
      "source": [
        "str([1, 2, 11, 4, 111]).count('1')"
      ]
    },
    {
      "cell_type": "code",
      "execution_count": null,
      "metadata": {
        "colab": {
          "base_uri": "https://localhost:8080/"
        },
        "id": "meomq3jS5u7T",
        "outputId": "a5c80c53-7220-44cc-c626-96acced2f4f8"
      },
      "outputs": [
        {
          "data": {
            "text/plain": [
              "4000"
            ]
          },
          "execution_count": 10,
          "metadata": {},
          "output_type": "execute_result"
        }
      ],
      "source": [
        "str(list(range(0,10001))).count('8')"
      ]
    },
    {
      "attachments": {},
      "cell_type": "markdown",
      "metadata": {
        "id": "h5X9cN9U4GFe"
      },
      "source": [
        "*https://codingdojang.com/scode/393?answer_mode=hide"
      ]
    },
    {
      "cell_type": "code",
      "execution_count": null,
      "metadata": {
        "colab": {
          "base_uri": "https://localhost:8080/"
        },
        "id": "CanEJEA83qfa",
        "outputId": "bc467cf6-d4ba-4936-96a2-2ee306d6827d"
      },
      "outputs": [
        {
          "data": {
            "text/plain": [
              "4"
            ]
          },
          "execution_count": 9,
          "metadata": {},
          "output_type": "execute_result"
        }
      ],
      "source": [
        "str([1,\n",
        "     2,\n",
        "     3,\n",
        "     4,\n",
        "     5]).count(' ')\n",
        "# list는 콤마 다음에 공백이 없더라도 공백으로 인식해줍니다."
      ]
    },
    {
      "cell_type": "code",
      "execution_count": null,
      "metadata": {
        "id": "wvl5LwT549d1"
      },
      "outputs": [],
      "source": [
        "str([1,2,3,4,5]).count(' ')\n",
        "# list는 콤마 다음에 공백이 없더라도 공백으로 인식해줍니다."
      ]
    },
    {
      "cell_type": "code",
      "execution_count": null,
      "metadata": {
        "colab": {
          "base_uri": "https://localhost:8080/"
        },
        "id": "_4OSBI0K4X3a",
        "outputId": "d0c50cef-e595-4e27-e656-9863154a2033"
      },
      "outputs": [
        {
          "data": {
            "text/plain": [
              "6"
            ]
          },
          "execution_count": 7,
          "metadata": {},
          "output_type": "execute_result"
        }
      ],
      "source": [
        "'hello'.count('')"
      ]
    },
    {
      "cell_type": "code",
      "execution_count": null,
      "metadata": {
        "colab": {
          "base_uri": "https://localhost:8080/"
        },
        "id": "QMPwcVz64aGb",
        "outputId": "2a025d72-29ab-4a42-c69d-ebe34ffc7ba7"
      },
      "outputs": [
        {
          "data": {
            "text/plain": [
              "1"
            ]
          },
          "execution_count": 8,
          "metadata": {},
          "output_type": "execute_result"
        }
      ],
      "source": [
        "''.count('')"
      ]
    },
    {
      "cell_type": "code",
      "execution_count": null,
      "metadata": {
        "colab": {
          "base_uri": "https://localhost:8080/",
          "height": 35
        },
        "id": "sjspL7kq4jM7",
        "outputId": "664dc299-f802-454e-b838-8eec33f8aff2"
      },
      "outputs": [
        {
          "data": {
            "application/vnd.google.colaboratory.intrinsic+json": {
              "type": "string"
            },
            "text/plain": [
              "''"
            ]
          },
          "execution_count": 11,
          "metadata": {},
          "output_type": "execute_result"
        }
      ],
      "source": [
        "'' + ''"
      ]
    },
    {
      "cell_type": "code",
      "execution_count": null,
      "metadata": {
        "colab": {
          "base_uri": "https://localhost:8080/",
          "height": 35
        },
        "id": "ho_at1JP6YB1",
        "outputId": "d38d26a8-d1ea-4cd3-c8fe-37c1c5d3b6b5"
      },
      "outputs": [
        {
          "data": {
            "application/vnd.google.colaboratory.intrinsic+json": {
              "type": "string"
            },
            "text/plain": [
              "'hello   !'"
            ]
          },
          "execution_count": 12,
          "metadata": {},
          "output_type": "execute_result"
        }
      ],
      "source": [
        "'   hello   !   '.strip() # 공백제거 메서드드"
      ]
    },
    {
      "cell_type": "code",
      "execution_count": null,
      "metadata": {
        "colab": {
          "base_uri": "https://localhost:8080/",
          "height": 35
        },
        "id": "QLzJbnJk6klV",
        "outputId": "22fed9b4-8a3b-4fe7-8607-4519bec57712"
      },
      "outputs": [
        {
          "data": {
            "application/vnd.google.colaboratory.intrinsic+json": {
              "type": "string"
            },
            "text/plain": [
              "'   hello   !'"
            ]
          },
          "execution_count": 13,
          "metadata": {},
          "output_type": "execute_result"
        }
      ],
      "source": [
        "'   hello   !   '.rstrip()"
      ]
    },
    {
      "cell_type": "code",
      "execution_count": null,
      "metadata": {
        "colab": {
          "base_uri": "https://localhost:8080/",
          "height": 35
        },
        "id": "uC5iCreC6rsj",
        "outputId": "de320ca3-9dd9-416e-bcf9-3084417f0657"
      },
      "outputs": [
        {
          "data": {
            "application/vnd.google.colaboratory.intrinsic+json": {
              "type": "string"
            },
            "text/plain": [
              "'hello   !   '"
            ]
          },
          "execution_count": 14,
          "metadata": {},
          "output_type": "execute_result"
        }
      ],
      "source": [
        "'   hello   !   '.lstrip()"
      ]
    },
    {
      "cell_type": "code",
      "execution_count": null,
      "metadata": {
        "colab": {
          "base_uri": "https://localhost:8080/",
          "height": 35
        },
        "id": "M3UEvUPD6t9u",
        "outputId": "691f1687-7db8-4655-e3d6-9822ffc624a0"
      },
      "outputs": [
        {
          "data": {
            "application/vnd.google.colaboratory.intrinsic+json": {
              "type": "string"
            },
            "text/plain": [
              "'HELLO W@O@R@L@D HI'"
            ]
          },
          "execution_count": 19,
          "metadata": {},
          "output_type": "execute_result"
        }
      ],
      "source": [
        "# 별 5개 ★★★★★\n",
        "'hello world hi'.replace(' ','!')\n",
        "'hello world hi'.replace('world','W@O@R@L@D').upper()"
      ]
    },
    {
      "cell_type": "code",
      "execution_count": null,
      "metadata": {
        "colab": {
          "base_uri": "https://localhost:8080/"
        },
        "id": "w4CHtyy66_LG",
        "outputId": "d97da798-da8a-4ccf-a8bb-fb1fa145464d"
      },
      "outputs": [
        {
          "data": {
            "text/plain": [
              "['HELLO W', 'O', 'R', 'L', 'D HI']"
            ]
          },
          "execution_count": 20,
          "metadata": {},
          "output_type": "execute_result"
        }
      ],
      "source": [
        "'hello world hi'.replace('world','W@O@R@L@D').upper().split('@')\n",
        "# 반환값이 list이기 때문에 메서드 체이닝을 하려면 \n",
        "# 이후로 list 메서드를 사용해야 함"
      ]
    },
    {
      "cell_type": "code",
      "execution_count": null,
      "metadata": {
        "colab": {
          "base_uri": "https://localhost:8080/",
          "height": 35
        },
        "id": "67wvD4rv7bjg",
        "outputId": "2f84f090-3c20-47f3-a826-4cfcf1f497a9"
      },
      "outputs": [
        {
          "data": {
            "application/vnd.google.colaboratory.intrinsic+json": {
              "type": "string"
            },
            "text/plain": [
              "'\"++-+-+-\"'"
            ]
          },
          "execution_count": 33,
          "metadata": {},
          "output_type": "execute_result"
        }
      ],
      "source": [
        "data = '''  \"+ +-+ -+-\"  \n",
        "  \"++ -- +-+\"  \n",
        "  \"++-+ -+ -\"  \n",
        "  \"+ ++-+ -+\"  '''\n",
        "\n",
        "data.split('\\n')[0].replace(' ','').replace('\"','')\n",
        "\n",
        "# Pythonic하지 않다.\n",
        "\n",
        "data.split('\\n')[0].replace(' ',\n",
        "                '').replace('\"',\n",
        "                '')\n",
        "\n",
        "# Pythonic하게 하려면\n",
        "\n",
        "data.split('\\n')[0]\\\n",
        "                .replace(' ','')\\\n",
        "                .replace('\"','')\\\n",
        "                .replace('\"','')\\\n",
        "                .replace('\"','')\\\n",
        "                .replace('\"','')\\\n",
        "                .replace('\"','')\\\n",
        "                .replace('\"','')\\\n",
        "\n",
        "# 제가 사용하는 기법\n",
        "processed_string = data.split('\\n')[0].replace(' ','').replace('\"','')\n",
        "processed_string.replace('\"', '').replace('\"', '')"
      ]
    },
    {
      "cell_type": "code",
      "execution_count": null,
      "metadata": {
        "id": "d1LJBGdC-5pE"
      },
      "outputs": [],
      "source": [
        "# aaaaaaaaaaaaaaaaaaaaaaaaaaaaaaaaaaaaaaaaaaaaaaaaaaaaaaaaaaaaaaaaaaaaaaaaaaaaaaaa 영어는 79자 미만\n",
        "# 아아아아아아아아아아아아아아아아아아아아아아아아아아아아아아아아아아아아아아아아 한글은 39자 미만만"
      ]
    },
    {
      "cell_type": "code",
      "execution_count": null,
      "metadata": {
        "colab": {
          "base_uri": "https://localhost:8080/",
          "height": 35
        },
        "id": "McaAQOT4A9Yv",
        "outputId": "7abf9fa1-e73e-4a0c-9288-6d8cf4434fbb"
      },
      "outputs": [
        {
          "data": {
            "application/vnd.google.colaboratory.intrinsic+json": {
              "type": "string"
            },
            "text/plain": [
              "'j'"
            ]
          },
          "execution_count": 35,
          "metadata": {},
          "output_type": "execute_result"
        }
      ],
      "source": [
        "data = '''  \"+ +-+ -+-\"  \n",
        "  \"++ -- +-+\"  \n",
        "  \"++-+ -+ -\"  \n",
        "  \"+ ++-+ -+\"  '''\n",
        "\n",
        "ord('A'), chr(65) # ord는 문자를 가지고 숫자로 변경 chr은 숫자를 가지고 문자로 변경합니다.\n",
        "\n",
        "숫자 = data.split('\\n')[0].replace(' ','').replace('\"','').replace('+','1').replace('-','0')\n",
        "int(숫자,2)\n",
        "chr(int(숫자,2))"
      ]
    },
    {
      "cell_type": "code",
      "execution_count": null,
      "metadata": {
        "id": "8155YKTYBEWi"
      },
      "outputs": [],
      "source": [
        "# 아스키코드\n",
        "# A = 65 , a = 97\n",
        "# 90 다음에 영어 소문자로 바로 이어지지않음."
      ]
    },
    {
      "cell_type": "code",
      "execution_count": null,
      "metadata": {
        "colab": {
          "base_uri": "https://localhost:8080/"
        },
        "id": "gEy7LiKTCFkU",
        "outputId": "583f8df6-ac88-4502-9be0-f70d1195ec8f"
      },
      "outputs": [
        {
          "data": {
            "text/plain": [
              "['paullab', 'CEO', 'leehojun']"
            ]
          },
          "execution_count": 36,
          "metadata": {},
          "output_type": "execute_result"
        }
      ],
      "source": [
        "# 별 4.5개 ★★★★☆\n",
        "'paullab CEO kanghyunwoo'.split(' ') #문자열을 쪼개어 줍니다.\n",
        "'paullab!CEO!kanghyunwoo'.split('!')\n",
        "'paullab,CEO,kanghyunwoo'.split(',')"
      ]
    },
    {
      "cell_type": "code",
      "execution_count": null,
      "metadata": {
        "id": "9h_GM5PgCLFK"
      },
      "outputs": [],
      "source": [
        "'010 5044 2903'\n",
        "'010-5044-2903'\n",
        "'010 5044-2903'"
      ]
    },
    {
      "cell_type": "code",
      "execution_count": null,
      "metadata": {
        "id": "545fgtF9CfmZ"
      },
      "outputs": [],
      "source": [
        "['010','5044','2903']\n",
        "[010,5044,2903]"
      ]
    },
    {
      "cell_type": "code",
      "execution_count": null,
      "metadata": {
        "colab": {
          "base_uri": "https://localhost:8080/"
        },
        "id": "gvUbu3YPCuWE",
        "outputId": "ffe49bec-f65c-4d1f-9b87-0412888e0dfd"
      },
      "outputs": [
        {
          "data": {
            "text/plain": [
              "['010', '5044', '2903']"
            ]
          },
          "execution_count": 46,
          "metadata": {},
          "output_type": "execute_result"
        }
      ],
      "source": [
        "'010 5044 2903'.split(' ')\n",
        "'010-5044-2903'.split('-')\n",
        "'010 5044-2903'.replace('-',' ').split(' ')"
      ]
    },
    {
      "cell_type": "code",
      "execution_count": null,
      "metadata": {
        "colab": {
          "base_uri": "https://localhost:8080/"
        },
        "id": "MrXtw4xFELyv",
        "outputId": "04fd96f6-c212-4658-a3b5-7f4a84b9d43e"
      },
      "outputs": [
        {
          "data": {
            "text/plain": [
              "['010', '5044', '2903']"
            ]
          },
          "execution_count": 49,
          "metadata": {},
          "output_type": "execute_result"
        }
      ],
      "source": [
        "'010 5044 2903'.split(' ')"
      ]
    },
    {
      "cell_type": "code",
      "execution_count": null,
      "metadata": {
        "colab": {
          "base_uri": "https://localhost:8080/"
        },
        "id": "M1LkcJliEuqb",
        "outputId": "502998ad-1a46-45fa-8dbe-18b8aeaa5f7e"
      },
      "outputs": [
        {
          "data": {
            "text/plain": [
              "[10, 5044, 2903]"
            ]
          },
          "execution_count": 52,
          "metadata": {},
          "output_type": "execute_result"
        }
      ],
      "source": [
        "list(map(int, '010 5044 2903'.split(' ')))\n",
        "list(map(int, '010-5044-2903'.split('-')))\n",
        "list(map(int, '010 5044-2903'.replace('-',' ').split(' ')))"
      ]
    },
    {
      "cell_type": "code",
      "execution_count": null,
      "metadata": {
        "id": "uVrHbRJmM9F5"
      },
      "outputs": [],
      "source": [
        "num ='010 5044-2903'.replace('-',' ').split(' ')\n",
        "[int(i) for i in num] # 리스트 컴프리헨션 사용\n",
        "list(map(int, '010 5044 2903'.split(' ')))\n",
        "\n",
        "# 2개 모두 새로운 리스트를 만드는 것입니다.\n",
        "# 원본을 변경시키지 않습니다."
      ]
    },
    {
      "cell_type": "code",
      "execution_count": null,
      "metadata": {
        "id": "o6WEetwsEzhI"
      },
      "outputs": [],
      "source": [
        "# 지금 진도에서 과하기 때문에\n",
        "# 지금은 잊으셔도 됩니다. \n",
        "# 뒤에서 상세하게 다룹니다.\n",
        "def 제곱함수(x):\n",
        "    return x ** 2\n",
        "\n",
        "def 정수함수(x):\n",
        "    return int(x)\n",
        "\n",
        "list(map(제곱함수, [1, 2, 3]))\n",
        "list(map(정수함수, ['1', '2', '3']))\n",
        "list(map(int, ['1', '2', '3']))\n",
        "\n",
        "list(map(int, ['010', '5044', '2903']))\n",
        "list(map(int,'010 5044 2903'.split(' ')))"
      ]
    },
    {
      "cell_type": "code",
      "execution_count": null,
      "metadata": {
        "colab": {
          "base_uri": "https://localhost:8080/",
          "height": 35
        },
        "id": "L8JrgkwKHewa",
        "outputId": "3d9fba77-76b5-4258-e878-381812a32ff9"
      },
      "outputs": [
        {
          "data": {
            "application/vnd.google.colaboratory.intrinsic+json": {
              "type": "string"
            },
            "text/plain": [
              "'hello world hello'"
            ]
          },
          "execution_count": 56,
          "metadata": {},
          "output_type": "execute_result"
        }
      ],
      "source": [
        "# 별 4.5개 ★★★★☆\n",
        "\n",
        "'~'.join(['hello','world','hello'])\n",
        "'!'.join(['hello','world','hello'])\n",
        "''.join(['hello','world','hello'])\n",
        "' '.join(['hello','world','hello'])\n"
      ]
    },
    {
      "cell_type": "code",
      "execution_count": null,
      "metadata": {
        "colab": {
          "base_uri": "https://localhost:8080/"
        },
        "id": "90eZZtthHplH",
        "outputId": "074042da-5080-451f-b3f5-d3ca4bfd30f0"
      },
      "outputs": [
        {
          "data": {
            "text/plain": [
              "True"
            ]
          },
          "execution_count": 57,
          "metadata": {},
          "output_type": "execute_result"
        }
      ],
      "source": [
        "'hello'.isalpha()"
      ]
    },
    {
      "cell_type": "code",
      "execution_count": null,
      "metadata": {
        "colab": {
          "base_uri": "https://localhost:8080/"
        },
        "id": "uuC4ZK3DIBL-",
        "outputId": "1a9eef88-7bef-40dd-c673-cd0c22b4ae9c"
      },
      "outputs": [
        {
          "data": {
            "text/plain": [
              "False"
            ]
          },
          "execution_count": 58,
          "metadata": {},
          "output_type": "execute_result"
        }
      ],
      "source": [
        "'he llo'.isalpha()"
      ]
    },
    {
      "cell_type": "code",
      "execution_count": null,
      "metadata": {
        "colab": {
          "base_uri": "https://localhost:8080/"
        },
        "id": "ZhQT_rvrIHy3",
        "outputId": "0aed903c-dc5a-4d08-e4ff-97f61d1457ef"
      },
      "outputs": [
        {
          "data": {
            "text/plain": [
              "True"
            ]
          },
          "execution_count": 60,
          "metadata": {},
          "output_type": "execute_result"
        }
      ],
      "source": [
        "'123'.isdigit()"
      ]
    },
    {
      "cell_type": "code",
      "execution_count": null,
      "metadata": {
        "colab": {
          "base_uri": "https://localhost:8080/"
        },
        "id": "N5yVlbaNIKSl",
        "outputId": "5db640f4-7c51-418b-9513-14217feb2063"
      },
      "outputs": [
        {
          "data": {
            "text/plain": [
              "(False, False)"
            ]
          },
          "execution_count": 61,
          "metadata": {},
          "output_type": "execute_result"
        }
      ],
      "source": [
        "'12a3'.isdigit() , '12 3'.isdigit()"
      ]
    },
    {
      "cell_type": "code",
      "execution_count": null,
      "metadata": {
        "colab": {
          "base_uri": "https://localhost:8080/"
        },
        "id": "t0_AReHTIVc0",
        "outputId": "5dd5c4ec-9b16-4867-b170-ef6de0de82f0"
      },
      "outputs": [
        {
          "data": {
            "text/plain": [
              "(True, False)"
            ]
          },
          "execution_count": 62,
          "metadata": {},
          "output_type": "execute_result"
        }
      ],
      "source": [
        "'12a3'.isalnum() , '12 3'.isalnum()"
      ]
    },
    {
      "cell_type": "code",
      "execution_count": null,
      "metadata": {
        "colab": {
          "base_uri": "https://localhost:8080/"
        },
        "id": "JBFnra8cIeHV",
        "outputId": "8090ca16-ffc1-43c5-c893-73fea973b094"
      },
      "outputs": [
        {
          "data": {
            "text/plain": [
              "(False, False)"
            ]
          },
          "execution_count": 64,
          "metadata": {},
          "output_type": "execute_result"
        }
      ],
      "source": [
        "'안녕하세요!'.isalpha() , '안녕하세요!'.isalnum()"
      ]
    },
    {
      "cell_type": "code",
      "execution_count": null,
      "metadata": {
        "colab": {
          "base_uri": "https://localhost:8080/"
        },
        "id": "1SqoYvz1IlMo",
        "outputId": "1d8779e3-6922-4006-b2ae-4a3a8023055d"
      },
      "outputs": [
        {
          "name": "stdout",
          "output_type": "stream",
          "text": [
            "True\n",
            "True\n",
            "True\n",
            "False\n",
            "False\n",
            "False\n",
            "True\n",
            "True\n",
            "True\n",
            "False\n",
            "False\n",
            "False\n",
            "False\n",
            "False\n"
          ]
        },
        {
          "data": {
            "text/plain": [
              "18"
            ]
          },
          "execution_count": 71,
          "metadata": {},
          "output_type": "execute_result"
        }
      ],
      "source": [
        "# 퀴즈\n",
        "# 숫자를 모두 더하라\n",
        "\n",
        "result = 0\n",
        "\n",
        "for i in '123abc913sldlf':\n",
        "    # print(i.isdigit())\n",
        "    if i.isdigit():\n",
        "        result += int(i) # result = result + int(i)\n",
        "result"
      ]
    },
    {
      "cell_type": "code",
      "execution_count": null,
      "metadata": {
        "id": "U6ivPa2FJdTt"
      },
      "outputs": [],
      "source": [
        "result = 0\n",
        "for i in '123abc913sldlf':\n",
        "    if i.isdigit():\n",
        "        result += int(i)\n",
        "result"
      ]
    },
    {
      "cell_type": "code",
      "execution_count": null,
      "metadata": {
        "colab": {
          "base_uri": "https://localhost:8080/"
        },
        "id": "4kn-VMLlNyw4",
        "outputId": "068ad2e2-ca28-4579-9629-e6f1714d466b"
      },
      "outputs": [
        {
          "data": {
            "text/plain": [
              "True"
            ]
          },
          "execution_count": 72,
          "metadata": {},
          "output_type": "execute_result"
        }
      ],
      "source": [
        "'paullab CEO kanghyunwoo'.isascii()"
      ]
    },
    {
      "cell_type": "code",
      "execution_count": null,
      "metadata": {
        "colab": {
          "base_uri": "https://localhost:8080/",
          "height": 35
        },
        "id": "cAkWrE7bJoUB",
        "outputId": "e268d324-7f31-4d76-fdf6-2e0187daa772"
      },
      "outputs": [
        {
          "data": {
            "application/vnd.google.colaboratory.intrinsic+json": {
              "type": "string"
            },
            "text/plain": [
              "'     paullab CEO leehojun     '"
            ]
          },
          "execution_count": 73,
          "metadata": {},
          "output_type": "execute_result"
        }
      ],
      "source": [
        "'paullab CEO kanghyunwoo'.rjust(30) #오른쪽 정렬\n",
        "'paullab CEO kanghyunwoo'.ljust(30) #왼쪽 정렬\n",
        "'paullab CEO kanghyunwoo'.center(30)#가운데 정렬"
      ]
    },
    {
      "cell_type": "code",
      "execution_count": null,
      "metadata": {
        "colab": {
          "base_uri": "https://localhost:8080/",
          "height": 35
        },
        "id": "4UgmYa5aL8Yr",
        "outputId": "397b39c7-d410-4787-80d7-f8060c059454"
      },
      "outputs": [
        {
          "data": {
            "application/vnd.google.colaboratory.intrinsic+json": {
              "type": "string"
            },
            "text/plain": [
              "'000000000000000hello'"
            ]
          },
          "execution_count": 74,
          "metadata": {},
          "output_type": "execute_result"
        }
      ],
      "source": [
        "'hello'.zfill(20) # 데이터의 빈 공간을 0으로 채워줍니다."
      ]
    },
    {
      "cell_type": "code",
      "execution_count": null,
      "metadata": {
        "colab": {
          "base_uri": "https://localhost:8080/",
          "height": 35
        },
        "id": "hHS0w736OKe3",
        "outputId": "1240bade-768a-45c7-c189-c053f3117440"
      },
      "outputs": [
        {
          "data": {
            "application/vnd.google.colaboratory.intrinsic+json": {
              "type": "string"
            },
            "text/plain": [
              "'-----hello'"
            ]
          },
          "execution_count": 76,
          "metadata": {},
          "output_type": "execute_result"
        }
      ],
      "source": [
        "'1001'.zfill(5)\n",
        "'hello'.zfill(10).replace('0','-')"
      ]
    },
    {
      "cell_type": "code",
      "execution_count": null,
      "metadata": {
        "colab": {
          "base_uri": "https://localhost:8080/",
          "height": 35
        },
        "id": "wj6WMz_9OPgL",
        "outputId": "efa37012-663f-48e8-c325-9d722ca7c897"
      },
      "outputs": [
        {
          "data": {
            "application/vnd.google.colaboratory.intrinsic+json": {
              "type": "string"
            },
            "text/plain": [
              "'paullab  CEO  leehojun'"
            ]
          },
          "execution_count": 77,
          "metadata": {},
          "output_type": "execute_result"
        }
      ],
      "source": [
        "규칙테이블 = str.maketrans({'\\n':'', '\\t':''})\n",
        "'paullab \\n\\n\\n CEO \\t\\t\\t kanghyunwoo'.translate(규칙테이블)"
      ]
    },
    {
      "cell_type": "code",
      "execution_count": null,
      "metadata": {
        "colab": {
          "base_uri": "https://localhost:8080/",
          "height": 35
        },
        "id": "dpAZnMgMRkvx",
        "outputId": "8973eaac-5ada-47e0-f7fa-326af03bd5ed"
      },
      "outputs": [
        {
          "data": {
            "application/vnd.google.colaboratory.intrinsic+json": {
              "type": "string"
            },
            "text/plain": [
              "'paullab     CEO     leehojun'"
            ]
          },
          "execution_count": 81,
          "metadata": {},
          "output_type": "execute_result"
        }
      ],
      "source": [
        "규칙테이블 = str.maketrans('\\n\\t', '  ') # 똑같은 길이를 가지고 있어야 함\n",
        "'paullab \\n\\n\\n CEO \\t\\t\\t kanghyunwoo'.translate(규칙테이블)"
      ]
    },
    {
      "cell_type": "code",
      "execution_count": null,
      "metadata": {
        "colab": {
          "base_uri": "https://localhost:8080/",
          "height": 35
        },
        "id": "2bbe6cl8O73D",
        "outputId": "53d7eac6-e924-41ea-9f69-40ef2086e2cc"
      },
      "outputs": [
        {
          "data": {
            "application/vnd.google.colaboratory.intrinsic+json": {
              "type": "string"
            },
            "text/plain": [
              "'paullab  CEO  leehojun'"
            ]
          },
          "execution_count": 78,
          "metadata": {},
          "output_type": "execute_result"
        }
      ],
      "source": [
        "'paullab \\n\\n\\n CEO \\t\\t\\t kanghyunwoo'.replace('\\n', '').replace('\\t', '')"
      ]
    },
    {
      "attachments": {},
      "cell_type": "markdown",
      "metadata": {
        "id": "K4BuW4c8PRJY"
      },
      "source": [
        "## pep"
      ]
    },
    {
      "cell_type": "code",
      "execution_count": null,
      "metadata": {
        "id": "_kMShITZPX3l"
      },
      "outputs": [],
      "source": [
        "# aaaaaaaaaaaaaaaaaaaaaaaaaaaaaaaaaaaaaaaaaaaaaaaaaaaaaaaaaaaaaaaaaaaaaaaaaaaaaaaa => 80자\n",
        "# 아아아아아아아아아아아아아아아아아아아아아아아아아아아아아아아아아아아아아아아아아아 => 40자면 한글 넘어갑니다.\n",
        "# line에 딱 맞춰 들어간 것을 볼 수 있습니다. \n",
        "# 강제사항은 아닙니다.\n",
        "# 띄어쓰기 4번도 강제사항은 아닙니다.\n",
        "# pep8, pep 20에 기술되어 있습니다. => pep(Python Enhancement Proposal)란 무엇인가요? 8이란 무엇인가요?\n",
        "# pep8 : Style Guide for Python Code(https://peps.python.org/pep-0008/)\n",
        "# pep20 : The Zen of Python(https://peps.python.org/pep-0020/)\n",
        "# https://peps.python.org/"
      ]
    },
    {
      "attachments": {},
      "cell_type": "markdown",
      "metadata": {
        "id": "-_3bZV3GQnVF"
      },
      "source": [
        "## cpython\n",
        "\n",
        "* 공식홈페이지에서 다운로드 받는 것이 cpython 입니다.\n",
        "* https://github.com/python/cpython\n",
        "* list를 구현한 코드 : https://github.com/python/cpython/blob/main/Objects/listobject.c"
      ]
    },
    {
      "attachments": {},
      "cell_type": "markdown",
      "metadata": {
        "id": "VzEBo2ZWSabV"
      },
      "source": [
        "## 인덱싱과 슬라이싱"
      ]
    },
    {
      "cell_type": "code",
      "execution_count": null,
      "metadata": {
        "colab": {
          "base_uri": "https://localhost:8080/"
        },
        "id": "pp1-OWT7Rdvn",
        "outputId": "39d5eeed-c8c3-4b81-d639-1eb40a24caae"
      },
      "outputs": [
        {
          "name": "stdout",
          "output_type": "stream",
          "text": [
            "G\n",
            "u\n",
            "i\n"
          ]
        }
      ],
      "source": [
        "name = 'Guido van Rissum'\n",
        "print(name[0])\n",
        "print(name[1])\n",
        "print(name[2])"
      ]
    },
    {
      "cell_type": "code",
      "execution_count": null,
      "metadata": {
        "colab": {
          "base_uri": "https://localhost:8080/",
          "height": 35
        },
        "id": "6BpXCd9BSlBc",
        "outputId": "243105e8-0b69-4871-c8db-2739ef7f2f5c"
      },
      "outputs": [
        {
          "data": {
            "application/vnd.google.colaboratory.intrinsic+json": {
              "type": "string"
            },
            "text/plain": [
              "'pulbCOleou'"
            ]
          },
          "execution_count": 87,
          "metadata": {},
          "output_type": "execute_result"
        }
      ],
      "source": [
        "# s[start:stop:step]\n",
        "s = 'paullab CEO kanghyunwoo'\n",
        "s[5:]\n",
        "s[:5]\n",
        "s[3:10]\n",
        "s[:]\n",
        "s[0:20:2]"
      ]
    },
    {
      "cell_type": "code",
      "execution_count": null,
      "metadata": {
        "colab": {
          "base_uri": "https://localhost:8080/",
          "height": 35
        },
        "id": "NSZtE9SzTKM5",
        "outputId": "4fff8bfc-e21c-4775-c265-5fa0d620398e"
      },
      "outputs": [
        {
          "data": {
            "application/vnd.google.colaboratory.intrinsic+json": {
              "type": "string"
            },
            "text/plain": [
              "'paullab CEO leehojun'"
            ]
          },
          "execution_count": 93,
          "metadata": {},
          "output_type": "execute_result"
        }
      ],
      "source": [
        "# 자주 사용되는 코드\n",
        "s = 'paullab CEO kanghyunwoo.'\n",
        "s[:] # string에서는 많이 사용하지 않지만 list에서 많이 사용합니다.\n",
        "s[:-1] # 마지막 요소만 제외하고 다 슬라이싱 합니다."
      ]
    },
    {
      "cell_type": "code",
      "execution_count": null,
      "metadata": {
        "colab": {
          "base_uri": "https://localhost:8080/"
        },
        "id": "7AxrB3TKTe49",
        "outputId": "674f7947-ebe9-4d40-b795-988e40a8a3c6"
      },
      "outputs": [
        {
          "data": {
            "text/plain": [
              "([1000, 2, 3, 4], [1000, 2, 3, 4])"
            ]
          },
          "execution_count": 89,
          "metadata": {},
          "output_type": "execute_result"
        }
      ],
      "source": [
        "test = [1,2,3,4]\n",
        "test2 = test\n",
        "test2[0] = 1000\n",
        "test , test2"
      ]
    },
    {
      "cell_type": "code",
      "execution_count": null,
      "metadata": {
        "colab": {
          "base_uri": "https://localhost:8080/"
        },
        "id": "m3ZohLJvTuyt",
        "outputId": "43346a4f-c731-4893-fd09-f723402cdd84"
      },
      "outputs": [
        {
          "data": {
            "text/plain": [
              "([1, 2, 3, 4], [1000, 2, 3, 4])"
            ]
          },
          "execution_count": 90,
          "metadata": {},
          "output_type": "execute_result"
        }
      ],
      "source": [
        "test = [1,2,3,4]\n",
        "test2 = test[:] # 새로운 리스트를 만들어서 test2에게 줍니다.\n",
        "test2[0] = 1000\n",
        "test , test2"
      ]
    },
    {
      "attachments": {},
      "cell_type": "markdown",
      "metadata": {
        "id": "u1SORfYdUrYT"
      },
      "source": [
        "## 문자열의 연산"
      ]
    },
    {
      "cell_type": "code",
      "execution_count": null,
      "metadata": {
        "colab": {
          "base_uri": "https://localhost:8080/",
          "height": 35
        },
        "id": "LFyeNddKUkqP",
        "outputId": "1ea006f5-a27b-4057-ca31-d555381331e6"
      },
      "outputs": [
        {
          "data": {
            "application/vnd.google.colaboratory.intrinsic+json": {
              "type": "string"
            },
            "text/plain": [
              "'hello worldhello worldhello world'"
            ]
          },
          "execution_count": 94,
          "metadata": {},
          "output_type": "execute_result"
        }
      ],
      "source": [
        "s = 'hello world'\n",
        "dir(s)\n",
        "s + s\n",
        "s * 3"
      ]
    },
    {
      "attachments": {},
      "cell_type": "markdown",
      "metadata": {
        "id": "daCGmcs0UvCT"
      },
      "source": [
        "## 형변환"
      ]
    },
    {
      "attachments": {},
      "cell_type": "markdown",
      "metadata": {
        "id": "gwpQggAJWJ6x"
      },
      "source": [
        "* 형변환 : type을 변경하는 것입니다."
      ]
    },
    {
      "cell_type": "code",
      "execution_count": null,
      "metadata": {
        "id": "oAHmfEc9U2KF"
      },
      "outputs": [],
      "source": [
        "x = int(input())\n",
        "x + x # but 알파멧 입력하면 error"
      ]
    },
    {
      "cell_type": "code",
      "execution_count": null,
      "metadata": {
        "colab": {
          "base_uri": "https://localhost:8080/"
        },
        "id": "heoLMBoDVHbx",
        "outputId": "bc026db9-41e8-4423-ed02-60f422944bb0"
      },
      "outputs": [
        {
          "name": "stdout",
          "output_type": "stream",
          "text": [
            "123\n"
          ]
        },
        {
          "data": {
            "text/plain": [
              "246"
            ]
          },
          "execution_count": 97,
          "metadata": {},
          "output_type": "execute_result"
        }
      ],
      "source": [
        "x = input()\n",
        "if x.isdigit():\n",
        "    x = int(x)\n",
        "x + x "
      ]
    },
    {
      "cell_type": "code",
      "execution_count": null,
      "metadata": {
        "id": "-Zrz88dCVaBh"
      },
      "outputs": [],
      "source": [
        "# int('abc') # error\n",
        "int(10.1) # 버림\n",
        "int('10') # 형변환 가능\n",
        "# int('10.1') # 형변환 불가능"
      ]
    },
    {
      "cell_type": "code",
      "execution_count": null,
      "metadata": {
        "colab": {
          "base_uri": "https://localhost:8080/"
        },
        "id": "I23_mVBFVvwV",
        "outputId": "6c437698-ea0d-4155-ef1a-8511630f9968"
      },
      "outputs": [
        {
          "data": {
            "text/plain": [
              "10.1"
            ]
          },
          "execution_count": 101,
          "metadata": {},
          "output_type": "execute_result"
        }
      ],
      "source": [
        "float('10') # 형변환 가능\n",
        "float('10.1') # 형변환 가능\n"
      ]
    },
    {
      "cell_type": "code",
      "execution_count": null,
      "metadata": {
        "id": "PSEgkyDZV1jt"
      },
      "outputs": [],
      "source": [
        "int('10a') # 되는 언어가 있어서 보여드린 것입니다.\n",
        "# Python에서는 허용되지 않습니다."
      ]
    },
    {
      "cell_type": "code",
      "execution_count": null,
      "metadata": {
        "colab": {
          "base_uri": "https://localhost:8080/",
          "height": 35
        },
        "id": "sh4EcWk2WNRI",
        "outputId": "2ba29486-3815-4326-834f-0f9787dce1dc"
      },
      "outputs": [
        {
          "data": {
            "application/vnd.google.colaboratory.intrinsic+json": {
              "type": "string"
            },
            "text/plain": [
              "\"{'one': 1, 'two': 2}\""
            ]
          },
          "execution_count": 107,
          "metadata": {},
          "output_type": "execute_result"
        }
      ],
      "source": [
        "def hello():\n",
        "    pass\n",
        "\n",
        "str(type)\n",
        "str(hello)\n",
        "\n",
        "str('123')\n",
        "str(True)\n",
        "str(None)\n",
        "str([1,2,3])\n",
        "str({1,2,3})\n",
        "str({'one':1,'two':2})"
      ]
    },
    {
      "cell_type": "code",
      "execution_count": null,
      "metadata": {
        "colab": {
          "base_uri": "https://localhost:8080/"
        },
        "id": "d39aXZJKW4Sc",
        "outputId": "86d290af-5262-4e44-b725-2f64418cdabe"
      },
      "outputs": [
        {
          "name": "stdout",
          "output_type": "stream",
          "text": [
            "hi\n",
            "hi\n",
            "3\n",
            "2\n",
            "1\n"
          ]
        },
        {
          "data": {
            "text/plain": [
              "False"
            ]
          },
          "execution_count": 117,
          "metadata": {},
          "output_type": "execute_result"
        }
      ],
      "source": [
        "# 별 5개 ★★★★★\n",
        "# bool 형으로 형변환 하는 것\n",
        "if True:\n",
        "    print('hi')\n",
        "\n",
        "if 'hello':\n",
        "    print('hi')\n",
        "\n",
        "# 정말 많이 사용하는 코드\n",
        "l = [1,2,3]\n",
        "while l:\n",
        "    print(l.pop())\n",
        "\n",
        "bool('') # 빈 문자열을 제외하고 모두 True\n",
        "bool('a')\n",
        "bool('False') # 문자열 False이기 때문에 True\n",
        "bool(-1) # 0을 제외하고 모두 True\n",
        "bool(100)\n",
        "bool(None) # None은 비어있음을 명시해주는 키워드 , false\n",
        "bool([]) # 컨벤션 자료형은 비어있으면 False입니다.\n",
        "bool({}) "
      ]
    },
    {
      "cell_type": "code",
      "execution_count": null,
      "metadata": {
        "colab": {
          "base_uri": "https://localhost:8080/"
        },
        "id": "dN0JwE-hpiBQ",
        "outputId": "423d05fd-6566-42e1-f27b-c3ccb2474270"
      },
      "outputs": [
        {
          "data": {
            "text/plain": [
              "['1', '0']"
            ]
          },
          "execution_count": 118,
          "metadata": {},
          "output_type": "execute_result"
        }
      ],
      "source": [
        "# list로 형변환\n",
        "s = '10'\n",
        "l = list(s)\n",
        "l"
      ]
    },
    {
      "cell_type": "code",
      "execution_count": null,
      "metadata": {
        "colab": {
          "base_uri": "https://localhost:8080/"
        },
        "id": "UHicYDn-ptQ4",
        "outputId": "d21bc388-29a1-4eba-b6fd-9ceb1c32a19f"
      },
      "outputs": [
        {
          "data": {
            "text/plain": [
              "['k', 'a', 'n', 'g', 'h', 'y', 'u', 'n', 'w', 'o', 'o']"
            ]
          },
          "execution_count": 119,
          "metadata": {},
          "output_type": "execute_result"
        }
      ],
      "source": [
        "s = 'kanghyunwoo'\n",
        "l = list(s)\n",
        "l"
      ]
    },
    {
      "cell_type": "code",
      "execution_count": null,
      "metadata": {
        "colab": {
          "base_uri": "https://localhost:8080/"
        },
        "id": "5Zd8z4qWpxKl",
        "outputId": "03ae562d-97f6-4e4c-886f-180a420bc98f"
      },
      "outputs": [
        {
          "data": {
            "text/plain": [
              "('1', '0')"
            ]
          },
          "execution_count": 120,
          "metadata": {},
          "output_type": "execute_result"
        }
      ],
      "source": [
        "# tuple로 형변환\n",
        "s = '10'\n",
        "l = tuple(s)\n",
        "l"
      ]
    },
    {
      "cell_type": "code",
      "execution_count": null,
      "metadata": {
        "colab": {
          "base_uri": "https://localhost:8080/"
        },
        "id": "Cm0wGHHMp4MV",
        "outputId": "c8567a79-b5ae-4342-f96e-a70f6de293df"
      },
      "outputs": [
        {
          "data": {
            "text/plain": [
              "{'name': 'kanghyunwoo', 'age': 10}"
            ]
          },
          "execution_count": 121,
          "metadata": {},
          "output_type": "execute_result"
        }
      ],
      "source": [
        "# dict\n",
        "# name = 'kanghyunwoo' # error\n",
        "# dict(name)\n",
        "\n",
        "s = [('name','kanghyunwoo'),('age',10)]\n",
        "d = dict(s)\n",
        "d"
      ]
    },
    {
      "cell_type": "code",
      "execution_count": null,
      "metadata": {
        "colab": {
          "base_uri": "https://localhost:8080/"
        },
        "id": "tFTa4p6yqPkW",
        "outputId": "c390924c-a496-46d6-f635-bd7a59496376"
      },
      "outputs": [
        {
          "data": {
            "text/plain": [
              "{'a', 'g', 'h', 'k', 'n', 'o', 'u', 'w', 'y'}"
            ]
          },
          "execution_count": 122,
          "metadata": {},
          "output_type": "execute_result"
        }
      ],
      "source": [
        "# set(집합)으로 형변환\n",
        "name = 'kanghyunwoo'\n",
        "set(name)"
      ]
    },
    {
      "cell_type": "code",
      "execution_count": null,
      "metadata": {
        "colab": {
          "base_uri": "https://localhost:8080/"
        },
        "id": "C8AL0YX8qd0j",
        "outputId": "138b07b5-6bfb-432c-99c0-c610bf9209f9"
      },
      "outputs": [
        {
          "data": {
            "text/plain": [
              "4"
            ]
          },
          "execution_count": 124,
          "metadata": {},
          "output_type": "execute_result"
        }
      ],
      "source": [
        "len('hello world') # __len__\n",
        "len([1,2,3,4])"
      ]
    },
    {
      "attachments": {},
      "cell_type": "markdown",
      "metadata": {
        "id": "ia-ZtrAEtBK8"
      },
      "source": [
        "## !! 문제풀이"
      ]
    },
    {
      "cell_type": "code",
      "execution_count": null,
      "metadata": {
        "colab": {
          "base_uri": "https://localhost:8080/"
        },
        "id": "K5wGpENErSMD",
        "outputId": "bb348ab3-73db-4dad-ec38-0944ee16abd8"
      },
      "outputs": [
        {
          "name": "stdout",
          "output_type": "stream",
          "text": [
            "ads\n",
            "adsads\n"
          ]
        }
      ],
      "source": [
        "# 2번\n",
        "x = input()\n",
        "print(x*2)"
      ]
    },
    {
      "cell_type": "code",
      "execution_count": null,
      "metadata": {
        "colab": {
          "base_uri": "https://localhost:8080/",
          "height": 35
        },
        "id": "peSs68kZsNu9",
        "outputId": "233e1b8c-4150-431f-a895-d0a5a7594aee"
      },
      "outputs": [
        {
          "data": {
            "application/vnd.google.colaboratory.intrinsic+json": {
              "type": "string"
            },
            "text/plain": [
              "'4'"
            ]
          },
          "execution_count": 1,
          "metadata": {},
          "output_type": "execute_result"
        }
      ],
      "source": [
        "# 3번\n",
        "num = 1234567890\n",
        "list(str(num))\n",
        "list(str(num))[3]"
      ]
    },
    {
      "attachments": {},
      "cell_type": "markdown",
      "metadata": {
        "id": "8j5q3O-Xs-iQ"
      },
      "source": [
        "## 산술연산"
      ]
    },
    {
      "cell_type": "code",
      "execution_count": null,
      "metadata": {
        "colab": {
          "base_uri": "https://localhost:8080/"
        },
        "id": "C4A4596Vs-JH",
        "outputId": "97315178-f01e-497f-f84e-8621438228a3"
      },
      "outputs": [
        {
          "name": "stdout",
          "output_type": "stream",
          "text": [
            "10 + 3 == 13\n",
            "10 - 3 == 7\n",
            "10 / 3 == 3.3333333333333335\n",
            "10 // 3 == 3\n",
            "10 * 3 == 30\n",
            "10 ** 3 == 1000\n",
            "10 % 3 == 1\n"
          ]
        }
      ],
      "source": [
        "a = 10\n",
        "b = 3\n",
        "\n",
        "print(f'10 + 3 == {a + b}')\n",
        "print(f'10 - 3 == {a - b}')\n",
        "print(f'10 / 3 == {a / b}')\n",
        "print(f'10 // 3 == {a // b}') # 몫만 나옵니다. (정수만)\n",
        "print(f'10 * 3 == {a * b}')\n",
        "print(f'10 ** 3 == {a ** b}')\n",
        "print(f'10 % 3 == {a % b}') # 나머지 / 나머지가 0인 경우 배수다."
      ]
    },
    {
      "cell_type": "code",
      "execution_count": null,
      "metadata": {
        "colab": {
          "base_uri": "https://localhost:8080/"
        },
        "id": "NlzPK2Yat7Is",
        "outputId": "b4a5bac4-c2a3-49d7-fadb-5070076676c5"
      },
      "outputs": [
        {
          "name": "stdout",
          "output_type": "stream",
          "text": [
            "27\n",
            "27\n"
          ]
        }
      ],
      "source": [
        "# 연산자 우선순위는 and, or, 4칙연산, 제곱 정도만 아셔도 \n",
        "# 코딩하는데 큰 무리가 없습니다.\n",
        "# (모르시면 읽는데 어려움이 생기기도 합니다.)\n",
        "\n",
        "print(3 ** 2 * 3)\n",
        "print(3 * 3 ** 2)\n",
        "# 곱하기 보다 제곱이 우선 순위가 더 높다.\n",
        "print(3 + 3 * 2) # 3 + 3부터 먼저 하지 않습니다."
      ]
    },
    {
      "cell_type": "code",
      "execution_count": null,
      "metadata": {
        "colab": {
          "base_uri": "https://localhost:8080/"
        },
        "id": "EbXAZ4xMu8KK",
        "outputId": "23a36d14-ef2f-45ae-b293-c05e8795b98f"
      },
      "outputs": [
        {
          "name": "stdout",
          "output_type": "stream",
          "text": [
            "10 > 3 == True\n",
            "10 >= 3 == True\n",
            "10 < 3 == False\n",
            "10 <= 3 == False\n",
            "10 == 3 == False\n",
            "10 != 3 == True\n"
          ]
        }
      ],
      "source": [
        "a = 10\n",
        "b = 3\n",
        "\n",
        "print(f'10 > 3 == {a > b}')\n",
        "print(f'10 >= 3 == {a >= b}')\n",
        "print(f'10 < 3 == {a < b}')\n",
        "print(f'10 <= 3 == {a <= b}')\n",
        "print(f'10 == 3 == {a == b}')\n",
        "print(f'10 != 3 == {a != b}')"
      ]
    },
    {
      "attachments": {},
      "cell_type": "markdown",
      "metadata": {
        "id": "OJwg0k6jvVFu"
      },
      "source": [
        "## 논리연산"
      ]
    },
    {
      "cell_type": "code",
      "execution_count": null,
      "metadata": {
        "id": "E_HClUBTvXEi"
      },
      "outputs": [],
      "source": [
        "# and 는 곱\n",
        "# or 는 합\n",
        "# not 은 반대\n",
        "# True 1\n",
        "# False 0\n",
        "# 중요한 포인트는 저렇게 했을 때때 언제 True가 되는지 정리하는 것\n",
        "\n",
        "print(True and False)\n",
        "print(True or False)\n",
        "print(True or True)\n",
        "\n",
        "if True and False:\n",
        "    print('hello')\n",
        "\n",
        "if 10 > 3 and 8 % 3 ==0:\n",
        "    print('hello')\n",
        "\n",
        "# and는 언제 True가 되나요?\n",
        "# 모두 True일 때\n",
        "# or는 언제 True가 되나요?\n",
        "# 둘 중에 하나라도 참이라면 True"
      ]
    },
    {
      "cell_type": "code",
      "execution_count": null,
      "metadata": {
        "colab": {
          "base_uri": "https://localhost:8080/"
        },
        "id": "woBr_cqiwpeb",
        "outputId": "54e44def-745e-47a1-ff38-e90f813fb27d"
      },
      "outputs": [
        {
          "name": "stdout",
          "output_type": "stream",
          "text": [
            "0\n",
            "15\n",
            "30\n",
            "45\n",
            "60\n",
            "75\n",
            "90\n"
          ]
        }
      ],
      "source": [
        "# https://codingdojang.com/scode/350?answer_mode=hide\n",
        "for i in range(101):\n",
        "    if i % 3 == 0 and i % 5 == 0 :\n",
        "        print(i)"
      ]
    },
    {
      "cell_type": "code",
      "execution_count": null,
      "metadata": {
        "colab": {
          "base_uri": "https://localhost:8080/"
        },
        "id": "7NnXZEMWxP3a",
        "outputId": "423c07f8-f42e-40c5-e902-0ce13e5d1a94"
      },
      "outputs": [
        {
          "name": "stdout",
          "output_type": "stream",
          "text": [
            "0\n",
            "3\n",
            "5\n",
            "6\n",
            "9\n",
            "10\n",
            "12\n",
            "15\n",
            "18\n",
            "20\n",
            "21\n",
            "24\n",
            "25\n",
            "27\n",
            "30\n",
            "33\n",
            "35\n",
            "36\n",
            "39\n",
            "40\n",
            "42\n",
            "45\n",
            "48\n",
            "50\n",
            "51\n",
            "54\n",
            "55\n",
            "57\n",
            "60\n",
            "63\n",
            "65\n",
            "66\n",
            "69\n",
            "70\n",
            "72\n",
            "75\n",
            "78\n",
            "80\n",
            "81\n",
            "84\n",
            "85\n",
            "87\n",
            "90\n",
            "93\n",
            "95\n",
            "96\n",
            "99\n",
            "100\n"
          ]
        }
      ],
      "source": [
        "for i in range(101):\n",
        "    if i % 3 == 0 or i % 5 == 0 :\n",
        "        print(i)"
      ]
    },
    {
      "cell_type": "code",
      "execution_count": null,
      "metadata": {
        "colab": {
          "base_uri": "https://localhost:8080/"
        },
        "id": "51odOwmPxl4z",
        "outputId": "120a2d57-5796-4361-f723-0afaa43bad79"
      },
      "outputs": [
        {
          "name": "stdout",
          "output_type": "stream",
          "text": [
            "2418\n"
          ]
        }
      ],
      "source": [
        "result = 0\n",
        "for i in range(101):\n",
        "    if i % 3 == 0:\n",
        "        result += i # result = result + i\n",
        "    if i % 5 == 0:\n",
        "        result += i\n",
        "    if i % 15 == 0:\n",
        "        result -= i\n",
        "print(result)"
      ]
    },
    {
      "cell_type": "code",
      "execution_count": null,
      "metadata": {
        "colab": {
          "base_uri": "https://localhost:8080/"
        },
        "id": "Zu8w5WVUycBd",
        "outputId": "f84a3cb8-bc7e-4f5a-f324-82e15a46d314"
      },
      "outputs": [
        {
          "data": {
            "text/plain": [
              "2418"
            ]
          },
          "execution_count": 12,
          "metadata": {},
          "output_type": "execute_result"
        }
      ],
      "source": [
        "result = 0\n",
        "for i in range(101):\n",
        "    if i % 3 == 0 or i % 5 == 0:\n",
        "        result += i\n",
        "result"
      ]
    },
    {
      "cell_type": "code",
      "execution_count": null,
      "metadata": {
        "colab": {
          "base_uri": "https://localhost:8080/"
        },
        "id": "KErY6Wo_yfdS",
        "outputId": "c0394e71-d159-4426-a07e-95520517396f"
      },
      "outputs": [
        {
          "data": {
            "text/plain": [
              "False"
            ]
          },
          "execution_count": 13,
          "metadata": {},
          "output_type": "execute_result"
        }
      ],
      "source": [
        "not True"
      ]
    },
    {
      "cell_type": "code",
      "execution_count": null,
      "metadata": {
        "colab": {
          "base_uri": "https://localhost:8080/"
        },
        "id": "DOlGubRSyh1j",
        "outputId": "45182b57-aa4f-4a34-9c2b-855e484ddc95"
      },
      "outputs": [
        {
          "data": {
            "text/plain": [
              "True"
            ]
          },
          "execution_count": 14,
          "metadata": {},
          "output_type": "execute_result"
        }
      ],
      "source": [
        "not False"
      ]
    },
    {
      "cell_type": "code",
      "execution_count": null,
      "metadata": {
        "id": "w4n_P4rqyqZA"
      },
      "outputs": [],
      "source": [
        "# Python 입장에서 보는 코드\n",
        "# False and ?????? => 물음표에 무엇이 나오는 False\n",
        "# 그래서 Python도 저 물음표를 보지 않습니다.\n",
        "\n",
        "def solution():\n",
        "    1/0\n",
        "if False and solution():\n",
        "    print('hello')"
      ]
    },
    {
      "cell_type": "code",
      "execution_count": null,
      "metadata": {
        "colab": {
          "base_uri": "https://localhost:8080/"
        },
        "id": "lJmJ4ElX2APD",
        "outputId": "bdbace0d-ad31-454d-d097-18f7b21b1a41"
      },
      "outputs": [
        {
          "name": "stdout",
          "output_type": "stream",
          "text": [
            "hello\n"
          ]
        }
      ],
      "source": [
        "# True or ???? => 물음표에 무엇이 나오든 True\n",
        "# 그래서 Python도 저 물음표를 보지 않습니다.\n",
        "\n",
        "def solution():\n",
        "    1/0\n",
        "if True or solution():\n",
        "    print('hello')"
      ]
    },
    {
      "cell_type": "code",
      "execution_count": null,
      "metadata": {
        "colab": {
          "base_uri": "https://localhost:8080/",
          "height": 35
        },
        "id": "_uD3olcE2LL0",
        "outputId": "26aaa3a0-1b67-479c-a98e-4aea19632bf3"
      },
      "outputs": [
        {
          "data": {
            "application/vnd.google.colaboratory.intrinsic+json": {
              "type": "string"
            },
            "text/plain": [
              "'licat'"
            ]
          },
          "execution_count": 18,
          "metadata": {},
          "output_type": "execute_result"
        }
      ],
      "source": [
        "# 단락 평가(컴퓨터가 어디까지 보는지 판단해서 활용)\n",
        "username = '' #사용자가 아무것도 입력하지 않았을 경우\n",
        "username = username or 'licat'\n",
        "username"
      ]
    },
    {
      "cell_type": "code",
      "execution_count": null,
      "metadata": {
        "colab": {
          "base_uri": "https://localhost:8080/",
          "height": 35
        },
        "id": "LiC0LwB42b-y",
        "outputId": "00028327-a558-4c4a-c0fd-fc0d14a42e47"
      },
      "outputs": [
        {
          "data": {
            "application/vnd.google.colaboratory.intrinsic+json": {
              "type": "string"
            },
            "text/plain": [
              "'kanghyunwoo'"
            ]
          },
          "execution_count": 20,
          "metadata": {},
          "output_type": "execute_result"
        }
      ],
      "source": [
        "username = 'kanghyunwoo' #사용자가 이름을 입력했을 경우\n",
        "username = username or 'licat'\n",
        "username"
      ]
    },
    {
      "cell_type": "code",
      "execution_count": null,
      "metadata": {
        "colab": {
          "base_uri": "https://localhost:8080/"
        },
        "id": "us6J32pJ2s5N",
        "outputId": "ba0027af-2a18-4245-cd5a-e3ffa4cf4b3d"
      },
      "outputs": [
        {
          "name": "stdout",
          "output_type": "stream",
          "text": [
            "0\n",
            "2\n",
            "4\n",
            "6\n",
            "8\n",
            "10\n",
            "12\n",
            "14\n",
            "15\n",
            "16\n",
            "18\n",
            "20\n",
            "0\n",
            "2\n",
            "4\n",
            "6\n",
            "8\n",
            "10\n",
            "12\n",
            "14\n",
            "15\n",
            "16\n",
            "18\n",
            "20\n"
          ]
        }
      ],
      "source": [
        "# and와 or의 우선순위(and가 더 높습니다.)\n",
        "for i in range(21):\n",
        "    if i % 3 == 0 and i % 5 == 0 or i % 2 == 0:\n",
        "        print(i)\n",
        "\n",
        "for i in range(21):\n",
        "    if (i % 3 == 0 and i % 5 == 0) or i % 2 == 0:\n",
        "        print(i)"
      ]
    },
    {
      "cell_type": "code",
      "execution_count": null,
      "metadata": {
        "colab": {
          "base_uri": "https://localhost:8080/"
        },
        "id": "0GF12d1i3A_O",
        "outputId": "30717709-314e-46aa-8ab2-97cdaf6d76e7"
      },
      "outputs": [
        {
          "name": "stdout",
          "output_type": "stream",
          "text": [
            "0\n",
            "3\n",
            "6\n",
            "9\n",
            "10\n",
            "0\n",
            "3\n",
            "6\n",
            "9\n",
            "10\n"
          ]
        }
      ],
      "source": [
        "# 헷갈리면 () 사용용\n",
        "for i in range(11):\n",
        "    if (i % 3 == 0 or i % 5 == 0) and i % 2 == 0:\n",
        "        print(i)\n",
        "\n",
        "for i in range(11):\n",
        "    if i % 3 == 0 or i % 5 == 0 and i % 2 == 0:\n",
        "        print(i)"
      ]
    },
    {
      "attachments": {},
      "cell_type": "markdown",
      "metadata": {
        "id": "yfGOdKkU4F0-"
      },
      "source": [
        "## 비트연산 (중요도 하)"
      ]
    },
    {
      "cell_type": "code",
      "execution_count": null,
      "metadata": {
        "id": "u-lGVHi_4H2M"
      },
      "outputs": [],
      "source": [
        "# and ( 곱하기 )\n",
        "# 1001 == 9\n",
        "# 0010 == 2\n",
        "# ----\n",
        "# 0000"
      ]
    },
    {
      "cell_type": "code",
      "execution_count": null,
      "metadata": {
        "id": "HtHNlgO64qLf"
      },
      "outputs": [],
      "source": [
        "9 & 2\n"
      ]
    },
    {
      "cell_type": "code",
      "execution_count": null,
      "metadata": {
        "id": "g9TVzoZ94v2N"
      },
      "outputs": [],
      "source": [
        "# 1001 == 9\n",
        "# 1000 == 8\n",
        "# ----\n",
        "# 1000"
      ]
    },
    {
      "cell_type": "code",
      "execution_count": null,
      "metadata": {
        "id": "1FJOFrm948-c"
      },
      "outputs": [],
      "source": [
        "9 & 8"
      ]
    },
    {
      "cell_type": "code",
      "execution_count": null,
      "metadata": {
        "colab": {
          "base_uri": "https://localhost:8080/"
        },
        "id": "tk92zkNY5kAH",
        "outputId": "16f1d89c-0b42-466a-be3a-d5813e228f79"
      },
      "outputs": [
        {
          "data": {
            "text/plain": [
              "11"
            ]
          },
          "execution_count": 26,
          "metadata": {},
          "output_type": "execute_result"
        }
      ],
      "source": [
        "# or ( 더하기 , 대신 자리올림이 되진 않습니다. )\n",
        "# 1001 == 9\n",
        "# 0011 == 3\n",
        "# ----\n",
        "# 1011\n",
        "\n",
        "9 | 3"
      ]
    },
    {
      "cell_type": "code",
      "execution_count": null,
      "metadata": {
        "colab": {
          "base_uri": "https://localhost:8080/"
        },
        "id": "33Bt4EqZ57a8",
        "outputId": "67e73a30-3760-4db7-da2d-48076cff9e82"
      },
      "outputs": [
        {
          "data": {
            "text/plain": [
              "10"
            ]
          },
          "execution_count": 27,
          "metadata": {},
          "output_type": "execute_result"
        }
      ],
      "source": [
        "# xor (같을 경우 0 , 다를 경우 1)\n",
        "# 1001 == 9\n",
        "# 0011 == 3\n",
        "# ----\n",
        "# 1010 \n",
        "9 ^ 3"
      ]
    },
    {
      "cell_type": "code",
      "execution_count": null,
      "metadata": {
        "colab": {
          "base_uri": "https://localhost:8080/"
        },
        "id": "_cK75ps86Kvv",
        "outputId": "53bb99f3-d1ad-499c-dcc2-e69f2ddf2223"
      },
      "outputs": [
        {
          "data": {
            "text/plain": [
              "6"
            ]
          },
          "execution_count": 29,
          "metadata": {},
          "output_type": "execute_result"
        }
      ],
      "source": [
        "~9 # 2보수를 취하는 것입니다. (9에게 +1한 다음에 -를 취하시면 됩니다. ex) -(9+1) )\n",
        "~-7 # 2보수를 취하는 것입니다. (-7에게 +1한 다음에 -를 취하시면 됩니다.)"
      ]
    },
    {
      "cell_type": "code",
      "execution_count": null,
      "metadata": {
        "colab": {
          "base_uri": "https://localhost:8080/"
        },
        "id": "7bi6OhIX6uXj",
        "outputId": "d414ab9f-6d72-49f5-ae22-1b754cbdab57"
      },
      "outputs": [
        {
          "data": {
            "text/plain": [
              "12"
            ]
          },
          "execution_count": 30,
          "metadata": {},
          "output_type": "execute_result"
        }
      ],
      "source": [
        "3 << 2 \n",
        "# 3을 2진수로 표현하면 11인데 2칸을 왼쪽으로 미는 것입니다.\n",
        "# 1100"
      ]
    },
    {
      "cell_type": "code",
      "execution_count": null,
      "metadata": {
        "colab": {
          "base_uri": "https://localhost:8080/"
        },
        "id": "D1J3iTz47mRn",
        "outputId": "374d084e-917c-48b8-bacd-3430b02b8bfd"
      },
      "outputs": [
        {
          "data": {
            "text/plain": [
              "1"
            ]
          },
          "execution_count": 31,
          "metadata": {},
          "output_type": "execute_result"
        }
      ],
      "source": [
        "7 >> 2"
      ]
    },
    {
      "attachments": {},
      "cell_type": "markdown",
      "metadata": {
        "id": "fBbTWbI57JYo"
      },
      "source": [
        "## 디스코드 단축키\n",
        "\n",
        "* :ok"
      ]
    },
    {
      "attachments": {},
      "cell_type": "markdown",
      "metadata": {
        "id": "en2bLGDh73Ks"
      },
      "source": [
        "## 할당연산"
      ]
    },
    {
      "cell_type": "code",
      "execution_count": null,
      "metadata": {
        "colab": {
          "base_uri": "https://localhost:8080/"
        },
        "id": "WXnJsAPA76dp",
        "outputId": "61d961f7-a0a1-4cc8-b33d-60e9e5fef78a"
      },
      "outputs": [
        {
          "data": {
            "text/plain": [
              "10"
            ]
          },
          "execution_count": 33,
          "metadata": {},
          "output_type": "execute_result"
        }
      ],
      "source": [
        "a = 10\n",
        "a = a + 10\n",
        "a = + 10 # 이렇게 a를 지우면 양수를 표현하는 10만 남는다.\n",
        "a"
      ]
    },
    {
      "cell_type": "code",
      "execution_count": null,
      "metadata": {
        "colab": {
          "base_uri": "https://localhost:8080/"
        },
        "id": "q3dZ_KZP8UFg",
        "outputId": "67a9ec44-661e-4197-dcbd-b78b0e19bdad"
      },
      "outputs": [
        {
          "data": {
            "text/plain": [
              "20"
            ]
          },
          "execution_count": 34,
          "metadata": {},
          "output_type": "execute_result"
        }
      ],
      "source": [
        "a = 10\n",
        "a += 10 # a = a + 10\n",
        "a"
      ]
    },
    {
      "cell_type": "code",
      "execution_count": null,
      "metadata": {
        "id": "Y8jlbqss8-y5"
      },
      "outputs": [],
      "source": [
        "a = 10\n",
        "a //= 10 # 산술연산 모두 됩니다.\n",
        "a"
      ]
    },
    {
      "cell_type": "code",
      "execution_count": null,
      "metadata": {
        "id": "6cZgJcag9UTG"
      },
      "outputs": [],
      "source": [
        "# Python에서 특이하게 ++a, ++b , a++ , b++ 가 없습니다."
      ]
    },
    {
      "attachments": {},
      "cell_type": "markdown",
      "metadata": {
        "id": "I2g8toR89j2E"
      },
      "source": [
        "## 식별연산자"
      ]
    },
    {
      "cell_type": "code",
      "execution_count": null,
      "metadata": {
        "id": "KXJr5f729l9F"
      },
      "outputs": [],
      "source": [
        "# 앞으로 아래 2개를 활용해서 Python에\n",
        "# 컨벤션 자료형이 어떻게 구성이되는지 확인해볼겁니다.\n",
        "# id()\n",
        "# is"
      ]
    },
    {
      "cell_type": "code",
      "execution_count": null,
      "metadata": {
        "colab": {
          "base_uri": "https://localhost:8080/"
        },
        "id": "5HHVY-aq95jT",
        "outputId": "b7d0e154-ebe6-475f-e683-7936ba59392a"
      },
      "outputs": [
        {
          "data": {
            "text/plain": [
              "True"
            ]
          },
          "execution_count": 37,
          "metadata": {},
          "output_type": "execute_result"
        }
      ],
      "source": [
        "a = 256\n",
        "b = 256\n",
        "a is b"
      ]
    },
    {
      "cell_type": "code",
      "execution_count": null,
      "metadata": {
        "colab": {
          "base_uri": "https://localhost:8080/"
        },
        "id": "cvIMZwrP9xqs",
        "outputId": "5f5d4b2f-7c69-4cfd-b2a6-2e3159ccf0b0"
      },
      "outputs": [
        {
          "data": {
            "text/plain": [
              "False"
            ]
          },
          "execution_count": 38,
          "metadata": {},
          "output_type": "execute_result"
        }
      ],
      "source": [
        "a = 999\n",
        "b = 999\n",
        "a is b"
      ]
    },
    {
      "cell_type": "code",
      "execution_count": null,
      "metadata": {
        "colab": {
          "base_uri": "https://localhost:8080/"
        },
        "id": "8PxitOSH97Xn",
        "outputId": "2c1580b9-6035-46ea-d8e7-bd587ec0c46e"
      },
      "outputs": [
        {
          "data": {
            "text/plain": [
              "False"
            ]
          },
          "execution_count": 41,
          "metadata": {},
          "output_type": "execute_result"
        }
      ],
      "source": [
        "a = [1,2,3]\n",
        "b = [1,2,3]\n",
        "a is b"
      ]
    },
    {
      "cell_type": "code",
      "execution_count": null,
      "metadata": {
        "colab": {
          "base_uri": "https://localhost:8080/"
        },
        "id": "odk_MJ9R-qU9",
        "outputId": "bfe1acb7-8c5c-4673-f335-0b50c97ae164"
      },
      "outputs": [
        {
          "data": {
            "text/plain": [
              "([100, 2, 3], [1, 2, 3])"
            ]
          },
          "execution_count": 42,
          "metadata": {},
          "output_type": "execute_result"
        }
      ],
      "source": [
        "a[0] = 100\n",
        "a, b"
      ]
    },
    {
      "cell_type": "code",
      "execution_count": null,
      "metadata": {
        "colab": {
          "base_uri": "https://localhost:8080/"
        },
        "id": "5PA3ITF5-ELL",
        "outputId": "6c0396ec-78a6-4863-bd0b-e4a93869ca07"
      },
      "outputs": [
        {
          "data": {
            "text/plain": [
              "True"
            ]
          },
          "execution_count": 44,
          "metadata": {},
          "output_type": "execute_result"
        }
      ],
      "source": [
        "a = [1,2,3]\n",
        "b = [1,2,3]\n",
        "a == b # Python에 등호는 type과 value를 봅니다."
      ]
    },
    {
      "cell_type": "code",
      "execution_count": null,
      "metadata": {
        "colab": {
          "base_uri": "https://localhost:8080/"
        },
        "id": "Ph4lfLgh_P4J",
        "outputId": "f2abf13e-08c7-47bf-aa86-ce3b8db4e908"
      },
      "outputs": [
        {
          "data": {
            "text/plain": [
              "False"
            ]
          },
          "execution_count": 48,
          "metadata": {},
          "output_type": "execute_result"
        }
      ],
      "source": [
        "# is는 주소값을 비교합니다.\n",
        "id(a) == id(b) # 이게 False면 is도 False입니다."
      ]
    },
    {
      "attachments": {},
      "cell_type": "markdown",
      "metadata": {
        "id": "onmgyZlb-0KT"
      },
      "source": [
        "## not의 위치"
      ]
    },
    {
      "cell_type": "code",
      "execution_count": null,
      "metadata": {
        "colab": {
          "base_uri": "https://localhost:8080/"
        },
        "id": "CvoQQBsL-3sp",
        "outputId": "60026a2a-bda7-49e4-f019-d7ded0e593dd"
      },
      "outputs": [
        {
          "data": {
            "text/plain": [
              "True"
            ]
          },
          "execution_count": 45,
          "metadata": {},
          "output_type": "execute_result"
        }
      ],
      "source": [
        "a = 10\n",
        "b = 100\n",
        "a is not b\n",
        "# a not is b # error"
      ]
    },
    {
      "cell_type": "code",
      "execution_count": null,
      "metadata": {
        "colab": {
          "base_uri": "https://localhost:8080/"
        },
        "id": "KdiMg13A-ytA",
        "outputId": "56d8fb31-22c9-4026-812c-800061b67601"
      },
      "outputs": [
        {
          "data": {
            "text/plain": [
              "False"
            ]
          },
          "execution_count": 47,
          "metadata": {},
          "output_type": "execute_result"
        }
      ],
      "source": [
        "a = 10\n",
        "b = [10,20,30]\n",
        "a not in b"
      ]
    },
    {
      "attachments": {},
      "cell_type": "markdown",
      "metadata": {
        "id": "NARJvplU_hb9"
      },
      "source": [
        "## 멤버연산"
      ]
    },
    {
      "cell_type": "code",
      "execution_count": null,
      "metadata": {
        "colab": {
          "base_uri": "https://localhost:8080/"
        },
        "id": "7IsiC4Gt_hDQ",
        "outputId": "8e04ee26-fc5e-455b-d901-3de0644ccda4"
      },
      "outputs": [
        {
          "data": {
            "text/plain": [
              "True"
            ]
          },
          "execution_count": 55,
          "metadata": {},
          "output_type": "execute_result"
        }
      ],
      "source": [
        "'a' in 'hello a world'\n",
        "'a' in 'hello world'\n",
        "'a' in ['a','b']\n",
        "'a' in {'a':10,'b':20}\n",
        "# 10 in {'a':10, 'b':20} # dict안에 있는 value값이 있는지 확인하고 싶으면\n",
        "10 in {'a':10 , 'b':20}.values()\n",
        "10 in {10,20,30}"
      ]
    },
    {
      "cell_type": "code",
      "execution_count": null,
      "metadata": {
        "colab": {
          "base_uri": "https://localhost:8080/"
        },
        "id": "bBgUl745AIcr",
        "outputId": "137bd37d-9262-4f55-b126-9fe61731a535"
      },
      "outputs": [
        {
          "data": {
            "text/plain": [
              "True"
            ]
          },
          "execution_count": 54,
          "metadata": {},
          "output_type": "execute_result"
        }
      ],
      "source": [
        "'a' not in ['aa','bb']"
      ]
    },
    {
      "cell_type": "code",
      "execution_count": null,
      "metadata": {
        "colab": {
          "base_uri": "https://localhost:8080/"
        },
        "id": "-nTZrGXOAbTu",
        "outputId": "61a744db-dd79-4e60-9d03-1c1eb0f2ee5f"
      },
      "outputs": [
        {
          "data": {
            "text/plain": [
              "True"
            ]
          },
          "execution_count": 58,
          "metadata": {},
          "output_type": "execute_result"
        }
      ],
      "source": [
        "10 in [10, 20, 30]\n",
        "[10] in [10,20,30]\n",
        "[10] in [[10],20,30]\n",
        "[10,20] in [10,20,30]\n",
        "[10,20] in [[10,20],30]"
      ]
    },
    {
      "attachments": {},
      "cell_type": "markdown",
      "metadata": {
        "id": "4mYhxsQKD_WT"
      },
      "source": [
        "## !! 연습문제"
      ]
    },
    {
      "cell_type": "code",
      "execution_count": null,
      "metadata": {
        "id": "-lYb79ycEK8V"
      },
      "outputs": [],
      "source": [
        "#1번\n",
        "# (a > 100) and (a < 200) = False\n",
        "# (a > 100) or (a < 200) = True\n",
        "# (a >= 100) and (a <= 200) = True\n",
        "# (a >= 100) or (a <= 200) = True"
      ]
    },
    {
      "cell_type": "code",
      "execution_count": null,
      "metadata": {
        "id": "F-4E3VH5EK0u"
      },
      "outputs": [],
      "source": [
        "#2번\n",
        "# b = 25\n",
        "# (b % 2 == 0) and (b % 5 == 0) = False"
      ]
    },
    {
      "cell_type": "code",
      "execution_count": null,
      "metadata": {
        "id": "yaEZHpnLEKsZ"
      },
      "outputs": [],
      "source": [
        "#3번\n",
        "# c = 1000\n",
        "# c // 100 = 10"
      ]
    },
    {
      "cell_type": "code",
      "execution_count": null,
      "metadata": {
        "colab": {
          "base_uri": "https://localhost:8080/"
        },
        "id": "AUrEXpYeEKdo",
        "outputId": "43d022ff-4da4-4b57-f9fc-b840450c02e6"
      },
      "outputs": [
        {
          "name": "stdout",
          "output_type": "stream",
          "text": [
            "13500\n",
            "2 3 1 0\n"
          ]
        }
      ],
      "source": [
        "#4번\n",
        "# 그리디 알고리즘(욕심쟁이 알고리즘)\n",
        "\n",
        "user_input = input()\n",
        "price = int(user_input)\n",
        "\n",
        "fts = price // 5000\n",
        "price = price % 5000\n",
        "\n",
        "ts = price // 1000\n",
        "price = price % 1000\n",
        "\n",
        "fws = price // 500\n",
        "price = price % 500\n",
        "\n",
        "ws = price // 100\n",
        "\n",
        "print(fts,ts,fws,ws)"
      ]
    },
    {
      "attachments": {},
      "cell_type": "markdown",
      "metadata": {
        "id": "IUgTOwmo8Fda"
      },
      "source": [
        "## 함수"
      ]
    },
    {
      "attachments": {},
      "cell_type": "markdown",
      "metadata": {
        "id": "-NupdFPd8Jdn"
      },
      "source": [
        "1. 코드를 재사용 할 수 있으며 , 실수를 줄일 수 있습니다.\n",
        "2. 코드의 구조를 한 눈에 파악할 수 있습니다."
      ]
    },
    {
      "cell_type": "code",
      "execution_count": null,
      "metadata": {
        "id": "ppJ1OC808QRJ"
      },
      "outputs": [],
      "source": [
        "def 부지매입():\n",
        "    pass\n",
        "\n",
        "def 설계도면작성():\n",
        "    pass\n",
        "\n",
        "def 인력모집():\n",
        "    pass\n",
        "\n",
        "def 벽돌쌓기():\n",
        "    pass\n",
        "\n",
        "def 지붕올리기():\n",
        "    pass\n",
        "\n",
        "# 건축 또는 집짓기?\n",
        "# 신입사원이 왔을 때\n",
        "# 3년에 한 번 이직\n",
        "# 7년에 한번 이직\n",
        "# 오래 있으신 분들\n",
        "부지매입()\n",
        "설계도면작성()\n",
        "인력모집()\n",
        "벽돌쌓기()\n",
        "지붕올리기()"
      ]
    },
    {
      "cell_type": "code",
      "execution_count": null,
      "metadata": {
        "id": "BpVw7ESm-lr6"
      },
      "outputs": [],
      "source": [
        "# 파선아실(파라미터는 선언할 때, 아규먼트는 실제)\n",
        "\n",
        "def function(x, y):\n",
        "    z = x + y\n",
        "    return z\n",
        "    \n",
        "print(f'function(5, 7) = {function(5, 7)}')"
      ]
    },
    {
      "cell_type": "code",
      "execution_count": null,
      "metadata": {
        "colab": {
          "base_uri": "https://localhost:8080/"
        },
        "id": "p-_lvC6Q_w21",
        "outputId": "6bcdb91d-3318-499b-ff9d-6fddf031c95a"
      },
      "outputs": [
        {
          "name": "stdout",
          "output_type": "stream",
          "text": [
            "function(5, 7) = None\n"
          ]
        }
      ],
      "source": [
        "# 같은 코드 1\n",
        "\n",
        "def function(x, y):\n",
        "    z = x + y\n",
        "    \n",
        "print(f'function(5, 7) = {function(5, 7)}')"
      ]
    },
    {
      "cell_type": "code",
      "execution_count": null,
      "metadata": {
        "colab": {
          "base_uri": "https://localhost:8080/"
        },
        "id": "mfoVU4N__xE0",
        "outputId": "60b5c8f3-afe0-4753-e778-dfec1bda7a46"
      },
      "outputs": [
        {
          "name": "stdout",
          "output_type": "stream",
          "text": [
            "function(5, 7) = None\n"
          ]
        }
      ],
      "source": [
        "# 같은 코드 2\n",
        "\n",
        "def function(x, y):\n",
        "    z = x + y\n",
        "    return None\n",
        "    \n",
        "print(f'function(5, 7) = {function(5, 7)}')"
      ]
    },
    {
      "cell_type": "code",
      "execution_count": null,
      "metadata": {
        "colab": {
          "base_uri": "https://localhost:8080/"
        },
        "id": "hKNnQkQS_0Y0",
        "outputId": "340a1d8b-f24b-41d5-a815-7565b22b59d4"
      },
      "outputs": [
        {
          "name": "stdout",
          "output_type": "stream",
          "text": [
            "function(5, 7) = None\n"
          ]
        }
      ],
      "source": [
        "# 같은 코드 3\n",
        "\n",
        "def function(x, y):\n",
        "    z = x + y\n",
        "    return\n",
        "    \n",
        "print(f'function(5, 7) = {function(5, 7)}')"
      ]
    },
    {
      "cell_type": "code",
      "execution_count": null,
      "metadata": {
        "id": "xduXji8I-l-V"
      },
      "outputs": [],
      "source": [
        "def hello():\n",
        "    print(1)\n",
        "    print(2)\n",
        "    print(3)\n",
        "\n",
        "print(hello())"
      ]
    },
    {
      "cell_type": "code",
      "execution_count": null,
      "metadata": {
        "colab": {
          "base_uri": "https://localhost:8080/"
        },
        "id": "vr7ipQsQAhQ5",
        "outputId": "7813f851-aba0-46f5-d93e-479e4dd270b0"
      },
      "outputs": [
        {
          "name": "stdout",
          "output_type": "stream",
          "text": [
            "two1\n",
            "two2\n",
            "one1\n",
            "one2\n",
            "one3\n",
            "None\n"
          ]
        }
      ],
      "source": [
        "def one():\n",
        "    print('one1')\n",
        "    print('one2')\n",
        "    print('one3')\n",
        "    return 100\n",
        "\n",
        "def two():\n",
        "    print('two1')\n",
        "    print('two2')\n",
        "    one()\n",
        "    return \n",
        "\n",
        "print(two())"
      ]
    },
    {
      "cell_type": "code",
      "execution_count": null,
      "metadata": {
        "id": "jo7pwVdDBgKO"
      },
      "outputs": [],
      "source": [
        "# 함수 연습문제 2\n",
        "def one():\n",
        "    print('one1')\n",
        "    print('one2')\n",
        "    print('one3')\n",
        "    return 100\n",
        "\n",
        "def two():\n",
        "    print('two1')\n",
        "    print('two2')\n",
        "    x = one()\n",
        "    return x + x\n",
        "\n",
        "print(two())"
      ]
    },
    {
      "cell_type": "code",
      "execution_count": null,
      "metadata": {
        "id": "-5BEnOh5CRuC"
      },
      "outputs": [],
      "source": [
        "# 함수 연습문제 3\n",
        "def one(a,b):\n",
        "    print('one1')\n",
        "    print('one2')\n",
        "    print('one3')\n",
        "    return a+b\n",
        "\n",
        "def two(x):\n",
        "    y = 100\n",
        "    print('two1')\n",
        "    print('two2')\n",
        "    x = one(x,y)\n",
        "    return x + x\n",
        "\n",
        "print(two(10))"
      ]
    },
    {
      "cell_type": "code",
      "execution_count": null,
      "metadata": {
        "colab": {
          "base_uri": "https://localhost:8080/"
        },
        "id": "8Ip6O4eFDxUK",
        "outputId": "4a9093f5-424c-4fab-c1d6-edf4968b8186"
      },
      "outputs": [
        {
          "name": "stdout",
          "output_type": "stream",
          "text": [
            "one\n",
            "two\n",
            "three\n",
            "20\n",
            "30\n"
          ]
        }
      ],
      "source": [
        "# 함수 연습문제 4\n",
        "def one():\n",
        "    print('one')\n",
        "    return 10\n",
        "\n",
        "def two():\n",
        "    print('two')\n",
        "    return 10\n",
        "\n",
        "def three():\n",
        "    print('three')\n",
        "    return 10\n",
        "\n",
        "a = one()\n",
        "b = two()\n",
        "c = three()\n",
        "\n",
        "print(a + b)\n",
        "print(a + b + c)"
      ]
    },
    {
      "cell_type": "code",
      "execution_count": null,
      "metadata": {
        "id": "X1BNpWrlFXhD"
      },
      "outputs": [],
      "source": [
        "# 함수 연습문제 4\n",
        "# 좋지 않은 예시입니다.\n",
        "def one():\n",
        "    print('one')\n",
        "    return 10\n",
        "\n",
        "def two():\n",
        "    print('two')\n",
        "    return 10\n",
        "\n",
        "def three():\n",
        "    print('three')\n",
        "    return 10\n",
        "\n",
        "a = one()\n",
        "b = two()\n",
        "c = three()\n",
        "\n",
        "print(one() + two())\n",
        "print(one() + two() + three())"
      ]
    },
    {
      "cell_type": "code",
      "execution_count": null,
      "metadata": {
        "colab": {
          "base_uri": "https://localhost:8080/"
        },
        "id": "q1GR2jScIzQE",
        "outputId": "4894fef1-8ef5-4e9f-9e68-8d303c2b9deb"
      },
      "outputs": [
        {
          "name": "stdout",
          "output_type": "stream",
          "text": [
            "hello\n"
          ]
        }
      ],
      "source": [
        "# 함수란 무엇일까요?\n",
        "# 함수의 이름은 메모리 상에 코드 블럭을 가리키는 변수입니다.\n",
        "kanghyunwoo = print\n",
        "kanghyunwoo('hello') # 소괄호가 그 함수 블록을 실행시키는 명령어가 됩니다."
      ]
    },
    {
      "cell_type": "code",
      "execution_count": null,
      "metadata": {
        "colab": {
          "base_uri": "https://localhost:8080/"
        },
        "id": "M6enIGiJJbNt",
        "outputId": "853da9b1-d4d1-4a4f-9d0b-e1cab6a39f72"
      },
      "outputs": [
        {
          "data": {
            "text/plain": [
              "(140534840825136, 140534840825136)"
            ]
          },
          "execution_count": 11,
          "metadata": {},
          "output_type": "execute_result"
        }
      ],
      "source": [
        "id(kanghyunwoo) , id(print)"
      ]
    },
    {
      "cell_type": "code",
      "execution_count": null,
      "metadata": {
        "colab": {
          "base_uri": "https://localhost:8080/"
        },
        "id": "X-Ybjdp0JpBT",
        "outputId": "23d5bcad-9277-4bfc-89f1-c4b013e79ca3"
      },
      "outputs": [
        {
          "name": "stdout",
          "output_type": "stream",
          "text": [
            "hello world\n",
            "hello world\n"
          ]
        }
      ],
      "source": [
        "l = [kanghyunwoo , print ,kanghyunwoo , print]\n",
        "kanghyunwoo('hello world')\n",
        "l[0]('hello world')"
      ]
    },
    {
      "cell_type": "code",
      "execution_count": null,
      "metadata": {
        "colab": {
          "base_uri": "https://localhost:8080/"
        },
        "id": "W7qhZUxPJ5oS",
        "outputId": "563df3bf-2e08-4629-a62d-9c149d1ac943"
      },
      "outputs": [
        {
          "name": "stdout",
          "output_type": "stream",
          "text": [
            "hello\n",
            "hello\n",
            "hello\n",
            "None\n"
          ]
        }
      ],
      "source": [
        "def hello(a):\n",
        "    a('hello')\n",
        "    a('hello')\n",
        "    a('hello')\n",
        "\n",
        "print(hello(print))"
      ]
    },
    {
      "cell_type": "code",
      "execution_count": null,
      "metadata": {
        "colab": {
          "base_uri": "https://localhost:8080/"
        },
        "id": "lEyXZ-WbKWZu",
        "outputId": "49b8d635-dc17-4b55-9b65-5f58647720de"
      },
      "outputs": [
        {
          "data": {
            "text/plain": [
              "110"
            ]
          },
          "execution_count": 15,
          "metadata": {},
          "output_type": "execute_result"
        }
      ],
      "source": [
        "def hello():\n",
        "    def custom_sum(a,b):\n",
        "        return a + b\n",
        "    return custom_sum\n",
        "\n",
        "c = hello()\n",
        "c(100,10)"
      ]
    },
    {
      "cell_type": "code",
      "execution_count": null,
      "metadata": {
        "colab": {
          "base_uri": "https://localhost:8080/"
        },
        "id": "X34UWACTL30k",
        "outputId": "4d75ef1c-a28f-4907-d3df-bf5d9c20a72a"
      },
      "outputs": [
        {
          "name": "stdout",
          "output_type": "stream",
          "text": [
            "10 100\n"
          ]
        }
      ],
      "source": [
        "def hello(a):\n",
        "    return a\n",
        "\n",
        "c = hello(print)\n",
        "c(10,100)"
      ]
    },
    {
      "attachments": {},
      "cell_type": "markdown",
      "metadata": {
        "id": "-RAw-tjhMKnX"
      },
      "source": [
        "![image.png](data:image/png;base64,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)"
      ]
    },
    {
      "attachments": {},
      "cell_type": "markdown",
      "metadata": {
        "id": "LE1C-il-Mg3H"
      },
      "source": [
        "## 함수의 기본 기능"
      ]
    },
    {
      "cell_type": "code",
      "execution_count": null,
      "metadata": {
        "id": "JY9XchiFMc-U"
      },
      "outputs": [],
      "source": [
        "# 파선아실(파라미터는 선언할 때, 아규먼트는 실제)\n",
        "def function(x, y):\n",
        "    z = x + y\n",
        "    return z\n",
        "print(f'function(5, 7) = {function(5, 7)}')"
      ]
    },
    {
      "cell_type": "code",
      "execution_count": null,
      "metadata": {
        "id": "Sq6MYsu4OGzM"
      },
      "outputs": [],
      "source": [
        "# return을 만나게 되면 함수는 종료가 됩니다.\n",
        "def function(x, y):\n",
        "    z = x + y\n",
        "    return z\n",
        "    print('hello')\n",
        "    print('hello')\n",
        "print(function(5, 7))"
      ]
    },
    {
      "cell_type": "code",
      "execution_count": null,
      "metadata": {
        "colab": {
          "base_uri": "https://localhost:8080/"
        },
        "id": "hrFYczlSNwjj",
        "outputId": "f5560a3d-f67b-4bd5-8ad7-e6366c2701ac"
      },
      "outputs": [
        {
          "name": "stdout",
          "output_type": "stream",
          "text": [
            "연산할 수 없습니다.\n"
          ]
        }
      ],
      "source": [
        "# return을 빨리 만나게 해주세요.\n",
        "# early return\n",
        "# 조건이 부합하지 않으면 바로 return을 하도록 하는 코딩 패턴\n",
        "# 이렇게 작성함으로써, 가독성이 좋은 코드\n",
        "def custom_sum(x, y):\n",
        "    if type(x) != int or type(y) != int:\n",
        "        return '연산할 수 없습니다.'\n",
        "    z = x + y # 100줄이라 가정\n",
        "    return z\n",
        "print(custom_sum(5, 'abc'))"
      ]
    },
    {
      "cell_type": "code",
      "execution_count": null,
      "metadata": {
        "id": "hl-KecKWO1vj"
      },
      "outputs": [],
      "source": [
        "# 한글코딩에 장점\n",
        "# 1. 고유명사(한라산, 새싹멤버)\n",
        "# 2. 알고리즘 가독성이 괜찮습니다. 프로젝트는 조금 힘들 수 있어요. 일부 모듈에서는 사용할 수 있습니다.\n",
        "\n",
        "# 한글코딩에 단점\n",
        "# 1. 싫어하시는 분도 많습니다.\n",
        "# 2. 한영키 바꾸는 것것"
      ]
    },
    {
      "cell_type": "code",
      "execution_count": null,
      "metadata": {
        "id": "PCE5VhGWQ0dK"
      },
      "outputs": [],
      "source": [
        "# 함수 안에 함수\n",
        "def one():\n",
        "    def two():\n",
        "        print('hello1')\n",
        "    def three():\n",
        "        print('hello2')\n",
        "    return 100\n",
        "\n",
        "print(one())"
      ]
    },
    {
      "cell_type": "code",
      "execution_count": null,
      "metadata": {
        "id": "XFQRftCaQU-x"
      },
      "outputs": [],
      "source": [
        "def one():\n",
        "    def two():\n",
        "        print('hello1')\n",
        "    def three():\n",
        "        print('hello2')\n",
        "    two()\n",
        "    three()\n",
        "    return 100\n",
        "\n",
        "print(one())"
      ]
    },
    {
      "cell_type": "code",
      "execution_count": null,
      "metadata": {
        "id": "ba4o4qvsRMor"
      },
      "outputs": [],
      "source": [
        "# 함수 안에 함수와 함수 안에 변수는 밖에서 호출이 안됩니다.\n",
        "# 아래것이 만약 실행되었다면 위 어딘가에서 two와 x가 정의되어 있는 것입니다.\n",
        "def one():\n",
        "    def two():\n",
        "        print('hello1')\n",
        "    def three():\n",
        "        print('hello2')\n",
        "    two()\n",
        "    three()\n",
        "    x = 1000\n",
        "    return 100\n",
        "\n",
        "one()\n",
        "print(x)\n",
        "two()"
      ]
    },
    {
      "cell_type": "code",
      "execution_count": null,
      "metadata": {
        "colab": {
          "base_uri": "https://localhost:8080/"
        },
        "id": "mPmpv87kRt0m",
        "outputId": "c1d3667c-c63c-4914-9cd5-fdc7f1e5012d"
      },
      "outputs": [
        {
          "name": "stdout",
          "output_type": "stream",
          "text": [
            "test\n",
            "test\n",
            "test\n"
          ]
        }
      ],
      "source": [
        "# 함수 안에 함수와 함수 안에 변수를 해봤으니\n",
        "# 이번에는 함수 밖에 함수와 함수 밖에 변수를 해보도록 하겠습니다.\n",
        "\n",
        "def test():\n",
        "    print('test')\n",
        "\n",
        "def one():\n",
        "    test()\n",
        "\n",
        "def two():\n",
        "    test()\n",
        "\n",
        "one()\n",
        "two()\n",
        "test()"
      ]
    },
    {
      "cell_type": "code",
      "execution_count": null,
      "metadata": {
        "id": "eIOr5fGZScbI"
      },
      "outputs": [],
      "source": [
        "# 위 원리와 마찬가지로 밖에 있는 변수를 '가져오는 것만' 가능합니다.\n",
        "# 수정은 안됩니다.\n",
        "test = 10\n",
        "\n",
        "def one():\n",
        "    print(test)\n",
        "\n",
        "def two():\n",
        "    print(test)\n",
        "\n",
        "one()\n",
        "two()"
      ]
    },
    {
      "cell_type": "code",
      "execution_count": null,
      "metadata": {
        "id": "2u2_5QhzS0ky"
      },
      "outputs": [],
      "source": [
        "# 이렇게 하시면 error가 납니다!. 밖에 있는 변수는 수정이 안됩니다.\n",
        "test = 10\n",
        "\n",
        "def one():\n",
        "    test = test +10\n",
        "\n",
        "one()"
      ]
    },
    {
      "attachments": {},
      "cell_type": "markdown",
      "metadata": {
        "id": "5AYiRo9RS97g"
      },
      "source": [
        "## 지역 변수와 전역 변수"
      ]
    },
    {
      "cell_type": "code",
      "execution_count": null,
      "metadata": {
        "id": "UyJB94p6TATZ"
      },
      "outputs": [],
      "source": [
        "# 전역변수 # 접근은 가능하지만 수정이 되진 않습니다.\n",
        "a = 100\n",
        "def f():\n",
        "    a = a + 1\n",
        "f()"
      ]
    },
    {
      "cell_type": "code",
      "execution_count": null,
      "metadata": {
        "colab": {
          "base_uri": "https://localhost:8080/"
        },
        "id": "hUBvSSykXLxQ",
        "outputId": "c71f836b-e27c-43d1-e54f-c765a56d67c4"
      },
      "outputs": [
        {
          "name": "stdout",
          "output_type": "stream",
          "text": [
            "101\n"
          ]
        }
      ],
      "source": [
        "# 전역변수를 함수 내부에서 수정이 되게 하는 코드입니다.\n",
        "# 권하지 않습니다.\n",
        "a = 100\n",
        "\n",
        "def f():\n",
        "    global a # 실무에서는 사용 안합니다.\n",
        "    a = a + 1\n",
        "f()\n",
        "print(a)"
      ]
    },
    {
      "cell_type": "code",
      "execution_count": null,
      "metadata": {
        "colab": {
          "base_uri": "https://localhost:8080/"
        },
        "id": "VpHd7nkkXlCx",
        "outputId": "2faf65ab-c8df-4a50-aaa7-d20ef87ccfc4"
      },
      "outputs": [
        {
          "name": "stdout",
          "output_type": "stream",
          "text": [
            "101\n"
          ]
        }
      ],
      "source": [
        "# 정해진 루트 외에 다른 루트로 해당 값을 수정하려고 하지 마세요.\n",
        "a = 100\n",
        "\n",
        "def f(x):\n",
        "    x = x +1\n",
        "    return x\n",
        "a = f(a)\n",
        "print(a)"
      ]
    },
    {
      "cell_type": "code",
      "execution_count": null,
      "metadata": {
        "colab": {
          "base_uri": "https://localhost:8080/"
        },
        "id": "YjIf572PX5iL",
        "outputId": "7b11ba5b-484d-4db3-aabd-310241a742ed"
      },
      "outputs": [
        {
          "data": {
            "text/plain": [
              "140"
            ]
          },
          "execution_count": 4,
          "metadata": {},
          "output_type": "execute_result"
        }
      ],
      "source": [
        "# 순수 함수 # 내부에 있는 아규먼트만 이용\n",
        "def f(x):\n",
        "    return x + x + 100\n",
        "f(10)\n",
        "f(20)\n",
        "# 아규먼트 값에 따라 다르지만\n",
        "# 20에 2배해서 100이 더해진다는 사실은 변하지 않죠?"
      ]
    },
    {
      "cell_type": "code",
      "execution_count": null,
      "metadata": {
        "colab": {
          "base_uri": "https://localhost:8080/"
        },
        "id": "JmtoXgMDYU-i",
        "outputId": "93952221-35ee-4579-a2b7-49d0071993f7"
      },
      "outputs": [
        {
          "data": {
            "text/plain": [
              "220"
            ]
          },
          "execution_count": 5,
          "metadata": {},
          "output_type": "execute_result"
        }
      ],
      "source": [
        "test = 100\n",
        "\n",
        "def f(x):\n",
        "    return x + x + 100 + test\n",
        "\n",
        "f(10)\n",
        "# 아규먼트 값에 따라 다르지만\n",
        "# 20에 2배해서 100이 더해진다는 사실은 변하지 않죠?\n",
        "# 그렇지 않습니다. test값이 다른 곳에서 조작이 되면\n",
        "# 더해지는 값이 200이 안될 수도 있다.\n",
        "# 예측이 불가하게 되는 것"
      ]
    },
    {
      "cell_type": "code",
      "execution_count": null,
      "metadata": {
        "id": "j5BxVrU8Y1AF"
      },
      "outputs": [],
      "source": [
        "# 지역변수 와 전역변수 이어서\n",
        "# 전역변수 : 전역에서 접근할 수 있는 변수\n",
        "# 지역변수 : 함수 내에서만 접근할 수 있는 변수수"
      ]
    },
    {
      "cell_type": "code",
      "execution_count": null,
      "metadata": {
        "colab": {
          "base_uri": "https://localhost:8080/"
        },
        "id": "SyZgt6dKZLNO",
        "outputId": "8fcc2634-8a63-4401-93d1-145f8a3328b8"
      },
      "outputs": [
        {
          "name": "stdout",
          "output_type": "stream",
          "text": [
            "10\n",
            "100\n"
          ]
        }
      ],
      "source": [
        "a = 100\n",
        "def one():\n",
        "    a = 10\n",
        "    print(a)\n",
        "\n",
        "one()\n",
        "print(a)"
      ]
    },
    {
      "cell_type": "code",
      "execution_count": null,
      "metadata": {
        "colab": {
          "base_uri": "https://localhost:8080/"
        },
        "id": "KQzF72L7ZzHM",
        "outputId": "293c39a8-7698-4134-80a3-a692baa4a5aa"
      },
      "outputs": [
        {
          "name": "stdout",
          "output_type": "stream",
          "text": [
            "1000\n",
            "10\n",
            "10\n",
            "100\n"
          ]
        }
      ],
      "source": [
        "# 어려우신 분들은 pass\n",
        "# 조금 있다가 요약정리에서도 써드리지 않을 예정입니다.\n",
        "# 자신의 공간에 변수가 선언되어 있지 않으면\n",
        "# 전역까지 찾아 올라갑니다. 전역에도 없으면 error\n",
        "a = 100\n",
        "def one():\n",
        "    a = 10\n",
        "    def two():\n",
        "        def three():\n",
        "            a = 1000\n",
        "            print(a)\n",
        "        three()\n",
        "        print(a)\n",
        "    two()\n",
        "    print(a)\n",
        "\n",
        "one()\n",
        "print(a)"
      ]
    },
    {
      "cell_type": "code",
      "execution_count": null,
      "metadata": {
        "colab": {
          "base_uri": "https://localhost:8080/"
        },
        "id": "IASlMLDmbSOX",
        "outputId": "3b0a9658-81a8-4d07-e024-31215091ba04"
      },
      "outputs": [
        {
          "name": "stdout",
          "output_type": "stream",
          "text": [
            "2\n",
            "2\n",
            "100\n"
          ]
        }
      ],
      "source": [
        "# inner가 outer에 변수를 건드리고 싶은데\n",
        "# inner 안에서는 x의 수정권한이 전혀 없습니다.\n",
        "\n",
        "x = 100\n",
        "def outer():\n",
        "    x = 1\n",
        "    def inner():\n",
        "        nonlocal x\n",
        "        x += 1\n",
        "        print(x)\n",
        "    inner()\n",
        "    print(x)\n",
        "\n",
        "outer()\n",
        "print(x)"
      ]
    },
    {
      "cell_type": "code",
      "execution_count": null,
      "metadata": {
        "colab": {
          "base_uri": "https://localhost:8080/"
        },
        "id": "Y9xsV7__b3um",
        "outputId": "4f1b0551-4215-4818-dec1-5fabe03b5417"
      },
      "outputs": [
        {
          "name": "stdout",
          "output_type": "stream",
          "text": [
            "101\n",
            "1\n",
            "101\n"
          ]
        }
      ],
      "source": [
        "x = 100\n",
        "def outer():\n",
        "    x = 1\n",
        "    def inner():\n",
        "        global x\n",
        "        x += 1\n",
        "        print(x)\n",
        "    inner()\n",
        "    print(x)\n",
        "\n",
        "outer()\n",
        "print(x)"
      ]
    },
    {
      "cell_type": "code",
      "execution_count": null,
      "metadata": {
        "id": "2PbQozifcG2K"
      },
      "outputs": [],
      "source": [
        "# error가 나는 코드\n",
        "x = 100\n",
        "def outer():\n",
        "    x = 1\n",
        "    def inner():\n",
        "        x += 1\n",
        "        print(x)\n",
        "    inner()\n",
        "    print(x)\n",
        "\n",
        "outer()\n",
        "print(x)"
      ]
    },
    {
      "attachments": {},
      "cell_type": "markdown",
      "metadata": {
        "id": "f81XbKwNcZq9"
      },
      "source": [
        "## 재귀함수"
      ]
    },
    {
      "attachments": {},
      "cell_type": "markdown",
      "metadata": {
        "id": "k17nib4Ucgwy"
      },
      "source": [
        "* 내가 나를 호출하는 것입니다.\n",
        "* 재귀 <-> for문은 대부분 호환이 가능합니다.\n",
        "* 반복문 사용하시기를 권합니다!\n",
        "* 어렵고 효율도 안좋아요!(얼마나 효율이 안좋은지도 확인해해보겠습니다.)\n",
        "* 필수적으로 사용하는 곳이 있습니다."
      ]
    },
    {
      "cell_type": "code",
      "execution_count": null,
      "metadata": {
        "id": "r88zRAuLdnZV"
      },
      "outputs": [],
      "source": [
        "# sys.setrecursionlimit -> 제한을 늘릴 수 있음\n",
        "# 실행시키지 마세요.\n",
        "def 숫자출력():\n",
        "    print(1)\n",
        "    return 숫자출력()\n",
        "숫자출력()"
      ]
    },
    {
      "cell_type": "code",
      "execution_count": null,
      "metadata": {
        "colab": {
          "base_uri": "https://localhost:8080/"
        },
        "id": "8RlLAwY8d2wb",
        "outputId": "22937242-1add-4b21-e9aa-75611bc7d883"
      },
      "outputs": [
        {
          "data": {
            "text/plain": [
              "120"
            ]
          },
          "execution_count": 12,
          "metadata": {},
          "output_type": "execute_result"
        }
      ],
      "source": [
        "# for로 펙토리얼\n",
        "# 5! = 5 * 4 * 3 * 2 * 1\n",
        "\n",
        "result = 1\n",
        "\n",
        "# 1 * 2 * 3 * 4 * 5\n",
        "for i in range(1,6):\n",
        "    result *= i\n",
        "\n",
        "result"
      ]
    },
    {
      "cell_type": "code",
      "execution_count": null,
      "metadata": {
        "colab": {
          "base_uri": "https://localhost:8080/"
        },
        "id": "g81rsISVeScj",
        "outputId": "c9169e65-c9cf-454d-bd07-1ac4253efad3"
      },
      "outputs": [
        {
          "data": {
            "text/plain": [
              "120"
            ]
          },
          "execution_count": 14,
          "metadata": {},
          "output_type": "execute_result"
        }
      ],
      "source": [
        "# 재귀로 펙토리얼\n",
        "\n",
        "def f(n):\n",
        "    if n <= 1:\n",
        "        return 1\n",
        "    else:\n",
        "        return n * f(n-1)\n",
        "\n",
        "f(5)\n",
        "\n",
        "'''\n",
        "f(5)   5 * f(4) == 5 * 24\n",
        "f(4)   4 * f(3) == 4 * 6\n",
        "f(3)   3 * f(2) == 3 * 2\n",
        "f(2)   2 * f(1) == 2 * 1\n",
        "f(1)   1\n",
        "'''"
      ]
    },
    {
      "cell_type": "code",
      "execution_count": null,
      "metadata": {
        "colab": {
          "base_uri": "https://localhost:8080/",
          "height": 35
        },
        "id": "ZByD5-jofgvO",
        "outputId": "1f5468fb-8ea5-4605-d8c2-4100d78e7097"
      },
      "outputs": [
        {
          "data": {
            "application/vnd.google.colaboratory.intrinsic+json": {
              "type": "string"
            },
            "text/plain": [
              "'olleh'"
            ]
          },
          "execution_count": 15,
          "metadata": {},
          "output_type": "execute_result"
        }
      ],
      "source": [
        "# for로 문자열 거꾸로 출력하기\n",
        "s = 'hello'\n",
        "result = ''\n",
        "\n",
        "for i in s:\n",
        "    result = i + result\n",
        "\n",
        "result\n",
        "\n",
        "'''\n",
        "result = h + ''\n",
        "result = e + 'h'\n",
        "result = l + 'eh'\n",
        "result = l + 'leh'\n",
        "result = o + 'lleh'\n",
        "'''\n",
        "\n",
        "# 실무에서는 이렇게 거꾸로 만들지 않습니다.\n",
        "# 슬라이싱이 일반 for문보다 8배 빠릅니다.\n",
        "# s[::-1]"
      ]
    },
    {
      "cell_type": "code",
      "execution_count": null,
      "metadata": {
        "colab": {
          "base_uri": "https://localhost:8080/",
          "height": 35
        },
        "id": "uQtteoc_gY8-",
        "outputId": "f1feee8a-2b60-4307-8541-7ab863481f6e"
      },
      "outputs": [
        {
          "data": {
            "application/vnd.google.colaboratory.intrinsic+json": {
              "type": "string"
            },
            "text/plain": [
              "'hello'"
            ]
          },
          "execution_count": 16,
          "metadata": {},
          "output_type": "execute_result"
        }
      ],
      "source": [
        "def reverse(s):\n",
        "    if len(s) == 1:\n",
        "        return s\n",
        "    else:\n",
        "        return reverse(s[1:]) + s[0]\n",
        "\n",
        "reverse('hello')\n",
        "\n",
        "'''\n",
        "reverse('hello') reverse('ello') + 'h'  == 'olle' + 'h'\n",
        "reverse('ello')  reverse('llo') + 'e'   == 'oll' + 'e'\n",
        "reverse('llo')   reverse('lo') + 'l'    == 'ol' + 'l'\n",
        "reverse('lo')    reverse('o') + 'l'     == 'o' + 'l'\n",
        "reverse('o')     'o'\n",
        "\n",
        "'''"
      ]
    },
    {
      "cell_type": "code",
      "execution_count": null,
      "metadata": {
        "colab": {
          "base_uri": "https://localhost:8080/"
        },
        "id": "sgMO33fZz-nW",
        "outputId": "af3934fb-2d25-452c-b083-419c1f1dbc6f"
      },
      "outputs": [
        {
          "data": {
            "text/plain": [
              "13"
            ]
          },
          "execution_count": 17,
          "metadata": {},
          "output_type": "execute_result"
        }
      ],
      "source": [
        "# 피보나치 for\n",
        "# 재귀가 얼마나 비효율적인지 보여드리기 위해서 진행\n",
        "# 1 1 2 3 5 8 13 21 \n",
        "\n",
        "curr = 1\n",
        "next = 1\n",
        "\n",
        "for i in range(1,6):\n",
        "    curr , next = next , curr + next\n",
        "\n",
        "next"
      ]
    },
    {
      "cell_type": "code",
      "execution_count": null,
      "metadata": {
        "colab": {
          "base_uri": "https://localhost:8080/"
        },
        "id": "zGUe4O6Q1dg7",
        "outputId": "37895b2a-6894-4e53-de63-78dbc65ec064"
      },
      "outputs": [
        {
          "data": {
            "text/plain": [
              "(1, 1, 2, 3, 5, 8)"
            ]
          },
          "execution_count": 23,
          "metadata": {},
          "output_type": "execute_result"
        }
      ],
      "source": [
        "# 피보나치 재귀\n",
        "\n",
        "def f(n):\n",
        "    if n == 1 or n == 2 :\n",
        "        return 1\n",
        "    return f(n-1) + f(n-2)\n",
        "\n",
        "f(1),f(2),f(3),f(4),f(5),f(6)"
      ]
    },
    {
      "cell_type": "code",
      "execution_count": null,
      "metadata": {
        "id": "MTQWA53H3HvD"
      },
      "outputs": [],
      "source": [
        "# 재귀에 비효율을 이렇게 해결할 수는 있다를 보여드리기 위함\n",
        "# but 가능 하면 for를 이용해주세요.\n",
        "from functools import lru_cache\n",
        "\n",
        "@lru_cache(maxsize=None)\n",
        "def fib(num):\n",
        "    if num == 0:\n",
        "        return 0\n",
        "    if num == 1 or num == 2:\n",
        "        return 1\n",
        "    else:\n",
        "        return fib(num-1) + fib(num-2)\n",
        "\n",
        "fib(40)"
      ]
    },
    {
      "attachments": {},
      "cell_type": "markdown",
      "metadata": {
        "id": "-OrI5Fcw771p"
      },
      "source": [
        "## !! 연습문제"
      ]
    },
    {
      "cell_type": "code",
      "execution_count": null,
      "metadata": {
        "id": "yls_2uNi39Vr"
      },
      "outputs": [],
      "source": [
        "# 1번\n",
        "# I\n",
        "# love\n",
        "# python"
      ]
    },
    {
      "cell_type": "code",
      "execution_count": null,
      "metadata": {
        "colab": {
          "base_uri": "https://localhost:8080/"
        },
        "id": "xaRTvUfE4RMv",
        "outputId": "f76fd642-ee4b-4a13-df9d-e05400f737ae"
      },
      "outputs": [
        {
          "name": "stdout",
          "output_type": "stream",
          "text": [
            "plus : 15\n",
            "minus : 5\n",
            "multiply : 50\n",
            "divide : 2.0\n"
          ]
        }
      ],
      "source": [
        "def plus(num1, num2):\n",
        "\treturn num1 + num2\n",
        "\n",
        "def minus(num1, num2):\n",
        "\treturn num1 - num2\n",
        "\n",
        "def multiply(num1, num2):\n",
        "\treturn num1 * num2\n",
        "\n",
        "def divide(num1, num2):\n",
        "\treturn num1 / num2\n",
        "\n",
        "print(f'plus : {plus(10, 5)}')\n",
        "print(f'minus : {minus(10, 5)}')\n",
        "print(f'multiply : {multiply(10, 5)}')\n",
        "print(f'divide : {divide(10, 5)}')"
      ]
    },
    {
      "cell_type": "code",
      "execution_count": null,
      "metadata": {
        "id": "HgxpGcpc_NRD"
      },
      "outputs": [],
      "source": [
        "# 실력이 있으신 분은 견고한 코드가 될 수 있도록 해주셔야 합니다.\n",
        "def plus(num1, num2):\n",
        "    try:\n",
        "        return num1 + num2\n",
        "    except:\n",
        "        return float('inf')\n",
        "\n",
        "# 테스트 주도 개발\n",
        "print(f\"plus : {plus(10, 5)}\")\n",
        "print(f\"plus : {plus(10, '5')}\")\n",
        "print(f\"plus : {plus('10', 5)}\")\n",
        "print(f\"plus : {plus('10', '5')}\")\n",
        "print(f\"plus : {plus(10, 'a')}\")\n",
        "print(f\"plus : {plus(10, True)}\")\n",
        "print(f\"plus : {plus(False, 5)}\")\n",
        "print(f\"plus : {plus(10, 10.1)}\")"
      ]
    },
    {
      "cell_type": "code",
      "execution_count": null,
      "metadata": {
        "id": "sfPb6JjwA3FN"
      },
      "outputs": [],
      "source": [
        "# 실력이 있으신 분은 견고한 코드가 될 수 있도록 해주셔야 합니다.\n",
        "def plus(num1, num2):\n",
        "    if type(num1) == int and type(num2) == int:\n",
        "        return num1 + num2\n",
        "    return '정수가 아니기에 연산할 수 없습니다.'\n",
        "\n",
        "# 테스트 주도 개발\n",
        "print(f\"plus : {plus(10, 5)}\")\n",
        "print(f\"plus : {plus(10, '5')}\")\n",
        "print(f\"plus : {plus('10', 5)}\")\n",
        "print(f\"plus : {plus('10', '5')}\")\n",
        "print(f\"plus : {plus(10, 'a')}\")\n",
        "print(f\"plus : {plus(10, True)}\")\n",
        "print(f\"plus : {plus(False, 5)}\")\n",
        "print(f\"plus : {plus(10, 10.1)}\")"
      ]
    },
    {
      "cell_type": "code",
      "execution_count": null,
      "metadata": {
        "id": "1gAxY6S9A5Cg"
      },
      "outputs": [],
      "source": [
        "# 실력이 있으신 분은 견고한 코드가 될 수 있도록 해주셔야 합니다.\n",
        "def plus(num1, num2):\n",
        "    if type(num1) == int and type(num2) == int:\n",
        "        return num1 + num2\n",
        "    return float('inf')\n",
        "\n",
        "# 테스트 주도 개발\n",
        "print(f\"plus : {plus(10, 5)}\")\n",
        "print(f\"plus : {plus(10, '5')}\")\n",
        "print(f\"plus : {plus('10', 5)}\")\n",
        "print(f\"plus : {plus('10', '5')}\")\n",
        "print(f\"plus : {plus(10, 'a')}\")\n",
        "print(f\"plus : {plus(10, True)}\")\n",
        "print(f\"plus : {plus(False, 5)}\")\n",
        "print(f\"plus : {plus(10, 10.1)}\")"
      ]
    },
    {
      "cell_type": "code",
      "execution_count": null,
      "metadata": {
        "id": "wAmmTX38A8kV"
      },
      "outputs": [],
      "source": [
        "float('inf') > 1000000000000000000000000"
      ]
    },
    {
      "cell_type": "code",
      "execution_count": null,
      "metadata": {
        "id": "pxL6tTpgA0co"
      },
      "outputs": [],
      "source": [
        "plus = lambda num1, num2 : num1 + num2\n",
        "minus = lambda num1, num2 : num1 - num2\n",
        "multiply = lambda num1, num2 : num1 / num2\n",
        "divide = lambda num1, num2 : num1 * num2\n",
        "\n",
        "print(f'plus : {plus(10, 5)}')\n",
        "print(f'minus : {minus(10, 5)}')\n",
        "print(f'multiply : {multiply(10, 5)}')\n",
        "print(f'divide : {divide(10, 5)}')"
      ]
    },
    {
      "cell_type": "code",
      "execution_count": null,
      "metadata": {
        "colab": {
          "base_uri": "https://localhost:8080/"
        },
        "id": "YFYn3Hwt4_RE",
        "outputId": "3ec189d4-9234-4763-aea7-c0b89daafa3b"
      },
      "outputs": [
        {
          "data": {
            "text/plain": [
              "3"
            ]
          },
          "execution_count": 107,
          "metadata": {},
          "output_type": "execute_result"
        }
      ],
      "source": [
        "x = 3\n",
        "\n",
        "def f(n):\n",
        "    if n == 0:\n",
        "        return 1\n",
        "    else:\n",
        "        return x * f(n-1)\n",
        "\n",
        "f(1)\n",
        "# \n",
        "#"
      ]
    },
    {
      "cell_type": "code",
      "execution_count": null,
      "metadata": {
        "colab": {
          "base_uri": "https://localhost:8080/"
        },
        "id": "i9HQMOqyDU96",
        "outputId": "a385f7e8-580d-4111-ae93-bd50192aa03e"
      },
      "outputs": [
        {
          "data": {
            "text/plain": [
              "81"
            ]
          },
          "execution_count": 40,
          "metadata": {},
          "output_type": "execute_result"
        }
      ],
      "source": [
        "# 재귀함수를 사용해서 푼 것은 아니고\n",
        "# 팩토리 함수라고도 하고, 클로져라고도 합니다.\n",
        "def 제곱(x):\n",
        "    def 승수(y):\n",
        "        return x ** y\n",
        "    return 승수\n",
        "\n",
        "제곱3 = 제곱(3)\n",
        "제곱3(4)"
      ]
    },
    {
      "attachments": {},
      "cell_type": "markdown",
      "metadata": {
        "id": "W2L1qnjbEgap"
      },
      "source": [
        "## list (리스트)"
      ]
    },
    {
      "attachments": {},
      "cell_type": "markdown",
      "metadata": {
        "id": "PX0VZLP_FWWO"
      },
      "source": [
        "* 순서를 가진 데이터들의 집합(Sequence)\n",
        "* 리스트는 값의 변경\n",
        "* 리스트 안에 리스트로 다차원의 리스트를 만드는 것도 가능\n",
        "* 리스트 안에 다른 딕셔너리, 셋, 튜플 등을 넣는 것도 가능합니다."
      ]
    },
    {
      "cell_type": "code",
      "execution_count": null,
      "metadata": {
        "colab": {
          "base_uri": "https://localhost:8080/"
        },
        "id": "ew9mWPPYFneJ",
        "outputId": "ef6b30c6-bb31-4652-cf4c-382a7f9df8b4"
      },
      "outputs": [
        {
          "data": {
            "text/plain": [
              "(139941352245936, 139941352245936)"
            ]
          },
          "execution_count": 41,
          "metadata": {},
          "output_type": "execute_result"
        }
      ],
      "source": [
        "l = [1000,2000,3000,1000,2000,3000]\n",
        "id(l[0]), id(l[3])"
      ]
    },
    {
      "cell_type": "code",
      "execution_count": null,
      "metadata": {
        "id": "JWi-s50KF3xB"
      },
      "outputs": [],
      "source": [
        "# 컨벤션 자료형 (딕셔너리, 튜플, 셋, 리스트)에서는\n",
        "# 메모리 효율을 위해해\n",
        "# 같은 값이 있을 경우 같은 곳을 가리키게 설계되어 있습니다."
      ]
    },
    {
      "cell_type": "code",
      "execution_count": null,
      "metadata": {
        "colab": {
          "base_uri": "https://localhost:8080/"
        },
        "id": "Ybey7R2RGHgH",
        "outputId": "9f2e59d4-9e45-40fe-a471-7eef3d7c9633"
      },
      "outputs": [
        {
          "data": {
            "text/plain": [
              "[1000, 20, 30, 40]"
            ]
          },
          "execution_count": 42,
          "metadata": {},
          "output_type": "execute_result"
        }
      ],
      "source": [
        "l = [10,20,30,40]\n",
        "l[0] = 1000\n",
        "l"
      ]
    },
    {
      "cell_type": "code",
      "execution_count": null,
      "metadata": {
        "id": "meQWNtf0GQfr"
      },
      "outputs": [],
      "source": [
        "s = 'hello world'\n",
        "s[0] = 'k' # error\n",
        "s"
      ]
    },
    {
      "cell_type": "code",
      "execution_count": null,
      "metadata": {
        "colab": {
          "base_uri": "https://localhost:8080/"
        },
        "id": "uaKGT-kcGlvF",
        "outputId": "cf84e493-ba9c-48bf-d4e3-50b5d17b5d73"
      },
      "outputs": [
        {
          "data": {
            "text/plain": [
              "[[1, 2, 3], [4, 5, 6], [7, 8, 9]]"
            ]
          },
          "execution_count": 43,
          "metadata": {},
          "output_type": "execute_result"
        }
      ],
      "source": [
        "data = [[1,2,3],\n",
        "        [4,5,6],\n",
        "        [7,8,9]]\n",
        "\n",
        "data"
      ]
    },
    {
      "cell_type": "code",
      "execution_count": null,
      "metadata": {
        "colab": {
          "base_uri": "https://localhost:8080/"
        },
        "id": "fVtmaxqnHLYo",
        "outputId": "e6e3783e-9487-427d-ac62-53c719bf9929"
      },
      "outputs": [
        {
          "data": {
            "text/plain": [
              "2"
            ]
          },
          "execution_count": 47,
          "metadata": {},
          "output_type": "execute_result"
        }
      ],
      "source": [
        "data[0][0]"
      ]
    },
    {
      "cell_type": "code",
      "execution_count": null,
      "metadata": {
        "colab": {
          "base_uri": "https://localhost:8080/"
        },
        "id": "3IEodBhuGvxL",
        "outputId": "c18f3b49-a948-4be1-8918-ec99eb3d73d3"
      },
      "outputs": [
        {
          "data": {
            "text/plain": [
              "1"
            ]
          },
          "execution_count": 45,
          "metadata": {},
          "output_type": "execute_result"
        }
      ],
      "source": [
        "data[0][0]\n",
        "[1, 2, 3][0]"
      ]
    },
    {
      "cell_type": "code",
      "execution_count": null,
      "metadata": {
        "colab": {
          "base_uri": "https://localhost:8080/"
        },
        "id": "3Z9SHuCsG9rJ",
        "outputId": "6877cf8c-df29-4972-968e-6e73be87e33a"
      },
      "outputs": [
        {
          "data": {
            "text/plain": [
              "[[2, 4, 6], [8, 10, 12], [14, 16, 18]]"
            ]
          },
          "execution_count": 48,
          "metadata": {},
          "output_type": "execute_result"
        }
      ],
      "source": [
        "data = [[1,2,3],\n",
        "        [4,5,6],\n",
        "        [7,8,9]]\n",
        "\n",
        "data[0][0] *= 2\n",
        "data[0][1] *= 2\n",
        "data[0][2] *= 2\n",
        "data[1][0] *= 2\n",
        "data[1][1] *= 2\n",
        "data[1][2] *= 2\n",
        "data[2][0] *= 2\n",
        "data[2][1] *= 2\n",
        "data[2][2] *= 2\n",
        "data"
      ]
    },
    {
      "cell_type": "code",
      "execution_count": null,
      "metadata": {
        "colab": {
          "base_uri": "https://localhost:8080/"
        },
        "id": "vJmf3jsfHZy_",
        "outputId": "46db63c3-e247-4d59-a6d9-eccad66bf398"
      },
      "outputs": [
        {
          "data": {
            "text/plain": [
              "[[2, 4, 6], [8, 10, 12], [14, 16, 18]]"
            ]
          },
          "execution_count": 49,
          "metadata": {},
          "output_type": "execute_result"
        }
      ],
      "source": [
        "data = [[1,2,3],\n",
        "        [4,5,6],\n",
        "        [7,8,9]]\n",
        "        \n",
        "for i in range (3):\n",
        "    data[i][0] *= 2\n",
        "    data[i][1] *= 2\n",
        "    data[i][2] *= 2\n",
        "\n",
        "data"
      ]
    },
    {
      "cell_type": "code",
      "execution_count": null,
      "metadata": {
        "colab": {
          "base_uri": "https://localhost:8080/"
        },
        "id": "6sRyK8o1HqTZ",
        "outputId": "9e8dde2b-e0b1-49ae-fad8-671b300ef1d2"
      },
      "outputs": [
        {
          "data": {
            "text/plain": [
              "[[2, 4, 6], [8, 10, 12], [14, 16, 18]]"
            ]
          },
          "execution_count": 50,
          "metadata": {},
          "output_type": "execute_result"
        }
      ],
      "source": [
        "data = [[1,2,3],\n",
        "        [4,5,6],\n",
        "        [7,8,9]]\n",
        "        \n",
        "for i in range (3):\n",
        "    for j in range(3):\n",
        "        data[i][j] *= 2\n",
        "\n",
        "data"
      ]
    },
    {
      "cell_type": "code",
      "execution_count": null,
      "metadata": {
        "id": "t4y_HaoqH2Hg"
      },
      "outputs": [],
      "source": [
        "'''\n",
        "3                   == 스칼라\n",
        "\n",
        "[3, 4]              == 벡터\n",
        "\n",
        "[[1,2,3],           == 매트릭스(행렬)\n",
        "[4,5,6],\n",
        "[7,8,9]]\n",
        "\n",
        "[[[[1],[2],[3]],    == 텐서(다차원, 3차원 이상상)\n",
        "[4,5,6],\n",
        "[7,8,9]]\\\n",
        "\n",
        "텐서플로우 : 인공지능 중 유명한 라이브러리\n",
        "'''"
      ]
    },
    {
      "cell_type": "code",
      "execution_count": null,
      "metadata": {
        "colab": {
          "base_uri": "https://localhost:8080/"
        },
        "id": "Vw_wD4R7IrRY",
        "outputId": "ae9f5f2a-8dc9-42ed-cd56-b75fb43bf8c1"
      },
      "outputs": [
        {
          "data": {
            "text/plain": [
              "[10, 10, 10]"
            ]
          },
          "execution_count": 52,
          "metadata": {},
          "output_type": "execute_result"
        }
      ],
      "source": [
        "# 리스트에서 주의해야 하는 연산!\n",
        "x = [10] * 3\n",
        "x"
      ]
    },
    {
      "cell_type": "code",
      "execution_count": null,
      "metadata": {
        "colab": {
          "base_uri": "https://localhost:8080/"
        },
        "id": "nEUEv2iGI5Bn",
        "outputId": "abbaed05-c74b-4b66-d363-528ef36cc925"
      },
      "outputs": [
        {
          "data": {
            "text/plain": [
              "[100, 10, 10]"
            ]
          },
          "execution_count": 53,
          "metadata": {},
          "output_type": "execute_result"
        }
      ],
      "source": [
        "x[0] = 100\n",
        "x"
      ]
    },
    {
      "cell_type": "code",
      "execution_count": null,
      "metadata": {
        "colab": {
          "base_uri": "https://localhost:8080/"
        },
        "id": "-BEi_qohI71R",
        "outputId": "3a95d3f0-258c-48c5-fa24-0c18f3834564"
      },
      "outputs": [
        {
          "data": {
            "text/plain": [
              "[[10, 10], [10, 10], [10, 10]]"
            ]
          },
          "execution_count": 54,
          "metadata": {},
          "output_type": "execute_result"
        }
      ],
      "source": [
        "x = [[10]*2] * 3\n",
        "x"
      ]
    },
    {
      "cell_type": "code",
      "execution_count": null,
      "metadata": {
        "colab": {
          "base_uri": "https://localhost:8080/"
        },
        "id": "mAgsaHeYJNO1",
        "outputId": "554161db-6986-450f-9545-66a0f8f6b297"
      },
      "outputs": [
        {
          "data": {
            "text/plain": [
              "[[100, 10], [100, 10], [100, 10]]"
            ]
          },
          "execution_count": 55,
          "metadata": {},
          "output_type": "execute_result"
        }
      ],
      "source": [
        "x[0][0] = 100\n",
        "x"
      ]
    },
    {
      "cell_type": "code",
      "execution_count": null,
      "metadata": {
        "colab": {
          "base_uri": "https://localhost:8080/"
        },
        "id": "Ibv-nMLfKCiT",
        "outputId": "764bada9-19a9-4aaa-9457-ef5eb9a822da"
      },
      "outputs": [
        {
          "data": {
            "text/plain": [
              "[[[1000, 10, 10], [1000, 10, 10], [1000, 10, 10]],\n",
              " [[1000, 10, 10], [1000, 10, 10], [1000, 10, 10]],\n",
              " [[1000, 10, 10], [1000, 10, 10], [1000, 10, 10]],\n",
              " [[1000, 10, 10], [1000, 10, 10], [1000, 10, 10]]]"
            ]
          },
          "execution_count": 56,
          "metadata": {},
          "output_type": "execute_result"
        }
      ],
      "source": [
        "x = [[[10] * 3] * 3] * 4\n",
        "x[0][0][0] = 1000\n",
        "x"
      ]
    },
    {
      "cell_type": "code",
      "execution_count": null,
      "metadata": {
        "colab": {
          "base_uri": "https://localhost:8080/"
        },
        "id": "igmT6ITIKHP2",
        "outputId": "d7e2a5b8-c145-4298-c03d-f41c0a7f966d"
      },
      "outputs": [
        {
          "data": {
            "text/plain": [
              "(139941352128064, 139941352128064)"
            ]
          },
          "execution_count": 57,
          "metadata": {},
          "output_type": "execute_result"
        }
      ],
      "source": [
        "id(x[0][0]) , id(x[0][1]) "
      ]
    },
    {
      "cell_type": "code",
      "execution_count": null,
      "metadata": {
        "colab": {
          "base_uri": "https://localhost:8080/"
        },
        "id": "flH0mtNwKNJ4",
        "outputId": "44b6b557-9f39-450c-b7fb-777c247ef922"
      },
      "outputs": [
        {
          "name": "stdout",
          "output_type": "stream",
          "text": [
            "Help on list object:\n",
            "\n",
            "class list(object)\n",
            " |  list(iterable=(), /)\n",
            " |  \n",
            " |  Built-in mutable sequence.\n",
            " |  \n",
            " |  If no argument is given, the constructor creates a new empty list.\n",
            " |  The argument must be an iterable if specified.\n",
            " |  \n",
            " |  Methods defined here:\n",
            " |  \n",
            " |  __add__(self, value, /)\n",
            " |      Return self+value.\n",
            " |  \n",
            " |  __contains__(self, key, /)\n",
            " |      Return key in self.\n",
            " |  \n",
            " |  __delitem__(self, key, /)\n",
            " |      Delete self[key].\n",
            " |  \n",
            " |  __eq__(self, value, /)\n",
            " |      Return self==value.\n",
            " |  \n",
            " |  __ge__(self, value, /)\n",
            " |      Return self>=value.\n",
            " |  \n",
            " |  __getattribute__(self, name, /)\n",
            " |      Return getattr(self, name).\n",
            " |  \n",
            " |  __getitem__(...)\n",
            " |      x.__getitem__(y) <==> x[y]\n",
            " |  \n",
            " |  __gt__(self, value, /)\n",
            " |      Return self>value.\n",
            " |  \n",
            " |  __iadd__(self, value, /)\n",
            " |      Implement self+=value.\n",
            " |  \n",
            " |  __imul__(self, value, /)\n",
            " |      Implement self*=value.\n",
            " |  \n",
            " |  __init__(self, /, *args, **kwargs)\n",
            " |      Initialize self.  See help(type(self)) for accurate signature.\n",
            " |  \n",
            " |  __iter__(self, /)\n",
            " |      Implement iter(self).\n",
            " |  \n",
            " |  __le__(self, value, /)\n",
            " |      Return self<=value.\n",
            " |  \n",
            " |  __len__(self, /)\n",
            " |      Return len(self).\n",
            " |  \n",
            " |  __lt__(self, value, /)\n",
            " |      Return self<value.\n",
            " |  \n",
            " |  __mul__(self, value, /)\n",
            " |      Return self*value.\n",
            " |  \n",
            " |  __ne__(self, value, /)\n",
            " |      Return self!=value.\n",
            " |  \n",
            " |  __repr__(self, /)\n",
            " |      Return repr(self).\n",
            " |  \n",
            " |  __reversed__(self, /)\n",
            " |      Return a reverse iterator over the list.\n",
            " |  \n",
            " |  __rmul__(self, value, /)\n",
            " |      Return value*self.\n",
            " |  \n",
            " |  __setitem__(self, key, value, /)\n",
            " |      Set self[key] to value.\n",
            " |  \n",
            " |  __sizeof__(self, /)\n",
            " |      Return the size of the list in memory, in bytes.\n",
            " |  \n",
            " |  append(self, object, /)\n",
            " |      Append object to the end of the list.\n",
            " |  \n",
            " |  clear(self, /)\n",
            " |      Remove all items from list.\n",
            " |  \n",
            " |  copy(self, /)\n",
            " |      Return a shallow copy of the list.\n",
            " |  \n",
            " |  count(self, value, /)\n",
            " |      Return number of occurrences of value.\n",
            " |  \n",
            " |  extend(self, iterable, /)\n",
            " |      Extend list by appending elements from the iterable.\n",
            " |  \n",
            " |  index(self, value, start=0, stop=9223372036854775807, /)\n",
            " |      Return first index of value.\n",
            " |      \n",
            " |      Raises ValueError if the value is not present.\n",
            " |  \n",
            " |  insert(self, index, object, /)\n",
            " |      Insert object before index.\n",
            " |  \n",
            " |  pop(self, index=-1, /)\n",
            " |      Remove and return item at index (default last).\n",
            " |      \n",
            " |      Raises IndexError if list is empty or index is out of range.\n",
            " |  \n",
            " |  remove(self, value, /)\n",
            " |      Remove first occurrence of value.\n",
            " |      \n",
            " |      Raises ValueError if the value is not present.\n",
            " |  \n",
            " |  reverse(self, /)\n",
            " |      Reverse *IN PLACE*.\n",
            " |  \n",
            " |  sort(self, /, *, key=None, reverse=False)\n",
            " |      Sort the list in ascending order and return None.\n",
            " |      \n",
            " |      The sort is in-place (i.e. the list itself is modified) and stable (i.e. the\n",
            " |      order of two equal elements is maintained).\n",
            " |      \n",
            " |      If a key function is given, apply it once to each list item and sort them,\n",
            " |      ascending or descending, according to their function values.\n",
            " |      \n",
            " |      The reverse flag can be set to sort in descending order.\n",
            " |  \n",
            " |  ----------------------------------------------------------------------\n",
            " |  Class methods defined here:\n",
            " |  \n",
            " |  __class_getitem__(...) from builtins.type\n",
            " |      See PEP 585\n",
            " |  \n",
            " |  ----------------------------------------------------------------------\n",
            " |  Static methods defined here:\n",
            " |  \n",
            " |  __new__(*args, **kwargs) from builtins.type\n",
            " |      Create and return a new object.  See help(type) for accurate signature.\n",
            " |  \n",
            " |  ----------------------------------------------------------------------\n",
            " |  Data and other attributes defined here:\n",
            " |  \n",
            " |  __hash__ = None\n",
            "\n"
          ]
        },
        {
          "data": {
            "text/plain": [
              "(list,\n",
              " ['__add__',\n",
              "  '__class__',\n",
              "  '__class_getitem__',\n",
              "  '__contains__',\n",
              "  '__delattr__',\n",
              "  '__delitem__',\n",
              "  '__dir__',\n",
              "  '__doc__',\n",
              "  '__eq__',\n",
              "  '__format__',\n",
              "  '__ge__',\n",
              "  '__getattribute__',\n",
              "  '__getitem__',\n",
              "  '__gt__',\n",
              "  '__hash__',\n",
              "  '__iadd__',\n",
              "  '__imul__',\n",
              "  '__init__',\n",
              "  '__init_subclass__',\n",
              "  '__iter__',\n",
              "  '__le__',\n",
              "  '__len__',\n",
              "  '__lt__',\n",
              "  '__mul__',\n",
              "  '__ne__',\n",
              "  '__new__',\n",
              "  '__reduce__',\n",
              "  '__reduce_ex__',\n",
              "  '__repr__',\n",
              "  '__reversed__',\n",
              "  '__rmul__',\n",
              "  '__setattr__',\n",
              "  '__setitem__',\n",
              "  '__sizeof__',\n",
              "  '__str__',\n",
              "  '__subclasshook__',\n",
              "  'append',\n",
              "  'clear',\n",
              "  'copy',\n",
              "  'count',\n",
              "  'extend',\n",
              "  'index',\n",
              "  'insert',\n",
              "  'pop',\n",
              "  'remove',\n",
              "  'reverse',\n",
              "  'sort'],\n",
              " None)"
            ]
          },
          "execution_count": 58,
          "metadata": {},
          "output_type": "execute_result"
        }
      ],
      "source": [
        "l = [10,20,30]\n",
        "type(l) , dir(l) , help(l)"
      ]
    },
    {
      "attachments": {},
      "cell_type": "markdown",
      "metadata": {
        "id": "7T_yvqNNNUYx"
      },
      "source": [
        "## 리스트의 메서드"
      ]
    },
    {
      "cell_type": "code",
      "execution_count": null,
      "metadata": {
        "id": "2NCIqUfSNe7D"
      },
      "outputs": [],
      "source": [
        "# 'append', 'clear', 'copy', 'count', 'extend', 'index', \n",
        "# 'insert', 'pop', 'remove', 'reverse', 'sort'"
      ]
    },
    {
      "cell_type": "code",
      "execution_count": null,
      "metadata": {
        "colab": {
          "base_uri": "https://localhost:8080/"
        },
        "id": "KW1tiOnmNn5Q",
        "outputId": "65518a87-e322-4bda-d7b4-8edf0092704b"
      },
      "outputs": [
        {
          "data": {
            "text/plain": [
              "[1, 2, 3, 4]"
            ]
          },
          "execution_count": 59,
          "metadata": {},
          "output_type": "execute_result"
        }
      ],
      "source": [
        "l = [1,2,3]\n",
        "l.append(4)\n",
        "l"
      ]
    },
    {
      "cell_type": "code",
      "execution_count": null,
      "metadata": {
        "colab": {
          "base_uri": "https://localhost:8080/"
        },
        "id": "pcJHTiZrNuGh",
        "outputId": "af211494-c1c7-4d88-ef52-bc8781e95d48"
      },
      "outputs": [
        {
          "data": {
            "text/plain": [
              "[1, 2, 3, [1, 2, 3]]"
            ]
          },
          "execution_count": 60,
          "metadata": {},
          "output_type": "execute_result"
        }
      ],
      "source": [
        "l = [1,2,3]\n",
        "l.append([1,2,3])\n",
        "l"
      ]
    },
    {
      "cell_type": "code",
      "execution_count": null,
      "metadata": {
        "colab": {
          "base_uri": "https://localhost:8080/"
        },
        "id": "xLfWocCENxN8",
        "outputId": "8bfeeee5-ceb4-464d-beef-1fa3d60abfe9"
      },
      "outputs": [
        {
          "data": {
            "text/plain": [
              "[1, 2, 3, 'h', 'e', 'l', 'l', 'o']"
            ]
          },
          "execution_count": 62,
          "metadata": {},
          "output_type": "execute_result"
        }
      ],
      "source": [
        "l = [1,2,3]\n",
        "l.extend(4) # error\n",
        "l"
      ]
    },
    {
      "cell_type": "code",
      "execution_count": null,
      "metadata": {
        "id": "4RT4XunqOH89"
      },
      "outputs": [],
      "source": [
        "l = [1,2,3]\n",
        "l.extend('hello')\n",
        "l"
      ]
    },
    {
      "cell_type": "code",
      "execution_count": null,
      "metadata": {
        "id": "KtvhcdDvOWEK"
      },
      "outputs": [],
      "source": [
        "l = [1,2,3]\n",
        "l.extend({'one':10,'two':20})\n",
        "l"
      ]
    },
    {
      "cell_type": "code",
      "execution_count": null,
      "metadata": {
        "colab": {
          "base_uri": "https://localhost:8080/"
        },
        "id": "0kqJAc6FOcVr",
        "outputId": "9e707366-8c6f-4f39-eb95-c3e1ad2a71ff"
      },
      "outputs": [
        {
          "data": {
            "text/plain": [
              "[1, 2, 3, 10, 20, 30]"
            ]
          },
          "execution_count": 63,
          "metadata": {},
          "output_type": "execute_result"
        }
      ],
      "source": [
        "l = [1,2,3]\n",
        "l.extend({10,20,30})\n",
        "l"
      ]
    },
    {
      "cell_type": "code",
      "execution_count": null,
      "metadata": {
        "colab": {
          "base_uri": "https://localhost:8080/"
        },
        "id": "fS7UlUo3N0kV",
        "outputId": "a4976ce1-71ec-438c-c3b1-92264a6d8f2f"
      },
      "outputs": [
        {
          "data": {
            "text/plain": [
              "[1, 2, 3, 1, 2, 3]"
            ]
          },
          "execution_count": 61,
          "metadata": {},
          "output_type": "execute_result"
        }
      ],
      "source": [
        "l = [1,2,3]\n",
        "l.extend([1,2,3])\n",
        "l"
      ]
    },
    {
      "cell_type": "code",
      "execution_count": null,
      "metadata": {
        "colab": {
          "base_uri": "https://localhost:8080/"
        },
        "id": "zjTJsu3tOyYE",
        "outputId": "ab1b15c0-27dd-4136-edbc-9464fa5f6cad"
      },
      "outputs": [
        {
          "data": {
            "text/plain": [
              "[]"
            ]
          },
          "execution_count": 64,
          "metadata": {},
          "output_type": "execute_result"
        }
      ],
      "source": [
        "l = [1,2,3]\n",
        "l.clear()\n",
        "l"
      ]
    },
    {
      "cell_type": "code",
      "execution_count": null,
      "metadata": {
        "id": "S9Nm5PhwO_vw"
      },
      "outputs": [],
      "source": [
        "l = [10,20,30]\n",
        "l = []\n",
        "l"
      ]
    },
    {
      "cell_type": "code",
      "execution_count": null,
      "metadata": {
        "colab": {
          "base_uri": "https://localhost:8080/"
        },
        "id": "SQSUDJcJO-pN",
        "outputId": "a0e5146d-cfcd-4877-8f57-d43d04f8472e"
      },
      "outputs": [
        {
          "data": {
            "text/plain": [
              "([['바나나', 2000], ['수박박', 2000], ['딸기', 3000]],\n",
              " [['바나나', 2000], ['수박박', 2000], ['딸기', 3000]])"
            ]
          },
          "execution_count": 66,
          "metadata": {},
          "output_type": "execute_result"
        }
      ],
      "source": [
        "제주과일가게 = [['바나나',1000],['수박박',2000],['딸기',3000]]\n",
        "서울과일가게 = 제주과일가게\n",
        "서울과일가게[0] = ['바나나',2000]\n",
        "서울과일가게 , 제주과일가게"
      ]
    },
    {
      "cell_type": "code",
      "execution_count": null,
      "metadata": {
        "colab": {
          "base_uri": "https://localhost:8080/"
        },
        "id": "WSS7nELSPp-a",
        "outputId": "c3f6c2b4-53bf-49ef-e1e3-dba9c8c8ed78"
      },
      "outputs": [
        {
          "data": {
            "text/plain": [
              "([['바나나', 2000], ['수박박', 2000], ['딸기', 3000]],\n",
              " [['바나나', 1000], ['수박박', 2000], ['딸기', 3000]])"
            ]
          },
          "execution_count": 67,
          "metadata": {},
          "output_type": "execute_result"
        }
      ],
      "source": [
        "제주과일가게 = [['바나나',1000],['수박박',2000],['딸기',3000]]\n",
        "서울과일가게 = 제주과일가게.copy() # 얕은 복사\n",
        "서울과일가게[0] = ['바나나',2000]\n",
        "서울과일가게 , 제주과일가게"
      ]
    },
    {
      "cell_type": "code",
      "execution_count": null,
      "metadata": {
        "id": "yFG0RtLQQOeU"
      },
      "outputs": [],
      "source": [
        "제주과일가게 = [['바나나',1000],['수박박',2000],['딸기',3000]]\n",
        "서울과일가게 = 제주과일가게[:] # 얕은 복사\n",
        "서울과일가게[0] = ['바나나',2000]\n",
        "서울과일가게 , 제주과일가게"
      ]
    },
    {
      "cell_type": "code",
      "execution_count": null,
      "metadata": {
        "colab": {
          "base_uri": "https://localhost:8080/",
          "height": 35
        },
        "id": "Kw8LlEYcQT7Y",
        "outputId": "50041b46-e4d2-459d-eff1-652ecd11fb1b"
      },
      "outputs": [
        {
          "data": {
            "application/vnd.google.colaboratory.intrinsic+json": {
              "type": "string"
            },
            "text/plain": [
              "'hello'"
            ]
          },
          "execution_count": 68,
          "metadata": {},
          "output_type": "execute_result"
        }
      ],
      "source": [
        "s = 'hello world'\n",
        "s[:5]"
      ]
    },
    {
      "cell_type": "code",
      "execution_count": null,
      "metadata": {
        "colab": {
          "base_uri": "https://localhost:8080/"
        },
        "id": "tsXsIkDwQXKC",
        "outputId": "94a50b9f-6d59-46c0-ebf6-4fe0ffe6d896"
      },
      "outputs": [
        {
          "data": {
            "text/plain": [
              "[10, 20, 30, 40, 50]"
            ]
          },
          "execution_count": 71,
          "metadata": {},
          "output_type": "execute_result"
        }
      ],
      "source": [
        "l = [10,20,30,40,50]\n",
        "l[:3]\n",
        "ll = l[:]\n",
        "ll"
      ]
    },
    {
      "cell_type": "code",
      "execution_count": null,
      "metadata": {
        "colab": {
          "base_uri": "https://localhost:8080/"
        },
        "id": "i6wR04KrQzSy",
        "outputId": "22c97935-f3b6-4303-8a25-e1463f0c55c7"
      },
      "outputs": [
        {
          "data": {
            "text/plain": [
              "(139941350611264, 139941350614208)"
            ]
          },
          "execution_count": 73,
          "metadata": {},
          "output_type": "execute_result"
        }
      ],
      "source": [
        "id(l),id(ll)"
      ]
    },
    {
      "cell_type": "code",
      "execution_count": null,
      "metadata": {
        "colab": {
          "base_uri": "https://localhost:8080/"
        },
        "id": "X406eVomQ1TH",
        "outputId": "017d1f4f-8648-4ef8-d14f-f647f070bb75"
      },
      "outputs": [
        {
          "data": {
            "text/plain": [
              "([['바나나', 3000], ['수박박', 2000], ['딸기', 3000]],\n",
              " [['바나나', 3000], ['수박박', 2000], ['딸기', 3000]])"
            ]
          },
          "execution_count": 75,
          "metadata": {},
          "output_type": "execute_result"
        }
      ],
      "source": [
        "# 이 이상의 내용은 뒤에 얕은 복사와 깊은 복사에서 알아봅니다.\n",
        "제주과일가게 = [['바나나',1000],['수박박',2000],['딸기',3000]]\n",
        "# 서울과일가게 = 제주과일가게[:] # 얕은 복사\n",
        "서울과일가게 = 제주과일가게.copy() # 얕은 복사\n",
        "id(서울과일가게[0]) , id(제주과일가게[0])\n",
        "id(서울과일가게[0][0]) , id(제주과일가게[0][0])\n",
        "서울과일가게[0][1] = 3000\n",
        "서울과일가게 , 제주과일가게"
      ]
    },
    {
      "cell_type": "code",
      "execution_count": null,
      "metadata": {
        "colab": {
          "base_uri": "https://localhost:8080/"
        },
        "id": "E3ed2Xu3RbJC",
        "outputId": "c41231ca-7b76-49c5-851c-f077277a1318"
      },
      "outputs": [
        {
          "data": {
            "text/plain": [
              "([1000, 2, 3], [1, 2, 3])"
            ]
          },
          "execution_count": 77,
          "metadata": {},
          "output_type": "execute_result"
        }
      ],
      "source": [
        "l = [1,2,3]\n",
        "ll = l[:]\n",
        "l[0] = 1000\n",
        "l,ll"
      ]
    },
    {
      "cell_type": "code",
      "execution_count": null,
      "metadata": {
        "colab": {
          "base_uri": "https://localhost:8080/"
        },
        "id": "BUJyiTv_RhNu",
        "outputId": "36c9178a-590e-4a8a-b094-b9bda69776f0"
      },
      "outputs": [
        {
          "data": {
            "text/plain": [
              "([1000, 2, 3], [1, 2, 3])"
            ]
          },
          "execution_count": 78,
          "metadata": {},
          "output_type": "execute_result"
        }
      ],
      "source": [
        "l = [1,2,3]\n",
        "ll = l.copy()\n",
        "l[0] = 1000\n",
        "l,ll"
      ]
    },
    {
      "cell_type": "code",
      "execution_count": null,
      "metadata": {
        "colab": {
          "base_uri": "https://localhost:8080/"
        },
        "id": "4t3pSgx1R1J0",
        "outputId": "cc5e308d-c96d-4943-ea42-17983a836aa5"
      },
      "outputs": [
        {
          "data": {
            "text/plain": [
              "6"
            ]
          },
          "execution_count": 79,
          "metadata": {},
          "output_type": "execute_result"
        }
      ],
      "source": [
        "l = [1,2,3,1,1,1,2,3,2,3,1,1]\n",
        "l.count(1)"
      ]
    },
    {
      "cell_type": "code",
      "execution_count": null,
      "metadata": {
        "colab": {
          "base_uri": "https://localhost:8080/"
        },
        "id": "k35dDcZvSQij",
        "outputId": "e3991d12-f31e-44bb-8a80-804839d12cfc"
      },
      "outputs": [
        {
          "data": {
            "text/plain": [
              "[10, 1, 1]"
            ]
          },
          "execution_count": 81,
          "metadata": {},
          "output_type": "execute_result"
        }
      ],
      "source": [
        "a = [10,1,1,11,2,23,12]\n",
        "a.index(11)\n",
        "a[:a.index(11)]"
      ]
    },
    {
      "cell_type": "code",
      "execution_count": null,
      "metadata": {
        "colab": {
          "base_uri": "https://localhost:8080/"
        },
        "id": "fP7Ib2psTWy-",
        "outputId": "dc49c01c-068d-4b51-bf3c-331df3ffd639"
      },
      "outputs": [
        {
          "data": {
            "text/plain": [
              "[10, 20, 1000, 30]"
            ]
          },
          "execution_count": 83,
          "metadata": {},
          "output_type": "execute_result"
        }
      ],
      "source": [
        "a = [10,20,30]\n",
        "a.insert(2, 1000) # insert는 값을 지우지는 않습니다.\n",
        "a"
      ]
    },
    {
      "cell_type": "code",
      "execution_count": null,
      "metadata": {
        "colab": {
          "base_uri": "https://localhost:8080/"
        },
        "id": "J6RywhQ_TqeD",
        "outputId": "db7f61bc-4a40-4819-db81-6cad60404479"
      },
      "outputs": [
        {
          "data": {
            "text/plain": [
              "50"
            ]
          },
          "execution_count": 86,
          "metadata": {},
          "output_type": "execute_result"
        }
      ],
      "source": [
        "l = [10,20,30,40,50]\n",
        "l.pop()"
      ]
    },
    {
      "cell_type": "code",
      "execution_count": null,
      "metadata": {
        "colab": {
          "base_uri": "https://localhost:8080/"
        },
        "id": "qvbylD9ZTznU",
        "outputId": "52e267c3-e512-49e4-bc6e-8a8ad0198fee"
      },
      "outputs": [
        {
          "data": {
            "text/plain": [
              "[10, 20, 30, 40]"
            ]
          },
          "execution_count": 87,
          "metadata": {},
          "output_type": "execute_result"
        }
      ],
      "source": [
        "l"
      ]
    },
    {
      "cell_type": "code",
      "execution_count": null,
      "metadata": {
        "colab": {
          "base_uri": "https://localhost:8080/"
        },
        "id": "dnohY-yAT0IT",
        "outputId": "9c3c6d65-2f65-4211-8a7a-7797c0422ad1"
      },
      "outputs": [
        {
          "data": {
            "text/plain": [
              "[20, 30, 40, 50]"
            ]
          },
          "execution_count": 88,
          "metadata": {},
          "output_type": "execute_result"
        }
      ],
      "source": [
        "l = [10,20,30,40,50]\n",
        "l.pop(0) # 많이사용합니다.\n",
        "l"
      ]
    },
    {
      "cell_type": "code",
      "execution_count": null,
      "metadata": {
        "id": "HPaySYkhT7bV"
      },
      "outputs": [],
      "source": [
        "# append : 맨 뒤에 추가\n",
        "# pop : 맨 뒤에서 값을 뽑아내고, index가 들어갈 경우 index에서 뽑습니다.\n",
        "# insert : index에 값을 삽입하고 원래 있던 값을 뒤로 밀어버립니다."
      ]
    },
    {
      "cell_type": "code",
      "execution_count": null,
      "metadata": {
        "colab": {
          "base_uri": "https://localhost:8080/"
        },
        "id": "dXQI8Lx5USd9",
        "outputId": "a0269d8a-69ce-45f0-becf-219f9af9e92e"
      },
      "outputs": [
        {
          "data": {
            "text/plain": [
              "[10, 30, 40, 50]"
            ]
          },
          "execution_count": 91,
          "metadata": {},
          "output_type": "execute_result"
        }
      ],
      "source": [
        "l = [10,20,30,40,50]\n",
        "l.remove(20) # 예를 들어 for를 돌면서 remove를 하지 않기 바랍니다.\n",
        "l"
      ]
    },
    {
      "cell_type": "code",
      "execution_count": null,
      "metadata": {
        "id": "63QqYNBVVqf5"
      },
      "outputs": [],
      "source": [
        "l = [20, 20, 20, 20]\n",
        "for i in range(len(l)):\n",
        "    print(len(l)) # len가 계속 변하기 때문에 의도치 않은 에러가 날 수 있어요.\n",
        "    l.remove(20)"
      ]
    },
    {
      "cell_type": "code",
      "execution_count": null,
      "metadata": {
        "id": "cOHqzvIHVit2"
      },
      "outputs": [],
      "source": [
        "# 무한 반복입니다.\n",
        "l = [20, 20, 20, 20]\n",
        "for i in l:\n",
        "    print(len(l))\n",
        "    l.append(20)"
      ]
    },
    {
      "cell_type": "code",
      "execution_count": null,
      "metadata": {
        "colab": {
          "base_uri": "https://localhost:8080/"
        },
        "id": "e_YAA61pF5WM",
        "outputId": "d4974f7f-aa92-440e-a810-6cb6302bd0c2"
      },
      "outputs": [
        {
          "data": {
            "text/plain": [
              "[10, 30, 40, 50]"
            ]
          },
          "execution_count": 1,
          "metadata": {},
          "output_type": "execute_result"
        }
      ],
      "source": [
        "l = [10, 20, 30, 40 ,50 ,20 , 20 ,20]\n",
        "for i in range(l.count(20)):\n",
        "    l.remove(20)\n",
        "l"
      ]
    },
    {
      "cell_type": "code",
      "execution_count": null,
      "metadata": {
        "colab": {
          "base_uri": "https://localhost:8080/"
        },
        "id": "EDtekvE4GKuS",
        "outputId": "dde549da-8308-4c11-bdd7-755008ece7fb"
      },
      "outputs": [
        {
          "data": {
            "text/plain": [
              "[10, 30, 40, 50]"
            ]
          },
          "execution_count": 2,
          "metadata": {},
          "output_type": "execute_result"
        }
      ],
      "source": [
        "# 실무에서\n",
        "# 어떤 값을 전부 없애거나\n",
        "# 어떤 값을 전부 찾는 것\n",
        "def f(x):\n",
        "    return x != 20\n",
        "\n",
        "# true인 것만 반환해줍니다.\n",
        "list(filter(f , [10, 20, 30, 40 ,50 ,20 , 20 ,20]))"
      ]
    },
    {
      "cell_type": "code",
      "execution_count": null,
      "metadata": {
        "colab": {
          "base_uri": "https://localhost:8080/"
        },
        "id": "FzgSAseGG_Qi",
        "outputId": "2058ff32-bac2-4c2d-f4f4-a42c542bff9a"
      },
      "outputs": [
        {
          "data": {
            "text/plain": [
              "<filter at 0x7fb895e47400>"
            ]
          },
          "execution_count": 3,
          "metadata": {},
          "output_type": "execute_result"
        }
      ],
      "source": [
        "filter(f , [10, 20, 30, 40 ,50 ,20 , 20 ,20])"
      ]
    },
    {
      "cell_type": "code",
      "execution_count": null,
      "metadata": {
        "colab": {
          "base_uri": "https://localhost:8080/"
        },
        "id": "J4F7Gg9dHF27",
        "outputId": "7e33c85e-a55a-4e52-fca0-0ef85ab4a352"
      },
      "outputs": [
        {
          "data": {
            "text/plain": [
              "range(0, 100)"
            ]
          },
          "execution_count": 4,
          "metadata": {},
          "output_type": "execute_result"
        }
      ],
      "source": [
        "range(100)"
      ]
    },
    {
      "cell_type": "code",
      "execution_count": null,
      "metadata": {
        "colab": {
          "base_uri": "https://localhost:8080/"
        },
        "id": "iUxXg8NxHIL0",
        "outputId": "ae2ddc2b-a87a-4773-8935-b0fc6ed3fc7a"
      },
      "outputs": [
        {
          "name": "stdout",
          "output_type": "stream",
          "text": [
            "10\n",
            "30\n",
            "40\n",
            "50\n"
          ]
        }
      ],
      "source": [
        "for i in filter(f,[10, 20, 30, 40 ,50 ,20 , 20 ,20]):\n",
        "    print(i)"
      ]
    },
    {
      "cell_type": "code",
      "execution_count": null,
      "metadata": {
        "colab": {
          "base_uri": "https://localhost:8080/"
        },
        "id": "G9dW2AR6HZoo",
        "outputId": "89919e08-c628-4f79-cacd-c02cff6c1b8f"
      },
      "outputs": [
        {
          "data": {
            "text/plain": [
              "[10, 30, 40, 50]"
            ]
          },
          "execution_count": 6,
          "metadata": {},
          "output_type": "execute_result"
        }
      ],
      "source": [
        "list(filter(lambda x: x!= 20 , [10, 20, 30, 40 ,50 ,20 , 20 ,20]))"
      ]
    },
    {
      "cell_type": "code",
      "execution_count": null,
      "metadata": {
        "colab": {
          "base_uri": "https://localhost:8080/"
        },
        "id": "FmMrRTpeV2NE",
        "outputId": "0d9fd9ef-0d8d-476b-e7f9-3066129a91f4"
      },
      "outputs": [
        {
          "data": {
            "text/plain": [
              "[1, 9, 8, 3, 4, 6, 5]"
            ]
          },
          "execution_count": 93,
          "metadata": {},
          "output_type": "execute_result"
        }
      ],
      "source": [
        "l = [5,6,4,3,8,9,1]\n",
        "l.reverse() # 역 정렬이 아닙니다. 원본을 만집니다.\n",
        "l"
      ]
    },
    {
      "cell_type": "code",
      "execution_count": null,
      "metadata": {
        "colab": {
          "base_uri": "https://localhost:8080/"
        },
        "id": "YPUQwBDgWEXd",
        "outputId": "a1ec2db9-3526-47d3-d24a-fda7136ec283"
      },
      "outputs": [
        {
          "name": "stdout",
          "output_type": "stream",
          "text": [
            "[1, 9, 8, 3, 4, 6, 5]\n",
            "[5, 6, 4, 3, 8, 9, 1]\n"
          ]
        }
      ],
      "source": [
        "l = [5,6,4,3,8,9,1]\n",
        "print(list(reversed(l))) # 역 정렬이 아니고 역순이며 원본을 만지지 않습니다.\n",
        "print(l)"
      ]
    },
    {
      "cell_type": "code",
      "execution_count": null,
      "metadata": {
        "id": "MbK6xQElWZuP"
      },
      "outputs": [],
      "source": [
        "# l.reverse() : 리스트에 메서드 이며, return None입니다! 원본이 역순, 원본을 만집니다.\n",
        "# reversed() : 빌트인펑션이며, return 역순 입니다! 원본을 만지지 않습니다."
      ]
    },
    {
      "cell_type": "code",
      "execution_count": null,
      "metadata": {
        "colab": {
          "base_uri": "https://localhost:8080/"
        },
        "id": "UJmBnrILWwO3",
        "outputId": "24697cda-f61e-42f3-b1c6-9596a4c4e0d8"
      },
      "outputs": [
        {
          "name": "stdout",
          "output_type": "stream",
          "text": [
            "None\n"
          ]
        },
        {
          "data": {
            "text/plain": [
              "[1, 9, 8, 3, 4, 6, 5]"
            ]
          },
          "execution_count": 98,
          "metadata": {},
          "output_type": "execute_result"
        }
      ],
      "source": [
        "l = [5,6,4,3,8,9,1]\n",
        "print(l.reverse())\n",
        "l"
      ]
    },
    {
      "cell_type": "code",
      "execution_count": null,
      "metadata": {
        "colab": {
          "base_uri": "https://localhost:8080/"
        },
        "id": "pcng0m4_W5VP",
        "outputId": "d1b9accd-24db-40cb-b31b-40556ffda39b"
      },
      "outputs": [
        {
          "name": "stdout",
          "output_type": "stream",
          "text": [
            "[1, 9, 8, 3, 4, 6, 5]\n",
            "[5, 6, 4, 3, 8, 9, 1]\n"
          ]
        }
      ],
      "source": [
        "l = [5,6,4,3,8,9,1]\n",
        "print(list(reversed(l)))\n",
        "print(l)"
      ]
    },
    {
      "cell_type": "code",
      "execution_count": null,
      "metadata": {
        "colab": {
          "base_uri": "https://localhost:8080/"
        },
        "id": "jj21m-YLXeE_",
        "outputId": "e2d8fcd7-ddd4-4a00-8bba-dab07969b80c"
      },
      "outputs": [
        {
          "data": {
            "text/plain": [
              "<list_reverseiterator at 0x7f46a27f0be0>"
            ]
          },
          "execution_count": 101,
          "metadata": {},
          "output_type": "execute_result"
        }
      ],
      "source": [
        "reversed(l)"
      ]
    },
    {
      "cell_type": "code",
      "execution_count": null,
      "metadata": {
        "colab": {
          "base_uri": "https://localhost:8080/"
        },
        "id": "vIhTAFnEXe0B",
        "outputId": "e48f7064-f72f-4901-b69e-a0cfa007ac60"
      },
      "outputs": [
        {
          "name": "stdout",
          "output_type": "stream",
          "text": [
            "<class 'range'>\n"
          ]
        }
      ],
      "source": [
        "print(type(range(10)))"
      ]
    },
    {
      "attachments": {},
      "cell_type": "markdown",
      "metadata": {
        "id": "h9favuBsH2qf"
      },
      "source": [
        "## sort"
      ]
    },
    {
      "cell_type": "code",
      "execution_count": null,
      "metadata": {
        "colab": {
          "base_uri": "https://localhost:8080/"
        },
        "id": "Ful-pxWZXjkr",
        "outputId": "c2b8d72e-41ef-439d-f3ed-d605c9f84813"
      },
      "outputs": [
        {
          "data": {
            "text/plain": [
              "[1, 2, 2, 3, 4, 5, 5, 8, 9, 10]"
            ]
          },
          "execution_count": 7,
          "metadata": {},
          "output_type": "execute_result"
        }
      ],
      "source": [
        "l = [1,5,4,2,8,5,10,9,2,3]\n",
        "l.sort() # 원본을 만지고 , 반환값은 None\n",
        "l"
      ]
    },
    {
      "cell_type": "code",
      "execution_count": null,
      "metadata": {
        "colab": {
          "base_uri": "https://localhost:8080/"
        },
        "id": "uebNWB7FIe5x",
        "outputId": "3df1760c-37ee-4676-c43e-6c7b5e48f34c"
      },
      "outputs": [
        {
          "name": "stdout",
          "output_type": "stream",
          "text": [
            "[1, 2, 2, 3, 4, 5, 5, 8, 9, 10]\n",
            "[1, 5, 4, 2, 8, 5, 10, 9, 2, 3]\n"
          ]
        }
      ],
      "source": [
        "l = [1,5,4,2,8,5,10,9,2,3]\n",
        "print(sorted([1, 5 , 4, 2, 8, 5, 10, 9, 2, 3]))\n",
        "# 원본을 만지지 않고 , 반환값은 정렬된 값\n",
        "print(l)"
      ]
    },
    {
      "cell_type": "code",
      "execution_count": null,
      "metadata": {
        "colab": {
          "base_uri": "https://localhost:8080/"
        },
        "id": "j0sNi1SRIm-H",
        "outputId": "2f6231b7-cb30-4f69-cbc4-f5660dc7db55"
      },
      "outputs": [
        {
          "data": {
            "text/plain": [
              "[10, 9, 8, 5, 5, 4, 3, 2, 2, 1]"
            ]
          },
          "execution_count": 11,
          "metadata": {},
          "output_type": "execute_result"
        }
      ],
      "source": [
        "# 이렇게 실무에서 진행하진 않습니다.\n",
        "l = [1,5,4,2,8,5,10,9,2,3]\n",
        "l.sort()\n",
        "l.reverse()\n",
        "l"
      ]
    },
    {
      "cell_type": "code",
      "execution_count": null,
      "metadata": {
        "colab": {
          "base_uri": "https://localhost:8080/"
        },
        "id": "wFIQlAs3I7Yn",
        "outputId": "1a7e8cfd-d07e-42b8-9d19-ced628faf46d"
      },
      "outputs": [
        {
          "data": {
            "text/plain": [
              "[10, 9, 8, 5, 5, 4, 3, 2, 2, 1]"
            ]
          },
          "execution_count": 12,
          "metadata": {},
          "output_type": "execute_result"
        }
      ],
      "source": [
        "l = [1,5,4,2,8,5,10,9,2,3]\n",
        "l.sort(reverse=True) # 내림차순\n",
        "l"
      ]
    },
    {
      "cell_type": "code",
      "execution_count": null,
      "metadata": {
        "colab": {
          "base_uri": "https://localhost:8080/"
        },
        "id": "Ie3ys2FyI-Li",
        "outputId": "4954fbea-c868-4d80-8a02-07e728b628d1"
      },
      "outputs": [
        {
          "data": {
            "text/plain": [
              "[10, 9, 8, 5, 5, 4, 3, 2, 2, 1]"
            ]
          },
          "execution_count": 13,
          "metadata": {},
          "output_type": "execute_result"
        }
      ],
      "source": [
        "l = [1,5,4,2,8,5,10,9,2,3]\n",
        "sorted(l,reverse=True) # 내림차순"
      ]
    },
    {
      "cell_type": "code",
      "execution_count": null,
      "metadata": {
        "colab": {
          "base_uri": "https://localhost:8080/"
        },
        "id": "oskX3RgGJccs",
        "outputId": "c0a3b084-c204-4acf-a47c-f7555b44670a"
      },
      "outputs": [
        {
          "name": "stdout",
          "output_type": "stream",
          "text": [
            "[[55, 11, 'sun'], [20, 30, 'hojun'], [10, 20, 'weniv!'], [1, 10, 'leehojun'], [1, 2, 'hello world']]\n",
            "[[55, 11, 'sun'], [20, 30, 'hojun'], [10, 20, 'weniv!'], [1, 10, 'leehojun'], [1, 2, 'hello world']]\n",
            "[[1, 2, 'hello world'], [1, 10, 'leehojun'], [10, 20, 'weniv!'], [20, 30, 'hojun'], [55, 11, 'sun']]\n",
            "[[1, 10, 'leehojun'], [1, 2, 'hello world'], [10, 20, 'weniv!'], [20, 30, 'hojun'], [55, 11, 'sun']]\n",
            "[[1, 10, 'leehojun'], [1, 2, 'hello world'], [10, 20, 'weniv!'], [20, 30, 'hojun'], [55, 11, 'sun']]\n",
            "[[1, 2, 'hello world'], [1, 10, 'leehojun'], [10, 20, 'weniv!'], [20, 30, 'hojun'], [55, 11, 'sun']]\n",
            "[[1, 2, 'hello world'], [1, 10, 'leehojun'], [55, 11, 'sun'], [10, 20, 'weniv!'], [20, 30, 'hojun']]\n",
            "[[1, 2, 'hello world'], [1, 10, 'leehojun'], [55, 11, 'sun'], [10, 20, 'weniv!'], [20, 30, 'hojun']]\n",
            "[[1, 2, 13], [1, 10, 32], [10, 20, 22], [20, 30, 11], [55, 11, 44]]\n",
            "[[1, 2, 13], [1, 10, 32], [10, 20, 22], [20, 30, 11], [55, 11, 44]]\n",
            "[[1, 2, 13], [1, 10, 32], [10, 20, 22], [20, 30, 11], [55, 11, 44]]\n",
            "[[1, 2, 13], [1, 10, 32], [10, 20, 22], [20, 30, 11], [55, 11, 44]]\n"
          ]
        }
      ],
      "source": [
        "l = [[1, 10, 'kanghyunwoo'], \n",
        "     [20, 30, 'hojun'], \n",
        "     [10, 20, 'weniv!'], \n",
        "     [1, 2, 'hello world'], \n",
        "     [55, 11, 'sun']]\n",
        "\n",
        "# 1. 글자 수 대로 정렬해주세요.\n",
        "def f(x):\n",
        "    return len(x[2])\n",
        "\n",
        "print(sorted(l, key=f, reverse=False))\n",
        "print(sorted(l, key=lambda x:len(x[2]), reverse=False))\n",
        "\n",
        "# 2. 맨 앞에 위치한 숫자대로 정렬해주세요.\n",
        "def f2(x):\n",
        "    return x[0]\n",
        "\n",
        "print(sorted(l))\n",
        "print(sorted(l, key=f2))\n",
        "print(sorted(l, key=lambda x:x[0]))\n",
        "\n",
        "# 3. 중앙에 위치한 값대로 정렬해주세요.\n",
        "\n",
        "def f3(x):\n",
        "    return x[1]\n",
        "\n",
        "print(sorted(l))\n",
        "print(sorted(l, key=f3))\n",
        "print(sorted(l, key=lambda x:x[1]))\n",
        "\n",
        "l = [[1, 10, 32], \n",
        "     [20, 30, 11], \n",
        "     [10, 20, 22], \n",
        "     [1, 2, 13], \n",
        "     [55, 11, 44]]\n",
        "\n",
        "\n",
        "# 4. 3개의 전체 합이 작은 순서대로 출력해주세요.\n",
        "\n",
        "def f4(x):\n",
        "    return x[0] + x[1] + x[2]\n",
        "\n",
        "def f5(x):\n",
        "    return sum(x)\n",
        "\n",
        "print(sorted(l, key=f4))\n",
        "print(sorted(l, key=f5))\n",
        "print(sorted(l, key=lambda x: sum(x)))\n",
        "print(sorted(l, key=sum))"
      ]
    },
    {
      "cell_type": "code",
      "execution_count": null,
      "metadata": {
        "colab": {
          "base_uri": "https://localhost:8080/"
        },
        "id": "TnDlyF6sK2uS",
        "outputId": "800c956f-d43f-4519-a748-9eedde63e750"
      },
      "outputs": [
        {
          "data": {
            "text/plain": [
              "[3, 4, 8, 13, 17, 20]"
            ]
          },
          "execution_count": 24,
          "metadata": {},
          "output_type": "execute_result"
        }
      ],
      "source": [
        "# \n",
        "# 좌표 평면 문제가 나오면 차원 축소나 차원 확대가 가능한 문제인지 확인인\n",
        "\n",
        "point = [1,3,4,8,13,17,20]\n",
        "point[1:]"
      ]
    },
    {
      "cell_type": "code",
      "execution_count": null,
      "metadata": {
        "colab": {
          "base_uri": "https://localhost:8080/"
        },
        "id": "nJqVN6HZORfh",
        "outputId": "e222a007-89c4-49fa-ce01-846e538b49c9"
      },
      "outputs": [
        {
          "data": {
            "text/plain": [
              "[('h', 'w'), ('e', 'o'), ('l', 'r'), ('l', 'l'), ('o', 'd')]"
            ]
          },
          "execution_count": 25,
          "metadata": {},
          "output_type": "execute_result"
        }
      ],
      "source": [
        "list(zip('hello','world'))"
      ]
    },
    {
      "cell_type": "code",
      "execution_count": null,
      "metadata": {
        "colab": {
          "base_uri": "https://localhost:8080/"
        },
        "id": "dmVVTsyROm06",
        "outputId": "6cb4f7bc-3a88-498a-f166-014ea56c8b3e"
      },
      "outputs": [
        {
          "data": {
            "text/plain": [
              "[(1, 3), (3, 4), (4, 8), (8, 13), (13, 17), (17, 20)]"
            ]
          },
          "execution_count": 26,
          "metadata": {},
          "output_type": "execute_result"
        }
      ],
      "source": [
        "list(zip(point,point[1:]))"
      ]
    },
    {
      "cell_type": "code",
      "execution_count": null,
      "metadata": {
        "colab": {
          "base_uri": "https://localhost:8080/"
        },
        "id": "qGlEj88EOxWB",
        "outputId": "6642d7f3-643a-4149-b4a7-d13b43b3ccfd"
      },
      "outputs": [
        {
          "name": "stdout",
          "output_type": "stream",
          "text": [
            "(3, 4)\n"
          ]
        }
      ],
      "source": [
        "def f(x):\n",
        "    return x[1]-x[0]\n",
        "print(sorted(zip(point,point[1:]),key=f)[0])"
      ]
    },
    {
      "cell_type": "code",
      "execution_count": null,
      "metadata": {
        "colab": {
          "base_uri": "https://localhost:8080/"
        },
        "id": "XQNCqQ74Ttp2",
        "outputId": "edaed1e1-d6ec-432c-bec1-25be486ad0bb"
      },
      "outputs": [
        {
          "name": "stdout",
          "output_type": "stream",
          "text": [
            "(3, 4)\n"
          ]
        }
      ],
      "source": [
        "print(sorted(zip(point,point[1:]),key=lambda x:x[1]-x[0])[0])"
      ]
    },
    {
      "cell_type": "code",
      "execution_count": null,
      "metadata": {
        "colab": {
          "base_uri": "https://localhost:8080/"
        },
        "id": "hcZga0z6T10W",
        "outputId": "35bfc36b-ff3a-48f1-d120-c2ea89e0a823"
      },
      "outputs": [
        {
          "data": {
            "text/plain": [
              "[2, 0, 1]"
            ]
          },
          "execution_count": 39,
          "metadata": {},
          "output_type": "execute_result"
        }
      ],
      "source": [
        "# https://school.programmers.co.kr/learn/courses/30/lesson/120835\n",
        "# 응급도\n",
        "# [3, 76 ,24]\n",
        "# 우선순위\n",
        "# [3, 1, 2]\n",
        "\n",
        "l = [3, 76 ,24]\n",
        "정렬된값 = sorted(l,reverse=True)\n",
        "정렬된값 # [76 ,24 ,3]\n",
        "# 우리가 원하는 값 [2,0,1]\n",
        "\n",
        "결과값 = [\n",
        "    정렬된값.index(l[0]),\n",
        "    정렬된값.index(l[1]),\n",
        "    정렬된값.index(l[2])\n",
        "    ]\n",
        "\n",
        "결과값"
      ]
    },
    {
      "attachments": {},
      "cell_type": "markdown",
      "metadata": {
        "id": "m3tWl0ukP8s4"
      },
      "source": [
        "## 깊은 복사와 얕은 복사"
      ]
    },
    {
      "cell_type": "code",
      "execution_count": null,
      "metadata": {
        "colab": {
          "base_uri": "https://localhost:8080/"
        },
        "id": "AaEFtU6KTvW6",
        "outputId": "797820df-3e9f-4fca-c480-536e33ae2b3a"
      },
      "outputs": [
        {
          "data": {
            "text/plain": [
              "([[10, 2, 3], [4, 5, 6]], [[10, 2, 3], [4, 5, 6]])"
            ]
          },
          "execution_count": 42,
          "metadata": {},
          "output_type": "execute_result"
        }
      ],
      "source": [
        "# 아무런 복사도 이뤄지지 않은 상태\n",
        "l = [[1,2,3],[4,5,6]]\n",
        "ll = l\n",
        "ll[0][0] = 10\n",
        "l, ll "
      ]
    },
    {
      "cell_type": "code",
      "execution_count": null,
      "metadata": {
        "colab": {
          "base_uri": "https://localhost:8080/"
        },
        "id": "QKZhBRmXW1pY",
        "outputId": "6221efe6-b425-431d-d161-a11eb28ea0c9"
      },
      "outputs": [
        {
          "data": {
            "text/plain": [
              "([1, 2, 3, 4, 5, 6], [10, 2, 3, 4, 5, 6])"
            ]
          },
          "execution_count": 45,
          "metadata": {},
          "output_type": "execute_result"
        }
      ],
      "source": [
        "# 얕은 복사\n",
        "l = [1000,2000,3000,4000,5000,6000]\n",
        "ll = l.copy()\n",
        "ll[0] = 10\n",
        "l, ll "
      ]
    },
    {
      "cell_type": "code",
      "execution_count": null,
      "metadata": {
        "colab": {
          "base_uri": "https://localhost:8080/"
        },
        "id": "1AviF1TRX65-",
        "outputId": "064c8951-1944-4340-f392-f8158ffcc0b6"
      },
      "outputs": [
        {
          "data": {
            "text/plain": [
              "(140430005727440, 140430005727440, 140430005727440, 140430005727440)"
            ]
          },
          "execution_count": 50,
          "metadata": {},
          "output_type": "execute_result"
        }
      ],
      "source": [
        "l = [1000,2000,3000,1000,1000,1000]\n",
        "id(l[0]), id(l[3]), id(l[4]), id(l[5])"
      ]
    },
    {
      "cell_type": "code",
      "execution_count": null,
      "metadata": {
        "colab": {
          "base_uri": "https://localhost:8080/"
        },
        "id": "sExB9FqSXAMX",
        "outputId": "819341be-8451-4d6f-8818-dbf1ebfdd483"
      },
      "outputs": [
        {
          "data": {
            "text/plain": [
              "(140430005718992, 140430005718992)"
            ]
          },
          "execution_count": 48,
          "metadata": {},
          "output_type": "execute_result"
        }
      ],
      "source": [
        "# 얕은 복사\n",
        "l = [1000,2000,3000,4000,5000,6000]\n",
        "ll = l.copy()\n",
        "id(l[0]) , id(ll[0]) # 같은 값이 나오니까 같은 객체를 가리키고 있다?"
      ]
    },
    {
      "cell_type": "code",
      "execution_count": null,
      "metadata": {
        "colab": {
          "base_uri": "https://localhost:8080/"
        },
        "id": "HRK1bl8VXNK1",
        "outputId": "411967ad-e407-4cd0-b955-0d2f0aab5668"
      },
      "outputs": [
        {
          "data": {
            "text/plain": [
              "(140430482879808, 140430483091328)"
            ]
          },
          "execution_count": 47,
          "metadata": {},
          "output_type": "execute_result"
        }
      ],
      "source": [
        "# 얕은 복사\n",
        "l = [1000,2000,3000,4000,5000,6000]\n",
        "ll = l.copy()\n",
        "id(l) , id(ll)"
      ]
    },
    {
      "cell_type": "code",
      "execution_count": null,
      "metadata": {
        "colab": {
          "base_uri": "https://localhost:8080/"
        },
        "id": "uDKqqjeQWnA7",
        "outputId": "37641bcd-0042-4921-d0b0-6f273697fc4a"
      },
      "outputs": [
        {
          "data": {
            "text/plain": [
              "([[10, 2, 3], [4, 5, 6]], [[10, 2, 3], [4, 5, 6]])"
            ]
          },
          "execution_count": 44,
          "metadata": {},
          "output_type": "execute_result"
        }
      ],
      "source": [
        "# 얕은 복사\n",
        "l = [[1,2,3],[4,5,6]]\n",
        "ll = l.copy()\n",
        "ll[0][0] = 10\n",
        "l, ll "
      ]
    },
    {
      "cell_type": "code",
      "execution_count": null,
      "metadata": {
        "colab": {
          "base_uri": "https://localhost:8080/"
        },
        "id": "zNpu0qskYemT",
        "outputId": "4f234741-9226-435d-cb58-30f3f8f47a61"
      },
      "outputs": [
        {
          "data": {
            "text/plain": [
              "(140430005727440, 140430005718992)"
            ]
          },
          "execution_count": 51,
          "metadata": {},
          "output_type": "execute_result"
        }
      ],
      "source": [
        "id(l[0]) , id(ll[0])"
      ]
    },
    {
      "cell_type": "code",
      "execution_count": null,
      "metadata": {
        "colab": {
          "base_uri": "https://localhost:8080/"
        },
        "id": "8uW5G1ziY04H",
        "outputId": "ff9be5fe-4e05-403a-a799-372f7c3cce54"
      },
      "outputs": [
        {
          "data": {
            "text/plain": [
              "([[1, 2, 3], [4, 5, 6]], [100, [4, 5, 6]])"
            ]
          },
          "execution_count": 53,
          "metadata": {},
          "output_type": "execute_result"
        }
      ],
      "source": [
        "# 얕은 복사는 1depth까지만 복사한다!\n",
        "l = [[1,2,3],[4,5,6]]\n",
        "ll = l.copy()\n",
        "ll[0] = 100\n",
        "l, ll "
      ]
    },
    {
      "cell_type": "code",
      "execution_count": null,
      "metadata": {
        "colab": {
          "base_uri": "https://localhost:8080/"
        },
        "id": "cqjVb30vZBk4",
        "outputId": "7650876c-244b-4db6-9aed-90238c54313f"
      },
      "outputs": [
        {
          "data": {
            "text/plain": [
              "([[1, 2, 3], [4, 5, 6]], [[10, 2, 3], [4, 5, 6]])"
            ]
          },
          "execution_count": 54,
          "metadata": {},
          "output_type": "execute_result"
        }
      ],
      "source": [
        "# 깊은 복사는 끝까지 다 복사함!\n",
        "import copy\n",
        "\n",
        "l = [[1,2,3],[4,5,6]]\n",
        "ll = copy.deepcopy(l)\n",
        "ll[0][0] = 10\n",
        "l, ll "
      ]
    },
    {
      "cell_type": "code",
      "execution_count": null,
      "metadata": {
        "colab": {
          "base_uri": "https://localhost:8080/"
        },
        "id": "AltDDZKwZcoO",
        "outputId": "0c561459-8ad2-4a78-f535-e6ad2b32bd90"
      },
      "outputs": [
        {
          "data": {
            "text/plain": [
              "(140431251538160, 140431251538448)"
            ]
          },
          "execution_count": 58,
          "metadata": {},
          "output_type": "execute_result"
        }
      ],
      "source": [
        "# 깊은 복사는 끝까지 다 복사함!\n",
        "import copy\n",
        "\n",
        "l = [[1,2,3],[4,5,6]]\n",
        "ll = copy.deepcopy(l)\n",
        "ll[0][0] = 10\n",
        "id(l), id(ll)\n",
        "id(l[0]), id(ll[0])\n",
        "id(l[0][0]), id(ll[0][0])"
      ]
    },
    {
      "cell_type": "code",
      "execution_count": null,
      "metadata": {
        "colab": {
          "base_uri": "https://localhost:8080/"
        },
        "id": "mftP8aKhZpgD",
        "outputId": "163d12e5-165b-4391-d593-e2d052850fba"
      },
      "outputs": [
        {
          "data": {
            "text/plain": [
              "(140431251538160, 140431251538160)"
            ]
          },
          "execution_count": 61,
          "metadata": {},
          "output_type": "execute_result"
        }
      ],
      "source": [
        "# 깊은 복사는 끝까지 다 복사함!\n",
        "import copy\n",
        "\n",
        "l = [[1,2,[1,[999,998]]],[4,5,[2,[333,332]]]]\n",
        "ll = copy.deepcopy(l)\n",
        "ll[0][2][1][0] = 10\n",
        "l, ll\n",
        "id(l), id(ll)\n",
        "id(l[0]), id(ll[0])\n",
        "id(l[0][0]), id(ll[0][0])"
      ]
    },
    {
      "attachments": {},
      "cell_type": "markdown",
      "metadata": {
        "id": "hm5Z3eHLaNLW"
      },
      "source": [
        "* 얕은 복사는 1 계층만 복사합니다.\n",
        "* 깊은 복사는 n 계층까지 모두 복사합니다."
      ]
    },
    {
      "attachments": {},
      "cell_type": "markdown",
      "metadata": {
        "id": "7obOM8neah1Z"
      },
      "source": [
        "* 나를 이해시키는 단 하나의 코드는 반드시 존재합니다."
      ]
    },
    {
      "cell_type": "code",
      "execution_count": null,
      "metadata": {
        "colab": {
          "base_uri": "https://localhost:8080/"
        },
        "id": "FtI8ZoD5axPu",
        "outputId": "2e5f447c-5111-4bf1-c5d4-1a3727499582"
      },
      "outputs": [
        {
          "data": {
            "text/plain": [
              "([100, [4, 5, 6]], [[1, 2, 3], [4, 5, 6]])"
            ]
          },
          "execution_count": 62,
          "metadata": {},
          "output_type": "execute_result"
        }
      ],
      "source": [
        "# 얕은 복사\n",
        "l = [[1,2,3],[4,5,6]]\n",
        "ll = l[:] # l.copy를 써도 마찬가지입니다.\n",
        "l[0] = 100\n",
        "l, ll"
      ]
    },
    {
      "cell_type": "code",
      "execution_count": null,
      "metadata": {
        "colab": {
          "base_uri": "https://localhost:8080/"
        },
        "id": "3yUVkGaLfe1J",
        "outputId": "b16cc391-3f84-4094-a3a3-538c27f28f83"
      },
      "outputs": [
        {
          "data": {
            "text/plain": [
              "([[100, 2], [3, 4], [5, 6]], [[100, 2], [3, 4], [5, 6]])"
            ]
          },
          "execution_count": 67,
          "metadata": {},
          "output_type": "execute_result"
        }
      ],
      "source": [
        "# sorted도 얕은 복사!\n",
        "l = [[1,2],[3,4],[5,6]]\n",
        "ll = sorted(l)\n",
        "l[0][0] = 100\n",
        "l, ll"
      ]
    },
    {
      "cell_type": "code",
      "execution_count": null,
      "metadata": {
        "colab": {
          "base_uri": "https://localhost:8080/"
        },
        "id": "FLOHhEvSbdRy",
        "outputId": "016179d0-8338-4e8d-919c-af45ea4a965b"
      },
      "outputs": [
        {
          "data": {
            "text/plain": [
              "([100, [4, 5, 6]], [[1, 2, 3], [4, 5, 6]])"
            ]
          },
          "execution_count": 63,
          "metadata": {},
          "output_type": "execute_result"
        }
      ],
      "source": [
        "# 얕은 복사\n",
        "# 리스트 컴프리헨션은 안배운 내용이니 keep 해두시고\n",
        "# for문 배운다음 다시 오셔서 복습하시기를 권해드립니다.\n",
        "\n",
        "l = [[1,2,3],[4,5,6]]\n",
        "ll = [i for i in l]\n",
        "l[0][0] = 100\n",
        "l, ll"
      ]
    },
    {
      "cell_type": "code",
      "execution_count": null,
      "metadata": {
        "colab": {
          "base_uri": "https://localhost:8080/"
        },
        "id": "gL_pAkN7b6ih",
        "outputId": "66643ac0-e417-40c1-a5cf-ad03f958906e"
      },
      "outputs": [
        {
          "data": {
            "text/plain": [
              "([[100, 2, 3], [4, 5, 6]], [[1, 2, 3], [4, 5, 6]])"
            ]
          },
          "execution_count": 64,
          "metadata": {},
          "output_type": "execute_result"
        }
      ],
      "source": [
        "# 1단계 깊은 복사\n",
        "# 리스트 컴프리헨션은 안배운 내용이니 keep해두시고\n",
        "# for문 배운다음 다시 오셔서 복습하시기를 권해드립니다.\n",
        "l = [[1, 2, 3], [4, 5, 6]]\n",
        "ll = [i[:] for i in l]\n",
        "l[0][0] = 100\n",
        "l, ll"
      ]
    },
    {
      "attachments": {},
      "cell_type": "markdown",
      "metadata": {
        "id": "wjovoT7QccWC"
      },
      "source": [
        "## 다차원 리스트"
      ]
    },
    {
      "cell_type": "code",
      "execution_count": null,
      "metadata": {
        "colab": {
          "base_uri": "https://localhost:8080/"
        },
        "id": "MN-i2O9Dce-f",
        "outputId": "965ee19d-91cc-4e33-d78e-5062ce628765"
      },
      "outputs": [
        {
          "name": "stdout",
          "output_type": "stream",
          "text": [
            "jun\n"
          ]
        }
      ],
      "source": [
        "a = [[1,2,3],\n",
        "     [11,22,33],\n",
        "     ['kanghyunwoo',20,30]]\n",
        "\n",
        "# 문제 : jun만 뽑아주세요!\n",
        "\n",
        "a[2][0][-3:]\n",
        "a[2][0][5:]\n",
        "print(a[2][0][5],a[2][0][6],a[2][0][7],sep='')"
      ]
    },
    {
      "attachments": {},
      "cell_type": "markdown",
      "metadata": {
        "id": "Vc53RdikgOjR"
      },
      "source": [
        "## 리스트에서 built-in function을 활용"
      ]
    },
    {
      "attachments": {},
      "cell_type": "markdown",
      "metadata": {
        "id": "EUbzkFGXhDME"
      },
      "source": [
        "* 알아야 하는 built-in function\n",
        "\n",
        "    ```\n",
        "    A\n",
        "    abs()\n",
        "    all()\n",
        "    any()\n",
        "\n",
        "    B\n",
        "    bin()\n",
        "    bool()\n",
        "\n",
        "    C\n",
        "    chr()\n",
        "\n",
        "    D\n",
        "    dict()\n",
        "    dir()\n",
        "\n",
        "    E\n",
        "    enumerate()\n",
        "    eval()\n",
        "\n",
        "    F\n",
        "    filter()\n",
        "    float()\n",
        "\n",
        "    G\n",
        "    globals()\n",
        "\n",
        "    H\n",
        "    help()\n",
        "    hex()\n",
        "\n",
        "    I\n",
        "    id()\n",
        "    input()\n",
        "    int()\n",
        "    isinstance()\n",
        "    issubclass()\n",
        "    iter()\n",
        "\n",
        "    L\n",
        "    len()\n",
        "    list()\n",
        "    locals()\n",
        "\n",
        "    M\n",
        "    map()\n",
        "    max()\n",
        "    min()\n",
        "\n",
        "    N\n",
        "    next()\n",
        "\n",
        "    O\n",
        "    object()\n",
        "    oct()\n",
        "    open()\n",
        "    ord()\n",
        "\n",
        "    P\n",
        "    pow()\n",
        "    print()\n",
        "    property()\n",
        "\n",
        "    R\n",
        "    range()\n",
        "    repr()\n",
        "    reversed()\n",
        "    round()\n",
        "\n",
        "    S\n",
        "    set()\n",
        "    setattr()\n",
        "    slice()\n",
        "    sorted()\n",
        "    staticmethod()\n",
        "    str()\n",
        "    sum()\n",
        "    super()\n",
        "\n",
        "    T\n",
        "    tuple()\n",
        "    type()\n",
        "\n",
        "    V\n",
        "    vars()\n",
        "\n",
        "    Z\n",
        "    zip()\n",
        "    ```"
      ]
    },
    {
      "cell_type": "code",
      "execution_count": null,
      "metadata": {
        "colab": {
          "base_uri": "https://localhost:8080/"
        },
        "id": "jXEhffefgN94",
        "outputId": "60251657-f3ca-4344-9363-127367324f65"
      },
      "outputs": [
        {
          "name": "stdout",
          "output_type": "stream",
          "text": [
            "8\n",
            "1\n",
            "36\n"
          ]
        }
      ],
      "source": [
        "a = [1,2,3,4,5,6,7,8]\n",
        "print(max(a)) #최댓갑\n",
        "print(min(a)) #최솟갑\n",
        "print(sum(a)) #전체값의 합"
      ]
    },
    {
      "cell_type": "code",
      "execution_count": null,
      "metadata": {
        "colab": {
          "base_uri": "https://localhost:8080/"
        },
        "id": "voKYV6uciFXe",
        "outputId": "0f96477a-1649-44d1-97ea-01b03e4a3ae0"
      },
      "outputs": [
        {
          "data": {
            "text/plain": [
              "[11, 22, 33, 'aaa']"
            ]
          },
          "execution_count": 71,
          "metadata": {},
          "output_type": "execute_result"
        }
      ],
      "source": [
        "#2차원\n",
        "a = [[1, 2, 3, 'a'],\n",
        "     [11, 22, 33, 'aaa'],\n",
        "     [10, 2000, 30, 'aa']]\n",
        "\n",
        "max(a, key=lambda x:x[1])\n",
        "max(a, key=lambda x:len(x[3]))"
      ]
    },
    {
      "cell_type": "code",
      "execution_count": null,
      "metadata": {
        "colab": {
          "base_uri": "https://localhost:8080/"
        },
        "id": "7JFZHDcYiWfr",
        "outputId": "e6b92114-92a3-45fd-9994-6ccd1f3054ed"
      },
      "outputs": [
        {
          "data": {
            "text/plain": [
              "['사스트소프트 호텔', 3, 70, 135000]"
            ]
          },
          "execution_count": 73,
          "metadata": {},
          "output_type": "execute_result"
        }
      ],
      "source": [
        "# 이름 별점 객실수 가격격\n",
        "호텔 = [\n",
        "     ['이스트소프트 호텔',5, 100, 155000],\n",
        "     ['삼스트소프트 호텔',4, 80, 145000],\n",
        "     ['사스트소프트 호텔',3, 70, 135000],\n",
        "      # 마지막에 콤마를 허락하는 언어는 제한적(특히 JSON에서는 엄격해서 허락하지 않습니다.)\n",
        "      ]\n",
        "max(호텔, key=lambda x:x[3]) # 가장 가격이 높은 것을 뽑아낼 수 있음\n",
        "min(호텔, key=lambda x:x[3]) # 가장 가격이 낮은 것을 뽑아낼 수 있음음"
      ]
    },
    {
      "cell_type": "code",
      "execution_count": null,
      "metadata": {
        "id": "EAfac7kmh0nh"
      },
      "outputs": [],
      "source": [
        "#2차원\n",
        "a = [[1, 2, 3],\n",
        "     [11, 22, 33],\n",
        "     [10, 2000, 30]]\n",
        "\n",
        "max(a, key=lambda x:x[1])\n",
        "min(a, key=lambda x:x[1])\n",
        "# sum(a) error\n",
        "sum(a, [])"
      ]
    },
    {
      "attachments": {},
      "cell_type": "markdown",
      "metadata": {
        "id": "jNzMXNR0ke8Y"
      },
      "source": [
        "## 리스트의 순회"
      ]
    },
    {
      "cell_type": "code",
      "execution_count": null,
      "metadata": {
        "colab": {
          "base_uri": "https://localhost:8080/"
        },
        "id": "KFbs8cMWkhGo",
        "outputId": "428eaed3-94ad-4e99-d503-d1c3d7c3f567"
      },
      "outputs": [
        {
          "name": "stdout",
          "output_type": "stream",
          "text": [
            "1\n",
            "2\n",
            "3\n",
            "4\n",
            "5\n",
            "6\n",
            "7\n",
            "8\n"
          ]
        }
      ],
      "source": [
        "#1차원\n",
        "a = [1, 2, 3, 4, 5, 6, 7, 8]\n",
        "\n",
        "# for 변수 in 순회가능한 객체\n",
        "for i in a:\n",
        "     print(i)"
      ]
    },
    {
      "cell_type": "code",
      "execution_count": null,
      "metadata": {
        "colab": {
          "base_uri": "https://localhost:8080/"
        },
        "id": "4Dxgehuxku4C",
        "outputId": "a1da5e78-0930-4efd-abf5-151f7d2306f2"
      },
      "outputs": [
        {
          "name": "stdout",
          "output_type": "stream",
          "text": [
            "[1, 2, 3]\n",
            "---\n",
            "[11, 22, 33]\n",
            "---\n",
            "[13, 20000, 300000]\n",
            "---\n",
            "end\n"
          ]
        }
      ],
      "source": [
        "# 2차원\n",
        "a=[[1,2,3],\n",
        "   [11,22,33],\n",
        "   [13,20000,300000]]\n",
        "\n",
        "for i in a:\n",
        "    print(i)\n",
        "    print('---')\n",
        "print('end')\n"
      ]
    },
    {
      "cell_type": "code",
      "execution_count": null,
      "metadata": {
        "colab": {
          "base_uri": "https://localhost:8080/"
        },
        "id": "LmhZVHJIlYIc",
        "outputId": "1a163c0b-bae8-4fc4-8ce7-ef58eb72c725"
      },
      "outputs": [
        {
          "name": "stdout",
          "output_type": "stream",
          "text": [
            "1\n",
            "---\n",
            "2\n",
            "---\n",
            "3\n",
            "---\n",
            "11\n",
            "---\n",
            "22\n",
            "---\n",
            "33\n",
            "---\n",
            "13\n",
            "---\n",
            "20000\n",
            "---\n",
            "300000\n",
            "---\n",
            "end\n"
          ]
        }
      ],
      "source": [
        "# 2차원\n",
        "a=[[1,2,3],\n",
        "   [11,22,33],\n",
        "   [13,20000,300000]]\n",
        "\n",
        "for i in a:\n",
        "    for j in i:\n",
        "        print(j)\n",
        "        print('---')\n",
        "print('end')"
      ]
    },
    {
      "attachments": {},
      "cell_type": "markdown",
      "metadata": {
        "id": "R21AeyJEmwOp"
      },
      "source": [
        "## range"
      ]
    },
    {
      "cell_type": "code",
      "execution_count": null,
      "metadata": {
        "colab": {
          "base_uri": "https://localhost:8080/"
        },
        "id": "_0qlCrqdnDQJ",
        "outputId": "cfdbaa5c-1435-4986-e8ec-301061230dc0"
      },
      "outputs": [
        {
          "name": "stdout",
          "output_type": "stream",
          "text": [
            "[0, 1, 2, 3, 4, 5, 6, 7, 8, 9, 10, 11, 12, 13, 14, 15, 16, 17, 18, 19, 20, 21, 22, 23, 24, 25, 26, 27, 28, 29, 30, 31, 32, 33, 34, 35, 36, 37, 38, 39, 40, 41, 42, 43, 44, 45, 46, 47, 48, 49, 50, 51, 52, 53, 54, 55, 56, 57, 58, 59, 60, 61, 62, 63, 64, 65, 66, 67, 68, 69, 70, 71, 72, 73, 74, 75, 76, 77, 78, 79, 80, 81, 82, 83, 84, 85, 86, 87, 88, 89, 90, 91, 92, 93, 94, 95, 96, 97, 98, 99]\n",
            "[5, 6, 7, 8, 9]\n",
            "[0, 2, 4, 6, 8, 10, 12, 14, 16, 18, 20, 22, 24, 26, 28, 30, 32, 34, 36, 38, 40, 42, 44, 46, 48, 50, 52, 54, 56, 58, 60, 62, 64, 66, 68, 70, 72, 74, 76, 78, 80, 82, 84, 86, 88, 90, 92, 94, 96, 98, 100]\n",
            "[1, 3, 5, 7, 9, 11, 13, 15, 17, 19, 21, 23, 25, 27, 29, 31, 33, 35, 37, 39, 41, 43, 45, 47, 49, 51, 53, 55, 57, 59, 61, 63, 65, 67, 69, 71, 73, 75, 77, 79, 81, 83, 85, 87, 89, 91, 93, 95, 97, 99]\n",
            "[100, 98, 96, 94, 92, 90, 88, 86, 84, 82, 80, 78, 76, 74, 72, 70, 68, 66, 64, 62, 60, 58, 56, 54, 52, 50, 48, 46, 44, 42, 40, 38, 36, 34, 32, 30, 28, 26, 24, 22, 20, 18, 16, 14, 12, 10, 8, 6, 4, 2]\n",
            "5050\n",
            "5050\n"
          ]
        }
      ],
      "source": [
        "# range(start, stop, step)\n",
        "# 슬라이싱과 같은 규칙\n",
        "# 슬라이싱은 ':' (콜론)으로 연결되어 있고\n",
        "# range는 ','(콤마)로 연결되어 있습니다.\n",
        "\n",
        "print(list(range(100))) \n",
        "# python 2.x에서 python 3.x에 range를 사용하고 싶다면 xrange(10)\n",
        "print(list(range(5,10)))\n",
        "\n",
        "print(list(range(0,101,2))) # 짝수\n",
        "print(list(range(1,101,2))) # 홀수\n",
        "print(list(range(100,1,-2))) \n",
        "print(sum(list(range(0,101))))\n",
        "print(sum(range(0,101))) # 이렇게 형 변환을 하지 않고 sum하시는 것을 권합니다.\n"
      ]
    },
    {
      "attachments": {},
      "cell_type": "markdown",
      "metadata": {
        "id": "Qa992lxOpTSZ"
      },
      "source": [
        "## list comprehension"
      ]
    },
    {
      "cell_type": "code",
      "execution_count": null,
      "metadata": {
        "id": "QkFkVCz6pYaP"
      },
      "outputs": [],
      "source": [
        "# l = [1,2,3,4,...]\n",
        "# list(range(1,100))\n",
        "l = []\n",
        "for i in range(1,101):\n",
        "    l.append(i)\n",
        "l"
      ]
    },
    {
      "cell_type": "code",
      "execution_count": null,
      "metadata": {
        "colab": {
          "base_uri": "https://localhost:8080/"
        },
        "id": "CW6MXEbAp7-E",
        "outputId": "7a6fcd8e-335a-49e5-edad-c618f5617237"
      },
      "outputs": [
        {
          "data": {
            "text/plain": [
              "[1, 4, 27, 256, 3125, 46656, 823543, 16777216, 387420489, 10000000000]"
            ]
          },
          "execution_count": 93,
          "metadata": {},
          "output_type": "execute_result"
        }
      ],
      "source": [
        "# l = []\n",
        "# for i in range(1,11):\n",
        "#     l.append(i**i)\n",
        "# l\n",
        "\n",
        "l = [i**i for i in range(1,11)]\n",
        "l\n",
        "\n",
        "l = [i for i in range(1,11)]\n",
        "l"
      ]
    },
    {
      "cell_type": "code",
      "execution_count": null,
      "metadata": {
        "id": "0V8pJcOmqnCR"
      },
      "outputs": [],
      "source": [
        "l = []\n",
        "for i in range(1, 100):\n",
        "    if i %3 == 0 or i %5 == 0:\n",
        "        l.append(i)\n",
        "\n",
        "[i for i in range(1, 100) if i %3 == 0 or i %5 == 0]"
      ]
    },
    {
      "attachments": {},
      "cell_type": "markdown",
      "metadata": {
        "id": "EZr8mdOb9YvM"
      },
      "source": [
        "## tuple (튜플)"
      ]
    },
    {
      "attachments": {},
      "cell_type": "markdown",
      "metadata": {
        "id": "qaHuJ8FU9fk1"
      },
      "source": [
        "- 튜플은 순서가 있는 시퀀스형 자료형입니다.\n",
        "- 참조값은 변경이 불가능(immutable) 합니다.\n",
        "- 다른 자료형을 입력할 수 있으며, 튜플 안에 튜플로 다차원의 튜플을 만드는 것도 가능합니다.\n",
        "- 값의 중복을 허락합니다."
      ]
    },
    {
      "cell_type": "code",
      "execution_count": null,
      "metadata": {
        "id": "DXE_hlZO9pwR"
      },
      "outputs": [],
      "source": [
        "t = (10 ,20 ,30)\n",
        "t[1] = 1000"
      ]
    },
    {
      "cell_type": "code",
      "execution_count": null,
      "metadata": {
        "colab": {
          "base_uri": "https://localhost:8080/"
        },
        "id": "WbDYfBBu-CN_",
        "outputId": "6775668d-643d-4d9b-db94-9f01de8fe1a3"
      },
      "outputs": [
        {
          "data": {
            "text/plain": [
              "([1000, 2, 3], 20, 30)"
            ]
          },
          "execution_count": 94,
          "metadata": {},
          "output_type": "execute_result"
        }
      ],
      "source": [
        "l = [1, 2, 3]\n",
        "t = (l, 20, 30) # 불변인 것은 t가 l을 참조하고 있다는 것이 불변변\n",
        "l[0] = 1000\n",
        "t"
      ]
    },
    {
      "cell_type": "code",
      "execution_count": null,
      "metadata": {
        "id": "MkxRW2bI_AnK"
      },
      "outputs": [],
      "source": [
        "t = (10, 20, 30, 40, 50)\n",
        "t[:3]"
      ]
    },
    {
      "cell_type": "code",
      "execution_count": null,
      "metadata": {
        "colab": {
          "base_uri": "https://localhost:8080/"
        },
        "id": "_Tpu8ixE-fba",
        "outputId": "f4364841-53ff-4544-b2ae-640a4d771566"
      },
      "outputs": [
        {
          "data": {
            "text/plain": [
              "(tuple,\n",
              " ['__add__',\n",
              "  '__class__',\n",
              "  '__class_getitem__',\n",
              "  '__contains__',\n",
              "  '__delattr__',\n",
              "  '__dir__',\n",
              "  '__doc__',\n",
              "  '__eq__',\n",
              "  '__format__',\n",
              "  '__ge__',\n",
              "  '__getattribute__',\n",
              "  '__getitem__',\n",
              "  '__getnewargs__',\n",
              "  '__gt__',\n",
              "  '__hash__',\n",
              "  '__init__',\n",
              "  '__init_subclass__',\n",
              "  '__iter__',\n",
              "  '__le__',\n",
              "  '__len__',\n",
              "  '__lt__',\n",
              "  '__mul__',\n",
              "  '__ne__',\n",
              "  '__new__',\n",
              "  '__reduce__',\n",
              "  '__reduce_ex__',\n",
              "  '__repr__',\n",
              "  '__rmul__',\n",
              "  '__setattr__',\n",
              "  '__sizeof__',\n",
              "  '__str__',\n",
              "  '__subclasshook__',\n",
              "  'count',\n",
              "  'index'])"
            ]
          },
          "execution_count": 95,
          "metadata": {},
          "output_type": "execute_result"
        }
      ],
      "source": [
        "type(t), dir(t)"
      ]
    },
    {
      "cell_type": "code",
      "execution_count": null,
      "metadata": {
        "colab": {
          "base_uri": "https://localhost:8080/"
        },
        "id": "cyqcWdPL-s8N",
        "outputId": "323d9ca6-1639-4c11-8b7e-67979ac1a705"
      },
      "outputs": [
        {
          "data": {
            "text/plain": [
              "(1, 2)"
            ]
          },
          "execution_count": 96,
          "metadata": {},
          "output_type": "execute_result"
        }
      ],
      "source": [
        "t = (10, 20, 30, 40 , 50, 20)\n",
        "t.index(20), t.count(20)"
      ]
    },
    {
      "cell_type": "code",
      "execution_count": null,
      "metadata": {
        "colab": {
          "base_uri": "https://localhost:8080/"
        },
        "id": "jO26wYYa_Ck8",
        "outputId": "8af01b43-3c1f-4b0f-c1de-0f3171d71673"
      },
      "outputs": [
        {
          "data": {
            "text/plain": [
              "1"
            ]
          },
          "execution_count": 98,
          "metadata": {},
          "output_type": "execute_result"
        }
      ],
      "source": [
        "t = tuple('kanghyunwoo')\n",
        "t\n",
        "t = tuple()\n",
        "t\n",
        "t = tuple(range(10))\n",
        "t\n",
        "t = (1) # 얘는 안됨. 튜플 아님.\n",
        "t\n",
        "t = (1,) # 원소를 하나씩 넣고 싶을 때는 콤마(,)를 사용해줍니다. \n",
        "t"
      ]
    },
    {
      "attachments": {},
      "cell_type": "markdown",
      "metadata": {
        "id": "7gg_U4M0_eSI"
      },
      "source": [
        "## dict (딕셔너리, 사전형)"
      ]
    },
    {
      "attachments": {},
      "cell_type": "markdown",
      "metadata": {
        "id": "6tpZAXQz_njt"
      },
      "source": [
        "- 딕셔너리는 순서가 없는 자료형입니다.\n",
        "- 사전형은 Key와 Value 가 하나의 묶음으로 이루어진 자료 체계입니다.\n",
        "- 값의 변경이 가능합니다.\n",
        "- 다른 자료형을 입력할 수 있습니다.\n",
        "- 키의 중복은 허락하지 않고, 값의 중복을 허락합니다."
      ]
    },
    {
      "cell_type": "code",
      "execution_count": null,
      "metadata": {
        "id": "B2HFgDFZACfP"
      },
      "outputs": [],
      "source": [
        "{\n",
        "    '게시물 번호' : 1,\n",
        "    '게시자' : '이호준',\n",
        "    '게시물 내용' : '.....'\n",
        "}"
      ]
    },
    {
      "cell_type": "code",
      "execution_count": null,
      "metadata": {
        "colab": {
          "base_uri": "https://localhost:8080/",
          "height": 35
        },
        "id": "E9KM0eR-A2q6",
        "outputId": "27304e55-9d6f-47f3-e0ed-9cd7e8999f32"
      },
      "outputs": [
        {
          "data": {
            "application/vnd.google.colaboratory.intrinsic+json": {
              "type": "string"
            },
            "text/plain": [
              "'하나'"
            ]
          },
          "execution_count": 99,
          "metadata": {},
          "output_type": "execute_result"
        }
      ],
      "source": [
        "d = {'one' : '하나', 'two' : '둘', 'three' : '셋'}\n",
        "d\n",
        "d['one']"
      ]
    },
    {
      "cell_type": "code",
      "execution_count": null,
      "metadata": {
        "colab": {
          "base_uri": "https://localhost:8080/"
        },
        "id": "F5jej5BBA3lS",
        "outputId": "570c35fa-e18c-415e-fc8d-6e5e6ac0a6cc"
      },
      "outputs": [
        {
          "data": {
            "text/plain": [
              "{'one': '하나', 'two': '투', 'three': '셋'}"
            ]
          },
          "execution_count": 100,
          "metadata": {},
          "output_type": "execute_result"
        }
      ],
      "source": [
        "d['two'] = '투'\n",
        "d"
      ]
    },
    {
      "cell_type": "code",
      "execution_count": null,
      "metadata": {
        "id": "eKCy5e4xBNYo"
      },
      "outputs": [],
      "source": [
        "d = {} #dict\n",
        "type(d)\n",
        "\n",
        "d = {10} #set\n",
        "type(d)\n",
        "\n",
        "d = dict()\n",
        "type(d)\n",
        "\n",
        "d = {'one' : 1}\n",
        "type(d)"
      ]
    },
    {
      "cell_type": "code",
      "execution_count": null,
      "metadata": {
        "colab": {
          "base_uri": "https://localhost:8080/"
        },
        "id": "fqmQ9bsbBlbo",
        "outputId": "3900f72b-be88-4c16-c13e-d3ce11b9b5a1"
      },
      "outputs": [
        {
          "data": {
            "text/plain": [
              "dict_items([('one', '하나'), ('two', '둘'), ('three', '셋')])"
            ]
          },
          "execution_count": 104,
          "metadata": {},
          "output_type": "execute_result"
        }
      ],
      "source": [
        "d = {'one' : '하나', 'two' : '둘', 'three' : '셋'}\n",
        "d.items()"
      ]
    },
    {
      "cell_type": "code",
      "execution_count": null,
      "metadata": {
        "colab": {
          "base_uri": "https://localhost:8080/"
        },
        "id": "9qnSiK8eBuWc",
        "outputId": "01b8cf7b-a356-4b95-8ba0-185ec9fa1042"
      },
      "outputs": [
        {
          "data": {
            "text/plain": [
              "{'one': '하나', 'two': '둘', 'three': '셋'}"
            ]
          },
          "execution_count": 106,
          "metadata": {},
          "output_type": "execute_result"
        }
      ],
      "source": [
        "dict([('one', '하나'), ('two', '둘'), ('three', '셋')])"
      ]
    },
    {
      "cell_type": "code",
      "execution_count": null,
      "metadata": {
        "colab": {
          "base_uri": "https://localhost:8080/",
          "height": 174
        },
        "id": "xD2Ec9PoB1t2",
        "outputId": "c2eca6e0-0835-43fb-8a2a-4c83c8c43e30"
      },
      "outputs": [
        {
          "ename": "ValueError",
          "evalue": "ignored",
          "output_type": "error",
          "traceback": [
            "\u001b[0;31m---------------------------------------------------------------------------\u001b[0m",
            "\u001b[0;31mValueError\u001b[0m                                Traceback (most recent call last)",
            "\u001b[0;32m<ipython-input-108-0165a796e053>\u001b[0m in \u001b[0;36m<cell line: 1>\u001b[0;34m()\u001b[0m\n\u001b[0;32m----> 1\u001b[0;31m \u001b[0mdict\u001b[0m\u001b[0;34m(\u001b[0m\u001b[0;34m[\u001b[0m\u001b[0;34m[\u001b[0m\u001b[0;34m(\u001b[0m\u001b[0;34m'one'\u001b[0m\u001b[0;34m,\u001b[0m \u001b[0;34m'하나'\u001b[0m\u001b[0;34m)\u001b[0m\u001b[0;34m,\u001b[0m \u001b[0;34m(\u001b[0m\u001b[0;34m'two'\u001b[0m\u001b[0;34m,\u001b[0m \u001b[0;34m'둘'\u001b[0m\u001b[0;34m)\u001b[0m\u001b[0;34m,\u001b[0m \u001b[0;34m(\u001b[0m\u001b[0;34m'three'\u001b[0m\u001b[0;34m,\u001b[0m \u001b[0;34m'셋'\u001b[0m\u001b[0;34m)\u001b[0m\u001b[0;34m]\u001b[0m\u001b[0;34m]\u001b[0m\u001b[0;34m)\u001b[0m\u001b[0;34m\u001b[0m\u001b[0;34m\u001b[0m\u001b[0m\n\u001b[0m",
            "\u001b[0;31mValueError\u001b[0m: dictionary update sequence element #0 has length 3; 2 is required"
          ]
        }
      ],
      "source": [
        "dict([['one', '하나'], ['two', '둘'], ['three', '셋']])"
      ]
    },
    {
      "cell_type": "code",
      "execution_count": null,
      "metadata": {
        "colab": {
          "base_uri": "https://localhost:8080/"
        },
        "id": "6Hw0bROECEsj",
        "outputId": "f14a203c-2ffc-46af-f893-109f5c21181b"
      },
      "outputs": [
        {
          "data": {
            "text/plain": [
              "{'name': 'leehojun', 'age': 10}"
            ]
          },
          "execution_count": 109,
          "metadata": {},
          "output_type": "execute_result"
        }
      ],
      "source": [
        "dict(name='kanghyunwoo', age=10)"
      ]
    },
    {
      "cell_type": "code",
      "execution_count": null,
      "metadata": {
        "colab": {
          "base_uri": "https://localhost:8080/"
        },
        "id": "3nfW6ptOCU4k",
        "outputId": "09c01d8a-2e74-4d5d-eaeb-4a453db57e46"
      },
      "outputs": [
        {
          "data": {
            "text/plain": [
              "{'A': '1', 'B': '2', 'C': '3'}"
            ]
          },
          "execution_count": 110,
          "metadata": {},
          "output_type": "execute_result"
        }
      ],
      "source": [
        "list(zip('ABC','123','abc'))\n",
        "\n",
        "dict(zip('ABC','123'))"
      ]
    },
    {
      "cell_type": "code",
      "execution_count": null,
      "metadata": {
        "id": "P0v_yuTQCmyd"
      },
      "outputs": [],
      "source": [
        "# dict와 zip를 사용해서 아래와 같은 형태로 데이터를 만들어주세요.\n",
        "\n",
        "# 원하는 형태 {'A' : [10,20], 'B' : [20:30], 'C' : [30,40]}"
      ]
    },
    {
      "cell_type": "code",
      "execution_count": null,
      "metadata": {
        "colab": {
          "base_uri": "https://localhost:8080/"
        },
        "id": "8v9ZA_yrCy-h",
        "outputId": "c30da1df-ba30-4729-eef6-ccb9b5d800aa"
      },
      "outputs": [
        {
          "data": {
            "text/plain": [
              "{'A': (10, 20), 'B': (20, 30), 'C': (30, 40)}"
            ]
          },
          "execution_count": 113,
          "metadata": {},
          "output_type": "execute_result"
        }
      ],
      "source": [
        "dict(zip('ABC',[[10,20],[20,30],[30,40]]))\n",
        "dict(zip('ABC',[list(elem) for elem in zip([10,20,30],[20,30,40])]))\n",
        "l = [10,20,30,40]\n",
        "dict(zip('ABC', zip(l,l[1:])))"
      ]
    },
    {
      "cell_type": "code",
      "execution_count": null,
      "metadata": {
        "colab": {
          "base_uri": "https://localhost:8080/"
        },
        "id": "XuNTYO-BExGu",
        "outputId": "d0421d82-29a7-4fd5-9bfa-611a2fd6ad01"
      },
      "outputs": [
        {
          "data": {
            "text/plain": [
              "True"
            ]
          },
          "execution_count": 114,
          "metadata": {},
          "output_type": "execute_result"
        }
      ],
      "source": [
        "'B' in {'A': (10, 20), 'B': (20, 30), 'C': (30, 40)}"
      ]
    },
    {
      "cell_type": "code",
      "execution_count": null,
      "metadata": {
        "colab": {
          "base_uri": "https://localhost:8080/"
        },
        "id": "w8SMzYnvI4uq",
        "outputId": "d193e4e1-01d5-4f21-ed20-dbe324bcd069"
      },
      "outputs": [
        {
          "data": {
            "text/plain": [
              "3"
            ]
          },
          "execution_count": 116,
          "metadata": {},
          "output_type": "execute_result"
        }
      ],
      "source": [
        "len({'A': (10, 20), 'B': (20, 30), 'C': (30, 40)})"
      ]
    },
    {
      "cell_type": "code",
      "execution_count": null,
      "metadata": {
        "colab": {
          "base_uri": "https://localhost:8080/",
          "height": 35
        },
        "id": "lf1EbLUPJMEO",
        "outputId": "8f2bf785-abe5-4094-fa20-ada190679485"
      },
      "outputs": [
        {
          "data": {
            "application/vnd.google.colaboratory.intrinsic+json": {
              "type": "string"
            },
            "text/plain": [
              "'일요일'"
            ]
          },
          "execution_count": 121,
          "metadata": {},
          "output_type": "execute_result"
        }
      ],
      "source": [
        "# 공부해두시면 좋습니다!\n",
        "\n",
        "def switch(day):\n",
        "    return {\n",
        "        1 : '월요일',\n",
        "        2 : '화요일',\n",
        "        3 : '수요일',\n",
        "        4 : '목요일',\n",
        "        5 : '금요일',\n",
        "        6 : '토요일',\n",
        "        7 : '일요일',\n",
        "    }[day]\n",
        "\n",
        "switch(7)\n",
        "# switch(8) #error"
      ]
    },
    {
      "cell_type": "code",
      "execution_count": null,
      "metadata": {
        "id": "TUHZUb7hKn7Q"
      },
      "outputs": [],
      "source": [
        "def switch(day):\n",
        "    return {\n",
        "        1 : '월요일',\n",
        "        2 : '화요일',\n",
        "        3 : '수요일',\n",
        "        4 : '목요일',\n",
        "        5 : '금요일',\n",
        "        6 : '토요일',\n",
        "        7 : '일요일',\n",
        "    }.get(day)\n",
        "\n",
        "switch(7)\n",
        "switch(8) # get을 사용하시면 None을 줍니다."
      ]
    },
    {
      "cell_type": "code",
      "execution_count": null,
      "metadata": {
        "id": "7lVSASfCKxi1"
      },
      "outputs": [],
      "source": [
        "def switch(day):\n",
        "    return {\n",
        "        1 : '월요일',\n",
        "        2 : '화요일',\n",
        "        3 : '수요일',\n",
        "        4 : '목요일',\n",
        "        5 : '금요일',\n",
        "        6 : '토요일',\n",
        "        7 : '일요일',\n",
        "    }.get(day, '요일을 찾지 못했습니다.')\n",
        "\n",
        "switch(7)\n",
        "switch(8) # get을 사용하시면 못찾는 값을 넣었을 때 '요일을 찾지 못했습니다.' 값을 줍니다."
      ]
    },
    {
      "cell_type": "code",
      "execution_count": null,
      "metadata": {
        "colab": {
          "base_uri": "https://localhost:8080/"
        },
        "id": "I0Hxoy57KCXD",
        "outputId": "0a7f1ab1-22b4-4c59-dddd-d6603b730d3e"
      },
      "outputs": [
        {
          "name": "stdout",
          "output_type": "stream",
          "text": [
            "Python 3.10.11\n"
          ]
        }
      ],
      "source": [
        "!python --version"
      ]
    },
    {
      "cell_type": "code",
      "execution_count": null,
      "metadata": {
        "id": "z5tkjC4CKYQK"
      },
      "outputs": [],
      "source": [
        "# 3.10버전 최신 문법\n",
        "def number_to_string(agrument):\n",
        "    match agrument:\n",
        "        case 0:\n",
        "            return \"zero\"\n",
        "        case 1:\n",
        "            return \"one\"\n",
        "        case 2:\n",
        "            return \"two\"\n",
        "        case default:\n",
        "            return \"nothing\"\n",
        "\n",
        "\n",
        "print(number_to_string(0))"
      ]
    },
    {
      "cell_type": "code",
      "execution_count": null,
      "metadata": {
        "colab": {
          "base_uri": "https://localhost:8080/"
        },
        "id": "I1RvJB_wE7Pe",
        "outputId": "f29cea29-8521-48ef-94a0-48ebdaedbc11"
      },
      "outputs": [
        {
          "name": "stdout",
          "output_type": "stream",
          "text": [
            "1.17 ms ± 371 µs per loop (mean ± std. dev. of 7 runs, 1000 loops each)\n"
          ]
        }
      ],
      "source": [
        "%%timeit\n",
        "\n",
        "s = 0\n",
        "for i in range(10000):\n",
        "    s += i"
      ]
    },
    {
      "cell_type": "code",
      "execution_count": null,
      "metadata": {
        "id": "eE7RK656FkXn"
      },
      "outputs": [],
      "source": [
        "%%timeit\n",
        "\n",
        "sum([i for i in range(10000)])"
      ]
    },
    {
      "cell_type": "code",
      "execution_count": null,
      "metadata": {
        "id": "4gSsoQgWFpgj"
      },
      "outputs": [],
      "source": [
        "%%timeit\n",
        "\n",
        "sum(range(10000))"
      ]
    },
    {
      "cell_type": "code",
      "execution_count": null,
      "metadata": {
        "colab": {
          "base_uri": "https://localhost:8080/"
        },
        "id": "7D48bufpLWm0",
        "outputId": "b905b0f6-13aa-4100-df1d-89d6de7b714b"
      },
      "outputs": [
        {
          "data": {
            "text/plain": [
              "dict_keys(['A', 'B', 'C'])"
            ]
          },
          "execution_count": 122,
          "metadata": {},
          "output_type": "execute_result"
        }
      ],
      "source": [
        "{'A': [10, 20], 'B': [20, 30], 'C': [30, 40]}.keys()"
      ]
    },
    {
      "cell_type": "code",
      "execution_count": null,
      "metadata": {
        "colab": {
          "base_uri": "https://localhost:8080/"
        },
        "id": "iBihOntHLeaE",
        "outputId": "dc987e25-5d9d-4dfa-897d-0fae6a19a65a"
      },
      "outputs": [
        {
          "data": {
            "text/plain": [
              "dict_values([[10, 20], [20, 30], [30, 40]])"
            ]
          },
          "execution_count": 123,
          "metadata": {},
          "output_type": "execute_result"
        }
      ],
      "source": [
        "{'A': [10, 20], 'B': [20, 30], 'C': [30, 40]}.values()"
      ]
    },
    {
      "cell_type": "code",
      "execution_count": null,
      "metadata": {
        "colab": {
          "base_uri": "https://localhost:8080/"
        },
        "id": "nWeMW9ZBLgM6",
        "outputId": "383ecd77-2696-4dc4-c533-129c8420fa41"
      },
      "outputs": [
        {
          "data": {
            "text/plain": [
              "dict_items([('A', [10, 20]), ('B', [20, 30]), ('C', [30, 40])])"
            ]
          },
          "execution_count": 124,
          "metadata": {},
          "output_type": "execute_result"
        }
      ],
      "source": [
        "{'A': [10, 20], 'B': [20, 30], 'C': [30, 40]}.items()"
      ]
    },
    {
      "cell_type": "code",
      "execution_count": null,
      "metadata": {
        "colab": {
          "base_uri": "https://localhost:8080/"
        },
        "id": "lW7Lz0mCLrOh",
        "outputId": "3fb0b8c0-fd01-41ce-84b9-0e7dfeeda251"
      },
      "outputs": [
        {
          "data": {
            "text/plain": [
              "{'k': None,\n",
              " 'a': None,\n",
              " 'n': None,\n",
              " 'g': None,\n",
              " 'h': None,\n",
              " 'y': None,\n",
              " 'u': None,\n",
              " 'w': None,\n",
              " 'o': None}"
            ]
          },
          "execution_count": 125,
          "metadata": {},
          "output_type": "execute_result"
        }
      ],
      "source": [
        "dict.fromkeys('kanghyunwoo')"
      ]
    },
    {
      "cell_type": "code",
      "execution_count": null,
      "metadata": {
        "colab": {
          "base_uri": "https://localhost:8080/"
        },
        "id": "V5rOT0P5LwBz",
        "outputId": "28254f98-629b-4d03-b0f8-2543dc6b256c"
      },
      "outputs": [
        {
          "data": {
            "text/plain": [
              "{'k': 100,\n",
              " 'a': 100,\n",
              " 'n': 100,\n",
              " 'g': 100,\n",
              " 'h': 100,\n",
              " 'y': 100,\n",
              " 'u': 100,\n",
              " 'w': 100,\n",
              " 'o': 100}"
            ]
          },
          "execution_count": 126,
          "metadata": {},
          "output_type": "execute_result"
        }
      ],
      "source": [
        "dict.fromkeys('kanghyunwoo',100)"
      ]
    },
    {
      "cell_type": "code",
      "execution_count": null,
      "metadata": {
        "colab": {
          "base_uri": "https://localhost:8080/"
        },
        "id": "EuZ2ijpAMfuI",
        "outputId": "09d2bac8-8da5-45f1-dd72-b5140d72ff32"
      },
      "outputs": [
        {
          "data": {
            "text/plain": [
              "{'name': ('lee', 'ho', 'jun'),\n",
              " 'age': ('lee', 'ho', 'jun'),\n",
              " 'grade': ('lee', 'ho', 'jun')}"
            ]
          },
          "execution_count": 127,
          "metadata": {},
          "output_type": "execute_result"
        }
      ],
      "source": [
        "keys = ('name','age','grade')\n",
        "values = ('lee','ho','jun')\n",
        "\n",
        "dict.fromkeys(keys,values)"
      ]
    },
    {
      "cell_type": "code",
      "execution_count": null,
      "metadata": {
        "colab": {
          "base_uri": "https://localhost:8080/"
        },
        "id": "O41qPtYLM0Hb",
        "outputId": "dfdbfe25-2f7d-492c-8560-cd748bfbc02c"
      },
      "outputs": [
        {
          "data": {
            "text/plain": [
              "{'one': 1, 'two': 2, 'three': '셋'}"
            ]
          },
          "execution_count": 130,
          "metadata": {},
          "output_type": "execute_result"
        }
      ],
      "source": [
        "d = {'one' : '하나', 'two' : '둘', 'three' : '셋'}\n",
        "d.update({'one' : 1, 'two' : 2})\n",
        "d"
      ]
    },
    {
      "attachments": {},
      "cell_type": "markdown",
      "metadata": {
        "id": "ghToNQaeM3U7"
      },
      "source": [
        "## 딕셔너리의 순회"
      ]
    },
    {
      "cell_type": "code",
      "execution_count": null,
      "metadata": {
        "colab": {
          "base_uri": "https://localhost:8080/"
        },
        "id": "t3fPEC69M5GY",
        "outputId": "c1c36e1e-172e-444c-e10b-06f7174af0aa"
      },
      "outputs": [
        {
          "name": "stdout",
          "output_type": "stream",
          "text": [
            "two\n",
            "three\n"
          ]
        }
      ],
      "source": [
        "# key만 순회합니다.\n",
        "d = {'two' : 2, 'three' : '셋'}\n",
        "for i in d:\n",
        "    print(i)"
      ]
    },
    {
      "cell_type": "code",
      "execution_count": null,
      "metadata": {
        "colab": {
          "base_uri": "https://localhost:8080/"
        },
        "id": "L5qKsN2yM-nE",
        "outputId": "2e725f7f-4ad7-445b-96a6-6110da20d33c"
      },
      "outputs": [
        {
          "name": "stdout",
          "output_type": "stream",
          "text": [
            "2\n",
            "셋\n"
          ]
        }
      ],
      "source": [
        "d = {'two' : 2, 'three' : '셋'}\n",
        "for i in d:\n",
        "    print(d[i])"
      ]
    },
    {
      "attachments": {},
      "cell_type": "markdown",
      "metadata": {
        "id": "KKo5eC7ZNNdo"
      },
      "source": [
        "## 언패킹"
      ]
    },
    {
      "cell_type": "code",
      "execution_count": null,
      "metadata": {
        "id": "c503iuHfNR98"
      },
      "outputs": [],
      "source": [
        "# 패킹   : 1, 2, 3 => [1,2,3]\n",
        "# 언패킹 : [1,2,3] => 1, 2, 3"
      ]
    },
    {
      "cell_type": "code",
      "execution_count": null,
      "metadata": {
        "colab": {
          "base_uri": "https://localhost:8080/"
        },
        "id": "xFWAyGiWNaN5",
        "outputId": "30eff663-eda9-4f78-9ec0-a3f5b9bef44b"
      },
      "outputs": [
        {
          "data": {
            "text/plain": [
              "10"
            ]
          },
          "execution_count": 131,
          "metadata": {},
          "output_type": "execute_result"
        }
      ],
      "source": [
        "a, b, c = 10, 20, 30\n",
        "a"
      ]
    },
    {
      "cell_type": "code",
      "execution_count": null,
      "metadata": {
        "colab": {
          "base_uri": "https://localhost:8080/"
        },
        "id": "gKxZeUy0Nimi",
        "outputId": "5168f11f-d325-42de-d263-df96bc101620"
      },
      "outputs": [
        {
          "data": {
            "text/plain": [
              "10"
            ]
          },
          "execution_count": 132,
          "metadata": {},
          "output_type": "execute_result"
        }
      ],
      "source": [
        "a,b,c = (10,20,30) # 소괄호든 대괄호든 상관 없습니다.\n",
        "a"
      ]
    },
    {
      "cell_type": "code",
      "execution_count": null,
      "metadata": {
        "colab": {
          "base_uri": "https://localhost:8080/"
        },
        "id": "olkbnsHTN-D1",
        "outputId": "cc2cba55-9abb-4b27-fb1f-35e936adf496"
      },
      "outputs": [
        {
          "data": {
            "text/plain": [
              "10"
            ]
          },
          "execution_count": 134,
          "metadata": {},
          "output_type": "execute_result"
        }
      ],
      "source": [
        "i , j = [10,20]\n",
        "i"
      ]
    },
    {
      "cell_type": "code",
      "execution_count": null,
      "metadata": {
        "colab": {
          "base_uri": "https://localhost:8080/"
        },
        "id": "_xZ5a3ohN0Ij",
        "outputId": "dd3d37f6-440f-4083-b657-d05e5512f99c"
      },
      "outputs": [
        {
          "name": "stdout",
          "output_type": "stream",
          "text": [
            "10 20\n",
            "30 40\n",
            "50 60\n"
          ]
        }
      ],
      "source": [
        "for i , j in [[10,20],[30,40],[50,60]]:\n",
        "    print(i,j)"
      ]
    },
    {
      "cell_type": "code",
      "execution_count": null,
      "metadata": {
        "colab": {
          "base_uri": "https://localhost:8080/"
        },
        "id": "Rd2ULueYOI_k",
        "outputId": "c575fbbe-5c81-4c87-bda8-d96a1545ac64"
      },
      "outputs": [
        {
          "name": "stdout",
          "output_type": "stream",
          "text": [
            "10 20 [1, 2]\n",
            "30 40 [3, 4]\n",
            "50 60 [5, 6]\n"
          ]
        }
      ],
      "source": [
        "for i, j, k in [[10,20,[1,2]],[30,40,[3,4]],[50,60,[5,6]]]:\n",
        "    print(i,j,k)"
      ]
    },
    {
      "cell_type": "code",
      "execution_count": null,
      "metadata": {
        "colab": {
          "base_uri": "https://localhost:8080/"
        },
        "id": "GUmZ-H_ROk05",
        "outputId": "f9e0c330-67b3-4fd1-ad03-f4d782593e09"
      },
      "outputs": [
        {
          "data": {
            "text/plain": [
              "(15, 10)"
            ]
          },
          "execution_count": 142,
          "metadata": {},
          "output_type": "execute_result"
        }
      ],
      "source": [
        "# swap\n",
        "a = 10\n",
        "b = 15\n",
        "a, b = b, a\n",
        "a, b"
      ]
    },
    {
      "cell_type": "code",
      "execution_count": null,
      "metadata": {
        "colab": {
          "base_uri": "https://localhost:8080/"
        },
        "id": "cxX12rVxNHXc",
        "outputId": "e01c63d8-8d77-45fc-cae4-546467d8878d"
      },
      "outputs": [
        {
          "name": "stdout",
          "output_type": "stream",
          "text": [
            "one 1\n",
            "two 2\n",
            "three 셋\n"
          ]
        }
      ],
      "source": [
        "for i, j in d.items():\n",
        "     print(i, j)"
      ]
    },
    {
      "attachments": {},
      "cell_type": "markdown",
      "metadata": {
        "id": "c5Uxob13NqCG"
      },
      "source": [
        "## max를 이용한 dict 최대 value key값 가져오기"
      ]
    },
    {
      "cell_type": "code",
      "execution_count": null,
      "metadata": {
        "colab": {
          "base_uri": "https://localhost:8080/",
          "height": 35
        },
        "id": "2dUIr6XWPU-V",
        "outputId": "11fb5042-1016-462f-edee-a2baa36a0e52"
      },
      "outputs": [
        {
          "data": {
            "application/vnd.google.colaboratory.intrinsic+json": {
              "type": "string"
            },
            "text/plain": [
              "'test3'"
            ]
          },
          "execution_count": 149,
          "metadata": {},
          "output_type": "execute_result"
        }
      ],
      "source": [
        "d = {\n",
        "    'test1' : 10,\n",
        "    'test2' : 20,\n",
        "    'test3' : 31,\n",
        "    'test4' : 11,\n",
        " }\n",
        "\n",
        "# max(d.values()) # 이걸로는 뭔가 찾아내기 힘듭니다.\n",
        "max(d, key=lambda x: d[x])\n",
        "max(d, key=d.get) # 많이 사용되는 코드입니다."
      ]
    },
    {
      "attachments": {},
      "cell_type": "markdown",
      "metadata": {
        "id": "MO-pcjjhQv2v"
      },
      "source": [
        "## set (셋, 집합)"
      ]
    },
    {
      "attachments": {},
      "cell_type": "markdown",
      "metadata": {
        "id": "9ZIp_zVFRDBm"
      },
      "source": [
        "* 집합 자료형은 중복을 허용하지 않으며 \n",
        "* 순서가 없는 자료형"
      ]
    },
    {
      "cell_type": "code",
      "execution_count": null,
      "metadata": {
        "colab": {
          "base_uri": "https://localhost:8080/"
        },
        "id": "05b2Z-kcQtps",
        "outputId": "2874e17e-2eb8-4ea9-aa4a-b726e9633936"
      },
      "outputs": [
        {
          "name": "stdout",
          "output_type": "stream",
          "text": [
            "{1, 2, 3, 4}\n"
          ]
        }
      ],
      "source": [
        "n = set([1, 1, 2, 2, 3, 3, 4])\n",
        "print(n)"
      ]
    },
    {
      "cell_type": "code",
      "execution_count": null,
      "metadata": {
        "colab": {
          "base_uri": "https://localhost:8080/"
        },
        "id": "c764GwDYQ2kD",
        "outputId": "3e25b259-b643-4a82-ebf1-d12a189594f0"
      },
      "outputs": [
        {
          "name": "stdout",
          "output_type": "stream",
          "text": [
            "{'o', ' ', 'l', 'h', 'w', 'r', 'e', 'd'}\n"
          ]
        }
      ],
      "source": [
        "s = set('hello world')\n",
        "print(s)"
      ]
    },
    {
      "cell_type": "code",
      "execution_count": null,
      "metadata": {
        "colab": {
          "base_uri": "https://localhost:8080/"
        },
        "id": "yxGvvdfSTqGg",
        "outputId": "91c78774-0d87-4432-9a81-cd2fb0b14c65"
      },
      "outputs": [
        {
          "name": "stdout",
          "output_type": "stream",
          "text": [
            "{1, 2, 3, 4, 1000}\n"
          ]
        }
      ],
      "source": [
        "n = set([1, 1, 2, 2, 3, 3, 4])\n",
        "n.add(1000)\n",
        "print(n)"
      ]
    },
    {
      "cell_type": "code",
      "execution_count": null,
      "metadata": {
        "colab": {
          "base_uri": "https://localhost:8080/"
        },
        "id": "iidvPGjVT2cY",
        "outputId": "97b9be82-b23a-4633-f7f1-e31c670664cb"
      },
      "outputs": [
        {
          "name": "stdout",
          "output_type": "stream",
          "text": [
            "{1, 2, 3, 4, 20, 10}\n"
          ]
        }
      ],
      "source": [
        "n = set([1, 1, 2, 2, 3, 3, 4])\n",
        "n.update({10,20})\n",
        "print(n)"
      ]
    },
    {
      "cell_type": "code",
      "execution_count": null,
      "metadata": {
        "colab": {
          "base_uri": "https://localhost:8080/"
        },
        "id": "LSZAAExFWXq9",
        "outputId": "fe5517a9-9063-429b-834b-52fb72184f74"
      },
      "outputs": [
        {
          "name": "stdout",
          "output_type": "stream",
          "text": [
            "{2, 3, 4}\n"
          ]
        }
      ],
      "source": [
        "n = set([1, 1, 2, 2, 3, 3, 4])\n",
        "n.remove(1)\n",
        "print(n)"
      ]
    },
    {
      "attachments": {},
      "cell_type": "markdown",
      "metadata": {
        "id": "nQO8UmJVW-3c"
      },
      "source": [
        "* pop은 실무에서 잘 사용하지 않습니다. 값을 랜덤하게 뽑아내기 때문입니다. 높은 확률로 앞에서부터 뽑아내긴 하지만 확률에 기대는 코딩을 하지 않기를 바랍니다. 공식문서에서는 랜덤하게 뽑아낸다고 되어 있습니다.\n",
        "* https://docs.python.org/3.11/library/stdtypes.html#frozenset.pop"
      ]
    },
    {
      "cell_type": "code",
      "execution_count": null,
      "metadata": {
        "colab": {
          "base_uri": "https://localhost:8080/"
        },
        "id": "6mCUhBsBWnVB",
        "outputId": "de380ef4-b860-45d2-e02e-96001a802c78"
      },
      "outputs": [
        {
          "data": {
            "text/plain": [
              "{3}"
            ]
          },
          "execution_count": 161,
          "metadata": {},
          "output_type": "execute_result"
        }
      ],
      "source": [
        "# 교집합 별 3개 ★★★\n",
        "a = {1,2,3}\n",
        "b = {3,4,5}\n",
        "a & b\n",
        "a.intersection(b)"
      ]
    },
    {
      "cell_type": "code",
      "execution_count": null,
      "metadata": {
        "colab": {
          "base_uri": "https://localhost:8080/"
        },
        "id": "VY96iyc6Xvix",
        "outputId": "f3d99bfb-4a8a-4699-daf8-64ca7146f073"
      },
      "outputs": [
        {
          "data": {
            "text/plain": [
              "{1, 2, 3, 4, 5}"
            ]
          },
          "execution_count": 162,
          "metadata": {},
          "output_type": "execute_result"
        }
      ],
      "source": [
        "# 합집합\n",
        "a = {1,2,3}\n",
        "b = {3,4,5}\n",
        "a | b\n",
        "a.union(b)\n",
        "# a + b # error set은 더하기가 안됨"
      ]
    },
    {
      "cell_type": "code",
      "execution_count": null,
      "metadata": {
        "colab": {
          "base_uri": "https://localhost:8080/"
        },
        "id": "ylbnHjyAYHsr",
        "outputId": "98234f7d-65b5-4214-d210-11c86a6c9244"
      },
      "outputs": [
        {
          "data": {
            "text/plain": [
              "{1, 2}"
            ]
          },
          "execution_count": 163,
          "metadata": {},
          "output_type": "execute_result"
        }
      ],
      "source": [
        "# 합집합\n",
        "a = {1,2,3}\n",
        "b = {3,4,5}\n",
        "a - b\n",
        "a.difference(b)"
      ]
    },
    {
      "cell_type": "code",
      "execution_count": null,
      "metadata": {
        "colab": {
          "base_uri": "https://localhost:8080/"
        },
        "id": "TQzaCSGMYhNp",
        "outputId": "f7adcd6c-5458-42c9-dd22-455fd8365224"
      },
      "outputs": [
        {
          "data": {
            "text/plain": [
              "False"
            ]
          },
          "execution_count": 165,
          "metadata": {},
          "output_type": "execute_result"
        }
      ],
      "source": [
        "s = {1, 2, 3, 4}\n",
        "ss = {3, 4, 5, 6}\n",
        "s.issubset({1,2})\n",
        "ss.issubset({3,4})"
      ]
    },
    {
      "cell_type": "code",
      "execution_count": null,
      "metadata": {
        "id": "UMq6-bv2hfSI"
      },
      "outputs": [],
      "source": [
        "# https://school.programmers.co.kr/learn/courses/30/lessons/120903?language=python3\n",
        "def solution(s1, s2):\n",
        "    return len(set(s1) & set(s2))"
      ]
    },
    {
      "cell_type": "code",
      "execution_count": null,
      "metadata": {
        "id": "wMGIc8O0RUIs"
      },
      "outputs": [],
      "source": [
        "# https://school.programmers.co.kr/learn/courses/30/lessons/120888\n",
        "# my_string        result\n",
        "# \"people\"        \"peol\""
      ]
    },
    {
      "cell_type": "code",
      "execution_count": null,
      "metadata": {
        "colab": {
          "base_uri": "https://localhost:8080/",
          "height": 35
        },
        "id": "Wi2S1kDYY0pm",
        "outputId": "eef47ed0-b9d0-4830-b986-b4b3078b52b1"
      },
      "outputs": [
        {
          "data": {
            "application/vnd.google.colaboratory.intrinsic+json": {
              "type": "string"
            },
            "text/plain": [
              "'peol'"
            ]
          },
          "execution_count": 168,
          "metadata": {},
          "output_type": "execute_result"
        }
      ],
      "source": [
        "# my_string        result\n",
        "# \"people\"        \"peol\"\n",
        "\n",
        "result = ''\n",
        "for i in 'people':\n",
        "    if i not in result:\n",
        "        result += i\n",
        "result"
      ]
    },
    {
      "cell_type": "code",
      "execution_count": null,
      "metadata": {
        "colab": {
          "base_uri": "https://localhost:8080/"
        },
        "id": "-yE2NL94SUEr",
        "outputId": "9afed692-ed0f-477c-a2c7-bba4bd277b1b"
      },
      "outputs": [
        {
          "data": {
            "text/plain": [
              "{'e', 'l', 'o', 'p'}"
            ]
          },
          "execution_count": 154,
          "metadata": {},
          "output_type": "execute_result"
        }
      ],
      "source": [
        "def solution(my_string):\n",
        "    return set(my_string)\n",
        "\n",
        "solution('people')"
      ]
    },
    {
      "cell_type": "code",
      "execution_count": null,
      "metadata": {
        "colab": {
          "base_uri": "https://localhost:8080/",
          "height": 35
        },
        "id": "BCDhFgxiSqcx",
        "outputId": "756ce6c9-59e2-4239-fa10-bcdeea5aab68"
      },
      "outputs": [
        {
          "data": {
            "application/vnd.google.colaboratory.intrinsic+json": {
              "type": "string"
            },
            "text/plain": [
              "'elop'"
            ]
          },
          "execution_count": 155,
          "metadata": {},
          "output_type": "execute_result"
        }
      ],
      "source": [
        "def solution(my_string):\n",
        "    return ''.join(set(my_string))\n",
        "\n",
        "solution('people')"
      ]
    },
    {
      "cell_type": "code",
      "execution_count": null,
      "metadata": {
        "colab": {
          "base_uri": "https://localhost:8080/",
          "height": 35
        },
        "id": "9tUD3TT_TGX8",
        "outputId": "c927fcf3-352c-4137-8528-46ff4f381e41"
      },
      "outputs": [
        {
          "data": {
            "application/vnd.google.colaboratory.intrinsic+json": {
              "type": "string"
            },
            "text/plain": [
              "'peol'"
            ]
          },
          "execution_count": 169,
          "metadata": {},
          "output_type": "execute_result"
        }
      ],
      "source": [
        "{'e', 'l', 'o', 'p'}\n",
        "\n",
        "def solution(my_string):\n",
        "    집합 = set(my_string)\n",
        "    result = ''\n",
        "    for i in my_string:\n",
        "        if i in 집합:\n",
        "            result += i\n",
        "            집합.remove(i)\n",
        "    return result\n",
        "\n",
        "solution('people')"
      ]
    },
    {
      "attachments": {},
      "cell_type": "markdown",
      "metadata": {
        "id": "EsFHbDb4adjN"
      },
      "source": [
        "## !! 연습문제"
      ]
    },
    {
      "cell_type": "code",
      "execution_count": null,
      "metadata": {
        "colab": {
          "base_uri": "https://localhost:8080/"
        },
        "id": "8JveLvAUaci8",
        "outputId": "0b50c962-4df3-4351-df3f-3f39bf117101"
      },
      "outputs": [
        {
          "data": {
            "text/plain": [
              "80.4"
            ]
          },
          "execution_count": 184,
          "metadata": {},
          "output_type": "execute_result"
        }
      ],
      "source": [
        "student_score = {\n",
        "\t\t'홍의': 97,\n",
        "\t\t'원희': 60,\n",
        "\t\t'동해': 77,\n",
        "\t\t'변수': 79,\n",
        "\t\t'창현': 89,\n",
        "}\n",
        "\n",
        "# - 학생들의 **총점**을 구하는 코드를 작성하세요.\n",
        "sum(student_score.values())\n",
        "# - 학생들의 **평균 점수**를 구하는 코드를 작성하세요.\n",
        "sum(student_score.values()) / len(student_score)\n",
        "# - 점수가 가장 **높은** 학생의 이름과 그 점수를 구하는 코드를 작성하세요.\n",
        "student = max(student_score, key=student_score.get) # 이름\n",
        "student_score[student] # 가장 큰 점수\n",
        "# - 점수가 가장 **낮은** 학생의 이름과 그 점수를 구하는 코드를 작성하세요.\n",
        "student = min(student_score, key=student_score.get)\n",
        "student_score[student]"
      ]
    },
    {
      "cell_type": "code",
      "execution_count": null,
      "metadata": {
        "colab": {
          "base_uri": "https://localhost:8080/"
        },
        "id": "l34xk_3df_oc",
        "outputId": "b0f61fe8-5586-47ef-8395-b735e8e5ab51"
      },
      "outputs": [
        {
          "data": {
            "text/plain": [
              "['라면', '볶음밥', '짜장면', '치킨']"
            ]
          },
          "execution_count": 186,
          "metadata": {},
          "output_type": "execute_result"
        }
      ],
      "source": [
        "# 강사님 정답\n",
        "like = ['볶음밥', '라면', '국수', '파스타', '치킨', '짜장면', '국밥']\n",
        "dislike = ['국밥', '짬뽕', '찜닭', '파스타', '국수', '카레', '덮밥']\n",
        "\n",
        "list(set(like) - set(dislike))"
      ]
    },
    {
      "cell_type": "code",
      "execution_count": null,
      "metadata": {
        "colab": {
          "base_uri": "https://localhost:8080/"
        },
        "id": "DDzVo9H4ca13",
        "outputId": "bf184f86-89a1-41f9-aeb6-317e23721a5e"
      },
      "outputs": [
        {
          "data": {
            "text/plain": [
              "['볶음밥', '라면', '치킨', '짜장면']"
            ]
          },
          "execution_count": 183,
          "metadata": {},
          "output_type": "execute_result"
        }
      ],
      "source": [
        "like = ['볶음밥', '라면', '국수', '파스타', '치킨', '짜장면', '국밥']\n",
        "dislike = ['국밥', '짬뽕', '찜닭', '파스타', '국수', '카레', '덮밥']\n",
        "\n",
        "final = []\n",
        "for i in like:\n",
        "    if i not in dislike:\n",
        "        final.append(i)\n",
        "final"
      ]
    },
    {
      "attachments": {},
      "cell_type": "markdown",
      "metadata": {
        "id": "5o3l8z6oilSQ"
      },
      "source": [
        "## (질의응답) max(student_score,key=student_score.get)"
      ]
    },
    {
      "cell_type": "code",
      "execution_count": null,
      "metadata": {
        "colab": {
          "base_uri": "https://localhost:8080/"
        },
        "id": "x-darqcCjdYo",
        "outputId": "4a9e8377-59ab-4201-d8ca-69b747f38de0"
      },
      "outputs": [
        {
          "name": "stdout",
          "output_type": "stream",
          "text": [
            "2 30\n",
            "4 50\n",
            "5 60\n",
            "3 40\n",
            "6 70\n",
            "0 10\n",
            "7 80\n",
            "1 20\n"
          ]
        },
        {
          "data": {
            "text/plain": [
              "7"
            ]
          },
          "execution_count": 4,
          "metadata": {},
          "output_type": "execute_result"
        }
      ],
      "source": [
        "def 함수(x):\n",
        "    print(x, ll[x])\n",
        "    return ll[x]\n",
        "\n",
        "l = [2, 4, 5, 3, 6, 0, 7, 1]\n",
        "ll = [10, 20, 30, 40, 50, 60, 70, 80]\n",
        "\n",
        "max(l, key=함수)"
      ]
    },
    {
      "cell_type": "code",
      "execution_count": null,
      "metadata": {
        "colab": {
          "base_uri": "https://localhost:8080/"
        },
        "id": "enW6cXKBk22o",
        "outputId": "82690f62-a0ae-47f7-84f4-1a4296225c20"
      },
      "outputs": [
        {
          "name": "stdout",
          "output_type": "stream",
          "text": [
            "2 2\n",
            "4 1\n",
            "5 4\n",
            "3 3\n",
            "6 11\n",
            "0 5\n",
            "7 2\n",
            "1 1\n"
          ]
        },
        {
          "data": {
            "text/plain": [
              "6"
            ]
          },
          "execution_count": 5,
          "metadata": {},
          "output_type": "execute_result"
        }
      ],
      "source": [
        "def 함수(x):\n",
        "    print(x, len(ll[x]))\n",
        "    return len(ll[x])\n",
        "\n",
        "l = [2, 4, 5, 3, 6, 0, 7, 1]\n",
        "ll = ['hello', 'a', 'bb', 'ccc', 'a', 'bbbb', 'hello world', 'cc']\n",
        "\n",
        "max(l, key=함수)"
      ]
    },
    {
      "cell_type": "code",
      "execution_count": null,
      "metadata": {
        "id": "qCj4D3b3lwwc"
      },
      "outputs": [],
      "source": [
        "def 함수(x):\n",
        "    return d.get(x)\n",
        "\n",
        "d = {\n",
        "      'test1': 10,\n",
        "      'test2': 20,\n",
        "      'test3': 31,\n",
        "      'test4': 11,\n",
        "}\n",
        "\n",
        "max(d, key=함수)\n",
        "max(d, key=d.get)\n",
        "# max(d, key=lambda x: d[x])"
      ]
    },
    {
      "cell_type": "code",
      "execution_count": null,
      "metadata": {
        "colab": {
          "base_uri": "https://localhost:8080/",
          "height": 35
        },
        "id": "PUu4u3iRmlKv",
        "outputId": "662601a4-9afd-4f85-9ddb-4d5cddaf1848"
      },
      "outputs": [
        {
          "data": {
            "application/vnd.google.colaboratory.intrinsic+json": {
              "type": "string"
            },
            "text/plain": [
              "'ccc'"
            ]
          },
          "execution_count": 7,
          "metadata": {},
          "output_type": "execute_result"
        }
      ],
      "source": [
        "# return에 초점을 맞춰주세요.\n",
        "def 함수(x):\n",
        "    return len(x)\n",
        "l = ['a','bb','ccc','dd']\n",
        "\n",
        "max(l, key=함수)\n",
        "max(l, key=len)"
      ]
    },
    {
      "cell_type": "code",
      "execution_count": null,
      "metadata": {
        "colab": {
          "base_uri": "https://localhost:8080/",
          "height": 35
        },
        "id": "zBlTPZWrnS4e",
        "outputId": "2cc58d31-7342-4227-8864-f3117635c182"
      },
      "outputs": [
        {
          "data": {
            "application/vnd.google.colaboratory.intrinsic+json": {
              "type": "string"
            },
            "text/plain": [
              "'학생2'"
            ]
          },
          "execution_count": 11,
          "metadata": {},
          "output_type": "execute_result"
        }
      ],
      "source": [
        "def 함수(x):\n",
        "    return d.get(x)\n",
        "\n",
        "수학 = {\n",
        "      '학생1': 10,\n",
        "      '학생2': 20,\n",
        "      '학생3': 31,\n",
        "      '학생4': 11,\n",
        "}\n",
        "\n",
        "과학 = {\n",
        "      '학생1': 11,\n",
        "      '학생2': 17,\n",
        "      '학생3': 13,\n",
        "      '학생4': 11,\n",
        "      '학생5': 25,\n",
        "      '학생6': 100,\n",
        "}\n",
        "\n",
        "수학점수가가장큰사람 = max(수학, key=수학.get)\n",
        "과학점수가가장큰사람 = max(과학, key=과학.get)\n",
        "max(수학, key=과학.get)"
      ]
    },
    {
      "attachments": {},
      "cell_type": "markdown",
      "metadata": {
        "id": "gQ2eQLl3i2MZ"
      },
      "source": [
        "## (질의응답) 함수의 아규먼트 순서"
      ]
    },
    {
      "cell_type": "code",
      "execution_count": null,
      "metadata": {
        "colab": {
          "base_uri": "https://localhost:8080/"
        },
        "id": "_2BT12rEpnp3",
        "outputId": "95ce1b9d-a51b-49a0-cb69-52510449dccc"
      },
      "outputs": [
        {
          "name": "stdout",
          "output_type": "stream",
          "text": [
            "100 200 300\n",
            "100 200 300\n"
          ]
        }
      ],
      "source": [
        "def f(a, b, c):\n",
        "    print(a, b, c)\n",
        "\n",
        "# f() # error\n",
        "# f(100, 10) # error\n",
        "f(a=100, b=200, c=300)\n",
        "f(c=300, a=100, b=200) #실무에서 이렇게 순서를 바꿔서 넣지 않고 보통 순서를 지켜줍니다.\n",
        "\n",
        "# 실무에서 언제 사용이 될까요?\n",
        "# 파라미터, 아규먼츠가 매우 많을 때\n",
        "# 이런 함수가 나오면 이 함수가 무엇을 뜻하는 것일까요?\n",
        "# addNewControl(\"Title\", 20, 50, 100, 50, 200, 300, 150)\n",
        "# addNewControl(title=\"Title\", height=20, width=50, textlen = 100, ...)\n",
        "# 어? 컨트롤 박스를 만드는 구나..."
      ]
    },
    {
      "cell_type": "code",
      "execution_count": null,
      "metadata": {
        "id": "foH2DLMTrYos"
      },
      "outputs": [],
      "source": [
        "def f(a=10, b=20, c=30):\n",
        "    print(a, b, c)\n",
        "\n",
        "f()\n",
        "f(100, 10)\n",
        "f(a=100, b=200, c=300)\n",
        "f(c=300, a=100, b=200)"
      ]
    },
    {
      "cell_type": "code",
      "execution_count": null,
      "metadata": {
        "colab": {
          "base_uri": "https://localhost:8080/",
          "height": 137
        },
        "id": "akuhpcPGrma9",
        "outputId": "60fe0303-b4ef-4cf9-84a1-6019ff320fa5"
      },
      "outputs": [
        {
          "ename": "SyntaxError",
          "evalue": "ignored",
          "output_type": "error",
          "traceback": [
            "\u001b[0;36m  File \u001b[0;32m\"<ipython-input-15-08da850dad8f>\"\u001b[0;36m, line \u001b[0;32m1\u001b[0m\n\u001b[0;31m    def f(a=10, b=20, c): # c만 default value를 안주게 되면 error, 순서대로 안주어야 합니다.\u001b[0m\n\u001b[0m                      ^\u001b[0m\n\u001b[0;31mSyntaxError\u001b[0m\u001b[0;31m:\u001b[0m non-default argument follows default argument\n"
          ]
        }
      ],
      "source": [
        "def f(a=10, b=20, c): # c만 default value를 안주게 되면 error, 순서대로 안주어야 합니다.\n",
        "    print(a, b, c)\n",
        "\n",
        "# f() # error\n",
        "# f(100, 10) # error\n",
        "# f(a=100, b=200, c=300) # error\n",
        "# f(c=300, a=100, b=200) # error\n",
        "# f(c=300) # error"
      ]
    },
    {
      "cell_type": "code",
      "execution_count": null,
      "metadata": {
        "colab": {
          "base_uri": "https://localhost:8080/"
        },
        "id": "pVGwtFkZsMfk",
        "outputId": "622fa15b-706d-411c-cdf8-0e32bfbbb64e"
      },
      "outputs": [
        {
          "name": "stdout",
          "output_type": "stream",
          "text": [
            "100 10 10\n",
            "100 200 300\n",
            "100 200 300\n"
          ]
        }
      ],
      "source": [
        "def f(a, b=20, c=10): # 순서대로 안주어야 하기 때문에 a에 값을 넣지 않았습니다.\n",
        "    print(a, b, c)\n",
        "\n",
        "# f() # error\n",
        "f(100, 10)\n",
        "f(a=100, b=200, c=300)\n",
        "f(c=300, a=100, b=200)"
      ]
    },
    {
      "attachments": {},
      "cell_type": "markdown",
      "metadata": {
        "id": "1OdQOArniq-x"
      },
      "source": [
        "## (질의응답) zip, map 등 한 번 순회가 되면 순회가 안되는 이유"
      ]
    },
    {
      "cell_type": "code",
      "execution_count": null,
      "metadata": {
        "colab": {
          "base_uri": "https://localhost:8080/"
        },
        "id": "sk7TBcwNvdAG",
        "outputId": "399438ad-de3e-450f-f750-fed7c14036ce"
      },
      "outputs": [
        {
          "name": "stdout",
          "output_type": "stream",
          "text": [
            "[(1, 'a'), (2, 'b'), (3, 'c')]\n",
            "[]\n"
          ]
        }
      ],
      "source": [
        "a = [1, 2, 3]\n",
        "b = ['a', 'b', 'c']\n",
        "\n",
        "z = zip(a, b)\n",
        "print(list(z)) # [(1, 'a'), (2, 'b'), (3, 'c')]\n",
        "\n",
        "# zip 객체는 한 번 사용되었으므로 빈 리스트가 반환됩니다.\n",
        "print(list(z)) # []"
      ]
    },
    {
      "cell_type": "code",
      "execution_count": null,
      "metadata": {
        "colab": {
          "base_uri": "https://localhost:8080/"
        },
        "id": "ozm7cRPVvy0S",
        "outputId": "7e5a4b08-988b-4750-fc61-afc56831d752"
      },
      "outputs": [
        {
          "name": "stdout",
          "output_type": "stream",
          "text": [
            "(1, 'a')\n",
            "(2, 'b')\n",
            "(3, 'c')\n"
          ]
        }
      ],
      "source": [
        "li = [1, 2, 3]\n",
        "st = ['a', 'b', 'c']\n",
        "z = zip(li, st)\n",
        "\n",
        "for i in z:\n",
        "    print(i)\n",
        "\n",
        "for i in z:\n",
        "    print(i)"
      ]
    },
    {
      "cell_type": "code",
      "execution_count": null,
      "metadata": {
        "colab": {
          "base_uri": "https://localhost:8080/"
        },
        "id": "wJ_KjUKnv43C",
        "outputId": "439f8bdc-1e48-4c4b-db75-fb5bedbcd629"
      },
      "outputs": [
        {
          "data": {
            "text/plain": [
              "(1, 'a')"
            ]
          },
          "execution_count": 20,
          "metadata": {},
          "output_type": "execute_result"
        }
      ],
      "source": [
        "li = [1, 2, 3]\n",
        "st = ['a', 'b', 'c']\n",
        "i = iter(zip(li, st))\n",
        "next(i)"
      ]
    },
    {
      "cell_type": "code",
      "execution_count": null,
      "metadata": {
        "colab": {
          "base_uri": "https://localhost:8080/"
        },
        "id": "1EfV5fsmwLDn",
        "outputId": "bdbd74c0-3d95-4c6c-b7c6-c559d160e836"
      },
      "outputs": [
        {
          "data": {
            "text/plain": [
              "(2, 'b')"
            ]
          },
          "execution_count": 21,
          "metadata": {},
          "output_type": "execute_result"
        }
      ],
      "source": [
        "next(i)"
      ]
    },
    {
      "cell_type": "code",
      "execution_count": null,
      "metadata": {
        "colab": {
          "base_uri": "https://localhost:8080/"
        },
        "id": "T54iSOF0wMiz",
        "outputId": "bfa2fa40-286d-4e2b-938c-3f04f8f52025"
      },
      "outputs": [
        {
          "data": {
            "text/plain": [
              "(3, 'c')"
            ]
          },
          "execution_count": 22,
          "metadata": {},
          "output_type": "execute_result"
        }
      ],
      "source": [
        "next(i)"
      ]
    },
    {
      "cell_type": "code",
      "execution_count": null,
      "metadata": {
        "id": "BFXJY26LwPJ8"
      },
      "outputs": [],
      "source": [
        "next(i) # StopIteration"
      ]
    },
    {
      "cell_type": "code",
      "execution_count": null,
      "metadata": {
        "colab": {
          "base_uri": "https://localhost:8080/"
        },
        "id": "frHn3Ln5wjMY",
        "outputId": "51ca3962-0030-4936-94c3-6e4a17449580"
      },
      "outputs": [
        {
          "name": "stdout",
          "output_type": "stream",
          "text": [
            "1\n",
            "4\n",
            "9\n"
          ]
        }
      ],
      "source": [
        "li = [1, 2, 3]\n",
        "z = map(lambda x:x**2, li)\n",
        "\n",
        "for i in z:\n",
        "    print(i)\n",
        "\n",
        "for i in z:\n",
        "    print(i)"
      ]
    },
    {
      "cell_type": "code",
      "execution_count": null,
      "metadata": {
        "colab": {
          "base_uri": "https://localhost:8080/"
        },
        "id": "GJfdR2LMwk5h",
        "outputId": "d906068a-56a3-47a6-d133-ecfdab2ce279"
      },
      "outputs": [
        {
          "name": "stdout",
          "output_type": "stream",
          "text": [
            "3\n",
            "2\n",
            "1\n"
          ]
        }
      ],
      "source": [
        "li = [1, 2, 3]\n",
        "z = reversed(li)\n",
        "\n",
        "for i in z:\n",
        "    print(i)\n",
        "\n",
        "for i in z:\n",
        "    print(i)"
      ]
    },
    {
      "cell_type": "code",
      "execution_count": null,
      "metadata": {
        "colab": {
          "base_uri": "https://localhost:8080/"
        },
        "id": "Sf1N8F8_wvNx",
        "outputId": "0c954a08-b43c-4a63-8a18-4be280af045e"
      },
      "outputs": [
        {
          "name": "stdout",
          "output_type": "stream",
          "text": [
            "2\n",
            "3\n"
          ]
        }
      ],
      "source": [
        "li = [1, 2, 3]\n",
        "z = filter(lambda x:x>1, li)\n",
        "\n",
        "for i in z:\n",
        "    print(i)\n",
        "\n",
        "for i in z:\n",
        "    print(i)"
      ]
    },
    {
      "cell_type": "code",
      "execution_count": null,
      "metadata": {
        "colab": {
          "base_uri": "https://localhost:8080/"
        },
        "id": "2Jo6LyEmw1Pq",
        "outputId": "6f7c9f9f-0dba-4cd3-8600-189c6784632d"
      },
      "outputs": [
        {
          "name": "stdout",
          "output_type": "stream",
          "text": [
            "1\n",
            "2\n",
            "3\n",
            "1\n",
            "2\n",
            "3\n"
          ]
        }
      ],
      "source": [
        "# 계속 순회가 가능하게 설계가 되어 있습니다.\n",
        "# 이런 설계를 뒤에서 우리가 직접 해보게 될 것입니다.\n",
        "li = [1, 2, 3]\n",
        "z = sorted(li)\n",
        "\n",
        "for i in z:\n",
        "    print(i)\n",
        "\n",
        "for i in z:\n",
        "    print(i)"
      ]
    },
    {
      "attachments": {},
      "cell_type": "markdown",
      "metadata": {
        "id": "ArbPJwIAxhC1"
      },
      "source": [
        "## 조건문"
      ]
    },
    {
      "attachments": {},
      "cell_type": "markdown",
      "metadata": {
        "id": "V_lKljqTxjsG"
      },
      "source": [
        "* if, elif, else, continue, break"
      ]
    },
    {
      "cell_type": "code",
      "execution_count": null,
      "metadata": {
        "colab": {
          "base_uri": "https://localhost:8080/"
        },
        "id": "vUAcLuBGzFK0",
        "outputId": "2eb2da7c-abff-4aec-92ff-8c8d997a9275"
      },
      "outputs": [
        {
          "name": "stdout",
          "output_type": "stream",
          "text": [
            "Hello\n"
          ]
        }
      ],
      "source": [
        "x = 2\n",
        "if x > 1 and x < 10:\n",
        "    print('Hello')"
      ]
    },
    {
      "cell_type": "code",
      "execution_count": null,
      "metadata": {
        "colab": {
          "base_uri": "https://localhost:8080/"
        },
        "id": "LYthDkv6zZA2",
        "outputId": "799b2c8e-b544-4c42-8369-0bde43c6837f"
      },
      "outputs": [
        {
          "name": "stdout",
          "output_type": "stream",
          "text": [
            "hello\n"
          ]
        }
      ],
      "source": [
        "if True:\n",
        "    print('hello')"
      ]
    },
    {
      "cell_type": "code",
      "execution_count": null,
      "metadata": {
        "colab": {
          "base_uri": "https://localhost:8080/"
        },
        "id": "A_TGW_P5zcsY",
        "outputId": "4fe10096-644e-4d2c-c6be-0018746586e3"
      },
      "outputs": [
        {
          "name": "stdout",
          "output_type": "stream",
          "text": [
            "hello\n"
          ]
        }
      ],
      "source": [
        "if 12309:\n",
        "    print('hello')"
      ]
    },
    {
      "cell_type": "code",
      "execution_count": null,
      "metadata": {
        "colab": {
          "base_uri": "https://localhost:8080/"
        },
        "id": "9NkVr-3vzfxc",
        "outputId": "3dd37fcf-b5e6-437a-8854-f134dc24d84b"
      },
      "outputs": [
        {
          "name": "stdout",
          "output_type": "stream",
          "text": [
            "two\n"
          ]
        }
      ],
      "source": [
        "def f():\n",
        "    return False # True\n",
        "if f():\n",
        "    print('hello')\n",
        "    print('one')\n",
        "print('two')"
      ]
    },
    {
      "cell_type": "code",
      "execution_count": null,
      "metadata": {
        "colab": {
          "base_uri": "https://localhost:8080/"
        },
        "id": "ouDmsS6Uz7Pn",
        "outputId": "37c7e8e4-dad8-4f73-9322-0894a4982017"
      },
      "outputs": [
        {
          "name": "stdout",
          "output_type": "stream",
          "text": [
            "two\n"
          ]
        }
      ],
      "source": [
        "if '': # [].{}.'' 는 모두 False 취급 합니다.\n",
        "    print('hello')\n",
        "    print('one')\n",
        "print('two')"
      ]
    },
    {
      "cell_type": "code",
      "execution_count": null,
      "metadata": {
        "colab": {
          "base_uri": "https://localhost:8080/"
        },
        "id": "Sh3jZ7Vn0I7w",
        "outputId": "09888537-8791-4952-e8e9-d1819ca2e064"
      },
      "outputs": [
        {
          "name": "stdout",
          "output_type": "stream",
          "text": [
            "hello\n",
            "one\n",
            "two\n"
          ]
        }
      ],
      "source": [
        "if ' ': # 공백이 있는 것입니다.\n",
        "    print('hello')\n",
        "    print('one')\n",
        "print('two')"
      ]
    },
    {
      "cell_type": "code",
      "execution_count": null,
      "metadata": {
        "colab": {
          "base_uri": "https://localhost:8080/"
        },
        "id": "sR_jTWsI0SON",
        "outputId": "6781e121-6d65-4794-fd0c-c43dfda40188"
      },
      "outputs": [
        {
          "name": "stdout",
          "output_type": "stream",
          "text": [
            "two\n"
          ]
        }
      ],
      "source": [
        "if [                   ]: # 공백이 있는 것입니다.\n",
        "    print('hello')\n",
        "    print('one')\n",
        "print('two')"
      ]
    },
    {
      "cell_type": "code",
      "execution_count": null,
      "metadata": {
        "id": "zC8bdXgl0XY9"
      },
      "outputs": [],
      "source": [
        "if [,]: # SyntaxError\n",
        "    print('hello')\n",
        "    print('one')\n",
        "print('two')"
      ]
    },
    {
      "cell_type": "code",
      "execution_count": null,
      "metadata": {
        "colab": {
          "base_uri": "https://localhost:8080/"
        },
        "id": "cD2GYx7S0kSk",
        "outputId": "6852480b-35df-45ca-f955-581cc40ed3c8"
      },
      "outputs": [
        {
          "name": "stdout",
          "output_type": "stream",
          "text": [
            "hello\n",
            "one\n",
            "two\n"
          ]
        }
      ],
      "source": [
        "if [10,\n",
        "    20,\n",
        "    30, # 마지막 콤마는 허락합니다! 소괄호, 중괄호, 대괄호에 공백은 병합합니다.\n",
        "    ]:\n",
        "    print('hello')\n",
        "    print('one')\n",
        "print('two')"
      ]
    },
    {
      "cell_type": "code",
      "execution_count": null,
      "metadata": {
        "id": "A6W9uD9_2dU4"
      },
      "outputs": [],
      "source": [
        "if None:\n",
        "    print('false')"
      ]
    },
    {
      "cell_type": "code",
      "execution_count": null,
      "metadata": {
        "colab": {
          "base_uri": "https://localhost:8080/"
        },
        "id": "aXmu2Fuz1Yo5",
        "outputId": "0341f185-f02f-4a4d-c8a4-a4c4532c28d4"
      },
      "outputs": [
        {
          "name": "stdout",
          "output_type": "stream",
          "text": [
            "hello\n"
          ]
        }
      ],
      "source": [
        "class int(int):\n",
        "    def __eq__(self, next):\n",
        "        return True\n",
        "\n",
        "if int('11') == int('10'):\n",
        "    print('hello')"
      ]
    },
    {
      "cell_type": "code",
      "execution_count": null,
      "metadata": {
        "id": "n1P5Cycj2yN5"
      },
      "outputs": [],
      "source": [
        "if 10 > 11:\n",
        "    print('one')\n",
        "    print('two')\n",
        "print('three')\n",
        "else: # error\n",
        "    print('four')"
      ]
    },
    {
      "cell_type": "code",
      "execution_count": null,
      "metadata": {
        "colab": {
          "base_uri": "https://localhost:8080/"
        },
        "id": "uk3vVVe43Hot",
        "outputId": "7cc25169-d5f4-475f-82cd-3b0b01a360da"
      },
      "outputs": [
        {
          "name": "stdout",
          "output_type": "stream",
          "text": [
            "three\n"
          ]
        }
      ],
      "source": [
        "if 10 > 11:\n",
        "    print('one')\n",
        "    print('two')\n",
        "else: # error\n",
        "    print('three')"
      ]
    },
    {
      "cell_type": "code",
      "execution_count": null,
      "metadata": {
        "colab": {
          "base_uri": "https://localhost:8080/"
        },
        "id": "Mj_9MILl3Om0",
        "outputId": "d527e73b-5a0b-4a45-becf-d11f720e8367"
      },
      "outputs": [
        {
          "name": "stdout",
          "output_type": "stream",
          "text": [
            "two\n"
          ]
        }
      ],
      "source": [
        "# else가 없어도 되는 경우\n",
        "def f():\n",
        "    if 10>11:\n",
        "        return 'one'\n",
        "    return 'two'\n",
        "\n",
        "print(f())"
      ]
    },
    {
      "cell_type": "code",
      "execution_count": null,
      "metadata": {
        "id": "NBoImbBt3oTR"
      },
      "outputs": [],
      "source": [
        "# 여러개의 if문을 단축할 수 있는 방법 =>\n",
        "# 가독성이 좋아지는 것을 선택하세요! 정답은 없습니다.\n",
        "# and 구문으로 if를 합칠 수 있습니다.\n",
        "x = 10\n",
        "if x > 5:\n",
        "    if type(x) == int:\n",
        "        print('one')\n",
        "        \n",
        "if x > 5 and type(x) == int:\n",
        "    print('one')"
      ]
    },
    {
      "cell_type": "code",
      "execution_count": null,
      "metadata": {
        "id": "VSa7rfkA4OCJ"
      },
      "outputs": [],
      "source": [
        "# 여러개의 if문을 단축할 수 있는 방법 =>\n",
        "# 가독성이 좋아지는 것을 선택하세요! 정답은 없습니다.\n",
        "# and 구문으로 if를 합칠 수 있습니다.\n",
        "x = 10\n",
        "if x > 5:\n",
        "    if type(x) == int:\n",
        "        if x % 2 == 0:\n",
        "            print('one')\n",
        "        \n",
        "if x > 5 and type(x) == int and x % 2 == 0:\n",
        "    print('one')"
      ]
    },
    {
      "cell_type": "code",
      "execution_count": null,
      "metadata": {
        "id": "U-4LTCC55OLn"
      },
      "outputs": [],
      "source": [
        "if True:\n",
        "    print('hello')\n",
        "else:\n",
        "    print('hello')\n",
        "else: # error\n",
        "    print('hello')\n",
        "else:\n",
        "    print('hello')"
      ]
    },
    {
      "cell_type": "code",
      "execution_count": null,
      "metadata": {
        "colab": {
          "base_uri": "https://localhost:8080/"
        },
        "id": "4UbQ2pPa5bNA",
        "outputId": "aeaa18da-9f13-48d1-9d88-9efc7aceeb2e"
      },
      "outputs": [
        {
          "name": "stdout",
          "output_type": "stream",
          "text": [
            "hello\n",
            "hello\n",
            "hello\n"
          ]
        }
      ],
      "source": [
        "if True:\n",
        "    print('hello')\n",
        "if True:\n",
        "    print('hello')\n",
        "if True:\n",
        "    print('hello')\n",
        "else:\n",
        "    print('hello')"
      ]
    },
    {
      "cell_type": "code",
      "execution_count": null,
      "metadata": {
        "colab": {
          "base_uri": "https://localhost:8080/"
        },
        "id": "OF8nCJgY5gt_",
        "outputId": "a6adaf59-e66e-42a6-c735-67ae32092fe4"
      },
      "outputs": [
        {
          "name": "stdout",
          "output_type": "stream",
          "text": [
            "hello\n"
          ]
        }
      ],
      "source": [
        "if True:\n",
        "    print('hello')\n",
        "elif True:\n",
        "    print('hello')\n",
        "elif True:\n",
        "    print('hello')\n",
        "else:\n",
        "    print('hello')"
      ]
    },
    {
      "cell_type": "code",
      "execution_count": null,
      "metadata": {
        "id": "XCfFhMWU5jly"
      },
      "outputs": [],
      "source": [
        "elif True: # error 위에 구문이 있어야 합니다.\n",
        "    print('hello')\n",
        "elif True:\n",
        "    print('hello')\n",
        "else:\n",
        "    print('hello')"
      ]
    },
    {
      "cell_type": "code",
      "execution_count": null,
      "metadata": {
        "id": "vmUU9uwwxsJu"
      },
      "outputs": [],
      "source": [
        "score = 81\n",
        "money = 0\n",
        "\n",
        "if score >= 90: # 만약에 조건이 참이라면\n",
        "    print('mom : i\\'m so happy!')\n",
        "    money += 1000000\n",
        "elif score >= 80: # 그렇지 않고 만약에 조건이 참이라면\n",
        "    print('mom : i\\'m happy!')\n",
        "    money += 100000\n",
        "elif score >= 70 and score < 80: # 그렇지 않고 만약에 ... 그렇지 않나요?\n",
        "    print('mom : i\\'m so...!')\n",
        "    money += 10000\n",
        "elif score >= 60 and score < 70:\n",
        "    print('mom : i\\'m so...!')\n",
        "    money += 1000\n",
        "else:\n",
        "    print('mom : i\\'m...!')\n",
        "print(money)\n",
        "# if,elif,else 구문은 함께 썼다면 한 덩어리가 되어\n",
        "# 하나만 실행이 되고 나머지는 실행이 되지 않습니다."
      ]
    },
    {
      "cell_type": "code",
      "execution_count": null,
      "metadata": {
        "id": "4EYn-5xF58vU"
      },
      "outputs": [],
      "source": [
        "# Ctrl + M, M 누르시면 코드블록이 마크다운 블록이 됩니다.\n",
        "# Ctrl + M, Y 누르시면 마크다운이 코드 블록이 됩니다. "
      ]
    },
    {
      "attachments": {},
      "cell_type": "markdown",
      "metadata": {
        "id": "XDDOWsO05w1T"
      },
      "source": [
        "## if 심화"
      ]
    },
    {
      "cell_type": "code",
      "execution_count": null,
      "metadata": {
        "colab": {
          "base_uri": "https://localhost:8080/"
        },
        "id": "vzOWLKXc6JUG",
        "outputId": "6466e1b8-3b19-4093-934e-bb2f6ffeed40"
      },
      "outputs": [
        {
          "name": "stdout",
          "output_type": "stream",
          "text": [
            "hello\n"
          ]
        }
      ],
      "source": [
        "# 저는 개인적으로 해당 문법이 가독성을 떨어트린다라고 생각해서\n",
        "# 권장하진 않습니다.\n",
        "if 10 > 5: print('hello') # 1줄에 사용하는 것이 가능합니다."
      ]
    },
    {
      "cell_type": "code",
      "execution_count": null,
      "metadata": {
        "colab": {
          "base_uri": "https://localhost:8080/"
        },
        "id": "gB-PBa9n6PHk",
        "outputId": "f9d85c99-cfc1-4393-f9c9-856a7f851f96"
      },
      "outputs": [
        {
          "name": "stdout",
          "output_type": "stream",
          "text": [
            "world\n"
          ]
        }
      ],
      "source": [
        "if 1 > 5: print('hello')\n",
        "elif 5 > 1: print('world')"
      ]
    },
    {
      "cell_type": "code",
      "execution_count": null,
      "metadata": {
        "colab": {
          "base_uri": "https://localhost:8080/"
        },
        "id": "jvq-Ws_G8_qM",
        "outputId": "ec1bef60-9891-40ac-f9a8-ea512f651475"
      },
      "outputs": [
        {
          "name": "stdout",
          "output_type": "stream",
          "text": [
            "hello world\n"
          ]
        }
      ],
      "source": [
        "if 1 > 5: print('hello')\n",
        "elif 1 > 5: print('world')\n",
        "else: print('hello world')"
      ]
    },
    {
      "cell_type": "code",
      "execution_count": null,
      "metadata": {
        "colab": {
          "base_uri": "https://localhost:8080/"
        },
        "id": "R9FtOuvp9MKh",
        "outputId": "9795a4df-a682-43a2-ce01-e4bc22bfd28c"
      },
      "outputs": [
        {
          "name": "stdout",
          "output_type": "stream",
          "text": [
            "one\n"
          ]
        }
      ],
      "source": [
        "# 3항 연산자는 가독성을 해치지 않는 선에서 많이 사용합니다.\n",
        "print('one') if 5 > 1 else print('two')"
      ]
    },
    {
      "cell_type": "code",
      "execution_count": null,
      "metadata": {
        "colab": {
          "base_uri": "https://localhost:8080/"
        },
        "id": "yZGKD5Cf9elU",
        "outputId": "32dc7412-a632-4207-bdb9-d62fc769e0f6"
      },
      "outputs": [
        {
          "name": "stdout",
          "output_type": "stream",
          "text": [
            "one\n"
          ]
        }
      ],
      "source": [
        "(print('one') if 5 > 1 else print('two'))"
      ]
    },
    {
      "cell_type": "code",
      "execution_count": null,
      "metadata": {
        "id": "W293k7r59vh3"
      },
      "outputs": [],
      "source": [
        "# error 이렇게 사용하지 않습니다.\n",
        "if 5 > 1 print('one') else print('two') "
      ]
    },
    {
      "cell_type": "code",
      "execution_count": null,
      "metadata": {
        "id": "xG6WwnKK9-79"
      },
      "outputs": [],
      "source": [
        "if 5 > 1:\n",
        "    print('one') \n",
        "else:\n",
        "    print('two')"
      ]
    },
    {
      "cell_type": "code",
      "execution_count": null,
      "metadata": {
        "id": "CQ_My3Me-H1t"
      },
      "outputs": [],
      "source": [
        "# 할당이나 return에서 많이 사용합니다.\n",
        "# 할당이나 return을 할 때 어떤 조건을 달고 싶을 때\n",
        "# 그런데 일반 if문과 else문이 거창하다고 생각이 되었을 때.\n",
        "y = 100\n",
        "x = 'one' if y > 80 else None"
      ]
    },
    {
      "cell_type": "code",
      "execution_count": null,
      "metadata": {
        "colab": {
          "base_uri": "https://localhost:8080/",
          "height": 35
        },
        "id": "KO8NpHJi-nTC",
        "outputId": "55e90cad-d1fa-44d6-ddb0-81943786a492"
      },
      "outputs": [
        {
          "data": {
            "application/vnd.google.colaboratory.intrinsic+json": {
              "type": "string"
            },
            "text/plain": [
              "'one'"
            ]
          },
          "execution_count": 56,
          "metadata": {},
          "output_type": "execute_result"
        }
      ],
      "source": [
        "x"
      ]
    },
    {
      "cell_type": "code",
      "execution_count": null,
      "metadata": {
        "colab": {
          "base_uri": "https://localhost:8080/"
        },
        "id": "1KKQosK2-q-B",
        "outputId": "07b5fa50-fab1-43e7-b2e1-75ac10d41cf0"
      },
      "outputs": [
        {
          "name": "stdout",
          "output_type": "stream",
          "text": [
            "one\n",
            "None\n"
          ]
        }
      ],
      "source": [
        "def f(y):\n",
        "    if y > 80:\n",
        "        x = 'one'\n",
        "    else:\n",
        "        x = None\n",
        "    return x\n",
        "\n",
        "print(f(100))\n",
        "print(f(30))"
      ]
    },
    {
      "cell_type": "code",
      "execution_count": null,
      "metadata": {
        "colab": {
          "base_uri": "https://localhost:8080/"
        },
        "id": "5YhctBJ4_fVM",
        "outputId": "97029179-72c4-4047-c3f1-b59b7ed92c35"
      },
      "outputs": [
        {
          "name": "stdout",
          "output_type": "stream",
          "text": [
            "one\n",
            "None\n"
          ]
        }
      ],
      "source": [
        "def f(y):\n",
        "    if y > 80:\n",
        "        return 'one'\n",
        "    return None\n",
        "\n",
        "print(f(100))\n",
        "print(f(30))"
      ]
    },
    {
      "cell_type": "code",
      "execution_count": null,
      "metadata": {
        "colab": {
          "base_uri": "https://localhost:8080/"
        },
        "id": "8XDzAi8Z_Mze",
        "outputId": "c4633d91-3fa5-41e2-bc65-d3b6b38b465b"
      },
      "outputs": [
        {
          "name": "stdout",
          "output_type": "stream",
          "text": [
            "one\n",
            "None\n"
          ]
        }
      ],
      "source": [
        "def f(y):\n",
        "    return 'one' if y > 80 else None\n",
        "\n",
        "print(f(100))\n",
        "print(f(30))"
      ]
    },
    {
      "cell_type": "code",
      "execution_count": null,
      "metadata": {
        "id": "YfcEVS2W_tZe"
      },
      "outputs": [],
      "source": [
        "def custom_sum(x):\n",
        "    return sum(x)\n",
        "\n",
        "custom_sum([1,2,3,4,5,6]) # 21\n",
        "custom_sum([1,2,3,4,'5',6]) # float('inf')"
      ]
    },
    {
      "cell_type": "code",
      "execution_count": null,
      "metadata": {
        "colab": {
          "base_uri": "https://localhost:8080/"
        },
        "id": "cxUtVN3sAXpT",
        "outputId": "fe2a0793-534d-4a21-bfb0-9400dbe3d3b2"
      },
      "outputs": [
        {
          "data": {
            "text/plain": [
              "inf"
            ]
          },
          "execution_count": 7,
          "metadata": {},
          "output_type": "execute_result"
        }
      ],
      "source": [
        "# 이해를 위해 만든 예제이지 효율적이진 않습니다.\n",
        "\n",
        "def custom_sum(x):\n",
        "    return sum(x) if len(list(filter(lambda x: type(x)==int, x))) == len(x) else float('inf')\n",
        "\n",
        "custom_sum([1,2,3,4,5,6]) # 21\n",
        "custom_sum([1,2,3,4,'5',6]) # float('inf')"
      ]
    },
    {
      "cell_type": "code",
      "execution_count": null,
      "metadata": {
        "colab": {
          "base_uri": "https://localhost:8080/"
        },
        "id": "IqOUX09HBEHf",
        "outputId": "344beffe-a59e-4d4e-e537-ef8d1757025a"
      },
      "outputs": [
        {
          "data": {
            "text/plain": [
              "5"
            ]
          },
          "execution_count": 3,
          "metadata": {},
          "output_type": "execute_result"
        }
      ],
      "source": [
        "l = [1,2,3,'4','5']\n",
        "list(filter(lambda x: type(x)==int,l))\n",
        "len(list(filter(lambda x: type(x)==int,l)))\n",
        "len(l)"
      ]
    },
    {
      "cell_type": "code",
      "execution_count": null,
      "metadata": {
        "id": "ddnefiAVCT_p"
      },
      "outputs": [],
      "source": [
        "x = 10\n",
        "# 문제 : 다음 if문을 3항 연산자로 표현해주세요.\n",
        "if x % 2 == 0:\n",
        "    홀짝여부 = '짝수'\n",
        "else:\n",
        "    홀짝여부 = '홀수'\n",
        "\n",
        "# 답\n",
        "x = 10\n",
        "홀짝여부 = '짝수' if x % 2 == 0 else '홀수'"
      ]
    },
    {
      "cell_type": "code",
      "execution_count": null,
      "metadata": {
        "id": "m-Aeb0V2Du9Q"
      },
      "outputs": [],
      "source": [
        "# 지금하는 것은 위 보다 빈도도 거의 없습니다.\n",
        "# 3항 연산자의 중첩\n",
        "# '1번째 조건 True일 때' if '조건1' else '조건1이 False이고 조건2가 True일 때' if '조건2' else '조건1, 조건2가 모두 false일 때'"
      ]
    },
    {
      "cell_type": "code",
      "execution_count": null,
      "metadata": {
        "id": "Qs-E6JxFETSm"
      },
      "outputs": [],
      "source": [
        "# '1번째 조건 True일 때' \n",
        "# if '조건1' \n",
        "# else '조건1이 False이고 조건2가 True일 때' \n",
        "#     if '조건2' \n",
        "#     else '조건1, 조건2가 모두 false일 때'"
      ]
    },
    {
      "cell_type": "code",
      "execution_count": null,
      "metadata": {
        "colab": {
          "base_uri": "https://localhost:8080/",
          "height": 35
        },
        "id": "gQW50ZJ6EoK6",
        "outputId": "c15ba9a2-f94b-47a0-da99-72acab6681c1"
      },
      "outputs": [
        {
          "data": {
            "application/vnd.google.colaboratory.intrinsic+json": {
              "type": "string"
            },
            "text/plain": [
              "'3X'"
            ]
          },
          "execution_count": 12,
          "metadata": {},
          "output_type": "execute_result"
        }
      ],
      "source": [
        "x = 15\n",
        "if x % 2 == 0:\n",
        "    배수 = '2X' # 2의 배수\n",
        "elif x % 3 == 0:\n",
        "    배수 = '3X' # 3의 배수\n",
        "else:\n",
        "    배수 = '?' # 2의 배수도 아니고 3의 배수도 아니다.\n",
        "\n",
        "배수"
      ]
    },
    {
      "cell_type": "code",
      "execution_count": null,
      "metadata": {
        "colab": {
          "base_uri": "https://localhost:8080/",
          "height": 35
        },
        "id": "drU6eX2pFJg_",
        "outputId": "5d99e465-f8c9-45fe-f68e-44ad852cb831"
      },
      "outputs": [
        {
          "data": {
            "application/vnd.google.colaboratory.intrinsic+json": {
              "type": "string"
            },
            "text/plain": [
              "'?'"
            ]
          },
          "execution_count": 13,
          "metadata": {},
          "output_type": "execute_result"
        }
      ],
      "source": [
        "x = 17\n",
        "배수 = '2X' if x % 2 == 0 else '3X' if x % 3 == 0 else '?'\n",
        "\n",
        "배수"
      ]
    },
    {
      "attachments": {},
      "cell_type": "markdown",
      "metadata": {
        "id": "Hur6FGqaFyEo"
      },
      "source": [
        "## 반복문"
      ]
    },
    {
      "cell_type": "code",
      "execution_count": null,
      "metadata": {
        "id": "tyvVLXHyF0iJ"
      },
      "outputs": [],
      "source": [
        "# for 변수 in 순회가능한객체:\n",
        "#     code"
      ]
    },
    {
      "cell_type": "code",
      "execution_count": null,
      "metadata": {
        "id": "qki39mDqGbDp"
      },
      "outputs": [],
      "source": [
        "# 순회가능한객체 != 시퀀스형자료형 # 순서가 없어도 순회가 가능하기 때문에"
      ]
    },
    {
      "cell_type": "code",
      "execution_count": null,
      "metadata": {
        "id": "aHBY_ZEoGkl6"
      },
      "outputs": [],
      "source": [
        "for i in 'hello world':\n",
        "    print(i)"
      ]
    },
    {
      "cell_type": "code",
      "execution_count": null,
      "metadata": {
        "id": "23FXyH3-GuVR"
      },
      "outputs": [],
      "source": [
        "for i in 10: # error\n",
        "    print(i)"
      ]
    },
    {
      "cell_type": "code",
      "execution_count": null,
      "metadata": {
        "id": "OdaSVy_TGzOn"
      },
      "outputs": [],
      "source": [
        "for i in 10.1: # error\n",
        "    print(i)"
      ]
    },
    {
      "cell_type": "code",
      "execution_count": null,
      "metadata": {
        "id": "tcNmHpcLG1Ia"
      },
      "outputs": [],
      "source": [
        "for i in [1,2,3]:\n",
        "    print(i)"
      ]
    },
    {
      "cell_type": "code",
      "execution_count": null,
      "metadata": {
        "id": "0Iv9J6rdG33J"
      },
      "outputs": [],
      "source": [
        "for i in (1,2,3):\n",
        "    print(i)"
      ]
    },
    {
      "cell_type": "code",
      "execution_count": null,
      "metadata": {
        "id": "yknChTLwG6Vw"
      },
      "outputs": [],
      "source": [
        "for i in {1,2,3}:\n",
        "    print(i)"
      ]
    },
    {
      "cell_type": "code",
      "execution_count": null,
      "metadata": {
        "id": "lPi6jhZWHArv"
      },
      "outputs": [],
      "source": [
        "for i in {'one':1,'two':2,'three':3}:\n",
        "    print(i)"
      ]
    },
    {
      "cell_type": "code",
      "execution_count": null,
      "metadata": {
        "id": "4csxsJBXHLbr"
      },
      "outputs": [],
      "source": [
        "# 변수에는 range, enumerate, zip, map, sorted, reversed ...  \n",
        "for i in range(10):\n",
        "    print(i)"
      ]
    },
    {
      "cell_type": "code",
      "execution_count": null,
      "metadata": {
        "colab": {
          "base_uri": "https://localhost:8080/"
        },
        "id": "5i33WphJHgXj",
        "outputId": "5403f1aa-5a76-4521-8be9-28cd0865357b"
      },
      "outputs": [
        {
          "name": "stdout",
          "output_type": "stream",
          "text": [
            "Python\n",
            "JavaScript\n",
            "JAVA\n",
            "Ruby\n"
          ]
        }
      ],
      "source": [
        "언어순위 = ['Python','JavaScript','JAVA','Ruby']\n",
        "for i in 언어순위:\n",
        "    print(i)"
      ]
    },
    {
      "cell_type": "code",
      "execution_count": null,
      "metadata": {
        "colab": {
          "base_uri": "https://localhost:8080/"
        },
        "id": "1WR5HtLDHvvT",
        "outputId": "5240e593-ce34-43dc-9be8-fc8f6f50181a"
      },
      "outputs": [
        {
          "name": "stdout",
          "output_type": "stream",
          "text": [
            "(0, 'Python')\n",
            "(1, 'JavaScript')\n",
            "(2, 'JAVA')\n",
            "(3, 'Ruby')\n"
          ]
        }
      ],
      "source": [
        "언어순위 = ['Python','JavaScript','JAVA','Ruby']\n",
        "for i in enumerate(언어순위):\n",
        "    print(i)"
      ]
    },
    {
      "cell_type": "code",
      "execution_count": null,
      "metadata": {
        "colab": {
          "base_uri": "https://localhost:8080/"
        },
        "id": "zqxO1y4MH5bv",
        "outputId": "dcaebec2-b547-4b69-a49c-b801676b7afd"
      },
      "outputs": [
        {
          "name": "stdout",
          "output_type": "stream",
          "text": [
            "(1, 'Python')\n",
            "(2, 'JavaScript')\n",
            "(3, 'JAVA')\n",
            "(4, 'Ruby')\n"
          ]
        }
      ],
      "source": [
        "언어순위 = ['Python','JavaScript','JAVA','Ruby']\n",
        "for i in enumerate(언어순위, 1):\n",
        "    print(i)"
      ]
    },
    {
      "cell_type": "code",
      "execution_count": null,
      "metadata": {
        "colab": {
          "base_uri": "https://localhost:8080/"
        },
        "id": "5yR7DT9uH8LC",
        "outputId": "e1789b41-7fac-4b34-a93c-df480a5670c4"
      },
      "outputs": [
        {
          "name": "stdout",
          "output_type": "stream",
          "text": [
            "(101, 'Python')\n",
            "(102, 'JavaScript')\n",
            "(103, 'JAVA')\n",
            "(104, 'Ruby')\n"
          ]
        }
      ],
      "source": [
        "언어순위 = ['Python','JavaScript','JAVA','Ruby']\n",
        "for i in enumerate(언어순위, 101):\n",
        "    print(i)"
      ]
    },
    {
      "cell_type": "code",
      "execution_count": null,
      "metadata": {
        "colab": {
          "base_uri": "https://localhost:8080/"
        },
        "id": "oCYNo6y_IBML",
        "outputId": "48d3c9c1-4e40-4a29-efdc-c0d0ce7b9261"
      },
      "outputs": [
        {
          "name": "stdout",
          "output_type": "stream",
          "text": [
            "101 Python\n",
            "102 JavaScript\n",
            "103 JAVA\n",
            "104 Ruby\n"
          ]
        }
      ],
      "source": [
        "언어순위 = ['Python','JavaScript','JAVA','Ruby']\n",
        "for i,j in enumerate(언어순위, 101):\n",
        "    print(i,j)"
      ]
    },
    {
      "cell_type": "code",
      "execution_count": null,
      "metadata": {
        "colab": {
          "base_uri": "https://localhost:8080/"
        },
        "id": "1_KlZoLY1Lab",
        "outputId": "58adaaf6-5696-4d5f-eb1c-78be2be884e9"
      },
      "outputs": [
        {
          "name": "stdout",
          "output_type": "stream",
          "text": [
            "hello world\n",
            "hello world\n",
            "hello world\n"
          ]
        }
      ],
      "source": [
        "for _ in range(3):\n",
        "    print('hello world')"
      ]
    },
    {
      "cell_type": "code",
      "execution_count": null,
      "metadata": {
        "colab": {
          "base_uri": "https://localhost:8080/"
        },
        "id": "ijBSnu4F1YFC",
        "outputId": "07ba7a9d-ec97-4897-a3d9-e31c19a62e07"
      },
      "outputs": [
        {
          "name": "stdout",
          "output_type": "stream",
          "text": [
            "hello world\n",
            "2\n",
            "hello world\n",
            "4\n",
            "hello world\n",
            "6\n"
          ]
        }
      ],
      "source": [
        "for _ , i in [[1,2],[3,4],[5,6]]:\n",
        "    print('hello world')\n",
        "    print(i)"
      ]
    },
    {
      "cell_type": "code",
      "execution_count": null,
      "metadata": {
        "colab": {
          "base_uri": "https://localhost:8080/"
        },
        "id": "Hy-DbsYV1hSL",
        "outputId": "371f2db8-0373-48ec-a373-322fc04089cf"
      },
      "outputs": [
        {
          "data": {
            "text/plain": [
              "2550"
            ]
          },
          "execution_count": 4,
          "metadata": {},
          "output_type": "execute_result"
        }
      ],
      "source": [
        "s = 0\n",
        "for i in range(0, 101, 2):\n",
        "    s += i\n",
        "s"
      ]
    },
    {
      "cell_type": "code",
      "execution_count": null,
      "metadata": {
        "colab": {
          "base_uri": "https://localhost:8080/"
        },
        "id": "d1d1_qI32HXZ",
        "outputId": "f454ffe8-f34a-4f41-e210-5eb66e223e73"
      },
      "outputs": [
        {
          "name": "stdout",
          "output_type": "stream",
          "text": [
            "100 200 300 400\n",
            "a b c d\n",
            "one two\n"
          ]
        }
      ],
      "source": [
        "listx= [100,200,300,400]\n",
        "strx= 'abcd'\n",
        "dictx = {'one':1, 'two':2}\n",
        "\n",
        "listxlter = iter(listx)\n",
        "strxlter= iter(strx)\n",
        "dictxlter= iter(dictx)\n",
        "\n",
        "# 시퀀스형 자료형에만 next가 되는 것이 아니고 \n",
        "# next 다음 순회 값을 지정할 뿐입니다.\n",
        "print(next(listxlter), next(listxlter), next(listxlter), next(listxlter))\n",
        "print(next(strxlter), next(strxlter), next(strxlter), next(strxlter))\n",
        "print(next(dictxlter), next(dictxlter))"
      ]
    },
    {
      "cell_type": "code",
      "execution_count": null,
      "metadata": {
        "id": "QZtVF4Kv2xCr"
      },
      "outputs": [],
      "source": [
        "# for True: # 이렇게 사용하지는 못합니다.\n",
        "for i in [1, 2, 3]:\n",
        "    print(i)"
      ]
    },
    {
      "attachments": {},
      "cell_type": "markdown",
      "metadata": {
        "id": "mbQJRQX33TyY"
      },
      "source": [
        "## break과 continue"
      ]
    },
    {
      "cell_type": "code",
      "execution_count": null,
      "metadata": {
        "colab": {
          "base_uri": "https://localhost:8080/"
        },
        "id": "ihL0wq6E3QBK",
        "outputId": "7ac7867f-e3b0-40ec-f993-096938824ff5"
      },
      "outputs": [
        {
          "name": "stdout",
          "output_type": "stream",
          "text": [
            "0\n",
            "1\n",
            "2\n",
            "3\n",
            "4\n",
            "5\n"
          ]
        }
      ],
      "source": [
        "for i in range(10):\n",
        "    print(i)\n",
        "    if i == 5:\n",
        "        break"
      ]
    },
    {
      "cell_type": "code",
      "execution_count": null,
      "metadata": {
        "colab": {
          "base_uri": "https://localhost:8080/"
        },
        "id": "B_LEoE-h3wTM",
        "outputId": "c89c623d-e81d-43f3-a11d-166b496e8cb9"
      },
      "outputs": [
        {
          "name": "stdout",
          "output_type": "stream",
          "text": [
            "----------------\n",
            "0\n",
            "0 0\n",
            "0 1\n",
            "0 2\n",
            "0 3\n",
            "0 4\n",
            "0 5\n",
            "0 6\n",
            "0 7\n",
            "0 8\n",
            "0 9\n",
            "----------------\n",
            "1\n",
            "1 0\n",
            "1 1\n",
            "1 2\n",
            "1 3\n",
            "1 4\n",
            "1 5\n",
            "1 6\n",
            "1 7\n",
            "1 8\n",
            "1 9\n",
            "----------------\n",
            "2\n",
            "2 0\n",
            "2 1\n",
            "2 2\n",
            "2 3\n",
            "2 4\n",
            "2 5\n",
            "2 6\n",
            "2 7\n",
            "2 8\n",
            "2 9\n",
            "----------------\n",
            "3\n",
            "3 0\n",
            "3 1\n",
            "3 2\n",
            "3 3\n",
            "3 4\n",
            "3 5\n",
            "3 6\n",
            "3 7\n",
            "3 8\n",
            "3 9\n",
            "----------------\n",
            "4\n",
            "4 0\n",
            "4 1\n",
            "4 2\n",
            "4 3\n",
            "4 4\n",
            "4 5\n",
            "4 6\n",
            "4 7\n",
            "4 8\n",
            "4 9\n",
            "----------------\n",
            "5\n",
            "5 0\n",
            "----------------\n",
            "6\n",
            "6 0\n",
            "6 1\n",
            "6 2\n",
            "6 3\n",
            "6 4\n",
            "6 5\n",
            "6 6\n",
            "6 7\n",
            "6 8\n",
            "6 9\n",
            "----------------\n",
            "7\n",
            "7 0\n",
            "7 1\n",
            "7 2\n",
            "7 3\n",
            "7 4\n",
            "7 5\n",
            "7 6\n",
            "7 7\n",
            "7 8\n",
            "7 9\n",
            "----------------\n",
            "8\n",
            "8 0\n",
            "8 1\n",
            "8 2\n",
            "8 3\n",
            "8 4\n",
            "8 5\n",
            "8 6\n",
            "8 7\n",
            "8 8\n",
            "8 9\n",
            "----------------\n",
            "9\n",
            "9 0\n",
            "9 1\n",
            "9 2\n",
            "9 3\n",
            "9 4\n",
            "9 5\n",
            "9 6\n",
            "9 7\n",
            "9 8\n",
            "9 9\n"
          ]
        }
      ],
      "source": [
        "# 모든 for가 중단이 되는 것은 아닙니다!\n",
        "# 자신을 감싸고 있는 단일 반복문만 탈출합니다.\n",
        "for i in range(10):\n",
        "    print('----------------')\n",
        "    print(i)\n",
        "    for j in range(10):\n",
        "        print(i, j)\n",
        "        if i == 5:\n",
        "            break"
      ]
    },
    {
      "cell_type": "code",
      "execution_count": null,
      "metadata": {
        "colab": {
          "base_uri": "https://localhost:8080/"
        },
        "id": "xJlLttlD46fV",
        "outputId": "bf42f4b8-a1f4-4968-e581-6b6265b1d2d8"
      },
      "outputs": [
        {
          "name": "stdout",
          "output_type": "stream",
          "text": [
            "0\n",
            "1\n",
            "2\n",
            "3\n",
            "4\n",
            "6\n",
            "7\n",
            "8\n",
            "9\n"
          ]
        }
      ],
      "source": [
        "# continue는 다음 루프로 갑니다.\n",
        "# 아래 코드에서 continue는 의미가 없습니다.\n",
        "for i in range(10):\n",
        "    print(i)\n",
        "    if i == 5:\n",
        "        continue"
      ]
    },
    {
      "cell_type": "code",
      "execution_count": null,
      "metadata": {
        "id": "xXE1dIqE5PEn"
      },
      "outputs": [],
      "source": [
        "# continue는 다음 루프로 갑니다.\n",
        "# 아래 코드에서 continue는 아래 print를 실행시키지 않고\n",
        "# 다음 루프로 가게됩니다.\n",
        "for i in range(10):\n",
        "    if i == 5:\n",
        "        continue\n",
        "    print(i)"
      ]
    },
    {
      "cell_type": "code",
      "execution_count": null,
      "metadata": {
        "id": "VtsK2DNM6hi4"
      },
      "outputs": [],
      "source": [
        "# pass는 공백을 채워주는 역할만 한다.\n",
        "for i in range(10):\n",
        "    if i == 5:\n",
        "        pass\n",
        "    print(i)"
      ]
    },
    {
      "cell_type": "code",
      "execution_count": null,
      "metadata": {
        "colab": {
          "base_uri": "https://localhost:8080/"
        },
        "id": "vtc996C17R2G",
        "outputId": "0d8f2cd5-d686-45a3-c8f7-96fcdd1df637"
      },
      "outputs": [
        {
          "name": "stdout",
          "output_type": "stream",
          "text": [
            "0\n",
            "1\n",
            "2\n",
            "3\n",
            "4\n",
            "5\n",
            "6\n",
            "7\n",
            "8\n",
            "9\n"
          ]
        }
      ],
      "source": [
        "for i in range(10):\n",
        "    print(i)\n",
        "    i += 2"
      ]
    },
    {
      "cell_type": "code",
      "execution_count": null,
      "metadata": {
        "colab": {
          "base_uri": "https://localhost:8080/"
        },
        "id": "lhLFmCJl7YMy",
        "outputId": "7946b32a-2621-45fc-9f0e-2a0b7c49ab98"
      },
      "outputs": [
        {
          "name": "stdout",
          "output_type": "stream",
          "text": [
            "0\n",
            "2\n",
            "4\n",
            "6\n",
            "8\n"
          ]
        }
      ],
      "source": [
        "for i in range(0, 10, 2):\n",
        "    print(i)"
      ]
    },
    {
      "cell_type": "code",
      "execution_count": null,
      "metadata": {
        "id": "Z6KQ2Eaw749_"
      },
      "outputs": [],
      "source": [
        "# 실행과 동시에 정지를 눌러주세요.\n",
        "# 무한 반복입니다.\n",
        "# 아래 코드는 효율적이지 못하니\n",
        "# 뒤에서 배울 generator로 무한반복을 구현해주세요.\n",
        "l = [1]\n",
        "for i in l:\n",
        "    l.append(i+1)\n",
        "    print(i)"
      ]
    },
    {
      "attachments": {},
      "cell_type": "markdown",
      "metadata": {
        "id": "44-2DHAC6SZH"
      },
      "source": [
        "## for와 else 구문"
      ]
    },
    {
      "cell_type": "code",
      "execution_count": null,
      "metadata": {
        "id": "LVkqnWyU6SE5"
      },
      "outputs": [],
      "source": [
        "# 다른 언어에서는 이 구문이 작동되지 않습니다.\n",
        "for i in range(10):\n",
        "    if i == 5:\n",
        "        break\n",
        "else:\n",
        "    print('정상 종료')"
      ]
    },
    {
      "cell_type": "code",
      "execution_count": null,
      "metadata": {
        "colab": {
          "base_uri": "https://localhost:8080/"
        },
        "id": "ANn9U4AU6vxj",
        "outputId": "9009b048-8a73-4729-b3e2-14d0d54ae7c6"
      },
      "outputs": [
        {
          "name": "stdout",
          "output_type": "stream",
          "text": [
            "정상 종료\n"
          ]
        }
      ],
      "source": [
        "# 반복문 + else 구문은\n",
        "# 반복문이 break를 쓰지 않고 정상 종료되었을 때\n",
        "# else 구문이 실행됩니다.\n",
        "\n",
        "for i in range(10):\n",
        "    if i == 5:\n",
        "        pass\n",
        "else:\n",
        "    print('정상 종료')"
      ]
    },
    {
      "attachments": {},
      "cell_type": "markdown",
      "metadata": {
        "id": "ZtXUleJY7nhw"
      },
      "source": [
        "## 리스트 표현식(list comprehension)"
      ]
    },
    {
      "cell_type": "code",
      "execution_count": null,
      "metadata": {
        "colab": {
          "base_uri": "https://localhost:8080/"
        },
        "id": "jX2wRwV07q_1",
        "outputId": "b6ce3f4e-5819-48c0-bcb5-fc77291dcbf6"
      },
      "outputs": [
        {
          "data": {
            "text/plain": [
              "[0, 1, 2, 3, 4, 5, 6, 7, 8, 9]"
            ]
          },
          "execution_count": 18,
          "metadata": {},
          "output_type": "execute_result"
        }
      ],
      "source": [
        "# 별 3.5개\n",
        "# 리스트 안에 반복문이나 조건문을 넣어 한 번에 리스트를 생성하는 기법\n",
        "# 리스트 표현식은 for보다 빠릅니다! (가독성 + 속도우위)\n",
        "\n",
        "l = []\n",
        "for i in range(10):\n",
        "    l.append(i)\n",
        "l"
      ]
    },
    {
      "cell_type": "code",
      "execution_count": null,
      "metadata": {
        "colab": {
          "base_uri": "https://localhost:8080/"
        },
        "id": "QTOsx6_19hKF",
        "outputId": "cf74a521-03cb-49e0-fccf-ce41a146d483"
      },
      "outputs": [
        {
          "data": {
            "text/plain": [
              "[0, 1, 2, 3, 4, 5, 6, 7, 8, 9]"
            ]
          },
          "execution_count": 19,
          "metadata": {},
          "output_type": "execute_result"
        }
      ],
      "source": [
        "[i for i in range(10)]"
      ]
    },
    {
      "cell_type": "code",
      "execution_count": null,
      "metadata": {
        "colab": {
          "base_uri": "https://localhost:8080/"
        },
        "id": "cRDzU5hB97xS",
        "outputId": "914a9e2e-5dc7-485c-87b2-90f37bfb7dd6"
      },
      "outputs": [
        {
          "data": {
            "text/plain": [
              "[0, 2, 4, 6, 8]"
            ]
          },
          "execution_count": 20,
          "metadata": {},
          "output_type": "execute_result"
        }
      ],
      "source": [
        "# 이 정도만 하실 수 있으면 우리 수업에서는 문제 없습니다.\n",
        "l = []\n",
        "for i in range(10):\n",
        "    if i % 2 == 0:\n",
        "        l.append(i)\n",
        "l"
      ]
    },
    {
      "cell_type": "code",
      "execution_count": null,
      "metadata": {
        "colab": {
          "base_uri": "https://localhost:8080/"
        },
        "id": "RnOBCFti-Hla",
        "outputId": "9865c324-f821-4b03-96f5-43ed02a126e7"
      },
      "outputs": [
        {
          "data": {
            "text/plain": [
              "[0, 2, 4, 6, 8]"
            ]
          },
          "execution_count": 21,
          "metadata": {},
          "output_type": "execute_result"
        }
      ],
      "source": [
        "[i for i in range(10) if i % 2 ==0]"
      ]
    },
    {
      "cell_type": "code",
      "execution_count": null,
      "metadata": {
        "colab": {
          "base_uri": "https://localhost:8080/"
        },
        "id": "UF-ZB2eE-dPU",
        "outputId": "0bd27979-6561-4df6-c44f-2e8b6ab448b3"
      },
      "outputs": [
        {
          "data": {
            "text/plain": [
              "[0, 2, 4, 6, 8]"
            ]
          },
          "execution_count": 22,
          "metadata": {},
          "output_type": "execute_result"
        }
      ],
      "source": [
        "list(range(0, 10, 2)) # 이것도 가능하고, 직관적이죠."
      ]
    },
    {
      "cell_type": "code",
      "execution_count": null,
      "metadata": {
        "colab": {
          "base_uri": "https://localhost:8080/"
        },
        "id": "PBjEC298-lS6",
        "outputId": "ffec152d-f83b-42b7-d30d-0cd0e0e2e22f"
      },
      "outputs": [
        {
          "data": {
            "text/plain": [
              "['aa', 'abc', 'aba']"
            ]
          },
          "execution_count": 23,
          "metadata": {},
          "output_type": "execute_result"
        }
      ],
      "source": [
        "l = ['aa','abc','bbb','ccc','aba']\n",
        "[i for i in l if 'a' in i]"
      ]
    },
    {
      "cell_type": "code",
      "execution_count": null,
      "metadata": {
        "colab": {
          "base_uri": "https://localhost:8080/"
        },
        "id": "_7L2RI7B_E5x",
        "outputId": "c8c29257-a75e-42b1-e2f6-4f4e282b1d26"
      },
      "outputs": [
        {
          "data": {
            "text/plain": [
              "[0, 2, 3, 4, 6, 8, 9]"
            ]
          },
          "execution_count": 25,
          "metadata": {},
          "output_type": "execute_result"
        }
      ],
      "source": [
        "l = []\n",
        "for i in range(10):\n",
        "    if i % 2 == 0:\n",
        "        l.append(i)\n",
        "    elif i % 3 == 0:\n",
        "        l.append(i)\n",
        "l"
      ]
    },
    {
      "cell_type": "code",
      "execution_count": null,
      "metadata": {
        "colab": {
          "base_uri": "https://localhost:8080/"
        },
        "id": "vH6TtEKQBqt4",
        "outputId": "3948061b-4ea5-4d82-a02a-7fa9e781a276"
      },
      "outputs": [
        {
          "data": {
            "text/plain": [
              "[0, 2, 3, 4, 6, 8, 9]"
            ]
          },
          "execution_count": 26,
          "metadata": {},
          "output_type": "execute_result"
        }
      ],
      "source": [
        "l = []\n",
        "for i in range(10):\n",
        "    if i % 2 == 0 or i % 3 == 0:\n",
        "        l.append(i)\n",
        "l"
      ]
    },
    {
      "cell_type": "code",
      "execution_count": null,
      "metadata": {
        "colab": {
          "base_uri": "https://localhost:8080/"
        },
        "id": "DsuzEJPLBx5-",
        "outputId": "c16e40f6-1e8a-4e84-b646-499fb5255a00"
      },
      "outputs": [
        {
          "data": {
            "text/plain": [
              "[0, 2, 3, 4, 6, 8, 9]"
            ]
          },
          "execution_count": 27,
          "metadata": {},
          "output_type": "execute_result"
        }
      ],
      "source": [
        "[i for i in range(10) if i % 2 == 0 or i % 3 == 0]"
      ]
    },
    {
      "cell_type": "code",
      "execution_count": null,
      "metadata": {
        "id": "wbt6zzMhCB1t"
      },
      "outputs": [],
      "source": [
        "# [i for i in range(10) if i % 2 == 0 elif i % 3 == 0] # error"
      ]
    },
    {
      "cell_type": "code",
      "execution_count": null,
      "metadata": {
        "id": "-w6O4BtWCRRU"
      },
      "outputs": [],
      "source": [
        "# 구구단\n",
        "# 손으로 꼭 순회 1번씩 돌아보셔야 합니다.\n",
        "# for i in range(2, 10):\n",
        "#     for j in range(1, 10):\n",
        "#         print(i, j, i*j)\n",
        "\n",
        "'''\n",
        "# step 0\n",
        "# 이렇게 손이나 문자열로 늘여트려놓고\n",
        "# 내가 무엇을 줄일 수 있을까?를 고민하세요.\n",
        "2 1 2\n",
        "2 2 4\n",
        "2 3 6\n",
        "2 4 8\n",
        "2 5 10\n",
        "2 6 12\n",
        "2 7 14\n",
        "2 8 16\n",
        "2 9 18\n",
        "3 1 3\n",
        "3 2 6\n",
        "3 3 9\n",
        "3 4 12\n",
        "3 5 15\n",
        "3 6 18\n",
        "3 7 21\n",
        "3 8 24\n",
        "3 9 27\n",
        "'''\n",
        "\n",
        "# step 1 ~ 100 이렇게 하나씩 줄여가면 됩니다.\n",
        "# for i in range(1, 10):\n",
        "#     print(2, i, 99)\n",
        "\n",
        "# step 1 ~ 100 이렇게 하나씩 줄여가면 됩니다.\n",
        "# for i in range(1, 10):\n",
        "#     print(2, i, 2*i)\n",
        "\n",
        "for 단 in range(2, 10):\n",
        "    for i in range(1, 10):\n",
        "        print(단, i, 단*i)"
      ]
    },
    {
      "cell_type": "code",
      "execution_count": null,
      "metadata": {
        "id": "ee8qh--xES3U"
      },
      "outputs": [],
      "source": [
        "# 별찍기\n",
        "# 트리만드는 문제도 있고, 원 만드는 문제도 있고...\n",
        "'''\n",
        "*\n",
        "**\n",
        "***\n",
        "****\n",
        "*****\n",
        "'''"
      ]
    },
    {
      "cell_type": "code",
      "execution_count": null,
      "metadata": {
        "colab": {
          "base_uri": "https://localhost:8080/"
        },
        "id": "5GO4oQWyEdkD",
        "outputId": "8f4356d1-8c7a-4a14-dcc6-bfcd8627edc9"
      },
      "outputs": [
        {
          "name": "stdout",
          "output_type": "stream",
          "text": [
            "찍을 별의 층수?5\n",
            "*\n",
            "**\n",
            "***\n",
            "****\n",
            "*****\n"
          ]
        }
      ],
      "source": [
        "user_input = int(input('찍을 별의 층수?'))\n",
        "for i in range(1, user_input+1):\n",
        "    print('*'*i)"
      ]
    },
    {
      "cell_type": "code",
      "execution_count": null,
      "metadata": {
        "id": "3JvdN0tHE8lp"
      },
      "outputs": [],
      "source": [
        "l = []\n",
        "for i in range(2, 10):\n",
        "    for j in range(1, 10):\n",
        "        l.append([i, j, i*j])\n",
        "l"
      ]
    },
    {
      "cell_type": "code",
      "execution_count": null,
      "metadata": {
        "id": "d-a4aoNOFILn"
      },
      "outputs": [],
      "source": [
        "[[i, j, i*j] for i in range(2, 10) for j in range(1, 10)]"
      ]
    },
    {
      "attachments": {},
      "cell_type": "markdown",
      "metadata": {
        "id": "bJgbGrc4FdN6"
      },
      "source": [
        "## 다중 리스트 순회"
      ]
    },
    {
      "cell_type": "code",
      "execution_count": null,
      "metadata": {
        "id": "jbCQO5wIFfzH"
      },
      "outputs": [],
      "source": [
        "skill = [\n",
        "        ('고기잡이', 100),\n",
        "        ('고기팔기', 120),\n",
        "        ('낚시', 5),\n",
        "        ('통발', 5),\n",
        "        ('큰그물', 5)\n",
        "]\n",
        "\n",
        "for i,j in skill:\n",
        "    print(i,j)"
      ]
    },
    {
      "cell_type": "code",
      "execution_count": null,
      "metadata": {
        "id": "FnoUl2eWGHhf"
      },
      "outputs": [],
      "source": [
        "skill_name = ['고기잡이','고기팔기','낚시']\n",
        "skill_point = [100,120,5]\n",
        "\n",
        "for i,j in zip(skill_name,skill_point):\n",
        "    print(i,j)"
      ]
    },
    {
      "cell_type": "code",
      "execution_count": null,
      "metadata": {
        "id": "Djb2Ted7Gmwo"
      },
      "outputs": [],
      "source": [
        "# 이정도 코드만 아셔도 실무하는 것에는 무리가 없습니다.\n",
        "skill = [\n",
        "        ('고기잡이', [1,100]),\n",
        "        ('고기팔기', [1,100]),\n",
        "        ('낚시', [2,100]),\n",
        "        ('통발', [2,100]),\n",
        "        ('큰그물', [2,100])\n",
        "]\n",
        "\n",
        "for i,j in skill:\n",
        "    print(i,j)"
      ]
    },
    {
      "cell_type": "code",
      "execution_count": null,
      "metadata": {
        "colab": {
          "base_uri": "https://localhost:8080/"
        },
        "id": "JO_uBL_MG4KV",
        "outputId": "9de2a79f-03ca-47ad-e9e5-b8680cac7b1f"
      },
      "outputs": [
        {
          "name": "stdout",
          "output_type": "stream",
          "text": [
            "고기잡이 1 100\n",
            "고기팔기 1 100\n",
            "낚시 2 100\n",
            "통발 2 100\n",
            "큰그물 2 100\n"
          ]
        }
      ],
      "source": [
        "skill = [\n",
        "        ('고기잡이', [1,100]),\n",
        "        ('고기팔기', [1,100]),\n",
        "        ('낚시', [2,100]),\n",
        "        ('통발', [2,100]),\n",
        "        ('큰그물', [2,100])\n",
        "]\n",
        "\n",
        "for i,[x, y] in skill:\n",
        "    print(i,x,y)"
      ]
    },
    {
      "cell_type": "code",
      "execution_count": null,
      "metadata": {
        "id": "YIOcupCJHIrm"
      },
      "outputs": [],
      "source": [
        "skill = [\n",
        "        ('고기잡이', (1, 100)),\n",
        "        ('고기팔기', (1, 100)),\n",
        "        ('낚시', (2, 100)),\n",
        "        ('통발', (2, 100)),\n",
        "        ('큰그물', (2, 100))\n",
        "]\n",
        "\n",
        "for i, [x, y] in skill:\n",
        "    print(i, x, y)"
      ]
    },
    {
      "cell_type": "code",
      "execution_count": null,
      "metadata": {
        "id": "ITWAvskrHngf"
      },
      "outputs": [],
      "source": [
        "skill = [\n",
        "        ('고기잡이', 'ab'), # ('고기잡이','abcd') 이런 형태는 error \n",
        "        ('고기팔기', 'cd'),\n",
        "        ('낚시', 'aa'),\n",
        "        ('통발', 'cc'),\n",
        "        ('큰그물', 'dd')\n",
        "]\n",
        "\n",
        "for i, [x, y] in skill:\n",
        "    print(i, x, y)"
      ]
    },
    {
      "cell_type": "code",
      "execution_count": null,
      "metadata": {
        "id": "PjbOIwyCH3qr"
      },
      "outputs": [],
      "source": [
        "# 문제\n",
        "# data는 다음과 같은 데이터가 있습니다.\n",
        "# 각각 skill이름, skill 제한 레벨, skill 포인트, skill 등급입니다.\n",
        "data = [\n",
        "        ('고기잡이', 1, 100,'S'),\n",
        "        ('고기팔기', 1, 100, 'A'),\n",
        "        ('낚시', 2, 100, 'A'),\n",
        "        ('통발', 2, 100,'B'),\n",
        "        ('큰그물', 2, 100, 'S')\n",
        "]\n",
        "\n",
        "# 출력값\n",
        "# 아래와 같은 형식으로 총 5개 출력해야 합니다.\n",
        "# '축하합니다. S등급에 Skill 고기잡이를 습득하셨습니다. \n",
        "# 해당 스킬은 레벨 제한 1에 스킬 포인트 100입니다."
      ]
    },
    {
      "cell_type": "code",
      "execution_count": null,
      "metadata": {
        "id": "eBdCH8cgIor2"
      },
      "outputs": [],
      "source": [
        "# print는 부하가 크다. 여러번 반복사용 X\n",
        "data = [\n",
        "        ('고기잡이', (1, 100, 'S')),\n",
        "        ('고기팔기', (1, 100, 'A')),\n",
        "        ('낚시', (2, 100, 'A')),\n",
        "        ('통발', (2, 100, 'B')),\n",
        "        ('큰그물', (2, 100, 'S'))\n",
        "]\n",
        "\n",
        "for i,[j,k,l] in data:\n",
        "    print(f'축하합니다. {l}등급에 Skill {i}를 습득하셨습니다.')\n",
        "    print(f'해당 스킬은 레벨 제한 {j}에 스킬 포인트 {k}입니다.')"
      ]
    },
    {
      "attachments": {},
      "cell_type": "markdown",
      "metadata": {
        "id": "L_64PbjjMOZp"
      },
      "source": [
        "## while"
      ]
    },
    {
      "cell_type": "code",
      "execution_count": null,
      "metadata": {
        "id": "pCvnzOyiMPqR"
      },
      "outputs": [],
      "source": [
        "# 반복문 : for, while\n",
        "a = 1\n",
        "while a < 10: # True인 동안에\n",
        "    print(a)\n",
        "    a += 1"
      ]
    },
    {
      "cell_type": "code",
      "execution_count": null,
      "metadata": {
        "id": "GRpH8DJKMd98"
      },
      "outputs": [],
      "source": [
        "# while 특정요소:\n",
        "#     특정요소값 꺼내는 문법\n",
        "#     특정요소가 모두 없어질 때 까지\n",
        "\n",
        "l = [1,2,3]\n",
        "while l: # [] = false\n",
        "    print(l.pop())"
      ]
    },
    {
      "cell_type": "code",
      "execution_count": null,
      "metadata": {
        "id": "dhuWu6G5Pfdp"
      },
      "outputs": [],
      "source": [
        "l = {1,2,3}\n",
        "while l:\n",
        "    print(l.pop())"
      ]
    },
    {
      "cell_type": "code",
      "execution_count": null,
      "metadata": {
        "colab": {
          "base_uri": "https://localhost:8080/"
        },
        "id": "_0TEz8-oPmsT",
        "outputId": "0775e2a1-9609-4585-c62f-20642fb18597"
      },
      "outputs": [
        {
          "name": "stdout",
          "output_type": "stream",
          "text": [
            "e 13\n",
            "g 24\n",
            "a 0\n",
            "d 12\n",
            "k 2\n",
            "c 10\n",
            "b 1\n",
            "n 14\n",
            "f 21\n"
          ]
        }
      ],
      "source": [
        "s = 'abkkkbbbbbccdennnnneefefg'\n",
        "ss = set(s)\n",
        "while ss:\n",
        "    string = ss.pop()\n",
        "    print(string, s.index(string))"
      ]
    },
    {
      "cell_type": "code",
      "execution_count": null,
      "metadata": {
        "id": "xj-6H7uEQPPd"
      },
      "outputs": [],
      "source": [
        "# 이러한 무한반복은 메모리를 모두 소진합니다.\n",
        "# 서버가 뻗을 수도 있습니다.\n",
        "while True:\n",
        "    user_input = input('$')\n",
        "    split_data = user_input.split(' ') \n",
        "    if split_data[0] == 'mkdir':\n",
        "        print(f'{split_data[1]} 폴더가 생성되었습니다!')\n",
        "    elif split_data[0] == 'rmdir':\n",
        "        print(f'{split_data[1]} 폴더가 삭제되었습니다!')\n",
        "    elif split_data[0] == 'exit':\n",
        "        print('프로그램을 종료합니다.')\n",
        "        break"
      ]
    },
    {
      "cell_type": "code",
      "execution_count": null,
      "metadata": {
        "colab": {
          "base_uri": "https://localhost:8080/"
        },
        "id": "81c18AmbSt5o",
        "outputId": "0ffd5fdb-0d74-484c-db50-8c7025bc0576"
      },
      "outputs": [
        {
          "data": {
            "text/plain": [
              "98"
            ]
          },
          "execution_count": 45,
          "metadata": {},
          "output_type": "execute_result"
        }
      ],
      "source": [
        "import random\n",
        "\n",
        "random.randint(1,100)"
      ]
    },
    {
      "cell_type": "code",
      "execution_count": null,
      "metadata": {
        "colab": {
          "base_uri": "https://localhost:8080/"
        },
        "id": "QFuL7_iCSCYi",
        "outputId": "f2224c01-1856-49c1-e437-12efe311e0fe"
      },
      "outputs": [
        {
          "name": "stdout",
          "output_type": "stream",
          "text": [
            "50\n",
            "DOWN\n",
            "33\n",
            "DOWN\n",
            "20\n",
            "맞췄습니다.\n",
            "프로그램을 종료합니다.\n"
          ]
        }
      ],
      "source": [
        "# up down game\n",
        "import random\n",
        "\n",
        "result = random.randint(1,100)\n",
        "\n",
        "while True:\n",
        "    user_input = int(input())\n",
        "    if user_input > result:\n",
        "        print('DOWN')\n",
        "    elif user_input < result:\n",
        "        print('UP')\n",
        "    elif user_input == result:\n",
        "        print('맞췄습니다.')\n",
        "        print('프로그램을 종료합니다.')\n",
        "        break"
      ]
    },
    {
      "cell_type": "code",
      "execution_count": null,
      "metadata": {
        "id": "8lnhYwjMTvIB"
      },
      "outputs": [],
      "source": [
        "# 구구단이 출력되지 않는 코드\n",
        "# 한땀한땀 따라가면서 왜 출력이 되지 않는지 체크해보세요.\n",
        "x = 2\n",
        "y = 1\n",
        "while x < 10:\n",
        "    while y < 10:\n",
        "        print(x,y, x*y)\n",
        "        y += 1\n",
        "    x +=1"
      ]
    },
    {
      "cell_type": "code",
      "execution_count": null,
      "metadata": {
        "id": "lyvjwhKgUeTj"
      },
      "outputs": [],
      "source": [
        "x = 2\n",
        "y = 1\n",
        "while x < 10:\n",
        "    while y < 10:\n",
        "        print(x,y, x*y)\n",
        "        y += 1\n",
        "    y = 1 # 초기화를 해주어야 다음 while에서 y < 10에 들어갈 수 있다.\n",
        "    x += 1"
      ]
    },
    {
      "cell_type": "code",
      "execution_count": null,
      "metadata": {
        "colab": {
          "base_uri": "https://localhost:8080/"
        },
        "id": "ixj5_cdfUljD",
        "outputId": "e72d1e81-045a-48b1-a723-a10d0becce02"
      },
      "outputs": [
        {
          "name": "stdout",
          "output_type": "stream",
          "text": [
            "0\n",
            "1\n",
            "2\n",
            "3\n",
            "4\n",
            "5\n",
            "end\n"
          ]
        }
      ],
      "source": [
        "count = 0\n",
        "while True:\n",
        "    print(count)\n",
        "    if count == 5:\n",
        "        break\n",
        "    count += 1\n",
        "print('end')"
      ]
    },
    {
      "cell_type": "code",
      "execution_count": null,
      "metadata": {
        "id": "UprrUuzFVMKW"
      },
      "outputs": [],
      "source": [
        "# 무한루프\n",
        "count = 0\n",
        "while True:\n",
        "    print(count)\n",
        "    if count == 0.3: # 부동소수점 문제가 발생할 수 있습니다.\n",
        "        break\n",
        "    count += 0.1\n",
        "print('end')"
      ]
    },
    {
      "cell_type": "code",
      "execution_count": null,
      "metadata": {
        "colab": {
          "base_uri": "https://localhost:8080/"
        },
        "id": "mcdbt8cxVRIY",
        "outputId": "4f671c9a-aa6a-4b56-ec89-ea1be620879e"
      },
      "outputs": [
        {
          "name": "stdout",
          "output_type": "stream",
          "text": [
            "0\n",
            "0.1\n",
            "0.2\n",
            "0.30000000000000004\n",
            "end\n"
          ]
        }
      ],
      "source": [
        "# 0.30000000000000004\n",
        "count = 0\n",
        "while True:\n",
        "    print(count)\n",
        "    if count >= 0.3: # 부동소수점 문제가 발생할 수 있습니다.\n",
        "        break\n",
        "    count += 0.1\n",
        "print('end')"
      ]
    },
    {
      "cell_type": "code",
      "execution_count": null,
      "metadata": {
        "id": "ZF_MKJpxVePr"
      },
      "outputs": [],
      "source": [
        "# 다른 언어에서는 이 구문이 작동되지 않습니다.\n",
        "i = 0\n",
        "while i < 10:\n",
        "    if i == 5:\n",
        "        break\n",
        "    i += 1\n",
        "else:\n",
        "    print('정상종료!')"
      ]
    },
    {
      "cell_type": "code",
      "execution_count": null,
      "metadata": {
        "id": "CXoGoPgvVnH0"
      },
      "outputs": [],
      "source": [
        "i = 0\n",
        "while i < 10:\n",
        "    i += 1\n",
        "else:\n",
        "    print('정상종료!')"
      ]
    },
    {
      "attachments": {},
      "cell_type": "markdown",
      "metadata": {
        "id": "tyK_uaqzX6AL"
      },
      "source": [
        "* https://school.programmers.co.kr/learn/courses/30/lessons/120871"
      ]
    },
    {
      "cell_type": "code",
      "execution_count": null,
      "metadata": {
        "id": "81iR_fiqYfFH"
      },
      "outputs": [],
      "source": [
        "# step1\n",
        "count10 = 0\n",
        "n = 15\n",
        "while count10 < n + 1:\n",
        "    print(count10)\n",
        "    count10 += 1"
      ]
    },
    {
      "cell_type": "code",
      "execution_count": null,
      "metadata": {
        "id": "SbKmEoW4Y4Ak"
      },
      "outputs": [],
      "source": [
        "# step2 조건만 구현\n",
        "count10 = 0\n",
        "count3 = 0 # 3x 마을에서 쓰는 숫자\n",
        "n = 10\n",
        "while count10 < n + 1:\n",
        "    count10 += 1\n",
        "    count3 += 1\n",
        "    if count3 % 3 == 0 or '3' in str(count3):\n",
        "        count3 += 1\n",
        "    # 저주의 숫자를 지나가도 다시 저주의 숫자일 수 있습니다.\n",
        "    # 체크를 계속해야하는데 한번만 합니다.\n",
        "    print(count10, count3)\n",
        "\n",
        "count3"
      ]
    },
    {
      "cell_type": "code",
      "execution_count": null,
      "metadata": {
        "id": "YRdsIz13tETp"
      },
      "outputs": [],
      "source": [
        "# step3 조건만 간단히 구현 => 조건이 계속 반복되도록\n",
        "count10 = 0\n",
        "count3 = 0 # 3x 마을에서 쓰는 숫자\n",
        "n = 10\n",
        "while count10 < n:\n",
        "    count10 += 1\n",
        "    count3 += 1\n",
        "    while count3 % 3 == 0 or '3' in str(count3):\n",
        "        count3 += 1\n",
        "    # 저주의 숫자를 지나가도 다시 저주의 숫자일 수 있습니다.\n",
        "    # 체크를 계속해야하는데 한번만 합니다.\n",
        "    print(count10, count3)"
      ]
    },
    {
      "cell_type": "code",
      "execution_count": null,
      "metadata": {
        "id": "rgxmmdnMuFyi"
      },
      "outputs": [],
      "source": [
        "def solution(n):\n",
        "    count10 = 0\n",
        "    count3 = 0\n",
        "    while count10 < n:\n",
        "        count10 += 1\n",
        "        count3 += 1\n",
        "        while count3 % 3 == 0 or '3' in str(count3):\n",
        "            count3 += 1\n",
        "    return count3"
      ]
    },
    {
      "cell_type": "code",
      "execution_count": null,
      "metadata": {
        "id": "UyhmHokAuZAo"
      },
      "outputs": [],
      "source": [
        "def solution(n):\n",
        "    return [i for i in range(1, 31) if i % 3 != 0 and not('3' in str(i))][n-1]"
      ]
    },
    {
      "cell_type": "code",
      "execution_count": null,
      "metadata": {
        "colab": {
          "base_uri": "https://localhost:8080/"
        },
        "id": "djY6amVtu6sk",
        "outputId": "254168bb-157d-44ad-d6be-6f6229bf7a19"
      },
      "outputs": [
        {
          "data": {
            "text/plain": [
              "16"
            ]
          },
          "execution_count": 61,
          "metadata": {},
          "output_type": "execute_result"
        }
      ],
      "source": [
        "[i for i in range(1, 31) if i % 3 != 0 and not('3' in str(i))][n-1]"
      ]
    },
    {
      "attachments": {},
      "cell_type": "markdown",
      "metadata": {
        "id": "NPSXf8iwV3aI"
      },
      "source": [
        "## try, except, else"
      ]
    },
    {
      "cell_type": "code",
      "execution_count": null,
      "metadata": {
        "id": "tXeXQvZLV_su"
      },
      "outputs": [],
      "source": [
        "# try:\n",
        "#     실행문\n",
        "# except:\n",
        "#     예외 발생 시 처리문\n",
        "# else:\n",
        "#     예외 발생하지 않을 경우 실행문"
      ]
    },
    {
      "cell_type": "code",
      "execution_count": null,
      "metadata": {
        "colab": {
          "base_uri": "https://localhost:8080/"
        },
        "id": "lNL89YWgWTKx",
        "outputId": "7c0a5b19-e9de-4a41-d621-757f19875b6b"
      },
      "outputs": [
        {
          "name": "stdout",
          "output_type": "stream",
          "text": [
            "error\n"
          ]
        }
      ],
      "source": [
        "try:\n",
        "    i = 1\n",
        "    j = 0\n",
        "    x = i/j\n",
        "except:\n",
        "    print('error')\n",
        "else:\n",
        "    print(x)"
      ]
    },
    {
      "attachments": {},
      "cell_type": "markdown",
      "metadata": {
        "id": "GIxbP-JCvD4D"
      },
      "source": [
        "## 실제 데이터를 가지고 연습 (json gen)"
      ]
    },
    {
      "cell_type": "code",
      "execution_count": null,
      "metadata": {
        "colab": {
          "base_uri": "https://localhost:8080/"
        },
        "id": "cvfaR6i0vWGl",
        "outputId": "d1953b0e-8c29-45db-9150-e2a9e1d01d9e"
      },
      "outputs": [
        {
          "data": {
            "text/plain": [
              "34"
            ]
          },
          "execution_count": 63,
          "metadata": {},
          "output_type": "execute_result"
        }
      ],
      "source": [
        "data = [\n",
        "  {\n",
        "    \"_id\": \"6459ca23093ecd0e9bae0be6\",\n",
        "    \"age\": 34,\n",
        "    \"eyeColor\": \"brown\",\n",
        "    \"name\": \"Emerson Cline\",\n",
        "    \"gender\": \"male\"\n",
        "  },\n",
        "  {\n",
        "    \"_id\": \"6459ca23cf1ae04ae9547317\",\n",
        "    \"age\": 27,\n",
        "    \"eyeColor\": \"blue\",\n",
        "    \"name\": \"Brianna West\",\n",
        "    \"gender\": \"female\"\n",
        "  },\n",
        "  {\n",
        "    \"_id\": \"6459ca232d16c59869dc5b54\",\n",
        "    \"age\": 24,\n",
        "    \"eyeColor\": \"brown\",\n",
        "    \"name\": \"Kathrine Cooley\",\n",
        "    \"gender\": \"female\"\n",
        "  },\n",
        "  {\n",
        "    \"_id\": \"6459ca23b6c2bd1e9457ec55\",\n",
        "    \"age\": 37,\n",
        "    \"eyeColor\": \"blue\",\n",
        "    \"name\": \"Odonnell Meadows\",\n",
        "    \"gender\": \"male\"\n",
        "  },\n",
        "  {\n",
        "    \"_id\": \"6459ca23dd62d4a4739fe0a5\",\n",
        "    \"age\": 33,\n",
        "    \"eyeColor\": \"brown\",\n",
        "    \"name\": \"Polly Baldwin\",\n",
        "    \"gender\": \"female\"\n",
        "  },\n",
        "  {\n",
        "    \"_id\": \"6459ca23b11b14dd06f9d7cb\",\n",
        "    \"age\": 31,\n",
        "    \"eyeColor\": \"brown\",\n",
        "    \"name\": \"Callahan Haley\",\n",
        "    \"gender\": \"male\"\n",
        "  }\n",
        "]\n",
        "# 반복문을 사용해도 좋지만 ,\n",
        "# 반복문을 사용하실 수 없다면 index로만 게산하셔도 좋습니다.\n",
        "data[0]\n",
        "data[0]['age']\n",
        "data[0]['gender']"
      ]
    },
    {
      "cell_type": "code",
      "execution_count": null,
      "metadata": {
        "colab": {
          "base_uri": "https://localhost:8080/"
        },
        "id": "bEeaNWDIvg0g",
        "outputId": "1f4ab93d-6796-4f3c-e80e-52d0455f489c"
      },
      "outputs": [
        {
          "name": "stdout",
          "output_type": "stream",
          "text": [
            "3\n",
            "3\n"
          ]
        }
      ],
      "source": [
        "all_people = len(data)\n",
        "total_age = 0\n",
        "male = 0\n",
        "female = 0\n",
        "\n",
        "for human in data:\n",
        "    total_age += human['age']\n",
        "    if human['gender'] == 'male':\n",
        "        male += 1\n",
        "    elif human['gender'] == 'female':\n",
        "        female += 1\n",
        "\n",
        "# 나이 평균\n",
        "age_avr = total_age / all_people\n",
        "\n",
        "# 남녀 성비\n",
        "male_per = male / all_people\n",
        "female_per = female / all_people"
      ]
    },
    {
      "cell_type": "code",
      "execution_count": null,
      "metadata": {
        "colab": {
          "base_uri": "https://localhost:8080/"
        },
        "id": "iHONsNrKwl_G",
        "outputId": "f56f9ff4-272d-4a51-97f5-445fa7d6fc2d"
      },
      "outputs": [
        {
          "data": {
            "text/plain": [
              "(50.0, 50.0)"
            ]
          },
          "execution_count": 78,
          "metadata": {},
          "output_type": "execute_result"
        }
      ],
      "source": [
        "sum([human['age'] for human in data]) / len(data)\n",
        "all_gender = [human['gender'] for human in data]\n",
        "male_per = (all_gender.count('male') / len(data)) *100\n",
        "female_per = (all_gender.count('female') / len(data))*100\n",
        "male_per , female_per\n"
      ]
    },
    {
      "cell_type": "code",
      "execution_count": null,
      "metadata": {
        "id": "wADswfnG1bQ1"
      },
      "outputs": [],
      "source": [
        "##################################################################"
      ]
    },
    {
      "cell_type": "code",
      "execution_count": null,
      "metadata": {
        "id": "LeW8zeCR1XAN"
      },
      "outputs": [],
      "source": [
        "#Lv0\n",
        "(data[0]['age'] + data[1]['age'] + data[2]['age']) / 3\n",
        "\n",
        "성별 = []\n",
        "성별.append(data[0]['gender'])\n",
        "성별.append(data[1]['gender'])\n",
        "성별.append(data[2]['gender'])\n",
        "print(성별)\n",
        "print(성별.count('male') / len(data) * 100)\n",
        "print(성별.count('female') / len(data) * 100)"
      ]
    },
    {
      "cell_type": "code",
      "execution_count": null,
      "metadata": {
        "id": "NTiLKo001YZZ"
      },
      "outputs": [],
      "source": [
        "#Lv1\n",
        "age_sum = 0\n",
        "for i in range(3): # 좋은 코드는 아닙니다.\n",
        "    age_sum += data[i]['age']\n",
        "age_sum / 3\n",
        "\n",
        "성별 = []\n",
        "for i in range(3):\n",
        "    성별.append(data[i]['gender'])\n",
        "print(성별.count('male') / len(data) * 100)\n",
        "print(성별.count('female') / len(data) * 100)"
      ]
    },
    {
      "cell_type": "code",
      "execution_count": null,
      "metadata": {
        "id": "KUK636341Z2N"
      },
      "outputs": [],
      "source": [
        "#Lv1\n",
        "age_sum = 0\n",
        "for i in range(len(data)):\n",
        "    age_sum += data[i]['age']\n",
        "age_sum / 3\n",
        "\n",
        "성별 = []\n",
        "for i in range(len(data)):\n",
        "    성별.append(data[i]['gender'])\n",
        "print(성별.count('male') / len(data) * 100)\n",
        "print(성별.count('female') / len(data) * 100)"
      ]
    },
    {
      "cell_type": "code",
      "execution_count": null,
      "metadata": {
        "id": "8KtEBmu91dBP"
      },
      "outputs": [],
      "source": [
        "##################################################################"
      ]
    },
    {
      "cell_type": "code",
      "execution_count": null,
      "metadata": {
        "colab": {
          "base_uri": "https://localhost:8080/"
        },
        "id": "7Km-FgvC1dXA",
        "outputId": "652342bf-68f3-4bbe-8cf3-88869326d28c"
      },
      "outputs": [
        {
          "data": {
            "text/plain": [
              "0.5"
            ]
          },
          "execution_count": 84,
          "metadata": {},
          "output_type": "execute_result"
        }
      ],
      "source": [
        "# Lv2\n",
        "\n",
        "# 평균(1줄)\n",
        "# list(map(lambda x:x['age'],data))\n",
        "sum(map(lambda x:x['age'],data)) / len(data)\n",
        "\n",
        "# 성별(1줄)\n",
        "len(list(filter(lambda x:x['gender']== 'male', data))) / len(data)\n",
        "len(list(filter(lambda x:x['gender']== 'female', data))) / len(data)"
      ]
    },
    {
      "cell_type": "code",
      "execution_count": null,
      "metadata": {
        "id": "lvRw5jZ26-Oq"
      },
      "outputs": [],
      "source": [
        "# Q1\n",
        "# sol1\n",
        "sum([elem['age'] for elem in data]) / len(data)\n",
        "\n",
        "# sol2\n",
        "sum(map(lambda x:x['age'], data)) / len(data)\n",
        "\n",
        "# Q2\n",
        "gender = [elem['gender'] for elem in data]\n",
        "male = gender.count('male')\n",
        "female = gender.count('female')\n",
        "print(f'{male/len(gender)*100:.2f} : {female/len(gender)*100:.2f}')"
      ]
    },
    {
      "cell_type": "code",
      "execution_count": null,
      "metadata": {
        "id": "HCug6-aS6_75"
      },
      "outputs": [],
      "source": [
        "average_age = sum(map(lambda x: x['age'], data))/len(data)\n",
        "male = len(list(filter(lambda x: x['gender'] == 'male', data)))\n",
        "female = len(list(filter(lambda x: x['gender'] == 'female', data)))\n",
        "\n",
        "print(f'평균나이는 {average_age} 입니다.\\n성비는 남성 {male} : 여성 {female} 입니다.')"
      ]
    },
    {
      "attachments": {},
      "cell_type": "markdown",
      "metadata": {
        "id": "ZVctbSTm7uLZ"
      },
      "source": [
        "## 알아야하는 built-in function"
      ]
    },
    {
      "attachments": {},
      "cell_type": "markdown",
      "metadata": {
        "id": "FIqdTw-9-UB5"
      },
      "source": [
        "### 수학적 통계에 활용되는 함수"
      ]
    },
    {
      "attachments": {},
      "cell_type": "markdown",
      "metadata": {
        "id": "aq_F0Ej7-kJ6"
      },
      "source": [
        "- abs( ) : 괄호 안에 있는 값을 절대값으로 출력해줍니다.\n",
        "- all( ) : 괄호 안에 있는 값들이 모두 True(False)일 때 True(False)를 출력합니다.\n",
        "- any( ) : 괄호안에 있는 값이 하나라고 True이면 True로 출력합니다.\n",
        "- pow( ) : 제곱을 출력합니다.\n",
        "- max( ) : 값의 최댓값을 출력합니다.\n",
        "- min( ) : 값의 최솟값을 출력합니다.\n",
        "- sum( ) : 값의 합계를 출력합니다.\n",
        "- len( ) : 문자열의 길이를 출력합니다.\n",
        "- sorted( ) : 데이터를 정렬해줍니다.\n",
        "- reversed( ) : 정렬되지 않은 상태에서 값을 역순으로 출력합니다."
      ]
    },
    {
      "attachments": {},
      "cell_type": "markdown",
      "metadata": {
        "id": "Z8deadVn-ld1"
      },
      "source": [
        "### 형변환 함수"
      ]
    },
    {
      "attachments": {},
      "cell_type": "markdown",
      "metadata": {
        "id": "XV7c7dIi-nVI"
      },
      "source": [
        "- set( )\n",
        "- dict( )\n",
        "- hex( ) : 16진법\n",
        "- bin( ) : 2진법\n",
        "- oct( ) : 8진법\n",
        "- bool( )\n",
        "- str( )\n",
        "- ord( ) : 각각의 문자에 대한 숫자값을 출력해줍니다.(유니코드표를 참고하세요.)\n",
        "- float( )\n",
        "- tuple( )\n",
        "- chr( ) : 숫자값을 통해서 문자를 출력합니다.\n",
        "- list( )\n",
        "- range( )\n",
        "- complex( )"
      ]
    },
    {
      "attachments": {},
      "cell_type": "markdown",
      "metadata": {
        "id": "aDg2tS7rAoAa"
      },
      "source": [
        "### 도움말"
      ]
    },
    {
      "cell_type": "code",
      "execution_count": null,
      "metadata": {
        "colab": {
          "base_uri": "https://localhost:8080/"
        },
        "id": "B0Hw1kgGAp84",
        "outputId": "a9ee8b41-3723-429d-d461-452a22905ba7"
      },
      "outputs": [
        {
          "name": "stdout",
          "output_type": "stream",
          "text": [
            "Help on function hojun in module __main__:\n",
            "\n",
            "hojun()\n",
            "    이호준이 만든 함수\n",
            "\n"
          ]
        }
      ],
      "source": [
        "def hojun():\n",
        "    '''\n",
        "    이호준이 만든 함수\n",
        "    '''\n",
        "    pass\n",
        "\n",
        "help(hojun)"
      ]
    },
    {
      "attachments": {},
      "cell_type": "markdown",
      "metadata": {
        "id": "ABC8L9PjA3dC"
      },
      "source": [
        "### object 관련 함수"
      ]
    },
    {
      "attachments": {},
      "cell_type": "markdown",
      "metadata": {
        "id": "KqeXZeffA6B8"
      },
      "source": [
        "* dir()\n",
        "* id()\n",
        "* type()"
      ]
    },
    {
      "cell_type": "code",
      "execution_count": null,
      "metadata": {
        "id": "EV1v5pNzA-0Y"
      },
      "outputs": [],
      "source": [
        "# dir() # directory에 약자로 대상이 가진 attribute를 모두 출력합니다.\n",
        "# attribute가 무엇인가? class에서 배울 멤버 + 메서드 입니다."
      ]
    },
    {
      "cell_type": "code",
      "execution_count": null,
      "metadata": {
        "colab": {
          "base_uri": "https://localhost:8080/"
        },
        "id": "UCX_d7JgBwQO",
        "outputId": "5751720d-5376-4ff0-b436-de6320b7aa07"
      },
      "outputs": [
        {
          "name": "stdout",
          "output_type": "stream",
          "text": [
            "leehojun\n"
          ]
        }
      ],
      "source": [
        "def f():\n",
        "    return 100\n",
        "\n",
        "f.name = 'kanghyunwoo'\n",
        "dir(f)\n",
        "print(f.name)"
      ]
    },
    {
      "cell_type": "code",
      "execution_count": null,
      "metadata": {
        "id": "77DdW2vdB4tm"
      },
      "outputs": [],
      "source": [
        "# 배우는 재미\n",
        "# 단 시간에 될 수 없습니다. => 경쟁력"
      ]
    },
    {
      "cell_type": "code",
      "execution_count": null,
      "metadata": {
        "colab": {
          "base_uri": "https://localhost:8080/"
        },
        "id": "LK_zi2dwCC9H",
        "outputId": "2cd4a6c9-5db9-4ada-b44f-2ce2e07fbee3"
      },
      "outputs": [
        {
          "data": {
            "text/plain": [
              "139989167669776"
            ]
          },
          "execution_count": 88,
          "metadata": {},
          "output_type": "execute_result"
        }
      ],
      "source": [
        "i = 10\n",
        "id(i) # 깊은복사 , 얕은복사"
      ]
    },
    {
      "cell_type": "code",
      "execution_count": null,
      "metadata": {
        "id": "eYUyaZ9DCayE"
      },
      "outputs": [],
      "source": [
        "type('abc') # str\n",
        "print(type('abc')) # <class 'str'>\n",
        "# print(type(f)) # class가 전체 python을 관통하고 있습니다."
      ]
    },
    {
      "attachments": {},
      "cell_type": "markdown",
      "metadata": {
        "id": "owDgh2fFDADs"
      },
      "source": [
        "## 유용한 순회 가능 객체"
      ]
    },
    {
      "attachments": {},
      "cell_type": "markdown",
      "metadata": {
        "id": "JwXTPTYhDICu"
      },
      "source": [
        "- enumerate( ) : 값에 순위를 매기고 싶을 때 사용합니다.\n",
        "- range( )\n",
        "- filter( )\n",
        "- zip( )\n",
        "- map( )"
      ]
    },
    {
      "cell_type": "code",
      "execution_count": null,
      "metadata": {
        "colab": {
          "base_uri": "https://localhost:8080/"
        },
        "id": "BF84GNkyDCAz",
        "outputId": "08128845-6ef9-4e41-b364-bf1289d1d8e8"
      },
      "outputs": [
        {
          "name": "stdout",
          "output_type": "stream",
          "text": [
            "<class 'range'>\n"
          ]
        }
      ],
      "source": [
        "print(type(range(3)))"
      ]
    },
    {
      "cell_type": "code",
      "execution_count": null,
      "metadata": {
        "colab": {
          "base_uri": "https://localhost:8080/"
        },
        "id": "f7wOrhweDOkh",
        "outputId": "afd85788-2b2d-4b6b-f99b-99d3a04bebd7"
      },
      "outputs": [
        {
          "data": {
            "text/plain": [
              "[(0, 10), (1, 20), (2, 30)]"
            ]
          },
          "execution_count": 90,
          "metadata": {},
          "output_type": "execute_result"
        }
      ],
      "source": [
        "list(enumerate([10,20,30]))"
      ]
    },
    {
      "cell_type": "code",
      "execution_count": null,
      "metadata": {
        "colab": {
          "base_uri": "https://localhost:8080/"
        },
        "id": "0-89KjXYDpCS",
        "outputId": "cc35e574-aadc-4ec5-caef-82ca22fe5de8"
      },
      "outputs": [
        {
          "data": {
            "text/plain": [
              "[(100, 10), (101, 20), (102, 30)]"
            ]
          },
          "execution_count": 95,
          "metadata": {},
          "output_type": "execute_result"
        }
      ],
      "source": [
        "list(enumerate([10,20,30],100))\n",
        "# list(enumerate([10,20,30],'abc')) # error 뒤에 숫자를 입력해야 합니다."
      ]
    },
    {
      "cell_type": "code",
      "execution_count": null,
      "metadata": {
        "colab": {
          "base_uri": "https://localhost:8080/"
        },
        "id": "CcMEyi5zGkYw",
        "outputId": "84a47664-b59e-4ebf-b524-3d4071eeba2b"
      },
      "outputs": [
        {
          "data": {
            "text/plain": [
              "['abc']"
            ]
          },
          "execution_count": 97,
          "metadata": {},
          "output_type": "execute_result"
        }
      ],
      "source": [
        "def 함수(x):\n",
        "    return x > 15\n",
        "\n",
        "list(filter(함수,[10,20,30,40]))\n",
        "list(filter(None,[True,True,False,False]))\n",
        "# filter에 None 주는 것이 어디에 유용할까요?\n",
        "# 여러가지 자료형이 섞여 있을 때 값이 들어있는 것만 찾을 경우\n",
        "list(filter(None,[[],'abc','','']))"
      ]
    },
    {
      "cell_type": "code",
      "execution_count": null,
      "metadata": {
        "colab": {
          "base_uri": "https://localhost:8080/"
        },
        "id": "lTcHgm7ZHS79",
        "outputId": "52324990-f8b2-478f-e8cf-afb25858ee95"
      },
      "outputs": [
        {
          "data": {
            "text/plain": [
              "[('a', 'd', 'g', 1, 4), ('b', 'e', 'h', 2, 5), ('c', 'f', 't', 3, 6)]"
            ]
          },
          "execution_count": 98,
          "metadata": {},
          "output_type": "execute_result"
        }
      ],
      "source": [
        "list(zip('abc','def','ght',[1,2,3,],[4,5,6,7]))"
      ]
    },
    {
      "cell_type": "code",
      "execution_count": null,
      "metadata": {
        "colab": {
          "base_uri": "https://localhost:8080/"
        },
        "id": "9zoma7zSH0kI",
        "outputId": "b6038470-06e0-4314-a0bf-2d1ffdb748bb"
      },
      "outputs": [
        {
          "data": {
            "text/plain": [
              "[('a', 2), ('b', 4), ('c', 5), ('d', 6), ('e', 8)]"
            ]
          },
          "execution_count": 100,
          "metadata": {},
          "output_type": "execute_result"
        }
      ],
      "source": [
        "x = [5,4,6,8,2]\n",
        "list(zip('abcdefg',sorted(x)))"
      ]
    },
    {
      "cell_type": "code",
      "execution_count": null,
      "metadata": {
        "colab": {
          "base_uri": "https://localhost:8080/"
        },
        "id": "ASWfmD97IHVm",
        "outputId": "c73b8963-9577-442f-c3e5-e64c62a3fbef"
      },
      "outputs": [
        {
          "data": {
            "text/plain": [
              "[('a', (2, 7)), ('b', (4, 6)), ('c', (5, 45)), ('d', (6, 4)), ('e', (8, 2))]"
            ]
          },
          "execution_count": 102,
          "metadata": {},
          "output_type": "execute_result"
        }
      ],
      "source": [
        "x = [5,4,6,8,2]\n",
        "y = [7,6,45,4,2,3,3]\n",
        "\n",
        "list(zip('abcdefg',zip(sorted(x),y)))"
      ]
    },
    {
      "attachments": {},
      "cell_type": "markdown",
      "metadata": {
        "id": "Q_80iIylijCL"
      },
      "source": [
        "## args,kargs"
      ]
    },
    {
      "attachments": {},
      "cell_type": "markdown",
      "metadata": {
        "id": "mkSQyiT-Ir8D"
      },
      "source": [
        "* 가변 아규먼트, 가변 키워드 아규먼트"
      ]
    },
    {
      "cell_type": "code",
      "execution_count": null,
      "metadata": {
        "colab": {
          "base_uri": "https://localhost:8080/"
        },
        "id": "G5OKtnhwIuv0",
        "outputId": "4d93e7bf-15fd-4022-937a-caac045bc47c"
      },
      "outputs": [
        {
          "name": "stdout",
          "output_type": "stream",
          "text": [
            "(100, True, 'leehojun')\n",
            "100\n",
            "True\n",
            "leehojun\n"
          ]
        }
      ],
      "source": [
        "def print_args(*args): # 꼭 args가 될 필요는 없습니다.\n",
        "    print(args)\n",
        "\n",
        "print_args(100, True, 'kanghyunwoo')"
      ]
    },
    {
      "cell_type": "code",
      "execution_count": null,
      "metadata": {
        "colab": {
          "base_uri": "https://localhost:8080/"
        },
        "id": "l9tGueVuJGMK",
        "outputId": "c9191e82-93e8-42ba-c677-a8426b5a7c30"
      },
      "outputs": [
        {
          "name": "stdout",
          "output_type": "stream",
          "text": [
            "(100, True, 'leehojun')\n"
          ]
        }
      ],
      "source": [
        "def print_kwargs(a, **kwargs): # 꼭 kargs가 될 필요는 없습니다.\n",
        "    print(a)\n",
        "    print(kwargs)\n",
        "\n",
        "print_kwargs(100, name='kanghyunwoo', age='10')"
      ]
    },
    {
      "cell_type": "code",
      "execution_count": null,
      "metadata": {
        "colab": {
          "base_uri": "https://localhost:8080/"
        },
        "id": "pzOFO7T0Jbnn",
        "outputId": "ebf8d100-f56c-4a56-c339-6d8367d14fe9"
      },
      "outputs": [
        {
          "name": "stdout",
          "output_type": "stream",
          "text": [
            "100\n",
            "{'name': 'leehojun', 'age': '10'}\n"
          ]
        }
      ],
      "source": [
        "def print_args(*args, b): # error입니다.\n",
        "    print(args)\n",
        "\n",
        "print_args(100, True, 'kanghyunwoo')"
      ]
    },
    {
      "cell_type": "code",
      "execution_count": null,
      "metadata": {
        "id": "6sJGv2xKKREr"
      },
      "outputs": [],
      "source": [
        "def print_args(b, *args): # error입니다.\n",
        "    print(args)\n",
        "\n",
        "print_args(100, True, 'kanghyunwoo')"
      ]
    },
    {
      "cell_type": "code",
      "execution_count": null,
      "metadata": {
        "id": "NKETwLciKSoL"
      },
      "outputs": [],
      "source": [
        "def print_args(b, *args): # error입니다. args 앞에 순서대로 넣을 변수가 있어야 합니다.\n",
        "    print(args)\n",
        "\n",
        "print_args(100, True, b='kanghyunwoo')"
      ]
    },
    {
      "cell_type": "code",
      "execution_count": null,
      "metadata": {
        "colab": {
          "base_uri": "https://localhost:8080/"
        },
        "id": "2e7y0Je4KTxG",
        "outputId": "aca0da12-f137-4c64-c34f-e8d920f64772"
      },
      "outputs": [
        {
          "name": "stdout",
          "output_type": "stream",
          "text": [
            "1 2 [3, 4, 5]\n"
          ]
        }
      ],
      "source": [
        "one, two, *three = 1, 2, 3, 4, 5 # *가 하는 역할은? 남은 것들을 패키징함.\n",
        "print(one, two, three)"
      ]
    },
    {
      "attachments": {},
      "cell_type": "markdown",
      "metadata": {
        "id": "5CkjigULEhpF"
      },
      "source": [
        "## lambda"
      ]
    },
    {
      "attachments": {},
      "cell_type": "markdown",
      "metadata": {
        "id": "JT2NLEFMKdrs"
      },
      "source": [
        "* lambda는 익명함수라고 하며, 이름이 없는 함수"
      ]
    },
    {
      "cell_type": "code",
      "execution_count": null,
      "metadata": {
        "id": "DHkuGSAKKioJ"
      },
      "outputs": [],
      "source": [
        "kanghyunwoo = lambda x : x**2"
      ]
    },
    {
      "cell_type": "code",
      "execution_count": null,
      "metadata": {
        "id": "X7DYVd9RKsUZ"
      },
      "outputs": [],
      "source": [
        "print(type(kanghyunwoo))"
      ]
    },
    {
      "cell_type": "code",
      "execution_count": null,
      "metadata": {
        "id": "5_jv8dVjKzPC"
      },
      "outputs": [],
      "source": [
        "print(type(lambda x : x**2))"
      ]
    },
    {
      "cell_type": "code",
      "execution_count": null,
      "metadata": {
        "id": "DVDNeL1xK2HL"
      },
      "outputs": [],
      "source": [
        "print(dir(lambda x : x**2))"
      ]
    },
    {
      "cell_type": "code",
      "execution_count": null,
      "metadata": {
        "id": "-4QBqiIGK6Wo"
      },
      "outputs": [],
      "source": [
        "def 함수(x):\n",
        "    return x ** 2\n",
        "\n",
        "print(dir(함수))"
      ]
    },
    {
      "cell_type": "code",
      "execution_count": null,
      "metadata": {
        "id": "qO_vjlWXLK4o"
      },
      "outputs": [],
      "source": [
        "lambda x : x ** 2 # 참조 카운팅이 없다. 사용 후 소멸됨"
      ]
    },
    {
      "cell_type": "code",
      "execution_count": null,
      "metadata": {
        "id": "05zuMVYJMzF0"
      },
      "outputs": [],
      "source": [
        "def add(x, y):\n",
        "    return x + y\n",
        "def sub():\n",
        "    pass\n",
        "def div():\n",
        "    pass\n",
        "def mul():\n",
        "    pass\n",
        "\n",
        "caculator = [add, sub, div, mul]\n",
        "print(caculator[0](10, 20))#0번째 값은 add 입니다.\n",
        "\n",
        "caculator2 = [lambda x,y:x+y, \n",
        "              lambda x,y:x-y, \n",
        "              lambda x,y:x/y, \n",
        "              lambda x,y:x*y]\n",
        "\n",
        "print(caculator2[0](10, 20)) #0번째 값은 add 입니다.\n",
        "print(caculator2[0](10, 20))"
      ]
    },
    {
      "cell_type": "code",
      "execution_count": null,
      "metadata": {
        "colab": {
          "base_uri": "https://localhost:8080/"
        },
        "id": "GinQgI4fLhPj",
        "outputId": "61595c75-dad5-4c25-a28b-aabe45ea9176"
      },
      "outputs": [
        {
          "data": {
            "text/plain": [
              "30"
            ]
          },
          "execution_count": 112,
          "metadata": {},
          "output_type": "execute_result"
        }
      ],
      "source": [
        "def f():\n",
        "    return lambda x,y:x+y\n",
        "\n",
        "f()(10,20)"
      ]
    },
    {
      "cell_type": "code",
      "execution_count": null,
      "metadata": {
        "colab": {
          "base_uri": "https://localhost:8080/"
        },
        "id": "vFYPZnc_MaRz",
        "outputId": "a4763591-1dba-422b-c060-bf6b73426812"
      },
      "outputs": [
        {
          "data": {
            "text/plain": [
              "300"
            ]
          },
          "execution_count": 114,
          "metadata": {},
          "output_type": "execute_result"
        }
      ],
      "source": [
        "def f():\n",
        "    return lambda x:lambda i: x*i**2\n",
        "f()(3)(10)"
      ]
    },
    {
      "attachments": {},
      "cell_type": "markdown",
      "metadata": {
        "id": "ON7ykTvRNdku"
      },
      "source": [
        "### lambda 실무 응용"
      ]
    },
    {
      "attachments": {},
      "cell_type": "markdown",
      "metadata": {
        "id": "qZaJXyKDN-k6"
      },
      "source": [
        "* lambda가 응용되는 곳 : map, filter, max, min, sorted"
      ]
    },
    {
      "cell_type": "code",
      "execution_count": 2,
      "metadata": {
        "colab": {
          "base_uri": "https://localhost:8080/"
        },
        "id": "5GrieJfHNgVB",
        "outputId": "206ae7db-82de-42d6-d8e3-e640627c3b08"
      },
      "outputs": [
        {
          "data": {
            "text/plain": [
              "[1, 4, 9, 16]"
            ]
          },
          "execution_count": 2,
          "metadata": {},
          "output_type": "execute_result"
        }
      ],
      "source": [
        "# 실무에서도 많이 사용됩니다.\n",
        "def 제곱(x):\n",
        "    return x ** 2\n",
        "# 재사용 하는 경우에는 함수로 선언하는 경우도 있습니다.\n",
        "list(map(제곱, [1,2,3,4]))\n",
        "list(map(제곱, [1,2,3,4]))\n",
        "\n",
        "list(map(lambda x : x ** 2, [1,2,3,4]))"
      ]
    },
    {
      "cell_type": "code",
      "execution_count": null,
      "metadata": {
        "id": "rSHJD2rDOUwS"
      },
      "outputs": [],
      "source": [
        "숫자 = [1, 2, 3, 4, 5]\n",
        "승수 = [2, 2, 2, 3, 3]\n",
        "\n",
        "#문제\n",
        "#1. 숫자의 승수를 zip으로 맵핑해서 진행하세요.\n",
        "#2. 숫자를 승수만큼 승수하여 결과값을 표현해주세요.\n",
        "#3. 승수한 값이 100이상인 값을 출력하세요.\n",
        "#4. 승수한 값을 모두 더하세요.\n",
        "\n",
        "# 결과값은 다음과 같아야 합니다.\n",
        "# 1. 숫자의 승수를 zip으로 맵핑해서 진행하세요.\n",
        "[(1, 2), (2, 2), (3, 2), (4, 3), (5, 3)]\n",
        "\n",
        "# 2. 숫자를 승수만큼 승수하여 결과값을 표현해주세요.\n",
        "[1, 4, 9, 64, 125]\n",
        "\n",
        "# 3. 승수한 값이 100이상인 값을 출력하세요.\n",
        "[125]\n",
        "\n",
        "# 4. 승수한 값을 모두 더하세요\n",
        "203"
      ]
    },
    {
      "cell_type": "code",
      "execution_count": 16,
      "metadata": {
        "colab": {
          "base_uri": "https://localhost:8080/"
        },
        "id": "0I2P73IZOgzS",
        "outputId": "8d11fbe0-0b9c-4114-8a9c-c7d3103f42e4"
      },
      "outputs": [
        {
          "name": "stdout",
          "output_type": "stream",
          "text": [
            "[(1, 2), (2, 2), (3, 2), (4, 3), (5, 3)]\n",
            "[1, 4, 9, 64, 125]\n",
            "[125]\n",
            "203\n"
          ]
        }
      ],
      "source": [
        "숫자 = [1, 2, 3, 4, 5]\n",
        "승수 = [2, 2, 2, 3, 3]\n",
        "\n",
        "#문제\n",
        "#1. 숫자의 승수를 zip으로 맵핑해서 진행하세요.\n",
        "print(list(zip(숫자,승수)))\n",
        "\n",
        "#2. 숫자를 승수만큼 제곱하여 결과값을 표현해주세요.\n",
        "\n",
        "example = list(zip(숫자,승수))\n",
        "print(list(map(lambda x:x[0]**x[1] ,example)))\n",
        "\n",
        "#3. 승수한 값이 100이상인 값을 출력하세요.\n",
        "\n",
        "example2 = list(map(lambda x:x[0]**x[1] ,example))\n",
        "print(list(filter(lambda x:x>=100 ,example2)))\n",
        "\n",
        "# 4. 승수한 값을 모두 더하세요\n",
        "print(sum(map(lambda x:x[0]**x[1] ,example)))"
      ]
    },
    {
      "cell_type": "code",
      "execution_count": null,
      "metadata": {},
      "outputs": [],
      "source": [
        "## 강사님의 문제풀이\n",
        "\n",
        "숫자 = [1, 2, 3, 4, 5]\n",
        "승수 = [2, 2, 2, 3, 3]\n",
        "\n",
        "#문제\n",
        "#1. 숫자의 승수를 zip으로 맵핑해서 진행하세요.\n",
        "#2. 숫자를 승수만큼 제곱하여 결과값을 표현해주세요.\n",
        "#3. 승수한 값이 100이상인 값을 출력하세요.\n",
        "#4. 승수한 값을 모두 더하세요.\n",
        "\n",
        "# Q1\n",
        "# Q1.1\n",
        "data = list(zip(숫자, 승수))\n",
        "\n",
        "# Q1.2 (list comprehension)\n",
        "data = [i for i in range(len(숫자))]\n",
        "###\n",
        "data = [(숫자[i], 승수[i]) for i in range(len(숫자))]\n",
        "data\n",
        "\n",
        "\n",
        "# Q2\n",
        "# Q2.1\n",
        "l = []\n",
        "for i in data:\n",
        "    l.append(i[0] ** i[1])\n",
        "print(l)\n",
        "\n",
        "# Q2.2\n",
        "def f(x):\n",
        "    return x[0] ** x[1]\n",
        "\n",
        "print(list(map(f, data)))\n",
        "\n",
        "# Q2.3\n",
        "print(list(map(lambda x:x[0] ** x[1], data)))\n",
        "\n",
        "# Q2.4\n",
        "print(list(map(lambda x:pow(x[0], x[1]), data)))\n",
        "\n",
        "# Q2.5 (list comprehension)\n",
        "[i for i in data]\n",
        "[i[0] ** i[1] for i in data] # 공간을 바로 할당해버립니다.\n",
        "\n",
        "# Q3\n",
        "# Q3.1\n",
        "l = []\n",
        "for i in map(lambda x:x[0] ** x[1], data):\n",
        "    if i >= 100:\n",
        "        l.append(i)\n",
        "print(l)\n",
        "\n",
        "# Q3.2\n",
        "def f(x):\n",
        "    return x > 100\n",
        "data2 = map(lambda x:x[0] ** x[1], data)\n",
        "print(list(filter(f, data2)))\n",
        "\n",
        "# Q3.3\n",
        "data2 = map(lambda x:x[0] ** x[1], data)\n",
        "print(list(filter(lambda x:x>=100, data2)))\n",
        "\n",
        "# Q3.4\n",
        "# list(filter(lambda x:x>=100, [1, 4, 9, 64, 125]))\n",
        "print(list(filter(lambda x:x>=100, map(lambda x:x[0] ** x[1], data))))\n",
        "\n",
        "# Q3.5\n",
        "print([i[0] ** i[1] for i in data if i[0] ** i[1] >= 100])\n",
        "\n",
        "# Q4\n",
        "sum(map(lambda x:x[0] ** x[1], data))"
      ]
    },
    {
      "attachments": {},
      "cell_type": "markdown",
      "metadata": {},
      "source": [
        "## 클래스"
      ]
    },
    {
      "attachments": {},
      "cell_type": "markdown",
      "metadata": {},
      "source": [
        "* 클래스는 데이터(멤버)와 기능(메서드)을 가지고 있는 인스턴트 객체를 생성하기 위한 역할\n",
        "\n",
        "* 우리가 배우고 있는 Python을 객체 지향 프로그래밍 언어\n",
        "\n",
        "```\n",
        "  현실                                코드\n",
        "  차 ---------------------------> class Car()\n",
        "  정수 -------------------------> class int()\n",
        "  실수 -------------------------> class float()\n",
        "\n",
        "  인간이 만들어 \n",
        "  놓은 현실 세계에서의 \n",
        "  정의 또는 약속 --------------> class\n",
        "\n",
        "  1 + 1 = 2가 컴퓨터 입장에서는 10일 수도 있고\n",
        "  'A' + 'A' = 'AA'가 아니라 컴퓨터 입장에서는 130일 수 있습니다.\n",
        "```"
      ]
    },
    {
      "cell_type": "code",
      "execution_count": 4,
      "metadata": {},
      "outputs": [
        {
          "name": "stdout",
          "output_type": "stream",
          "text": [
            "300\n"
          ]
        }
      ],
      "source": [
        "class CarFactory(object): # 첫 문자는 대문자로 합니다.\n",
        "  max_speed = 300\n",
        "  max_people = 5\n",
        "  # 아래 self는 스스로를 가리키기에\n",
        "  # self는 인스턴스를 가리킵니다.\n",
        "  def move(self): # self는 인스턴스를 가리킵니다. \n",
        "    print('차가 움직이고 있습니다.')\n",
        "  def stop(self):\n",
        "    print('차가 멈췄습니다.')\n",
        "# 클래스로 바로 접근해서 무엇을 하는 것을 권고하지 않습니다.\n",
        "# 제대로 알지 못하는 상태에서 (인스턴스 변수, 클래스 변수)\n",
        "print(CarFactory.max_speed)\n",
        "k5 = CarFactory() # 붕어빵(인스턴스) = 붕어빵 틀(클래스)\n",
        "k3 = CarFactory() # 차(인스턴스) = 자동차 공장(클래스)"
      ]
    },
    {
      "cell_type": "code",
      "execution_count": 6,
      "metadata": {},
      "outputs": [
        {
          "name": "stdout",
          "output_type": "stream",
          "text": [
            "300\n",
            "차가 움직이고 있습니다.\n",
            "차가 움직이고 있습니다.\n",
            "차가 멈췄습니다.\n",
            "차가 멈췄습니다.\n",
            "300\n"
          ]
        }
      ],
      "source": [
        "class CarFactory(object):\n",
        "  max_speed = 300\n",
        "  max_people = 5\n",
        "\n",
        "  def move(self):\n",
        "    print('차가 움직이고 있습니다.')\n",
        "  def stop(self):\n",
        "    print('차가 멈췄습니다.')\n",
        "\n",
        "k5 = CarFactory()\n",
        "k3 = CarFactory()\n",
        "k5.move()\n",
        "k3.move()\n",
        "k5.stop()\n",
        "k3.stop()\n",
        "print(k5.max_speed)"
      ]
    },
    {
      "cell_type": "code",
      "execution_count": 7,
      "metadata": {},
      "outputs": [
        {
          "name": "stdout",
          "output_type": "stream",
          "text": [
            "케이파이브 차가 움직이고 있습니다.\n",
            "케이쓰리 차가 움직이고 있습니다.\n",
            "케이파이브 차가 멈췄습니다.\n",
            "케이쓰리 차가 멈췄습니다.\n",
            "300\n"
          ]
        }
      ],
      "source": [
        "# 메서드 : 클래스 내에 함수\n",
        "# 멤버 : 클래스 내에 변수\n",
        "# 클래스는 멤버와 메서드로 이루어짐 , 이 두개를 합쳐서 어트리부트라고도 얘기함.\n",
        "# 클래스는 붕어빵을 찍는 틀 또는 공장이며 , 인스턴스는 우리가 실제로 사용 하는 것 입니다.\n",
        "class CarFactory(object):\n",
        "  max_speed = 300\n",
        "  max_people = 5\n",
        "  \n",
        "  def __init__(self, userInputName): # 인스턴스가 만들어질 때 실행되는 메서드\n",
        "    self.name = userInputName\n",
        "    \n",
        "  def move(self):\n",
        "    print(self.name,'차가 움직이고 있습니다.')\n",
        "    \n",
        "  def stop(self):\n",
        "    print(self.name,'차가 멈췄습니다.')\n",
        "\n",
        "k5 = CarFactory('케이파이브')\n",
        "k3 = CarFactory('케이쓰리')\n",
        "k5.move()\n",
        "k3.move()\n",
        "k5.stop()\n",
        "k3.stop()\n",
        "print(k5.max_speed)"
      ]
    },
    {
      "cell_type": "code",
      "execution_count": 13,
      "metadata": {},
      "outputs": [
        {
          "data": {
            "text/plain": [
              "300"
            ]
          },
          "execution_count": 13,
          "metadata": {},
          "output_type": "execute_result"
        }
      ],
      "source": [
        "k3.name\n",
        "k3.max_speed"
      ]
    },
    {
      "cell_type": "code",
      "execution_count": 11,
      "metadata": {},
      "outputs": [
        {
          "name": "stdout",
          "output_type": "stream",
          "text": [
            "<class '__main__.CarFactory'>\n"
          ]
        },
        {
          "data": {
            "text/plain": [
              "['__class__',\n",
              " '__delattr__',\n",
              " '__dict__',\n",
              " '__dir__',\n",
              " '__doc__',\n",
              " '__eq__',\n",
              " '__format__',\n",
              " '__ge__',\n",
              " '__getattribute__',\n",
              " '__gt__',\n",
              " '__hash__',\n",
              " '__init__',\n",
              " '__init_subclass__',\n",
              " '__le__',\n",
              " '__lt__',\n",
              " '__module__',\n",
              " '__ne__',\n",
              " '__new__',\n",
              " '__reduce__',\n",
              " '__reduce_ex__',\n",
              " '__repr__',\n",
              " '__setattr__',\n",
              " '__sizeof__',\n",
              " '__str__',\n",
              " '__subclasshook__',\n",
              " '__weakref__',\n",
              " 'max_people',\n",
              " 'max_speed',\n",
              " 'move',\n",
              " 'name',\n",
              " 'stop']"
            ]
          },
          "execution_count": 11,
          "metadata": {},
          "output_type": "execute_result"
        }
      ],
      "source": [
        "print(type(k3))\n",
        "dir(k3)\n",
        "# 'max_people', 멤버\n",
        "# 'max_speed', 멤버\n",
        "# 'move', 메소드\n",
        "# 'name', 멤버\n",
        "# 'stop' 메소드"
      ]
    },
    {
      "cell_type": "code",
      "execution_count": 9,
      "metadata": {},
      "outputs": [
        {
          "name": "stdout",
          "output_type": "stream",
          "text": [
            "<class 'list'>\n"
          ]
        },
        {
          "data": {
            "text/plain": [
              "['__add__',\n",
              " '__class__',\n",
              " '__class_getitem__',\n",
              " '__contains__',\n",
              " '__delattr__',\n",
              " '__delitem__',\n",
              " '__dir__',\n",
              " '__doc__',\n",
              " '__eq__',\n",
              " '__format__',\n",
              " '__ge__',\n",
              " '__getattribute__',\n",
              " '__getitem__',\n",
              " '__gt__',\n",
              " '__hash__',\n",
              " '__iadd__',\n",
              " '__imul__',\n",
              " '__init__',\n",
              " '__init_subclass__',\n",
              " '__iter__',\n",
              " '__le__',\n",
              " '__len__',\n",
              " '__lt__',\n",
              " '__mul__',\n",
              " '__ne__',\n",
              " '__new__',\n",
              " '__reduce__',\n",
              " '__reduce_ex__',\n",
              " '__repr__',\n",
              " '__reversed__',\n",
              " '__rmul__',\n",
              " '__setattr__',\n",
              " '__setitem__',\n",
              " '__sizeof__',\n",
              " '__str__',\n",
              " '__subclasshook__',\n",
              " 'append',\n",
              " 'clear',\n",
              " 'copy',\n",
              " 'count',\n",
              " 'extend',\n",
              " 'index',\n",
              " 'insert',\n",
              " 'pop',\n",
              " 'remove',\n",
              " 'reverse',\n",
              " 'sort']"
            ]
          },
          "execution_count": 9,
          "metadata": {},
          "output_type": "execute_result"
        }
      ],
      "source": [
        "l = [10,20,30]\n",
        "print(type(l))\n",
        "dir(l)\n",
        "# ALL 메소드\n",
        "# 'append',  'clear',  'copy',  'count',  'extend',\n",
        "#  'index',  'insert',  'pop',  'remove',  'reverse',  'sort'"
      ]
    },
    {
      "cell_type": "code",
      "execution_count": null,
      "metadata": {},
      "outputs": [],
      "source": [
        "class list(object):\n",
        "    def __add__(self):\n",
        "        pass\n",
        "    def __class__(self):\n",
        "        pass\n",
        "    def __class_getitem__(self):\n",
        "        pass\n",
        "    def __eq__(self):\n",
        "        pass\n",
        "    def __ge__(self):\n",
        "        pass \n",
        "    # ... 생략 ...\n",
        "    def append(self):\n",
        "        pass\n",
        "    def clear(self):\n",
        "        pass\n",
        "    def copy(self):\n",
        "        pass\n",
        "    def count(self):\n",
        "        pass\n",
        "    def extend(self):\n",
        "        pass\n",
        "    def index(self):\n",
        "        pass\n",
        "    # ... 생략 ..."
      ]
    },
    {
      "cell_type": "code",
      "execution_count": null,
      "metadata": {},
      "outputs": [],
      "source": [
        "# 클래스 변수\n",
        "# 클래스 변수는 클래스 바로 하위에 자리하고 있는 변수\n",
        "# 클래스 변수는 모든 인스턴스가 공유합니다.\n",
        "class Car(object):\n",
        "    # kinds가 인스턴스 레벨에서 없어서 그걸 \n",
        "    # class변수로 접근하는거고, speed는 값을 = 로 할당했기에 \n",
        "    # 인스턴스변수가 생기는것\n",
        "    kinds = []\n",
        "    speed = 300\n",
        "    def add_kinds(self, name):\n",
        "        self.kinds.append(name)\n",
        "    def change_speed(self, speed):\n",
        "        self.speed = speed\n",
        "\n",
        "k5 = Car()\n",
        "k3 = Car()\n",
        "k5.add_kinds('k5')\n",
        "k3.add_kinds('k3')\n",
        "k5.change_speed(500)\n",
        "k3.change_speed(250)\n",
        "\n",
        "print('k5.kinds:', k5.kinds)\n",
        "print('k3.kinds:', k3.kinds)\n",
        "print('k5.speed:', k5.speed)\n",
        "print('k3.speed:', k3.speed)"
      ]
    },
    {
      "cell_type": "code",
      "execution_count": null,
      "metadata": {},
      "outputs": [],
      "source": [
        "# 클래스 변수\n",
        "# 클래스 변수는 클래스 바로 하위에 자리하고 있는 변수\n",
        "# 클래스 변수는 모든 인스턴스가 공유합니다.\n",
        "class Car(object):\n",
        "    # kinds가 인스턴스 레벨에서 없어서 그걸 \n",
        "    # class변수로 접근하는거고, speed는 값을 = 로 할당했기에 \n",
        "    # 인스턴스변수가 생기는것\n",
        "    kinds = []\n",
        "    speed = 300\n",
        "    def add_kinds(self, name):\n",
        "        self.kinds.append(name) # self.kinds = [name]로 사용하면 인스턴스 변수가 됩니다.\n",
        "    def change_speed(self, speed):\n",
        "        self.speed = speed\n",
        "\n",
        "k5 = Car()\n",
        "k3 = Car()\n",
        "k5.speed = 500\n",
        "k3.speed # 클래스 변수는 값을 공유한다며?"
      ]
    },
    {
      "cell_type": "code",
      "execution_count": null,
      "metadata": {},
      "outputs": [],
      "source": [
        "id()"
      ]
    },
    {
      "cell_type": "code",
      "execution_count": 20,
      "metadata": {},
      "outputs": [
        {
          "name": "stdout",
          "output_type": "stream",
          "text": [
            "슬라임이 1 데미지로 공격했습니다.\n",
            "주인공의 체력이 9999가 되었습니다.\n"
          ]
        }
      ],
      "source": [
        "주인공=['licat', 10000]\n",
        "\n",
        "class MobFactory(object):\n",
        "    def __init__(self, 이름, 공격력,체력, 마력, 크기_넓이, 크기_높이, 아이템확률, x,y):\n",
        "        self.name = 이름\n",
        "        self.power = 공격력\n",
        "        self.hp = 체력\n",
        "        self.mp = 마력\n",
        "        self.width = 크기_넓이\n",
        "        self.height = 크기_높이\n",
        "        self.dropRate = 아이템확률\n",
        "    \n",
        "    def attack(self):\n",
        "        주인공[1] -= self.power\n",
        "        print(f'{self.name}이 {self.power} 데미지로 공격했습니다.')\n",
        "        print(f'주인공의 체력이 {주인공[1]}가 되었습니다.')\n",
        "        \n",
        "슬라임 = MobFactory('슬라임',1,10,10,2,2,100,1,1)\n",
        "오크 = MobFactory('오크',10,10,10,2,2,80, 1,1)\n",
        "고블린 = MobFactory('고블린',100,10,10,2,2,60,1,1)\n",
        "드래곤 = MobFactory('드래곤',1000,10,10,2,2,40,1,1)\n",
        "해골 = MobFactory('해골',10000,10,10,2,2,1,1,1)\n",
        "\n",
        "슬라임.attack()"
      ]
    },
    {
      "cell_type": "code",
      "execution_count": 27,
      "metadata": {},
      "outputs": [
        {
          "name": "stdout",
          "output_type": "stream",
          "text": [
            "licat의 체력이 10만큼 회복되었습니다.\n",
            "licat의 체력이 310가 되었습니다.\n",
            "licat이 X:2, Y:2 로 이동 되었습니다.\n"
          ]
        }
      ],
      "source": [
        "class Character(object):\n",
        "    def __init__(self, 이름, 공격력, 체력, 마력, 크기_넓이, 크기_높이, x,y):\n",
        "        self.name = 이름\n",
        "        self.power = 공격력\n",
        "        self.hp = 체력\n",
        "        self.mp = 마력\n",
        "        self.width = 크기_넓이\n",
        "        self.height = 크기_높이\n",
        "        self.x = x\n",
        "        self.y = y\n",
        "    \n",
        "    def hpRecovery(self,any):\n",
        "        self.hp += int(any)\n",
        "        print(f'{self.name}의 체력이 {any}만큼 회복되었습니다.')\n",
        "        print(f'{self.name}의 체력이 {self.hp}가 되었습니다.')\n",
        "    \n",
        "    def move(self,x,y):\n",
        "        self.x = int(x)\n",
        "        self.y = int(y)\n",
        "        print(f'{self.name}이 X:{x}, Y:{y} 로 이동 되었습니다.')\n",
        "        \n",
        "licat = Character('licat',10,300,200,4,4,1,1)\n",
        "mura = Character('mura',10,210,101,3,3,1,1)\n",
        "\n",
        "licat.hpRecovery(10)\n",
        "licat.move(2,2)"
      ]
    },
    {
      "cell_type": "code",
      "execution_count": null,
      "metadata": {},
      "outputs": [],
      "source": [
        "주인공 = ['licat', 10000]\n",
        "\n",
        "class MobFactory(object):\n",
        "    def __init__(self, 이름, 공격력, 체력, 마력, 크기_넓이, 크기_높이, 아이템확률, x, y):\n",
        "        self.name = 이름\n",
        "        self.power = 공격력\n",
        "        self.hp = 체력\n",
        "        self.mp = 마력\n",
        "        self.width = 크기_넓이\n",
        "        self.height = 크기_높이\n",
        "        self.dropRate = 아이템확률\n",
        "\n",
        "    def __add__(self, next):\n",
        "        if self.name == '슬라임':\n",
        "            return MobFactory(f'왕{self.name + next.name}', \n",
        "                              self.power + next.power, \n",
        "                              10, 10, 2, 2, 100, 1, 1)\n",
        "        return None\n",
        "\n",
        "    def attack(self):\n",
        "        주인공[1] -= self.power\n",
        "        print(f'{self.name}이 {self.power}데미지로 공격했습니다.')\n",
        "        print(f'주인공의 체력이 {주인공[1]}가 되었습니다.')\n",
        "    \n",
        "\n",
        "슬라임 = 슬라임 = MobFactory('슬라임', 1, 10, 10, 2, 2, 100, 1, 1)\n",
        "왕슬라임 = 슬라임 + 슬라임\n",
        "\n",
        "왕슬라임.power\n",
        "왕슬라임.name"
      ]
    },
    {
      "cell_type": "code",
      "execution_count": 28,
      "metadata": {},
      "outputs": [
        {
          "data": {
            "text/plain": [
              "'오늘 제주의 날씨'"
            ]
          },
          "execution_count": 28,
          "metadata": {},
          "output_type": "execute_result"
        }
      ],
      "source": [
        "# 쉽고 중요한 예제!\n",
        "\n",
        "class BlogFactory(object):\n",
        "    def __init__(self,제목,내용,조회수,글쓴이,생성날짜):\n",
        "        self.title = 제목\n",
        "        self.content = 내용\n",
        "        self.count = 조회수\n",
        "        self.writer = 글쓴이\n",
        "        self.create_date = 생성날짜\n",
        "\n",
        "게시글1 = BlogFactory(\n",
        "    '오늘 제주의 날씨',\n",
        "    '오늘 제주의 날씨는 참 좋네요! 블라블라',\n",
        "    '0',\n",
        "    '강현우',\n",
        "    '2023/05/10',\n",
        "    )\n",
        "\n",
        "게시글2 = BlogFactory(\n",
        "    '오늘 부산의 날씨',\n",
        "    '오늘 부산의 날씨는 참 좋네요! 블라블라',\n",
        "    '100000',\n",
        "    '재현님',\n",
        "    '2023/05/10',\n",
        "    )\n",
        "\n",
        "게시글3 = BlogFactory(\n",
        "    '오늘 강원의 날씨',\n",
        "    '오늘 강원의 날씨는 참 좋네요! 블라블라',\n",
        "    '1000',\n",
        "    '남궁범',\n",
        "    '2023/05/10',\n",
        "    )\n",
        "\n",
        "# 프레임워크를 공부하지마라\n",
        "게시글1.title"
      ]
    },
    {
      "cell_type": "code",
      "execution_count": 29,
      "metadata": {},
      "outputs": [
        {
          "name": "stdout",
          "output_type": "stream",
          "text": [
            "오늘 제주의 날씨\n",
            "오늘 부산의 날씨\n",
            "오늘 강원의 날씨\n"
          ]
        }
      ],
      "source": [
        "# 쉽고 중요한 예제!\n",
        "\n",
        "class BlogFactory(object):\n",
        "    def __init__(self,제목,내용,조회수,글쓴이,생성날짜):\n",
        "        self.title = 제목\n",
        "        self.content = 내용\n",
        "        self.count = 조회수\n",
        "        self.writer = 글쓴이\n",
        "        self.create_date = 생성날짜\n",
        "\n",
        "게시글1 = BlogFactory(\n",
        "    '오늘 제주의 날씨',\n",
        "    '오늘 제주의 날씨는 참 좋네요! 블라블라',\n",
        "    '0',\n",
        "    '강현우',\n",
        "    '2023/05/10',\n",
        "    )\n",
        "\n",
        "게시글2 = BlogFactory(\n",
        "    '오늘 부산의 날씨',\n",
        "    '오늘 부산의 날씨는 참 좋네요! 블라블라',\n",
        "    '100000',\n",
        "    '재현님',\n",
        "    '2023/05/10',\n",
        "    )\n",
        "\n",
        "게시글3 = BlogFactory(\n",
        "    '오늘 강원의 날씨',\n",
        "    '오늘 강원의 날씨는 참 좋네요! 블라블라',\n",
        "    '1000',\n",
        "    '남궁범',\n",
        "    '2023/05/10',\n",
        "    )\n",
        "\n",
        "data = [게시글1,게시글2,게시글3]\n",
        "for i in data:\n",
        "    print(i.title)"
      ]
    },
    {
      "cell_type": "code",
      "execution_count": 30,
      "metadata": {},
      "outputs": [
        {
          "name": "stdout",
          "output_type": "stream",
          "text": [
            "오늘 제주의 날씨\n",
            "오늘 제주의 날씨는 참 좋네요! 블라블라\n",
            "0\n",
            "2023/05/10\n"
          ]
        }
      ],
      "source": [
        "# 쉽고 중요한 예제!\n",
        "# 이 코드는 가능하면 손으로 2~3번 써보시기를 권해드립니다.\n",
        "\n",
        "class BlogFactory(object):\n",
        "    def __init__(self,제목,내용,조회수,글쓴이,생성날짜):\n",
        "        self.title = 제목\n",
        "        self.content = 내용\n",
        "        self.count = 조회수\n",
        "        self.writer = 글쓴이\n",
        "        self.create_date = 생성날짜\n",
        "\n",
        "게시글1 = BlogFactory(\n",
        "    '오늘 제주의 날씨',\n",
        "    '오늘 제주의 날씨는 참 좋네요! 블라블라',\n",
        "    '0',\n",
        "    '강현우',\n",
        "    '2023/05/10',\n",
        "    )\n",
        "\n",
        "게시글2 = BlogFactory(\n",
        "    '오늘 부산의 날씨',\n",
        "    '오늘 부산의 날씨는 참 좋네요! 블라블라',\n",
        "    '100000',\n",
        "    '재현님',\n",
        "    '2023/05/10',\n",
        "    )\n",
        "\n",
        "게시글3 = BlogFactory(\n",
        "    '오늘 강원의 날씨',\n",
        "    '오늘 강원의 날씨는 참 좋네요! 블라블라',\n",
        "    '1000',\n",
        "    '남궁범',\n",
        "    '2023/05/10',\n",
        "    )\n",
        "\n",
        "data = [게시글1,게시글2,게시글3]\n",
        "for i in data:\n",
        "    if i.writer == '강현우':\n",
        "        print(i.title)\n",
        "        print(i.content)\n",
        "        print(i.count)\n",
        "        print(i.create_date)"
      ]
    },
    {
      "cell_type": "code",
      "execution_count": null,
      "metadata": {},
      "outputs": [],
      "source": [
        "data = [게시글1,게시글2,게시글3]\n",
        "for i in data:\n",
        "    print(i.title)\n",
        "    print(i.content)\n",
        "    print(i.writer)\n",
        "    print(i.count)\n",
        "    print(i.create_date)"
      ]
    },
    {
      "cell_type": "code",
      "execution_count": null,
      "metadata": {},
      "outputs": [],
      "source": [
        "data = [게시글1,게시글2,게시글3]\n",
        "for i in data:\n",
        "    print(f'<h2>{i.title}<h2>')\n",
        "    print(f'<p>{i.content}<p>')\n",
        "    print(f'<p>{i.writer}<p>')\n",
        "    print(f'<p>{i.count}<p>')\n",
        "    print(f'<p>{i.create_date}<p>')"
      ]
    },
    {
      "cell_type": "code",
      "execution_count": 33,
      "metadata": {},
      "outputs": [
        {
          "name": "stdout",
          "output_type": "stream",
          "text": [
            "오늘 제주의 날씨\n",
            "오늘 부산의 날씨\n",
            "오늘 강원의 날씨\n"
          ]
        }
      ],
      "source": [
        "# 조금 난이도가 있는 예제이기 때문에\n",
        "# 기억하지 않으셔도 됩니다.\n",
        "\n",
        "class BlogFactory(object):\n",
        "    dataset = []\n",
        "    \n",
        "    def __init__(self,제목,내용,조회수,글쓴이,생성날짜):\n",
        "        self.title = 제목\n",
        "        self.content = 내용\n",
        "        self.count = 조회수\n",
        "        self.writer = 글쓴이\n",
        "        self.create_date = 생성날짜\n",
        "        self.dataset.append(self)\n",
        "\n",
        "게시글1 = BlogFactory(\n",
        "    '오늘 제주의 날씨',\n",
        "    '오늘 제주의 날씨는 참 좋네요! 블라블라',\n",
        "    '0',\n",
        "    '강현우',\n",
        "    '2023/05/10',\n",
        "    )\n",
        "\n",
        "게시글2 = BlogFactory(\n",
        "    '오늘 부산의 날씨',\n",
        "    '오늘 부산의 날씨는 참 좋네요! 블라블라',\n",
        "    '100000',\n",
        "    '재현님',\n",
        "    '2023/05/10',\n",
        "    )\n",
        "\n",
        "게시글3 = BlogFactory(\n",
        "    '오늘 강원의 날씨',\n",
        "    '오늘 강원의 날씨는 참 좋네요! 블라블라',\n",
        "    '1000',\n",
        "    '남궁범',\n",
        "    '2023/05/10',\n",
        "    )\n",
        "\n",
        "for i in 게시글1.dataset:\n",
        "    print(i.title)"
      ]
    },
    {
      "cell_type": "code",
      "execution_count": null,
      "metadata": {},
      "outputs": [],
      "source": [
        "# x = 10\n",
        "# y = 10\n",
        "# x.__add__ = lambda self, next : str(self) + str(next) # error"
      ]
    },
    {
      "cell_type": "code",
      "execution_count": null,
      "metadata": {},
      "outputs": [],
      "source": [
        "# python read only method create 가능한가?"
      ]
    },
    {
      "cell_type": "code",
      "execution_count": 4,
      "metadata": {},
      "outputs": [
        {
          "name": "stdout",
          "output_type": "stream",
          "text": [
            "<__main__.BlogFactory object at 0x0000017886423DC0>\n"
          ]
        }
      ],
      "source": [
        "class BlogFactory(object):\n",
        "    dataset = []\n",
        "\n",
        "    def __init__(self, 제목, 내용, 조회수, 글쓴이, 생성날짜):\n",
        "        self.title = 제목\n",
        "        self.content = 내용\n",
        "        self.count = 조회수\n",
        "        self.writer = 글쓴이\n",
        "        self.create_date = 생성날짜\n",
        "        self.dataset.append(self)\n",
        "\n",
        "게시글1 = BlogFactory(\n",
        "        '오늘 제주의 날씨',\n",
        "        '오늘 제주의 날씨는 참 좋네요! 블라블라',\n",
        "        '0',\n",
        "        '이호준',\n",
        "        '2023/05/10',\n",
        "    )\n",
        "\n",
        "    \n",
        "\n",
        "print(게시글1)"
      ]
    },
    {
      "cell_type": "code",
      "execution_count": 6,
      "metadata": {},
      "outputs": [
        {
          "name": "stdout",
          "output_type": "stream",
          "text": [
            "제목 : 오늘 제주의 날씨, 내용 : 오늘 제주, 글쓴이 : 이호준\n",
            "제목 : 오늘 부산의 날씨, 내용 : 오늘 부산, 글쓴이 : 김재현\n"
          ]
        }
      ],
      "source": [
        "# 중요한 예제입니다.\n",
        "class BlogFactory(object):\n",
        "    dataset = []\n",
        "\n",
        "    def __init__(self, 제목, 내용, 조회수, 글쓴이, 생성날짜):\n",
        "        self.title = 제목\n",
        "        self.content = 내용\n",
        "        self.count = 조회수\n",
        "        self.writer = 글쓴이\n",
        "        self.create_date = 생성날짜\n",
        "        self.dataset.append(self)\n",
        "\n",
        "    def __str__(self):\n",
        "        return f'제목 : {self.title}, 내용 : {self.content[:5]}, 글쓴이 : {self.writer}'\n",
        "\n",
        "게시글1 = BlogFactory(\n",
        "        '오늘 제주의 날씨',\n",
        "        '오늘 제주의 날씨는 참 좋네요! 블라블라',\n",
        "        '0',\n",
        "        '이호준',\n",
        "        '2023/05/10',\n",
        "    )\n",
        "\n",
        "게시글2 = BlogFactory(\n",
        "        '오늘 부산의 날씨',\n",
        "        '오늘 부산의 날씨는 참 좋네요! 블라블라',\n",
        "        '1000000',\n",
        "        '김재현',\n",
        "        '2023/05/10',\n",
        "    )\n",
        "\n",
        "print(게시글1)\n",
        "print(게시글2)"
      ]
    },
    {
      "cell_type": "code",
      "execution_count": 1,
      "metadata": {},
      "outputs": [
        {
          "name": "stdout",
          "output_type": "stream",
          "text": [
            "1. 제목 : 오늘 제주의 날씨, 내용 : 오늘 제주, 글쓴이 : 이호준\n",
            "2. 제목 : 오늘 부산의 날씨, 내용 : 오늘 부산, 글쓴이 : 김재현\n"
          ]
        }
      ],
      "source": [
        "# 중요한 예제입니다.\n",
        "class BlogFactory(object):\n",
        "    dataset = []\n",
        "\n",
        "    def __init__(self, 제목, 내용, 조회수, 글쓴이, 생성날짜):\n",
        "        self.title = 제목\n",
        "        self.content = 내용\n",
        "        self.count = 조회수\n",
        "        self.writer = 글쓴이\n",
        "        self.create_date = 생성날짜\n",
        "        self.dataset.append(self)\n",
        "\n",
        "    def __str__(self):\n",
        "        return f'{len(self.dataset)}. 제목 : {self.title}, 내용 : {self.content[:5]}, 글쓴이 : {self.writer}'\n",
        "\n",
        "게시글1 = BlogFactory(\n",
        "        '오늘 제주의 날씨',\n",
        "        '오늘 제주의 날씨는 참 좋네요! 블라블라',\n",
        "        '0',\n",
        "        '이호준',\n",
        "        '2023/05/10',\n",
        "    )\n",
        "print(게시글1)\n",
        "\n",
        "게시글2 = BlogFactory(\n",
        "        '오늘 부산의 날씨',\n",
        "        '오늘 부산의 날씨는 참 좋네요! 블라블라',\n",
        "        '1000000',\n",
        "        '김재현',\n",
        "        '2023/05/10',\n",
        "    )\n",
        "print(게시글2)"
      ]
    },
    {
      "attachments": {},
      "cell_type": "markdown",
      "metadata": {},
      "source": [
        "### !! 클래스 연습문제"
      ]
    },
    {
      "cell_type": "code",
      "execution_count": 28,
      "metadata": {},
      "outputs": [
        {
          "name": "stdout",
          "output_type": "stream",
          "text": [
            "[]\n",
            "enjoy_Python_Lv0을 구매하셨습니다. 책의 가격은 10000 입니다.\n",
            "woohyun님의 잔고는 10000가 되었습니다.\n"
          ]
        },
        {
          "data": {
            "text/plain": [
              "['enjoy_Python_Lv0']"
            ]
          },
          "execution_count": 28,
          "metadata": {},
          "output_type": "execute_result"
        }
      ],
      "source": [
        "class UserInfo(object):\n",
        "    \n",
        "    dataset = []\n",
        "    \n",
        "    def __init__(self,아이디,비밀번호,이름,이메일,생성날짜,주소,잔금,보유책):\n",
        "        self.userId = 아이디\n",
        "        self.userPassword = 비밀번호\n",
        "        self.userName = 이름\n",
        "        self.userEmail = 이메일\n",
        "        self.createDate = 생성날짜\n",
        "        self.userAddress = 주소\n",
        "        self.userMoney = 잔금\n",
        "        self.userBooks = 보유책\n",
        "        self.dataset.append(self)\n",
        "    \n",
        "    def __str__(self):\n",
        "        return f'아이디 : {self.userId}, 비밀번호 : hashPassword , 이름 : {self.userName}, 이메일 : {self.userEmail}, 잔금 : {self.userMoney}'\n",
        "    \n",
        "    def buyBook(self,book):\n",
        "        self.userMoney -= int(book.price)\n",
        "        self.userBooks.append(f'{book.title}')\n",
        "        print(f'{book.title}을 구매하셨습니다. 책의 가격은 {book.price} 입니다.')\n",
        "        print(f'{self.userName}님의 잔고는 {self.userMoney}가 되었습니다.')\n",
        "        \n",
        "유저1 = UserInfo(\n",
        "        'myIds',\n",
        "        'myPassword',\n",
        "        'woohyun',\n",
        "        'woohyun@gmail.com',\n",
        "        '2023/05/10',\n",
        "        '제주도',\n",
        "        20000,\n",
        "        []\n",
        "    )\n",
        "\n",
        "유저2 = UserInfo(\n",
        "        'myIds2',\n",
        "        'myPassword2',\n",
        "        'hyunwoo',\n",
        "        'hyunwoo@gmail.com',\n",
        "        '2023/05/10',\n",
        "        '부산',\n",
        "        30000,\n",
        "        []\n",
        "    )\n",
        "\n",
        "\n",
        "class BookInfo(object):\n",
        "    dataset = []\n",
        "    \n",
        "    def __init__(self, 제목, 내용, 글쓴이, 출판사, 카테고리, 가격):\n",
        "        self.title = 제목\n",
        "        self.content = 내용\n",
        "        self.writer = 글쓴이\n",
        "        self.publisher = 출판사\n",
        "        self.category = 카테고리\n",
        "        self.price = 가격\n",
        "        self.dataset.append(self)\n",
        "    \n",
        "    def __str__(self):\n",
        "        return f'제목 : {self.title}, 내용 : {self.content[:10]}, 글쓴이 : {self.writer}, 출판사 : {self.publisher}, 가격 : {self.price}'\n",
        "\n",
        "book1 = BookInfo(\n",
        "    'enjoy_Python_Lv0',\n",
        "    '쉽고 재밌는 파이썬과 친해지기. Lv0 단계부터 살펴볼까요?',\n",
        "    '강현우',\n",
        "    '위니브',\n",
        "    'IT',\n",
        "    10000\n",
        "    )\n",
        "\n",
        "book2 = BookInfo(\n",
        "    'enjoy_Js_Lv0',\n",
        "    '쉽고 재밌는 JavaScript와 친해지기. Lv0 단계부터 천천히 배워볼까요~',\n",
        "    '우현강',\n",
        "    '위니브',\n",
        "    'IT',\n",
        "    9900\n",
        "    )\n",
        "\n",
        "# print(book1)\n",
        "# print(book2)\n",
        "# print(book2.title)\n",
        "print(유저1.userBooks)\n",
        "유저1.buyBook(book1)\n",
        "유저1.userBooks"
      ]
    },
    {
      "cell_type": "code",
      "execution_count": null,
      "metadata": {},
      "outputs": [],
      "source": [
        "import hashlib\n",
        "\n",
        "비밀번호 = hashlib.sha256()\n",
        "비밀번호.update('helloworld!'.encode('utf-8'))\n",
        "비밀번호.hexdigest() # 영화를 집어넣든, 음악을 집어넣든, 소설을 집어넣든, 암호를 집어넣든 모두 64자로 만듭니다."
      ]
    },
    {
      "cell_type": "code",
      "execution_count": 24,
      "metadata": {},
      "outputs": [
        {
          "data": {
            "text/plain": [
              "999900000"
            ]
          },
          "execution_count": 24,
          "metadata": {},
          "output_type": "execute_result"
        }
      ],
      "source": [
        "# 1번째 스탭\n",
        "# 공개되는 정보, 공개되지 않는 정보\n",
        "# 멤버(정적 수치, 문자열)와 메서드(기능)\n",
        "class Product(object):\n",
        "    def __init__(self, 품명, 가격):\n",
        "        self.product_name = 품명\n",
        "        self.price = 가격\n",
        "        \n",
        "자전거 = Product(\n",
        "    '자전거',\n",
        "    100000,\n",
        ")\n",
        "\n",
        "class UserInfo(object):\n",
        "    def __init__(self, \n",
        "                 이름, \n",
        "                 이메일,\n",
        "                 비밀번호, \n",
        "                 주요접속기기, \n",
        "                 주요접속국가, \n",
        "                 주요접속지역, \n",
        "                 마지막접속일자, \n",
        "                 회원가입날짜, \n",
        "                 별명, \n",
        "                 적립금, \n",
        "                 생일, \n",
        "                 휴대폰번호, \n",
        "                 휴대폰인증여부, \n",
        "                 고객등급, \n",
        "                 휴면계정여부):\n",
        "        self.이름 = 이름\n",
        "        self.고객등급 = 고객등급\n",
        "        self.적립금 = 적립금\n",
        "    \n",
        "    def 물품구매(self, product):\n",
        "        self.적립금 -= product.price\n",
        "\n",
        "    def 회원탈퇴(self):\n",
        "        pass\n",
        "\n",
        "    def 장바구니등록(self):\n",
        "        pass\n",
        "\n",
        "이호준 = UserInfo(\n",
        "    이름 = '이호준',\n",
        "    이메일 = 'hojun@gmail.com',\n",
        "    비밀번호 = '98d234db7e91f5ba026a25d0d6f17bc5ee0a347ea2216b0c9de06d43536d49f4',\n",
        "    주요접속기기 = 'Android',\n",
        "    주요접속국가 = 'Korea',\n",
        "    주요접속지역 = 'Jeju',\n",
        "    마지막접속일자 = '23/05/10',\n",
        "    회원가입날짜 = '23/05/10',\n",
        "    별명 = '준',\n",
        "    적립금 = 1000000000,\n",
        "    생일 = '13/13',\n",
        "    휴대폰번호 = '010-0000-0000',\n",
        "    휴대폰인증여부 = True,\n",
        "    고객등급 = 'VIP',\n",
        "    휴면계정여부 = False,\n",
        ")\n",
        "\n",
        "이호준.물품구매(자전거)\n",
        "이호준.적립금"
      ]
    },
    {
      "cell_type": "code",
      "execution_count": 29,
      "metadata": {},
      "outputs": [
        {
          "name": "stdout",
          "output_type": "stream",
          "text": [
            "현재 200의 스피드로 달리고 있습니다.\n"
          ]
        }
      ],
      "source": [
        "class Car(object):\n",
        "    MaxSpeed = 300\n",
        "    MaxPeoeple = 5\n",
        "    def __init__(self):\n",
        "        pass\n",
        "    def move(self, x):\n",
        "        pass\n",
        "    def stop(self):\n",
        "        print('멈췄습니다.')\n",
        "    @staticmethod #decorator\n",
        "    def 스피드배속(현재스피드, 배속할스피드):\n",
        "        print(f'현재 {현재스피드 * 배속할스피드}의 스피드로 달리고 있습니다.')\n",
        "\n",
        "Car.스피드배속(100, 2) # 붕어빵 찍는 틀이 얼마나 붕어빵을 만들어 냈는가?"
      ]
    },
    {
      "cell_type": "code",
      "execution_count": null,
      "metadata": {},
      "outputs": [],
      "source": [
        "# 예를 들어\n",
        "class Hotel:\n",
        "    pass\n",
        "\n",
        "# Hotel.빈방있는호텔() # 전체 호텔에 빈방이 있는\n",
        "# 호텔1.빈방 # 호텔 1에 빈방이 있는지 여부"
      ]
    },
    {
      "attachments": {},
      "cell_type": "markdown",
      "metadata": {},
      "source": [
        "### 상속"
      ]
    },
    {
      "cell_type": "code",
      "execution_count": 31,
      "metadata": {},
      "outputs": [],
      "source": [
        "# 이 예제는 기억하고 있으셔야 합니다.\n",
        "class Car(object):\n",
        "    maxSpeed = 300\n",
        "    maxPeople = 5\n",
        "    def move(self, x):\n",
        "        print(x, '의 스피드로 달리고 있습니다.')\n",
        "    def stop(self):\n",
        "        print('멈췄습니다.')\n",
        "\n",
        "class HybridCar(Car):\n",
        "    battery = 1000\n",
        "    batteryKM = 300\n",
        "\n",
        "class ElectricCar(HybridCar):\n",
        "    battery = 2000\n",
        "    batteryKM = 600"
      ]
    },
    {
      "cell_type": "code",
      "execution_count": null,
      "metadata": {},
      "outputs": [],
      "source": [
        "dir(k3)"
      ]
    },
    {
      "cell_type": "code",
      "execution_count": 40,
      "metadata": {},
      "outputs": [
        {
          "name": "stdout",
          "output_type": "stream",
          "text": [
            "10 의 스피드로 달리고 있습니다.\n"
          ]
        }
      ],
      "source": [
        "HyK3 = HybridCar()\n",
        "K3 = Car()\n",
        "ElHyK3 = ElectricCar()\n",
        "# id(K3.maxSpeed), id(HyK3.maxSpeed)\n",
        "# id(K3.move), id(HyK3.move)\n",
        "ElHyK3.move(10)"
      ]
    },
    {
      "cell_type": "code",
      "execution_count": null,
      "metadata": {},
      "outputs": [],
      "source": [
        "# 우리가 앞으로 알고리즘에서 할 코드입니다.\n",
        "# 예방주사 차원에서 진행하도록 하겠습니다."
      ]
    },
    {
      "cell_type": "code",
      "execution_count": 3,
      "metadata": {},
      "outputs": [
        {
          "data": {
            "text/plain": [
              "20"
            ]
          },
          "execution_count": 3,
          "metadata": {},
          "output_type": "execute_result"
        }
      ],
      "source": [
        "# 아주 간단한 코드입니다.\n",
        "class Node:\n",
        "    def __init__(self,data):\n",
        "        self.data = data\n",
        "        self.next = None\n",
        "\n",
        "노드1 = Node(10)\n",
        "노드2 = Node(20)\n",
        "노드3 = Node(30)\n",
        "\n",
        "# 노드1.data\n",
        "노드1.next = 노드2\n",
        "노드2.next = 노드3\n",
        "\n",
        "노드1.next.data # 노드2.data\n",
        "노드1.next.next.data # 노드2.next.data # 노드3.data"
      ]
    },
    {
      "cell_type": "code",
      "execution_count": 9,
      "metadata": {},
      "outputs": [
        {
          "data": {
            "text/plain": [
              "40"
            ]
          },
          "execution_count": 9,
          "metadata": {},
          "output_type": "execute_result"
        }
      ],
      "source": [
        "class Node:\n",
        "    def __init__(self,data1,data2):\n",
        "        self.data1 = data1\n",
        "        self.data2 = data2\n",
        "        self.next = None\n",
        "\n",
        "노드1 = Node(10,20)\n",
        "노드2 = Node(30,40)\n",
        "노드3 = Node(50,60)\n",
        "\n",
        "노드1.next = 노드2\n",
        "노드2.next = 노드3\n"
      ]
    },
    {
      "attachments": {},
      "cell_type": "markdown",
      "metadata": {},
      "source": [
        "### 메서드 오버라이딩"
      ]
    },
    {
      "attachments": {},
      "cell_type": "markdown",
      "metadata": {},
      "source": [
        "* 부모클래스에서 상속받은 함수를 자식 클래스에서 같은 이름으로 선언하여 사용하는 것"
      ]
    },
    {
      "cell_type": "code",
      "execution_count": 13,
      "metadata": {},
      "outputs": [
        {
          "name": "stdout",
          "output_type": "stream",
          "text": [
            "600 만큼 달릴 수 있습니다.\n",
            "10 스피드로 달리고 있습니다.\n"
          ]
        }
      ],
      "source": [
        "class Car(object):\n",
        "    maxSpeed = 300\n",
        "    maxPeople = 5\n",
        "    def move(self, x):\n",
        "        print(x, '의 스피드로 달리고 있습니다.')\n",
        "    def stop(self):\n",
        "        print('멈췄습니다.')\n",
        "\n",
        "class HybridCar(Car):\n",
        "    battery = 1000\n",
        "    batteryKM = 300\n",
        "\n",
        "class ElectricCar(HybridCar):\n",
        "    battery = 2000\n",
        "    batteryKM = 600\n",
        "\n",
        "    def move(self, x):\n",
        "        print(self.batteryKM, '만큼 달릴 수 있습니다.')\n",
        "        print(x, '스피드로 달리고 있습니다.')\n",
        "\n",
        "# 자신의 고유의 영역에서 선언된\n",
        "# 멤버와 메서드를 우선순위로 잡습니다.\n",
        "k5 = HybridCar()\n",
        "electricCarK5 = ElectricCar()\n",
        "k5.maxSpeed\n",
        "electricCarK5.maxSpeed\n",
        "electricCarK5.battery\n",
        "electricCarK5.move(10)"
      ]
    },
    {
      "attachments": {},
      "cell_type": "markdown",
      "metadata": {},
      "source": [
        "### 다중상속"
      ]
    },
    {
      "cell_type": "code",
      "execution_count": null,
      "metadata": {},
      "outputs": [],
      "source": [
        "class Car(object):\n",
        "    maxSpeed = 300\n",
        "    def move(self, x):\n",
        "        print(x, '의 스피드로 달리고 있습니다.')\n",
        "\n",
        "class HybridCar(Car):\n",
        "    battery = 1000\n",
        "\n",
        "class ElectricCar(HybridCar):\n",
        "    battery = 2000\n",
        "\n",
        "    def move(self, x):\n",
        "        print(x, '스피드로 달리고 있습니다.')\n",
        "\n",
        "class Test(ElectricCar):\n",
        "    pass\n",
        "\n",
        "Test.mro() # MRO(Method Resolution Order)\n",
        "# print(Test.battery)"
      ]
    },
    {
      "cell_type": "code",
      "execution_count": 1,
      "metadata": {},
      "outputs": [
        {
          "data": {
            "text/plain": [
              "[__main__.D, __main__.C, __main__.A, object]"
            ]
          },
          "execution_count": 1,
          "metadata": {},
          "output_type": "execute_result"
        }
      ],
      "source": [
        "class A(object):\n",
        "    maxSpeed = 300\n",
        "\n",
        "class B(A):\n",
        "    battery = 1000\n",
        "\n",
        "class C(A):\n",
        "    battery = 2000\n",
        "\n",
        "class D(C):\n",
        "    pass\n",
        "\n",
        "D.mro()\n",
        "# D.battery"
      ]
    },
    {
      "cell_type": "code",
      "execution_count": null,
      "metadata": {},
      "outputs": [],
      "source": [
        "class A(object):\n",
        "    maxSpeed = 300\n",
        "\n",
        "class B(A):\n",
        "    battery = 1000\n",
        "\n",
        "class C(A):\n",
        "    battery = 2000\n",
        "\n",
        "class D(B, C):\n",
        "    pass\n",
        "\n",
        "D.mro()\n",
        "# D.battery"
      ]
    },
    {
      "cell_type": "code",
      "execution_count": null,
      "metadata": {},
      "outputs": [],
      "source": [
        "# __는 문법 적으로 접근이 안됩니다. : 변수를 보호할 수 있어요.\n",
        "# 변수를 변경하는 것을 보다 엄격하게 관리할 수 있습니다.\n",
        "\n",
        "# _는 공식 X\n",
        "# _는 문법 적으로 접근이 됩니다.(회사 컨벤션마다 다릅니다.)\n",
        "\n",
        "class Car(object):\n",
        "    __maxSpeed = 300\n",
        "    maxPeople = 5\n",
        "    def move(self, x):\n",
        "        print(x, '의 스피드로 움직이고 있습니다.')\n",
        "        print(self.__maxSpeed, '가 최고 속도입니다.')\n",
        "    def stop(self):\n",
        "        print('멈췄습니다.')\n",
        "\n",
        "k5 = Car()\n",
        "k5.move(10)\n",
        "# k5.__maxSpeed #error\n",
        "# k5.maxPeople"
      ]
    },
    {
      "attachments": {},
      "cell_type": "markdown",
      "metadata": {
        "id": "Cy2OX-9rhbu2"
      },
      "source": [
        "## 제너레이터와 이터레이터"
      ]
    },
    {
      "attachments": {},
      "cell_type": "markdown",
      "metadata": {},
      "source": [
        "### 이터레이터"
      ]
    },
    {
      "cell_type": "code",
      "execution_count": 2,
      "metadata": {},
      "outputs": [
        {
          "name": "stdout",
          "output_type": "stream",
          "text": [
            "1\n",
            "2\n",
            "3\n",
            "4\n",
            "5\n"
          ]
        }
      ],
      "source": [
        "class Myiter:\n",
        "    \n",
        "    def __init__(self, stop):\n",
        "        self.currentValue = 0\n",
        "        self.stop = stop\n",
        "    \n",
        "    def __iter__(self):\n",
        "        return self\n",
        "    \n",
        "    def __next__(self):\n",
        "        if self.currentValue >= self.stop:\n",
        "            raise StopIteration # stopiteration 오류 발생 해주기.\n",
        "        self.currentValue += 1\n",
        "        return self.currentValue\n",
        "\n",
        "li = Myiter(5)\n",
        "for i in li:\n",
        "    print(i)"
      ]
    },
    {
      "cell_type": "code",
      "execution_count": 5,
      "metadata": {},
      "outputs": [
        {
          "name": "stdout",
          "output_type": "stream",
          "text": [
            "0\n",
            "1\n",
            "2\n",
            "3\n",
            "4\n"
          ]
        }
      ],
      "source": [
        "class Myiter:\n",
        "    \n",
        "    def __init__(self, stop):\n",
        "        self.currentValue = 0\n",
        "        self.stop = stop\n",
        "    \n",
        "    def __iter__(self):\n",
        "        return self\n",
        "    \n",
        "    def __next__(self):\n",
        "        if self.currentValue >= self.stop:\n",
        "            raise StopIteration # stopiteration 오류 발생 해주기.\n",
        "        result = self.currentValue\n",
        "        self.currentValue += 1\n",
        "        return result\n",
        "\n",
        "li = Myiter(5)\n",
        "for i in li:\n",
        "    print(i)"
      ]
    },
    {
      "cell_type": "code",
      "execution_count": 6,
      "metadata": {},
      "outputs": [
        {
          "name": "stdout",
          "output_type": "stream",
          "text": [
            "0\n",
            "1\n",
            "2\n",
            "3\n",
            "4\n",
            "0\n",
            "1\n",
            "2\n",
            "3\n",
            "4\n"
          ]
        }
      ],
      "source": [
        "class Myiter:\n",
        "    \n",
        "    def __init__(self, stop):\n",
        "        self.stop = stop\n",
        "    \n",
        "    def __iter__(self):\n",
        "        self.currentValue = 0\n",
        "        return self\n",
        "    \n",
        "    def __next__(self):\n",
        "        if self.currentValue >= self.stop:\n",
        "            raise StopIteration # stopiteration 오류 발생 해주기.\n",
        "        result = self.currentValue\n",
        "        self.currentValue += 1\n",
        "        return result\n",
        "\n",
        "li = Myiter(5)\n",
        "# 결국 for는 iter를 먼저 실행하고, 그 다음 next로 stopiteration을 만날때 까지\n",
        "for i in li:\n",
        "    print(i)\n",
        "    \n",
        "for i in li:\n",
        "    print(i)"
      ]
    },
    {
      "cell_type": "code",
      "execution_count": 7,
      "metadata": {},
      "outputs": [
        {
          "data": {
            "text/plain": [
              "0"
            ]
          },
          "execution_count": 7,
          "metadata": {},
          "output_type": "execute_result"
        }
      ],
      "source": [
        "class Myiter:\n",
        "    \n",
        "    def __init__(self, stop):\n",
        "        self.stop = stop\n",
        "    \n",
        "    def __iter__(self):\n",
        "        self.currentValue = 0\n",
        "        return self\n",
        "    \n",
        "    def __next__(self):\n",
        "        if self.currentValue >= self.stop:\n",
        "            raise StopIteration # stopiteration 오류 발생 해주기.\n",
        "        result = self.currentValue\n",
        "        self.currentValue += 1\n",
        "        return result\n",
        "\n",
        "li = Myiter(5)\n",
        "# 결국 for는 iter를 먼저 실행하고, 그 다음 next로 stopiteration을 만날때 까지\n",
        "i = iter(li)\n",
        "next(i)"
      ]
    },
    {
      "cell_type": "code",
      "execution_count": null,
      "metadata": {},
      "outputs": [],
      "source": [
        "next(i)"
      ]
    },
    {
      "cell_type": "code",
      "execution_count": 13,
      "metadata": {},
      "outputs": [
        {
          "name": "stdout",
          "output_type": "stream",
          "text": [
            "0 1 2 3\n"
          ]
        }
      ],
      "source": [
        "a, b, c, d =Myiter(4)\n",
        "print(a, b, c, d)"
      ]
    },
    {
      "cell_type": "code",
      "execution_count": 14,
      "metadata": {},
      "outputs": [
        {
          "name": "stdout",
          "output_type": "stream",
          "text": [
            "0 1 2 3\n"
          ]
        }
      ],
      "source": [
        "a, b, c, d =range(4)\n",
        "print(a, b, c, d)"
      ]
    },
    {
      "attachments": {},
      "cell_type": "markdown",
      "metadata": {},
      "source": [
        "### 제너레이터"
      ]
    },
    {
      "attachments": {},
      "cell_type": "markdown",
      "metadata": {},
      "source": [
        "* 제너레이터란, 이터레이터를 생성해주는 함수"
      ]
    },
    {
      "cell_type": "code",
      "execution_count": 16,
      "metadata": {},
      "outputs": [
        {
          "name": "stdout",
          "output_type": "stream",
          "text": [
            "0\n",
            "1\n",
            "2\n",
            "3\n",
            "4\n",
            "5\n",
            "6\n",
            "7\n",
            "8\n",
            "9\n",
            "10\n"
          ]
        }
      ],
      "source": [
        "def gen():\n",
        "    count = 0\n",
        "    while True:\n",
        "        yield count\n",
        "        count += 1\n",
        "\n",
        "gen()\n",
        "\n",
        "for i in gen():\n",
        "    print(i)\n",
        "    if i == 10:\n",
        "        break"
      ]
    },
    {
      "cell_type": "code",
      "execution_count": 17,
      "metadata": {},
      "outputs": [
        {
          "data": {
            "text/plain": [
              "[(10, 0), (20, 2), (30, 4), (40, 6), (50, 8)]"
            ]
          },
          "execution_count": 17,
          "metadata": {},
          "output_type": "execute_result"
        }
      ],
      "source": [
        "def gen():\n",
        "    count = 0\n",
        "    while True:\n",
        "        yield count\n",
        "        count += 2\n",
        "\n",
        "l = [10,20,30,40,50]\n",
        "\n",
        "list(zip(l,gen()))"
      ]
    },
    {
      "cell_type": "code",
      "execution_count": 18,
      "metadata": {},
      "outputs": [
        {
          "data": {
            "text/plain": [
              "[('HTML', '0주차'), ('CSS', '2주차'), ('JavaScript', '4주차'), ('Python', '6주차')]"
            ]
          },
          "execution_count": 18,
          "metadata": {},
          "output_type": "execute_result"
        }
      ],
      "source": [
        "def gen():\n",
        "    count = 0\n",
        "    while True:\n",
        "        yield f'{count}주차'\n",
        "        count += 2\n",
        "        \n",
        "과목 = ['HTML' , 'CSS' , 'JavaScript' , 'Python']\n",
        "\n",
        "list(zip(과목,gen()))"
      ]
    },
    {
      "cell_type": "code",
      "execution_count": 20,
      "metadata": {},
      "outputs": [
        {
          "data": {
            "text/plain": [
              "[('A', 1),\n",
              " ('B', 2),\n",
              " ('C', 3),\n",
              " ('D', 4),\n",
              " ('E', 5),\n",
              " ('F', 1),\n",
              " ('G', 2),\n",
              " ('H', 3),\n",
              " ('I', 4),\n",
              " ('J', 5),\n",
              " ('K', 1)]"
            ]
          },
          "execution_count": 20,
          "metadata": {},
          "output_type": "execute_result"
        }
      ],
      "source": [
        "def gen():\n",
        "    count = 1\n",
        "    while True:\n",
        "        yield count\n",
        "        count += 1\n",
        "        if count == 6:\n",
        "            count = 1\n",
        "        \n",
        "과목 = ['A' , 'B' , 'C' , 'D' , 'E' , 'F' , 'G' , 'H' , 'I' , 'J' , 'K']\n",
        "\n",
        "list(zip(과목,gen()))"
      ]
    },
    {
      "attachments": {},
      "cell_type": "markdown",
      "metadata": {
        "id": "TLgcUpYU342P"
      },
      "source": [
        "## 데코레이터 (데커레이터)"
      ]
    },
    {
      "cell_type": "code",
      "execution_count": null,
      "metadata": {},
      "outputs": [],
      "source": [
        "# 아래와 같이 실무에서 활용됩니다.\n",
        "\n",
        "@login\n",
        "def 비밀게시판()\n",
        "    return render()\n",
        "\n",
        "@check_vip\n",
        "def vip용쿠폰():\n",
        "    return render()\n",
        "\n",
        "# 데이터 전처리란?\n",
        "# 데이터에 이상치(이상한 값), 결측치(비어있는 값) 등을 처리 \n",
        "# ['10',1,2,3,'20'] -> [10,1,2,3,20]\n",
        "@데이터전처리\n",
        "sum(data)\n",
        "\n",
        "@데이터전처리후퍼센테이지\n",
        "sum(data)\n",
        "\n",
        "# [10,20,30] -> 60%"
      ]
    },
    {
      "cell_type": "code",
      "execution_count": 24,
      "metadata": {},
      "outputs": [
        {
          "data": {
            "text/plain": [
              "20"
            ]
          },
          "execution_count": 24,
          "metadata": {},
          "output_type": "execute_result"
        }
      ],
      "source": [
        "def one():\n",
        "    return lambda x, y : x + y\n",
        "\n",
        "더하기 = one()\n",
        "더하기(10,10)"
      ]
    },
    {
      "cell_type": "code",
      "execution_count": 25,
      "metadata": {},
      "outputs": [
        {
          "data": {
            "text/plain": [
              "20"
            ]
          },
          "execution_count": 25,
          "metadata": {},
          "output_type": "execute_result"
        }
      ],
      "source": [
        "def one():\n",
        "    def two(x,y):\n",
        "        return x + y\n",
        "    return two\n",
        "\n",
        "더하기 = one()\n",
        "더하기(10,10)"
      ]
    },
    {
      "cell_type": "code",
      "execution_count": 26,
      "metadata": {},
      "outputs": [
        {
          "name": "stdout",
          "output_type": "stream",
          "text": [
            "hello\n",
            "func1 입니다.\n"
          ]
        }
      ],
      "source": [
        "# 중요한 코드입니다.\n",
        "# 손으로 2 ~ 3번 써보시길 권해드립니다.\n",
        "def print_hello(func):\n",
        "    def wrap_func():\n",
        "        print('hello')\n",
        "        func()\n",
        "    return wrap_func\n",
        "\n",
        "@print_hello\n",
        "def func1(): \n",
        "    print('func1 입니다.')\n",
        "\n",
        "func1()"
      ]
    },
    {
      "cell_type": "code",
      "execution_count": 35,
      "metadata": {},
      "outputs": [
        {
          "name": "stdout",
          "output_type": "stream",
          "text": [
            "안녕하세요\n",
            "강현우입니다.\n",
            "안녕하세요\n",
            "위니브입니다.\n",
            "안녕히계세요\n"
          ]
        }
      ],
      "source": [
        "def 인사말(func):\n",
        "    def wrap_func():\n",
        "        print('안녕하세요')\n",
        "        func()\n",
        "    return wrap_func\n",
        "\n",
        "@인사말\n",
        "def 자기소개1(): \n",
        "    print('강현우입니다.')\n",
        "    \n",
        "@인사말\n",
        "def 자기소개2(): \n",
        "    print('위니브입니다.')\n",
        "\n",
        "def 작별인사(): \n",
        "    print('안녕히계세요')\n",
        "\n",
        "자기소개1()\n",
        "자기소개2()\n",
        "작별인사()"
      ]
    },
    {
      "cell_type": "code",
      "execution_count": 41,
      "metadata": {},
      "outputs": [
        {
          "name": "stdout",
          "output_type": "stream",
          "text": [
            "안녕하세요\n",
            "강현우입니다.\n",
            "안녕하세요\n",
            "위니브입니다.\n",
            "안녕히계세요\n"
          ]
        }
      ],
      "source": [
        "def 인사말(func):\n",
        "    def wrap_func():\n",
        "        print('안녕하세요')\n",
        "        func()\n",
        "    return wrap_func\n",
        "\n",
        "def 자기소개1(): \n",
        "    print('강현우입니다.')\n",
        "    \n",
        "def 자기소개2(): \n",
        "    print('위니브입니다.')\n",
        "\n",
        "def 작별인사(): \n",
        "    print('안녕히계세요')\n",
        "\n",
        "인사말(자기소개1)()\n",
        "인사말(자기소개2)()\n",
        "작별인사()"
      ]
    },
    {
      "cell_type": "code",
      "execution_count": 37,
      "metadata": {},
      "outputs": [
        {
          "name": "stdout",
          "output_type": "stream",
          "text": [
            "안녕하세요\n",
            "강현우입니다.\n",
            "안녕하세요\n",
            "위니브입니다.\n",
            "안녕히계세요\n"
          ]
        }
      ],
      "source": [
        "def 인사말(func):\n",
        "    def wrap_func(이름): # 파라미터\n",
        "        print('안녕하세요')\n",
        "        func(이름) # 아규먼트\n",
        "    return wrap_func\n",
        "\n",
        "@인사말\n",
        "def 자기소개1(name): \n",
        "    print(f'{name}입니다.')\n",
        "    \n",
        "@인사말\n",
        "def 자기소개2(name): \n",
        "    print(f'{name}입니다.')\n",
        "\n",
        "def 작별인사(): \n",
        "    print('안녕히계세요')\n",
        "\n",
        "자기소개1('강현우')\n",
        "자기소개2('위니브')\n",
        "작별인사()"
      ]
    },
    {
      "cell_type": "code",
      "execution_count": 42,
      "metadata": {},
      "outputs": [
        {
          "name": "stdout",
          "output_type": "stream",
          "text": [
            "안녕하세요\n",
            "강현우입니다.\n",
            "안녕하세요\n",
            "위니브입니다.\n",
            "안녕히계세요\n"
          ]
        }
      ],
      "source": [
        "def 인사말(func):\n",
        "    def wrap_func(이름):\n",
        "        print('안녕하세요')\n",
        "        func(이름)\n",
        "    return wrap_func\n",
        "\n",
        "def 자기소개1(name): \n",
        "    print(f'{name}입니다.')\n",
        "    \n",
        "def 자기소개2(name): \n",
        "    print(f'{name}입니다.')\n",
        "\n",
        "def 작별인사(): \n",
        "    print('안녕히계세요')\n",
        "\n",
        "인사말(자기소개1)('강현우')\n",
        "인사말(자기소개2)('위니브')\n",
        "작별인사()"
      ]
    },
    {
      "cell_type": "code",
      "execution_count": 45,
      "metadata": {},
      "outputs": [
        {
          "name": "stdout",
          "output_type": "stream",
          "text": [
            "2.5\n"
          ]
        }
      ],
      "source": [
        "def 전처리(func):\n",
        "    def wrap_func(iterable):\n",
        "        iterable = list(map(int,iterable))\n",
        "        print(func(iterable))\n",
        "    return wrap_func\n",
        "\n",
        "@전처리\n",
        "def 평균(l):\n",
        "    return sum(l) / len(l)\n",
        "\n",
        "평균(['1', 2, 3, '4'])"
      ]
    },
    {
      "cell_type": "code",
      "execution_count": 46,
      "metadata": {},
      "outputs": [
        {
          "name": "stdout",
          "output_type": "stream",
          "text": [
            "2.5\n"
          ]
        }
      ],
      "source": [
        "def 전처리(func):\n",
        "    def wrap_func(iterable):\n",
        "        print(func(list(map(int,iterable))))\n",
        "    return wrap_func\n",
        "\n",
        "@전처리\n",
        "def 평균(l):\n",
        "    return sum(l) / len(l)\n",
        "\n",
        "평균(['1', 2, 3, '4'])"
      ]
    },
    {
      "cell_type": "code",
      "execution_count": 49,
      "metadata": {},
      "outputs": [
        {
          "data": {
            "text/plain": [
              "'2.5%'"
            ]
          },
          "execution_count": 49,
          "metadata": {},
          "output_type": "execute_result"
        }
      ],
      "source": [
        "def 전처리(func):\n",
        "    def wrap_func(iterable):\n",
        "        i = list(map(int,iterable))\n",
        "        calculate = func(i)\n",
        "        result = str(calculate)+'%'\n",
        "        return result\n",
        "    return wrap_func\n",
        "\n",
        "@전처리\n",
        "def 평균(l):\n",
        "    return sum(l) / len(l)\n",
        "\n",
        "평균(['1', 2, 3, '4'])"
      ]
    },
    {
      "cell_type": "code",
      "execution_count": 68,
      "metadata": {},
      "outputs": [
        {
          "data": {
            "text/plain": [
              "61"
            ]
          },
          "execution_count": 68,
          "metadata": {},
          "output_type": "execute_result"
        }
      ],
      "source": [
        "# 데코레이터 실습 문제\n",
        "# 다음 값이 들어갔을 때 숫자만 모두 더하는 코드를 완성하세요.\n",
        "l = ['10',True,False,'21',0,10,20]\n",
        "\n",
        "def 전처리(func):\n",
        "    def wrap_func(datas):\n",
        "        datas = [i for i in datas if type(i) == str or type(i) == int]\n",
        "        result = func(map(int,datas))\n",
        "        return result\n",
        "    return wrap_func\n",
        "\n",
        "@전처리\n",
        "def custom_sum(list):\n",
        "    return sum(list)\n",
        "\n",
        "custom_sum(l)\n",
        "\n"
      ]
    },
    {
      "cell_type": "code",
      "execution_count": 69,
      "metadata": {},
      "outputs": [
        {
          "name": "stdout",
          "output_type": "stream",
          "text": [
            "decorator1\n",
            "decorator2\n",
            "hello\n"
          ]
        }
      ],
      "source": [
        "# 다시 살펴보겠습니다.\n",
        "def decorator1(func):\n",
        "    def wrapper():\n",
        "        print('decorator1')\n",
        "        func()\n",
        "    return wrapper\n",
        " \n",
        "def decorator2(func):\n",
        "    def wrapper():\n",
        "        print('decorator2')\n",
        "        func()\n",
        "    return wrapper\n",
        " \n",
        "# 데코레이터를 여러 개 지정\n",
        "@decorator1\n",
        "@decorator2\n",
        "def hello():\n",
        "    print('hello')\n",
        " \n",
        "hello()"
      ]
    },
    {
      "attachments": {},
      "cell_type": "markdown",
      "metadata": {},
      "source": [
        "## 모듈과 패키지"
      ]
    },
    {
      "cell_type": "code",
      "execution_count": null,
      "metadata": {},
      "outputs": [],
      "source": [
        "# 연습 1\n",
        "# def hello ():\n",
        "#     pass\n",
        "\n",
        "# class Human():\n",
        "#     pass\n",
        "\n",
        "# name = 'kanghyunwoo'\n",
        "# age = 10"
      ]
    },
    {
      "cell_type": "code",
      "execution_count": 81,
      "metadata": {},
      "outputs": [
        {
          "name": "stdout",
          "output_type": "stream",
          "text": [
            "kanghyunwoo\n",
            "None\n"
          ]
        }
      ],
      "source": [
        "import test1\n",
        "\n",
        "print(test1.name)\n",
        "print(test1.hello())"
      ]
    },
    {
      "cell_type": "code",
      "execution_count": 83,
      "metadata": {},
      "outputs": [
        {
          "name": "stdout",
          "output_type": "stream",
          "text": [
            "kanghyunwoo\n"
          ]
        }
      ],
      "source": [
        "# 연습 2 파일 2개 생성\n",
        "# 주의!! 같은 이름이 있었을 경우 \n",
        "# 마지막에 추가된 변수명으로 할당\n",
        "# import * 는 더더욱 포함시키는 변수, 메서드 , 클래스 명을 알 수 없기에\n",
        "# 주의해서 사용해야 합니다.\n",
        "from test2 import name\n",
        "from test1 import name\n",
        "\n",
        "print(name)"
      ]
    },
    {
      "cell_type": "code",
      "execution_count": null,
      "metadata": {},
      "outputs": [],
      "source": [
        "# 연습 3 폴더 > 파일 생성\n",
        "# 폴더로 연습\n",
        "# one이라는 것이 여기서는 폴더입니다.!\n",
        "# two가 file 이름이에요.\n",
        "from one import two\n",
        "\n",
        "print(two.name)"
      ]
    },
    {
      "cell_type": "code",
      "execution_count": null,
      "metadata": {},
      "outputs": [],
      "source": [
        "# 연습 4 폴더 > 폴더 > 파일 생성\n",
        "from one.two import three\n",
        "\n",
        "print(three.name)"
      ]
    },
    {
      "cell_type": "code",
      "execution_count": null,
      "metadata": {},
      "outputs": [],
      "source": [
        "# 연습 5\n",
        "import test1 as t\n",
        "\n",
        "t.hello()"
      ]
    },
    {
      "cell_type": "code",
      "execution_count": null,
      "metadata": {},
      "outputs": [],
      "source": [
        "# Python에 모듈\n",
        "import pandas as pd\n",
        "import numpy as np"
      ]
    },
    {
      "cell_type": "code",
      "execution_count": null,
      "metadata": {},
      "outputs": [],
      "source": [
        "# !mkdir leehojun"
      ]
    },
    {
      "cell_type": "code",
      "execution_count": null,
      "metadata": {},
      "outputs": [],
      "source": [
        "# !pip install 패키지이름"
      ]
    },
    {
      "cell_type": "code",
      "execution_count": null,
      "metadata": {},
      "outputs": [],
      "source": [
        "# !pip list # 실행 결과를 남겨드리고 싶으나 너무 길어 삭제"
      ]
    },
    {
      "cell_type": "code",
      "execution_count": null,
      "metadata": {},
      "outputs": [],
      "source": [
        "import random as rd #랜덤한 숫자 반환\n",
        "\n",
        "rd.randint(0, 10)"
      ]
    },
    {
      "attachments": {},
      "cell_type": "markdown",
      "metadata": {},
      "source": [
        "## 파일 입출력"
      ]
    },
    {
      "cell_type": "code",
      "execution_count": 94,
      "metadata": {},
      "outputs": [],
      "source": [
        "f = open('python.txt','w') # 파일모드 : r(read), w(write, 덮어씁니다. ㅜㅜ), a(append)\n",
        "f.close()"
      ]
    },
    {
      "cell_type": "code",
      "execution_count": 95,
      "metadata": {},
      "outputs": [],
      "source": [
        "f = open('python.txt','w')\n",
        "s = 'hello\\nworld'\n",
        "f.write(s)\n",
        "f.close()"
      ]
    },
    {
      "cell_type": "code",
      "execution_count": 1,
      "metadata": {},
      "outputs": [],
      "source": [
        "'''\n",
        "{\n",
        "    \"one\":10,\n",
        "    \"two\":20,\n",
        "    \"three\":30\n",
        "}\n",
        "'''\n",
        "\n",
        "data1 = ['one','two','three']\n",
        "data2 = [10,20,30]\n",
        "\n",
        "string = str(dict(zip(data1,data2)))\n",
        "\n",
        "f = open('data.json','w')\n",
        "f.write(string)\n",
        "f.close()"
      ]
    },
    {
      "cell_type": "code",
      "execution_count": 15,
      "metadata": {},
      "outputs": [],
      "source": [
        "import json\n",
        "\n",
        "data1 = ['one','two','three']\n",
        "data2 = [10,20,30]\n",
        "\n",
        "string = json.dumps(dict(zip(data1,data2)),indent=4)\n",
        "\n",
        "f = open('data.json','w')\n",
        "f.write(string)\n",
        "f.close()"
      ]
    },
    {
      "cell_type": "code",
      "execution_count": null,
      "metadata": {},
      "outputs": [],
      "source": [
        "import json\n",
        "text = f'/////////////// 업데이트 방법 //////////////\\n\\\n",
        "// 1. 아래 데이터는 민감데이터로 크롤링에 의존하지 않는 데이터입니다.\\n\\\n",
        "//    긴급할 경우 아래 데이터만 수정하여 push 해주세요.\\n\\\n",
        "// 2. 크롤러_통합.py를 실행시키시고, 모두 push해주시면 됩니다.\\n\\\n",
        "//    크롤러_세계확진자.js, koreaRegionalData.js가 뽑힙니다.\\n\\\n",
        "// 3. 크롤러가 동작하지 않을 경우 수동업데이트해야 합니다.\\n\\\n",
        "////////////////////////////////////////////\\n\\\n",
        "// 존스홉킨스 : https://gisanddata.maps.arcgis.com/a\\n\\\n",
        "// https://www.worldometers.info/coronavirus/\\n\\\n",
        "// 질본 : http://ncov.mohw.go.kr/bdBoardLis\\n\\\n",
        "// 선차트용 데이터 - 제주도청 제공\\n\\\n",
        "var 입도객현황 = '\n",
        "\n",
        "data1 = ['one', 'two', 'three']\n",
        "data2 = [10, 20, 30]\n",
        "\n",
        "\n",
        "f = open('data.js', 'w')\n",
        "s = json.dumps(dict(zip(data1,data2)), indent=4)\n",
        "s = text + s\n",
        "f.write(s)\n",
        "f.close()"
      ]
    },
    {
      "cell_type": "code",
      "execution_count": null,
      "metadata": {},
      "outputs": [],
      "source": [
        "import json\n",
        "\n",
        "text = f'안내문구\\nvar 입도객현황 = '\n",
        "\n",
        "data1 = ['one', 'two', 'three']\n",
        "data2 = [10, 20, 30]\n",
        "\n",
        "f = open('data.js', 'w')\n",
        "s = json.dumps(dict(zip(data1,data2)), indent=4)\n",
        "s = text + s\n",
        "f.write(s)\n",
        "f.close()"
      ]
    },
    {
      "cell_type": "code",
      "execution_count": 2,
      "metadata": {},
      "outputs": [],
      "source": [
        "import json\n",
        "\n",
        "text = f'//안내문구\\nvar 입도객현황 = '\n",
        "\n",
        "data1 = ['one', 'two', 'three',]\n",
        "data2 = [10, 20, 30,]\n",
        "\n",
        "f = open('data.js', 'w',encoding='UTF-8')\n",
        "s = str(data1)\n",
        "s = text + s\n",
        "f.write(s)\n",
        "f.close()"
      ]
    },
    {
      "cell_type": "code",
      "execution_count": 16,
      "metadata": {},
      "outputs": [
        {
          "data": {
            "text/plain": [
              "\"['one', 'two', 'three']\""
            ]
          },
          "execution_count": 16,
          "metadata": {},
          "output_type": "execute_result"
        }
      ],
      "source": [
        "str(['one', 'two', 'three',])"
      ]
    },
    {
      "attachments": {},
      "cell_type": "markdown",
      "metadata": {},
      "source": [
        "## 파일 읽기"
      ]
    },
    {
      "attachments": {},
      "cell_type": "markdown",
      "metadata": {},
      "source": [
        "* readline( ) : 라인 별로 읽습니다."
      ]
    },
    {
      "cell_type": "code",
      "execution_count": 17,
      "metadata": {},
      "outputs": [
        {
          "name": "stdout",
          "output_type": "stream",
          "text": [
            "hello\n",
            "\n",
            "world\n"
          ]
        }
      ],
      "source": [
        "f = open('python.txt','r')\n",
        "while True:\n",
        "    line = f.readline()\n",
        "    if not line:\n",
        "        break\n",
        "    print(line)\n",
        "\n",
        "f.close()"
      ]
    },
    {
      "attachments": {},
      "cell_type": "markdown",
      "metadata": {},
      "source": [
        "* readlines( ) : 전체 텍스트를 한꺼번에 읽어옵니다."
      ]
    },
    {
      "cell_type": "code",
      "execution_count": 18,
      "metadata": {},
      "outputs": [
        {
          "name": "stdout",
          "output_type": "stream",
          "text": [
            "hello\n",
            "\n",
            "world\n"
          ]
        }
      ],
      "source": [
        "f = open('python.txt', 'r')\n",
        "lines = f.readlines()\n",
        "for line in lines:\n",
        "    print(line)\n",
        "f.close()"
      ]
    },
    {
      "attachments": {},
      "cell_type": "markdown",
      "metadata": {},
      "source": [
        "* read( ) : 파일 전체 내용을 읽어옵니다."
      ]
    },
    {
      "cell_type": "code",
      "execution_count": 19,
      "metadata": {},
      "outputs": [
        {
          "name": "stdout",
          "output_type": "stream",
          "text": [
            "hello\n",
            "world\n"
          ]
        }
      ],
      "source": [
        "f = open('python.txt', 'r')\n",
        "data = f.read()\n",
        "print(data)\n",
        "f.close()"
      ]
    },
    {
      "cell_type": "code",
      "execution_count": null,
      "metadata": {},
      "outputs": [],
      "source": [
        "# 개행이 2번 되었던 이유는 print 함수가 이미 개행을 가지고 있기때문입니다.\n",
        "f = open('python.txt', 'r')\n",
        "lines = f.readlines()\n",
        "for line in lines:\n",
        "    print(line, end='')\n",
        "f.close()"
      ]
    },
    {
      "attachments": {},
      "cell_type": "markdown",
      "metadata": {},
      "source": [
        "## 파일 내용 추가"
      ]
    },
    {
      "cell_type": "code",
      "execution_count": null,
      "metadata": {},
      "outputs": [],
      "source": [
        "f = open('python.txt', 'w')\n",
        "s = ''\n",
        "for i in range(5):\n",
        "    s += f'{i}명 참여 중입니다. \\n'\n",
        "f.write(s)\n",
        "f.close()"
      ]
    },
    {
      "cell_type": "code",
      "execution_count": null,
      "metadata": {},
      "outputs": [],
      "source": [
        "f = open('python.txt', 'a') # 다시 write 모드로 하면 처음부터 덮어 씁니다.\n",
        "s = ''\n",
        "for i in range(5, 11):\n",
        "    s += f'{i}명 참여 중입니다. \\n'\n",
        "f.write(s)\n",
        "f.close()"
      ]
    },
    {
      "attachments": {},
      "cell_type": "markdown",
      "metadata": {},
      "source": [
        "* 파일이 계속 열려있는 상태가 유지\n",
        "* 메모리 효율"
      ]
    },
    {
      "attachments": {},
      "cell_type": "markdown",
      "metadata": {},
      "source": [
        "## 파일 열기와 닫기를 동시에"
      ]
    },
    {
      "cell_type": "code",
      "execution_count": null,
      "metadata": {},
      "outputs": [],
      "source": [
        "with open('test.txt', 'w') as f:\n",
        "    f.write('Life is too short, you need python')"
      ]
    },
    {
      "attachments": {},
      "cell_type": "markdown",
      "metadata": {},
      "source": [
        "## 파일 입출력 심화 과정"
      ]
    },
    {
      "attachments": {},
      "cell_type": "markdown",
      "metadata": {},
      "source": [
        "* github(https://github.com/paullabkorea/xlsxwriter) 에서 모든 소스코드를 다운로드 받으실 수 있습니다.\n",
        "* 무료책인 인공지능을 활용한 업무자동화 책(2021 Version Notion)을 활용하면 좀 더 활용성이 극대화된 코딩이 가능합니다.(크롤링, 워드파일 크롤링, PDF크롤링, 문자 보내기 등)\n",
        "* 업무자동화 Notion 링크 : https://paullabworkspace.notion.site/2021-6192ed4219fc4e7a96e10b22cfa27c80"
      ]
    },
    {
      "cell_type": "code",
      "execution_count": null,
      "metadata": {},
      "outputs": [],
      "source": [
        "# openpyxl , xlrd , xlwt\n",
        "# 다른 사용자가 만든 모듈"
      ]
    },
    {
      "cell_type": "code",
      "execution_count": 21,
      "metadata": {},
      "outputs": [],
      "source": [
        "import xlsxwriter"
      ]
    },
    {
      "cell_type": "code",
      "execution_count": 24,
      "metadata": {},
      "outputs": [],
      "source": [
        "# 엑셀 파일 생성하기\n",
        "workbook = xlsxwriter.Workbook('test.xlsx')\n",
        "\n",
        "# 파일 안에 워크시트 생성하기\n",
        "worksheet = workbook.add_worksheet('test')\n",
        "\n",
        "data = ['AA','BB','CC','DD']\n",
        "\n",
        "worksheet.write('A1',data[0])\n",
        "worksheet.write('B1',data[1])\n",
        "worksheet.write('C1',data[2])\n",
        "worksheet.write('D1',data[3])\n",
        "\n",
        "worksheet.write('A2',1)\n",
        "worksheet.write('B2',2)\n",
        "worksheet.write('C2',3)\n",
        "worksheet.write('D2',4)\n",
        "                # 행 , 열 , 데이터\n",
        "worksheet.write(2,0,10)\n",
        "worksheet.write(2,1,20)\n",
        "worksheet.write(2,2,30)\n",
        "worksheet.write(2,3,40)\n",
        "\n",
        "\n",
        "workbook.close()"
      ]
    },
    {
      "cell_type": "code",
      "execution_count": 33,
      "metadata": {},
      "outputs": [],
      "source": [
        "# 엑셀 파일 생성하기\n",
        "workbook = xlsxwriter.Workbook('test.xlsx')\n",
        "\n",
        "# 파일 안에 워크시트 생성하기\n",
        "worksheet = workbook.add_worksheet('test')\n",
        "\n",
        "홍길동 = [33,88,24]\n",
        "강현우 = [34,66,77]\n",
        "위니브 = [78,82,36]\n",
        "\n",
        "worksheet.write_row(0,0,['이름','국어','수학','영어','평균'])\n",
        "worksheet.write_row(1,0,['홍길동',홍길동[0],홍길동[1],홍길동[2],sum(홍길동)//len(홍길동)])\n",
        "worksheet.write_row(2,0,['강현우',강현우[0],강현우[1],강현우[2],sum(강현우)//len(강현우)])\n",
        "worksheet.write_row(3,0,['위니브',위니브[0],위니브[1],위니브[2],sum(위니브)//len(위니브)])\n",
        "\n",
        "workbook.close()\n"
      ]
    },
    {
      "attachments": {},
      "cell_type": "markdown",
      "metadata": {},
      "source": [
        "## OS 모듈"
      ]
    },
    {
      "cell_type": "code",
      "execution_count": 34,
      "metadata": {},
      "outputs": [
        {
          "data": {
            "text/plain": [
              "'c:\\\\Users\\\\Hyunwoo\\\\Desktop\\\\ORMI\\\\BackendOrmi\\\\PYTHON'"
            ]
          },
          "execution_count": 34,
          "metadata": {},
          "output_type": "execute_result"
        }
      ],
      "source": [
        "import os\n",
        "\n",
        "os.getcwd() # os.getcwd() 함수는 현재 작업 디렉토리를 출력"
      ]
    },
    {
      "cell_type": "code",
      "execution_count": 35,
      "metadata": {},
      "outputs": [
        {
          "data": {
            "text/plain": [
              "['20230501',\n",
              " '20230502',\n",
              " '20230503',\n",
              " '20230504',\n",
              " '20230508',\n",
              " '20230509',\n",
              " '20230510',\n",
              " '20230511',\n",
              " 'data.js',\n",
              " 'data.json',\n",
              " 'deep_dive_python.ipynb',\n",
              " 'one',\n",
              " 'python.txt',\n",
              " 'test.xlsx',\n",
              " 'test1.py',\n",
              " 'test2.py',\n",
              " '__pycache__']"
            ]
          },
          "execution_count": 35,
          "metadata": {},
          "output_type": "execute_result"
        }
      ],
      "source": [
        "os.listdir() # 경로에 존재하는 파일과 디렉토리를 리스트로 반활할 때 사용"
      ]
    },
    {
      "cell_type": "code",
      "execution_count": 36,
      "metadata": {},
      "outputs": [
        {
          "name": "stdout",
          "output_type": "stream",
          "text": [
            "python.txt\n",
            "test1.py\n",
            "test2.py\n"
          ]
        }
      ],
      "source": [
        "for i in os.listdir():\n",
        "    if len(i.split('.')) >= 2:\n",
        "        if i.split('.')[1] == 'py' or i.split('.')[1] == 'txt':\n",
        "            print(i)"
      ]
    },
    {
      "cell_type": "code",
      "execution_count": null,
      "metadata": {},
      "outputs": [],
      "source": [
        "os.mkdir('hello') # 폴더를 생성할 일이 없습니다. # Log 누적할 떄 사용"
      ]
    },
    {
      "cell_type": "code",
      "execution_count": 37,
      "metadata": {},
      "outputs": [
        {
          "data": {
            "text/plain": [
              "['test1.py', 'test2.py']"
            ]
          },
          "execution_count": 37,
          "metadata": {},
          "output_type": "execute_result"
        }
      ],
      "source": [
        "import glob\n",
        "\n",
        "glob.glob('*.py')"
      ]
    },
    {
      "attachments": {},
      "cell_type": "markdown",
      "metadata": {},
      "source": [
        "## advanced 문제"
      ]
    },
    {
      "cell_type": "code",
      "execution_count": null,
      "metadata": {},
      "outputs": [],
      "source": [
        "def writeFile(func):\n",
        "    def wrap():\n",
        "        func()\n",
        "        return\n",
        "     \n",
        "@writeFile\n",
        "def add(a,b):\n",
        "    return a + b\n",
        "\n",
        "# writefile의 데코레이터의 기능은\n",
        "# 아래와 같은 형식으로 result.txt에 항상 저장되게 하는 것입니다.\n",
        "{\n",
        "    \"a\":10,\n",
        "    \"b\":20,\n",
        "    \"a+b\":30,\n",
        "}\n",
        "\n"
      ]
    },
    {
      "cell_type": "code",
      "execution_count": 1,
      "metadata": {},
      "outputs": [
        {
          "name": "stdout",
          "output_type": "stream",
          "text": [
            "34\n"
          ]
        }
      ],
      "source": [
        "import json\n",
        "\n",
        "def writeFile(func):\n",
        "    def wrap_func(a,b):\n",
        "        if type(a) == int and type(b) == int:\n",
        "            key_data = ['a', 'b', 'a+b']\n",
        "            value_data = [a, b, func(a,b)]\n",
        "            data = dict(zip(key_data,value_data)) \n",
        "            f = open('result.txt', 'w')\n",
        "            s = json.dumps(data, indent=4)\n",
        "            f.write(s)\n",
        "            f.close()\n",
        "            return print('성공')\n",
        "        else:\n",
        "            return print('실패')\n",
        "    return wrap_func\n",
        "\n",
        "@writeFile\n",
        "def add(a,b):\n",
        "    return a + b\n",
        "\n",
        "add(11,12)\n",
        "\n",
        "# writefile의 데코레이터의 기능은\n",
        "# 아래와 같은 형식으로 result.txt에 항상 저장되게 하는 것입니다.\n",
        "# {\n",
        "#     \"a\":10,\n",
        "#     \"b\":20,\n",
        "#     \"a+b\":30,\n",
        "# }"
      ]
    },
    {
      "cell_type": "code",
      "execution_count": 19,
      "metadata": {},
      "outputs": [
        {
          "name": "stdout",
          "output_type": "stream",
          "text": [
            "성공\n"
          ]
        }
      ],
      "source": [
        "## 클래스로 데코레이터 만들어보기\n",
        "\n",
        "import json\n",
        "\n",
        "class writeFile:\n",
        "    def __init__(self,func):\n",
        "        self.func = func\n",
        "        \n",
        "    def __call__(self,a,b):\n",
        "        if type(a) == int and type(b) == int:\n",
        "            data = {\n",
        "                'a': a,\n",
        "                'b': b,\n",
        "                'a+b': self.func(a,b)\n",
        "            }\n",
        "            f = open('result.txt', 'w')\n",
        "            s = json.dumps(data, indent=4)\n",
        "            f.write(s)\n",
        "            f.close()\n",
        "            return print('성공')\n",
        "        else:\n",
        "            return print('실패')\n",
        "\n",
        "@writeFile\n",
        "def add(a,b):\n",
        "    return a + b\n",
        "\n",
        "add(100,101)"
      ]
    },
    {
      "cell_type": "code",
      "execution_count": 6,
      "metadata": {},
      "outputs": [
        {
          "name": "stdout",
          "output_type": "stream",
          "text": [
            "숫자가 아닙니다.\n"
          ]
        }
      ],
      "source": [
        "## 클래스로 데코레이터 만들어보기\n",
        "## 숫자만 입력받는 함수를 만들어서 , 그때만 실행하기\n",
        "\n",
        "import json\n",
        "\n",
        "class writeFile:\n",
        "    def __init__(self,func):\n",
        "        self.func = func\n",
        "        \n",
        "    def __call__(self,a,b):\n",
        "        data = {\n",
        "            'a': a,\n",
        "            'b': b,\n",
        "            'a+b': self.func(a,b)\n",
        "        }\n",
        "        f = open('result.txt', 'w')\n",
        "        s = json.dumps(data, indent=4)\n",
        "        f.write(s)\n",
        "        f.close()\n",
        "        return print('저장되었습니다.')\n",
        "\n",
        "@writeFile\n",
        "def add(a,b):\n",
        "    return a + b\n",
        "\n",
        "def integer_input(a,b):\n",
        "    n , m = input(a) , input(b)\n",
        "    if n.isdigit() and m.isdigit():\n",
        "        return add(int(n),int(m))\n",
        "    else:\n",
        "        return print(\"숫자가 아닙니다.\")\n",
        "\n",
        "integer_input('a : ','b : ')"
      ]
    },
    {
      "cell_type": "code",
      "execution_count": null,
      "metadata": {},
      "outputs": [],
      "source": [
        "# 강사님 코드\n",
        "\n",
        "# 동건님 코드 : 문제는 없으나 add를 실행시키긴 해야합니다!\n",
        "# 데코레이터 => 아래 코드는 데코할 대상이 없는거에요.\n",
        "\n",
        "'''\n",
        "추가로 부연 설명을 합니다. :)\n",
        "스토리로 굳이 표현하자면 아래와 같습니다.\n",
        "\n",
        "1. add라는 함수를 내가 1년 전에 만들었다. 문제 없이 잘 작동하는 함수이다.\n",
        "2. 이 add를 데코레이터를 써서 파일 입출력이 되게 하고 싶다.\n",
        "3. 데코레이터를 만든다.\n",
        "4. 기존의 코드도 정상적으로 작동이 되어야 한다.\n",
        "'''\n",
        "\n",
        "import json\n",
        "\n",
        "def writerfile(func):\n",
        "    def wrapper(a, b):\n",
        "        data1 = ['a', 'b', 'a+b']\n",
        "        data2 = [a, b, a+b]\n",
        "        f = open('writerfile.json', 'w')\n",
        "        json.dump(dict(zip(data1,data2)), f, indent = 4)\n",
        "        f.close()\n",
        "    return wrapper\n",
        "\n",
        "@writerfile\n",
        "def add(a,b):\n",
        "    return a + b\n",
        "\n",
        "add(10, 20)"
      ]
    },
    {
      "cell_type": "code",
      "execution_count": null,
      "metadata": {},
      "outputs": [],
      "source": [
        "# 기존 코드\n",
        "def add(a,b):\n",
        "    return a + b\n",
        "\n",
        "result = add(10, 20) + add(10, 20)\n",
        "print(result)"
      ]
    },
    {
      "cell_type": "code",
      "execution_count": null,
      "metadata": {},
      "outputs": [],
      "source": [
        "import json\n",
        "\n",
        "def writerfile(func):\n",
        "    def wrapper(a, b):\n",
        "        data1 = ['a', 'b', 'a+b']\n",
        "        data2 = [a, b, a+b]\n",
        "        f = open('writerfile.json', 'w')\n",
        "        json.dump(dict(zip(data1,data2)), f, indent = 4)\n",
        "        f.close()\n",
        "        return func(a, b)\n",
        "    return wrapper\n",
        "\n",
        "@writerfile\n",
        "def add(a,b):\n",
        "    return a + b\n",
        "\n",
        "result = add(10, 20) + add(10, 20)\n",
        "print(result)"
      ]
    },
    {
      "attachments": {},
      "cell_type": "markdown",
      "metadata": {},
      "source": [
        "## Python Error"
      ]
    },
    {
      "attachments": {},
      "cell_type": "markdown",
      "metadata": {},
      "source": [
        "* Python에서는 에러를 만나면 코드가(서비스가) 멈춥니다.\n",
        "* 여러분들이 짠 코드가 서비스에 바로 영향이 끼쳐지지 않도록 시니어 분들이 견고한 코드를 작성해놨을 겁니다.\n",
        "* TDD, 테스트 주도 개발 등 Test를 할 수 있는 환경 등이 갖춰져 있습니다.\n",
        "* 작성한 코드는 실 서비스로 바로 배포되지 않습니다. 작성한 코드는 테스트 서버로 일단 배포되서 잘 작동하는지 테스트 해봅니다."
      ]
    },
    {
      "cell_type": "code",
      "execution_count": 2,
      "metadata": {},
      "outputs": [
        {
          "ename": "SyntaxError",
          "evalue": "expected ':' (2243061991.py, line 2)",
          "output_type": "error",
          "traceback": [
            "\u001b[1;36m  Cell \u001b[1;32mIn[2], line 2\u001b[1;36m\u001b[0m\n\u001b[1;33m    for i in range(10)\u001b[0m\n\u001b[1;37m                      ^\u001b[0m\n\u001b[1;31mSyntaxError\u001b[0m\u001b[1;31m:\u001b[0m expected ':'\n"
          ]
        }
      ],
      "source": [
        "# Syntax Error\n",
        "for i in range(10)\n",
        "    print(i)"
      ]
    },
    {
      "cell_type": "code",
      "execution_count": 3,
      "metadata": {},
      "outputs": [
        {
          "ename": "NameError",
          "evalue": "name 'x' is not defined",
          "output_type": "error",
          "traceback": [
            "\u001b[1;31m---------------------------------------------------------------------------\u001b[0m",
            "\u001b[1;31mNameError\u001b[0m                                 Traceback (most recent call last)",
            "Cell \u001b[1;32mIn[3], line 2\u001b[0m\n\u001b[0;32m      1\u001b[0m \u001b[39m# Name Error\u001b[39;00m\n\u001b[1;32m----> 2\u001b[0m \u001b[39mprint\u001b[39m(x)\n",
            "\u001b[1;31mNameError\u001b[0m: name 'x' is not defined"
          ]
        }
      ],
      "source": [
        "# Name Error\n",
        "print(x)"
      ]
    },
    {
      "cell_type": "code",
      "execution_count": 4,
      "metadata": {},
      "outputs": [
        {
          "ename": "TypeError",
          "evalue": "unsupported operand type(s) for +: 'int' and 'str'",
          "output_type": "error",
          "traceback": [
            "\u001b[1;31m---------------------------------------------------------------------------\u001b[0m",
            "\u001b[1;31mTypeError\u001b[0m                                 Traceback (most recent call last)",
            "Cell \u001b[1;32mIn[4], line 4\u001b[0m\n\u001b[0;32m      2\u001b[0m x \u001b[39m=\u001b[39m \u001b[39m10\u001b[39m\n\u001b[0;32m      3\u001b[0m y \u001b[39m=\u001b[39m \u001b[39m'\u001b[39m\u001b[39m20\u001b[39m\u001b[39m'\u001b[39m\n\u001b[1;32m----> 4\u001b[0m \u001b[39mprint\u001b[39m(x \u001b[39m+\u001b[39;49m y)\n",
            "\u001b[1;31mTypeError\u001b[0m: unsupported operand type(s) for +: 'int' and 'str'"
          ]
        }
      ],
      "source": [
        "# Type Error\n",
        "x = 10\n",
        "y = '20'\n",
        "print(x + y)"
      ]
    },
    {
      "cell_type": "code",
      "execution_count": 5,
      "metadata": {},
      "outputs": [
        {
          "ename": "IndexError",
          "evalue": "list index out of range",
          "output_type": "error",
          "traceback": [
            "\u001b[1;31m---------------------------------------------------------------------------\u001b[0m",
            "\u001b[1;31mIndexError\u001b[0m                                Traceback (most recent call last)",
            "Cell \u001b[1;32mIn[5], line 3\u001b[0m\n\u001b[0;32m      1\u001b[0m \u001b[39m# Index Error\u001b[39;00m\n\u001b[0;32m      2\u001b[0m my_list \u001b[39m=\u001b[39m [\u001b[39m1\u001b[39m, \u001b[39m2\u001b[39m, \u001b[39m3\u001b[39m]\n\u001b[1;32m----> 3\u001b[0m \u001b[39mprint\u001b[39m(my_list[\u001b[39m3\u001b[39;49m])\n",
            "\u001b[1;31mIndexError\u001b[0m: list index out of range"
          ]
        }
      ],
      "source": [
        "# Index Error\n",
        "my_list = [1, 2, 3]\n",
        "print(my_list[3])"
      ]
    },
    {
      "cell_type": "code",
      "execution_count": 6,
      "metadata": {},
      "outputs": [
        {
          "ename": "KeyError",
          "evalue": "'c'",
          "output_type": "error",
          "traceback": [
            "\u001b[1;31m---------------------------------------------------------------------------\u001b[0m",
            "\u001b[1;31mKeyError\u001b[0m                                  Traceback (most recent call last)",
            "Cell \u001b[1;32mIn[6], line 3\u001b[0m\n\u001b[0;32m      1\u001b[0m \u001b[39m# Key Error\u001b[39;00m\n\u001b[0;32m      2\u001b[0m my_dict \u001b[39m=\u001b[39m {\u001b[39m'\u001b[39m\u001b[39ma\u001b[39m\u001b[39m'\u001b[39m: \u001b[39m1\u001b[39m, \u001b[39m'\u001b[39m\u001b[39mb\u001b[39m\u001b[39m'\u001b[39m: \u001b[39m2\u001b[39m}\n\u001b[1;32m----> 3\u001b[0m \u001b[39mprint\u001b[39m(my_dict[\u001b[39m'\u001b[39;49m\u001b[39mc\u001b[39;49m\u001b[39m'\u001b[39;49m])\n",
            "\u001b[1;31mKeyError\u001b[0m: 'c'"
          ]
        }
      ],
      "source": [
        "# Key Error\n",
        "my_dict = {'a': 1, 'b': 2}\n",
        "print(my_dict['c'])"
      ]
    },
    {
      "cell_type": "code",
      "execution_count": 8,
      "metadata": {},
      "outputs": [
        {
          "ename": "ValueError",
          "evalue": "invalid literal for int() with base 10: 'a'",
          "output_type": "error",
          "traceback": [
            "\u001b[1;31m---------------------------------------------------------------------------\u001b[0m",
            "\u001b[1;31mValueError\u001b[0m                                Traceback (most recent call last)",
            "Cell \u001b[1;32mIn[8], line 2\u001b[0m\n\u001b[0;32m      1\u001b[0m \u001b[39m# Value Error\u001b[39;00m\n\u001b[1;32m----> 2\u001b[0m \u001b[39mint\u001b[39;49m(\u001b[39m'\u001b[39;49m\u001b[39ma\u001b[39;49m\u001b[39m'\u001b[39;49m)\n",
            "\u001b[1;31mValueError\u001b[0m: invalid literal for int() with base 10: 'a'"
          ]
        }
      ],
      "source": [
        "# Value Error\n",
        "int('a')"
      ]
    },
    {
      "cell_type": "code",
      "execution_count": 10,
      "metadata": {},
      "outputs": [
        {
          "ename": "AttributeError",
          "evalue": "'list' object has no attribute 'appeend'",
          "output_type": "error",
          "traceback": [
            "\u001b[1;31m---------------------------------------------------------------------------\u001b[0m",
            "\u001b[1;31mAttributeError\u001b[0m                            Traceback (most recent call last)",
            "Cell \u001b[1;32mIn[10], line 3\u001b[0m\n\u001b[0;32m      1\u001b[0m \u001b[39m# Attribute Error\u001b[39;00m\n\u001b[0;32m      2\u001b[0m my_list \u001b[39m=\u001b[39m [\u001b[39m1\u001b[39m, \u001b[39m2\u001b[39m, \u001b[39m3\u001b[39m]\n\u001b[1;32m----> 3\u001b[0m \u001b[39mprint\u001b[39m(my_list\u001b[39m.\u001b[39;49mappeend(\u001b[39m4\u001b[39m))\n",
            "\u001b[1;31mAttributeError\u001b[0m: 'list' object has no attribute 'appeend'"
          ]
        }
      ],
      "source": [
        "# Attribute Error\n",
        "my_list = [1, 2, 3]\n",
        "print(my_list.appeend(4))"
      ]
    },
    {
      "cell_type": "code",
      "execution_count": 11,
      "metadata": {},
      "outputs": [
        {
          "ename": "TypeError",
          "evalue": "add() takes 2 positional arguments but 3 were given",
          "output_type": "error",
          "traceback": [
            "\u001b[1;31m---------------------------------------------------------------------------\u001b[0m",
            "\u001b[1;31mTypeError\u001b[0m                                 Traceback (most recent call last)",
            "Cell \u001b[1;32mIn[11], line 5\u001b[0m\n\u001b[0;32m      2\u001b[0m \u001b[39mdef\u001b[39;00m \u001b[39madd\u001b[39m(x, y):\n\u001b[0;32m      3\u001b[0m     \u001b[39mreturn\u001b[39;00m x \u001b[39m+\u001b[39m y\n\u001b[1;32m----> 5\u001b[0m add(\u001b[39m1\u001b[39;49m, \u001b[39m2\u001b[39;49m, \u001b[39m3\u001b[39;49m)\n",
            "\u001b[1;31mTypeError\u001b[0m: add() takes 2 positional arguments but 3 were given"
          ]
        }
      ],
      "source": [
        "# Type Error\n",
        "def add(x, y):\n",
        "    return x + y\n",
        "\n",
        "add(1, 2, 3)"
      ]
    },
    {
      "attachments": {},
      "cell_type": "markdown",
      "metadata": {},
      "source": [
        "## 예외 처리"
      ]
    },
    {
      "cell_type": "code",
      "execution_count": null,
      "metadata": {},
      "outputs": [],
      "source": [
        "try:\n",
        "    # 예외가 발생할 가능성이 있는 코드\n",
        "except:\n",
        "    # 예외 처리 코드"
      ]
    },
    {
      "cell_type": "code",
      "execution_count": 12,
      "metadata": {},
      "outputs": [
        {
          "name": "stdout",
          "output_type": "stream",
          "text": [
            "예외 발생\n"
          ]
        }
      ],
      "source": [
        "def div(a,b):\n",
        "    return a / b\n",
        "\n",
        "try:\n",
        "    div(1,0)\n",
        "except:\n",
        "    print('예외 발생')"
      ]
    },
    {
      "cell_type": "code",
      "execution_count": null,
      "metadata": {},
      "outputs": [],
      "source": [
        "div(1,0)"
      ]
    },
    {
      "cell_type": "code",
      "execution_count": 13,
      "metadata": {},
      "outputs": [
        {
          "name": "stdout",
          "output_type": "stream",
          "text": [
            "예외 발생\n",
            "예외 발생\n"
          ]
        },
        {
          "ename": "TypeError",
          "evalue": "unsupported operand type(s) for +: 'NoneType' and 'NoneType'",
          "output_type": "error",
          "traceback": [
            "\u001b[1;31m---------------------------------------------------------------------------\u001b[0m",
            "\u001b[1;31mTypeError\u001b[0m                                 Traceback (most recent call last)",
            "Cell \u001b[1;32mIn[13], line 10\u001b[0m\n\u001b[0;32m      7\u001b[0m     \u001b[39mexcept\u001b[39;00m:\n\u001b[0;32m      8\u001b[0m         \u001b[39mprint\u001b[39m(\u001b[39m'\u001b[39m\u001b[39m예외 발생\u001b[39m\u001b[39m'\u001b[39m)\n\u001b[1;32m---> 10\u001b[0m result \u001b[39m=\u001b[39m f() \u001b[39m+\u001b[39;49m f() \u001b[39m#result에는 float이 오길 기대하죠\u001b[39;00m\n\u001b[0;32m     11\u001b[0m \u001b[39mprint\u001b[39m(result)\n",
            "\u001b[1;31mTypeError\u001b[0m: unsupported operand type(s) for +: 'NoneType' and 'NoneType'"
          ]
        }
      ],
      "source": [
        "def div(a,b):\n",
        "    return a / b\n",
        "\n",
        "def f():\n",
        "    try:\n",
        "        return div(1,0)\n",
        "    except:\n",
        "        print('예외 발생')\n",
        "\n",
        "result = f() + f() #result에는 float이 오길 기대하죠\n",
        "print(result)"
      ]
    },
    {
      "cell_type": "code",
      "execution_count": 15,
      "metadata": {},
      "outputs": [
        {
          "name": "stdout",
          "output_type": "stream",
          "text": [
            "inf\n"
          ]
        }
      ],
      "source": [
        "def div(a,b):\n",
        "    return a / b\n",
        "\n",
        "def f():\n",
        "    try:\n",
        "        return div(1,0)\n",
        "    except:\n",
        "        return float('inf')\n",
        "\n",
        "result = f() + f() #result에는 float이 오길 기대하죠\n",
        "print(result)"
      ]
    },
    {
      "cell_type": "code",
      "execution_count": null,
      "metadata": {},
      "outputs": [],
      "source": [
        "def div(a,b):\n",
        "    return a / b\n",
        "\n",
        "def f():\n",
        "    try:\n",
        "        return div(1,0)\n",
        "    except:\n",
        "        return 0\n",
        "\n",
        "result = f() + f() #result에는 float이 오길 기대하죠\n",
        "print(result)"
      ]
    },
    {
      "cell_type": "code",
      "execution_count": null,
      "metadata": {},
      "outputs": [],
      "source": [
        "try:\n",
        "    # 예외가 발생할 가능성이 있는 코드\n",
        "except:\n",
        "    # 예외 처리 코드\n",
        "else:\n",
        "    # 예외가 발생하지 않을 때 실행되는 코드"
      ]
    },
    {
      "cell_type": "code",
      "execution_count": 20,
      "metadata": {},
      "outputs": [
        {
          "name": "stdout",
          "output_type": "stream",
          "text": [
            "예외 발생\n"
          ]
        }
      ],
      "source": [
        "try:\n",
        "    1/0\n",
        "except:\n",
        "    print('예외 발생')\n",
        "else:\n",
        "    print('정상 종료!')"
      ]
    },
    {
      "cell_type": "code",
      "execution_count": 18,
      "metadata": {},
      "outputs": [
        {
          "name": "stdout",
          "output_type": "stream",
          "text": [
            "예외 발생 division by zero\n"
          ]
        }
      ],
      "source": [
        "try:\n",
        "    1/0\n",
        "except Exception as e:\n",
        "    print('예외 발생' , e)\n",
        "else:\n",
        "    print('정상 종료!')"
      ]
    },
    {
      "cell_type": "code",
      "execution_count": null,
      "metadata": {},
      "outputs": [],
      "source": [
        "# while, for, try-except 구문에서 else는 언제 실행?\n",
        "# 정상 종료 되었을 때"
      ]
    },
    {
      "cell_type": "code",
      "execution_count": 21,
      "metadata": {},
      "outputs": [
        {
          "name": "stdout",
          "output_type": "stream",
          "text": [
            "정상 종료!\n"
          ]
        }
      ],
      "source": [
        "try:\n",
        "    10/2\n",
        "except :\n",
        "    print('예외 발생')\n",
        "else:\n",
        "    print('정상 종료!')"
      ]
    },
    {
      "cell_type": "code",
      "execution_count": null,
      "metadata": {},
      "outputs": [],
      "source": [
        "# 에러가 나면 코드가 멈추기 때문에 보통 except와 함께 사용합니다.\n",
        "try:\n",
        "    # 예외가 발생할 가능성이 있는 코드\n",
        "finally:\n",
        "    # 예외 발생 여부와 상관없이 항상 실행되는 코드"
      ]
    },
    {
      "cell_type": "code",
      "execution_count": 22,
      "metadata": {},
      "outputs": [
        {
          "name": "stdout",
          "output_type": "stream",
          "text": [
            "finally\n"
          ]
        },
        {
          "ename": "ZeroDivisionError",
          "evalue": "division by zero",
          "output_type": "error",
          "traceback": [
            "\u001b[1;31m---------------------------------------------------------------------------\u001b[0m",
            "\u001b[1;31mZeroDivisionError\u001b[0m                         Traceback (most recent call last)",
            "Cell \u001b[1;32mIn[22], line 2\u001b[0m\n\u001b[0;32m      1\u001b[0m \u001b[39mtry\u001b[39;00m:\n\u001b[1;32m----> 2\u001b[0m     \u001b[39m1\u001b[39;49m\u001b[39m/\u001b[39;49m\u001b[39m0\u001b[39;49m\n\u001b[0;32m      3\u001b[0m \u001b[39mfinally\u001b[39;00m:\n\u001b[0;32m      4\u001b[0m     \u001b[39mprint\u001b[39m(\u001b[39m'\u001b[39m\u001b[39mfinally\u001b[39m\u001b[39m'\u001b[39m)\n",
            "\u001b[1;31mZeroDivisionError\u001b[0m: division by zero"
          ]
        }
      ],
      "source": [
        "try:\n",
        "    1/0\n",
        "finally:\n",
        "    print('finally')\n",
        "    \n",
        "\n",
        "print('hello world')"
      ]
    },
    {
      "cell_type": "code",
      "execution_count": null,
      "metadata": {},
      "outputs": [],
      "source": [
        "try:\n",
        "    1/0\n",
        "except:\n",
        "    print('hello')\n",
        "finally:\n",
        "    print('world')"
      ]
    },
    {
      "cell_type": "code",
      "execution_count": null,
      "metadata": {},
      "outputs": [],
      "source": [
        "try:\n",
        "    # 예외가 발생할 가능성이 있는 코드\n",
        "except:\n",
        "    # 예외 처리 코드\n",
        "else:\n",
        "    # 예외가 발생하지 않을 때 실행되는 코드\n",
        "finally:\n",
        "    # 예외 발생 여부와 상관없이 항상 실행되는 코드"
      ]
    },
    {
      "cell_type": "code",
      "execution_count": 24,
      "metadata": {},
      "outputs": [
        {
          "name": "stdout",
          "output_type": "stream",
          "text": [
            "except\n",
            "finally\n"
          ]
        }
      ],
      "source": [
        "try:\n",
        "    1/0\n",
        "except:\n",
        "    print('except')\n",
        "else:\n",
        "    print('else')\n",
        "finally:\n",
        "    print('finally')"
      ]
    },
    {
      "cell_type": "code",
      "execution_count": 23,
      "metadata": {},
      "outputs": [
        {
          "name": "stdout",
          "output_type": "stream",
          "text": [
            "else\n",
            "finally\n"
          ]
        }
      ],
      "source": [
        "try:\n",
        "    10/2\n",
        "except:\n",
        "    print('except')\n",
        "else:\n",
        "    print('else')\n",
        "finally:\n",
        "    print('finally')"
      ]
    },
    {
      "cell_type": "code",
      "execution_count": 25,
      "metadata": {},
      "outputs": [
        {
          "ename": "RuntimeError",
          "evalue": "No active exception to reraise",
          "output_type": "error",
          "traceback": [
            "\u001b[1;31m---------------------------------------------------------------------------\u001b[0m",
            "\u001b[1;31mRuntimeError\u001b[0m                              Traceback (most recent call last)",
            "Cell \u001b[1;32mIn[25], line 1\u001b[0m\n\u001b[1;32m----> 1\u001b[0m \u001b[39mraise\u001b[39;00m\n",
            "\u001b[1;31mRuntimeError\u001b[0m: No active exception to reraise"
          ]
        }
      ],
      "source": [
        "raise"
      ]
    },
    {
      "cell_type": "code",
      "execution_count": 26,
      "metadata": {},
      "outputs": [
        {
          "ename": "ValueError",
          "evalue": "",
          "output_type": "error",
          "traceback": [
            "\u001b[1;31m---------------------------------------------------------------------------\u001b[0m",
            "\u001b[1;31mValueError\u001b[0m                                Traceback (most recent call last)",
            "Cell \u001b[1;32mIn[26], line 3\u001b[0m\n\u001b[0;32m      1\u001b[0m \u001b[39m# raise 에러이름\u001b[39;00m\n\u001b[1;32m----> 3\u001b[0m \u001b[39mraise\u001b[39;00m \u001b[39mValueError\u001b[39;00m\n",
            "\u001b[1;31mValueError\u001b[0m: "
          ]
        }
      ],
      "source": [
        "# raise 에러이름\n",
        "\n",
        "raise ValueError"
      ]
    },
    {
      "cell_type": "code",
      "execution_count": 27,
      "metadata": {},
      "outputs": [
        {
          "ename": "NameError",
          "evalue": "name 'kanghyunwoo' is not defined",
          "output_type": "error",
          "traceback": [
            "\u001b[1;31m---------------------------------------------------------------------------\u001b[0m",
            "\u001b[1;31mNameError\u001b[0m                                 Traceback (most recent call last)",
            "Cell \u001b[1;32mIn[27], line 1\u001b[0m\n\u001b[1;32m----> 1\u001b[0m \u001b[39mraise\u001b[39;00m kanghyunwoo\n",
            "\u001b[1;31mNameError\u001b[0m: name 'kanghyunwoo' is not defined"
          ]
        }
      ],
      "source": [
        "raise kanghyunwoo"
      ]
    },
    {
      "cell_type": "code",
      "execution_count": 28,
      "metadata": {},
      "outputs": [
        {
          "ename": "ValueError",
          "evalue": "코드를 잘~~ 만들어주세요.",
          "output_type": "error",
          "traceback": [
            "\u001b[1;31m---------------------------------------------------------------------------\u001b[0m",
            "\u001b[1;31mValueError\u001b[0m                                Traceback (most recent call last)",
            "Cell \u001b[1;32mIn[28], line 1\u001b[0m\n\u001b[1;32m----> 1\u001b[0m \u001b[39mraise\u001b[39;00m \u001b[39mValueError\u001b[39;00m(\u001b[39m'\u001b[39m\u001b[39m코드를 잘~~ 만들어주세요.\u001b[39m\u001b[39m'\u001b[39m)\n",
            "\u001b[1;31mValueError\u001b[0m: 코드를 잘~~ 만들어주세요."
          ]
        }
      ],
      "source": [
        "raise ValueError('코드를 잘~~ 만들어주세요.')"
      ]
    },
    {
      "cell_type": "code",
      "execution_count": 30,
      "metadata": {},
      "outputs": [
        {
          "name": "stdout",
          "output_type": "stream",
          "text": [
            "<class 'ZeroDivisionError'>\n",
            "<class 'ZeroDivisionError'>\n",
            "<class 'type'>\n",
            "['__cause__', '__class__', '__context__', '__delattr__', '__dict__', '__dir__', '__doc__', '__eq__', '__format__', '__ge__', '__getattribute__', '__gt__', '__hash__', '__init__', '__init_subclass__', '__le__', '__lt__', '__ne__', '__new__', '__reduce__', '__reduce_ex__', '__repr__', '__setattr__', '__setstate__', '__sizeof__', '__str__', '__subclasshook__', '__suppress_context__', '__traceback__', 'args', 'with_traceback']\n"
          ]
        }
      ],
      "source": [
        "try:\n",
        "    1/0\n",
        "except ValueError:\n",
        "    print(ValueError)\n",
        "except ZeroDivisionError:\n",
        "    print(ZeroDivisionError)\n",
        "    \n",
        "print(ZeroDivisionError)\n",
        "print(type(ZeroDivisionError))\n",
        "print(dir(ZeroDivisionError))"
      ]
    },
    {
      "attachments": {},
      "cell_type": "markdown",
      "metadata": {},
      "source": [
        "## 기초 역량 테스트 문제"
      ]
    },
    {
      "cell_type": "code",
      "execution_count": null,
      "metadata": {},
      "outputs": [],
      "source": [
        "# 1번\n",
        "원주율 = 3.141592\n",
        "int(원주율)\n",
        "\n",
        "# 2번 = b. 1\n",
        "\n",
        "# 3번\n",
        "my_name = '홍길동'\n",
        "print(f'안녕하세요. {my_name}입니다')\n",
        "\n",
        "# 4번 = c. reverse()\n",
        "\n",
        "# 5번\n",
        "\n",
        "num = int(input())\n",
        "\n",
        "def divisor(num):   \n",
        "    return [i for i in range(1,num+1) if num % i == 0]\n",
        "\n",
        "divisor(num)\n",
        "\n",
        "# 6번\n",
        "\n",
        "def solution(l,a):\n",
        "    return l.count(a)\n",
        "\n",
        "solution(['a', 'b', 'c', 'a', 'a'], 'a')\n",
        "\n",
        "# 7번\n",
        "\n",
        "def solution(l):\n",
        "    return sorted(l,key=lambda x:x[1],reverse=True)\n",
        "\n",
        "solution([[10, 5], [20, 3], [30, 4], [40, 1]]) \n",
        "\n",
        "# 8번\n",
        "\n",
        "def solution(l):\n",
        "    return list(map(lambda x:x[0]-x[1],l))\n",
        "\n",
        "solution([[10, 5], [20, 3], [30, 4], [40, 1]])\n",
        "\n",
        "# 9번\n",
        "def solution(s):\n",
        "    return sum([int(i) for i in s]) \n",
        "\n",
        "solution('11123')\n",
        "\n",
        "# 10번\n",
        "def solution(s):\n",
        "    return s.replace('!', '').replace(' ', '')\n",
        "\n",
        "solution('!hello!wor     ld!     ')"
      ]
    },
    {
      "cell_type": "code",
      "execution_count": null,
      "metadata": {},
      "outputs": [],
      "source": [
        "l = [i - j for i, j in [[10, 5], [20, 3], [30, 4], [40, 1]]]\n",
        "l"
      ]
    },
    {
      "attachments": {},
      "cell_type": "markdown",
      "metadata": {},
      "source": [
        "## 클로저,팩토리 함수"
      ]
    },
    {
      "cell_type": "code",
      "execution_count": 64,
      "metadata": {},
      "outputs": [],
      "source": [
        "def one():\n",
        "    def two():\n",
        "        return\n",
        "    return two\n",
        "\n",
        "hello = one() # hello == two"
      ]
    },
    {
      "cell_type": "code",
      "execution_count": 66,
      "metadata": {},
      "outputs": [
        {
          "data": {
            "text/plain": [
              "20"
            ]
          },
          "execution_count": 66,
          "metadata": {},
          "output_type": "execute_result"
        }
      ],
      "source": [
        "def one(x):\n",
        "    def two():\n",
        "        return x + x\n",
        "    return two\n",
        "\n",
        "hello = one(10) # hello == two\n",
        "hello() # hello() == two()"
      ]
    },
    {
      "cell_type": "code",
      "execution_count": 67,
      "metadata": {},
      "outputs": [
        {
          "data": {
            "text/plain": [
              "15"
            ]
          },
          "execution_count": 67,
          "metadata": {},
          "output_type": "execute_result"
        }
      ],
      "source": [
        "def one(x):\n",
        "    def two(a,b):\n",
        "        return a + b + x\n",
        "    return two\n",
        "\n",
        "hello = one(10) # hello == two\n",
        "hello(2,3) # hello() == two()"
      ]
    },
    {
      "cell_type": "code",
      "execution_count": 75,
      "metadata": {},
      "outputs": [
        {
          "data": {
            "text/plain": [
              "'킥보드를 honggildong님이 구매하셔서 계좌에 950000가 남아있습니다.'"
            ]
          },
          "execution_count": 75,
          "metadata": {},
          "output_type": "execute_result"
        }
      ],
      "source": [
        "def user(username,usermoney):\n",
        "    def userbuy(productname,productprice):\n",
        "        leftmoney = usermoney - productprice\n",
        "        return f'{productname}를 {username}님이 구매하셔서 계좌에 {leftmoney}가 남아있습니다.'\n",
        "    return userbuy\n",
        "\n",
        "강현우구매 = user('kanghyunwoo',1000000)\n",
        "강현우구매('자전거',100000) # hello() == two()\n",
        "\n",
        "홍길동구매 = user('honggildong',1000000)\n",
        "홍길동구매('킥보드',50000) # hello() == two()\n",
        "\n",
        "# 강현우구매와 홍길동구매 함수를 가지고 계좌를 조작할 수 있나요?\n",
        "# 계좌 변수에 접근할 수 있나요?"
      ]
    },
    {
      "cell_type": "code",
      "execution_count": null,
      "metadata": {},
      "outputs": [],
      "source": [
        "# S은행에 입사를 했습니다. 여러분들의 권한은 강현우구매 등에 구매함수만 조작할 수 있습니다.\n",
        "# 이렇게 되면 계좌 정보를 접근할 수가 없겠죠?\n",
        "# 접근 통제, 제한, 변수 보호 등으로 사용합니다."
      ]
    }
  ],
  "metadata": {
    "colab": {
      "provenance": []
    },
    "kernelspec": {
      "display_name": "Python 3",
      "name": "python3"
    },
    "language_info": {
      "codemirror_mode": {
        "name": "ipython",
        "version": 3
      },
      "file_extension": ".py",
      "mimetype": "text/x-python",
      "name": "python",
      "nbconvert_exporter": "python",
      "pygments_lexer": "ipython3",
      "version": "3.10.4"
    }
  },
  "nbformat": 4,
  "nbformat_minor": 0
}
