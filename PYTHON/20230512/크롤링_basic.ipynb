{
  "cells": [
    {
      "cell_type": "code",
      "execution_count": null,
      "metadata": {
        "id": "S950bmUomKOz"
      },
      "outputs": [],
      "source": [
        "# 크롤링 , 웹 스크래핑 : 웹에 있는 데이터를 가지고 온다!"
      ]
    },
    {
      "cell_type": "code",
      "execution_count": null,
      "metadata": {
        "id": "hRu7FdvHnOlv"
      },
      "outputs": [],
      "source": [
        "# 데이터를 가져오는 라이브러리 : requests\n",
        "# 가져온 데이터를 가공하는 라이브러리 : BeautifulSoup"
      ]
    },
    {
      "cell_type": "code",
      "execution_count": null,
      "metadata": {
        "id": "QVvbHNDvoAID"
      },
      "outputs": [],
      "source": [
        "# 크롤링대상 : https://paullab.co.kr/stock.html"
      ]
    },
    {
      "cell_type": "code",
      "execution_count": null,
      "metadata": {
        "id": "cPXiGNVJoHXL"
      },
      "outputs": [],
      "source": [
        "import requests\n",
        "from bs4 import BeautifulSoup\n",
        "\n",
        "response = requests.get('http://www.paullab.co.kr/stock.html')\n",
        "\n",
        "response.encoding = 'utf-8'\n",
        "html = response.text\n",
        "\n",
        "soup = BeautifulSoup(html, 'html.parser')"
      ]
    },
    {
      "cell_type": "code",
      "execution_count": null,
      "metadata": {
        "id": "prQgOHVDo5bu"
      },
      "outputs": [],
      "source": [
        "soup.title"
      ]
    },
    {
      "cell_type": "code",
      "execution_count": null,
      "metadata": {
        "colab": {
          "base_uri": "https://localhost:8080/"
        },
        "id": "JsfQQF6Op-ZS",
        "outputId": "5c909488-e652-48bc-ad3e-1a4c0a0266ec"
      },
      "outputs": [
        {
          "name": "stdout",
          "output_type": "stream",
          "text": [
            "13067306\n"
          ]
        }
      ],
      "source": [
        "import requests\n",
        "from bs4 import BeautifulSoup\n",
        "\n",
        "response = requests.get('http://www.paullab.co.kr/stock.html')\n",
        "\n",
        "response.encoding = 'utf-8'\n",
        "html = response.text\n",
        "\n",
        "soup = BeautifulSoup(html, 'html.parser')\n",
        "\n",
        "main_className = soup.select('.main')\n",
        "\n",
        "제코베연구원 = main_className[2]\n",
        "제코베연구원_종목데이터 = 제코베연구원.select('tr')\n",
        "정렬된_종목별데이터 = 제코베연구원_종목데이터[1:] # 제코베연구원_종목데이터[0]은 제목행이므로 삭제.\n",
        "\n",
        "총_거래량 = 0\n",
        "for i in 정렬된_종목별데이터:\n",
        "    종목별데이터 = i.select('td>span')\n",
        "    거래량 = 종목별데이터[len(종목별데이터)-1]\n",
        "    거래량 = 거래량.text.replace(',','')\n",
        "    총_거래량 += int(거래량)\n",
        "\n",
        "print(총_거래량)\n"
      ]
    },
    {
      "cell_type": "code",
      "execution_count": null,
      "metadata": {
        "colab": {
          "base_uri": "https://localhost:8080/"
        },
        "id": "aMbrz3O64Qu4",
        "outputId": "ae40ff84-d1c1-4ee0-eb09-b61f829800c8"
      },
      "outputs": [
        {
          "data": {
            "text/plain": [
              "13067306"
            ]
          },
          "execution_count": 33,
          "metadata": {},
          "output_type": "execute_result"
        }
      ],
      "source": [
        "import requests\n",
        "from bs4 import BeautifulSoup\n",
        "\n",
        "response = requests.get('http://www.paullab.co.kr/stock.html')\n",
        "\n",
        "response.encoding = 'utf-8'\n",
        "html = response.text\n",
        "\n",
        "soup = BeautifulSoup(html, 'html.parser')\n",
        "\n",
        "제코베연구원_H2 = soup.select('#제주코딩베이스캠프연구원')\n",
        "제코베연구원_Div = 제코베연구원_H2[0].parent # 부모태그 찾기\n",
        "제코베연구원_종목데이터 = 제코베연구원_Div.select('tr')\n",
        "\n",
        "총_거래량 = 0\n",
        "for i in 제코베연구원_종목데이터[1:]:\n",
        "    종목별데이터 = i.select('td>span')\n",
        "    거래량 = 종목별데이터[len(종목별데이터)-1]\n",
        "    거래량 = 거래량.text.replace(',','')\n",
        "    총_거래량 += int(거래량)\n",
        "\n",
        "총_거래량"
      ]
    },
    {
      "attachments": {},
      "cell_type": "markdown",
      "metadata": {},
      "source": []
    }
  ],
  "metadata": {
    "colab": {
      "provenance": []
    },
    "kernelspec": {
      "display_name": "Python 3",
      "name": "python3"
    },
    "language_info": {
      "name": "python"
    }
  },
  "nbformat": 4,
  "nbformat_minor": 0
}
